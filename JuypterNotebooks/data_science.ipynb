{
 "cells": [
  {
   "cell_type": "markdown",
   "metadata": {},
   "source": [
    "# Tuples"
   ]
  },
  {
   "cell_type": "code",
   "execution_count": 3,
   "metadata": {},
   "outputs": [],
   "source": [
    "tuple1 = (\"hans\", 2, \"franz\")"
   ]
  },
  {
   "cell_type": "code",
   "execution_count": 5,
   "metadata": {},
   "outputs": [
    {
     "data": {
      "text/plain": [
       "('hans', 2, 'franz')"
      ]
     },
     "execution_count": 5,
     "metadata": {},
     "output_type": "execute_result"
    }
   ],
   "source": [
    "tuple1\n"
   ]
  },
  {
   "cell_type": "code",
   "execution_count": 8,
   "metadata": {},
   "outputs": [
    {
     "data": {
      "text/plain": [
       "'hans'"
      ]
     },
     "execution_count": 8,
     "metadata": {},
     "output_type": "execute_result"
    }
   ],
   "source": [
    "tuple1[0]"
   ]
  },
  {
   "cell_type": "code",
   "execution_count": 10,
   "metadata": {},
   "outputs": [
    {
     "name": "stdout",
     "output_type": "stream",
     "text": [
      "look: franz\n"
     ]
    }
   ],
   "source": [
    "print(\"look:\", tuple1[-1])"
   ]
  },
  {
   "cell_type": "code",
   "execution_count": 11,
   "metadata": {},
   "outputs": [],
   "source": [
    "tuple2 = (3, \"richard\",27, \"machine learning\")"
   ]
  },
  {
   "cell_type": "code",
   "execution_count": 13,
   "metadata": {},
   "outputs": [
    {
     "data": {
      "text/plain": [
       "('hans', 2, 'franz', 3, 'richard', 27, 'machine learning')"
      ]
     },
     "execution_count": 13,
     "metadata": {},
     "output_type": "execute_result"
    }
   ],
   "source": [
    "tuple1 + tuple2"
   ]
  },
  {
   "cell_type": "code",
   "execution_count": 14,
   "metadata": {},
   "outputs": [],
   "source": [
    "tuple2 = tuple1 + (\"369\",99, \"bamboo\")"
   ]
  },
  {
   "cell_type": "code",
   "execution_count": 15,
   "metadata": {},
   "outputs": [
    {
     "data": {
      "text/plain": [
       "('hans', 2, 'franz', '369', 99, 'bamboo')"
      ]
     },
     "execution_count": 15,
     "metadata": {},
     "output_type": "execute_result"
    }
   ],
   "source": [
    "tuple2"
   ]
  },
  {
   "cell_type": "code",
   "execution_count": 16,
   "metadata": {},
   "outputs": [
    {
     "data": {
      "text/plain": [
       "('hans', 2, 'franz')"
      ]
     },
     "execution_count": 16,
     "metadata": {},
     "output_type": "execute_result"
    }
   ],
   "source": [
    "tuple2[0:3]"
   ]
  },
  {
   "cell_type": "code",
   "execution_count": 18,
   "metadata": {},
   "outputs": [],
   "source": [
    "tuple3 = tuple1[0:3]"
   ]
  },
  {
   "cell_type": "code",
   "execution_count": 19,
   "metadata": {},
   "outputs": [
    {
     "data": {
      "text/plain": [
       "('hans', 2, 'franz')"
      ]
     },
     "execution_count": 19,
     "metadata": {},
     "output_type": "execute_result"
    }
   ],
   "source": [
    "tuple3"
   ]
  },
  {
   "cell_type": "code",
   "execution_count": 20,
   "metadata": {},
   "outputs": [],
   "source": [
    "tuple4 = (1,2,3,4,5)"
   ]
  },
  {
   "cell_type": "code",
   "execution_count": 21,
   "metadata": {},
   "outputs": [
    {
     "data": {
      "text/plain": [
       "(2, 3, 4)"
      ]
     },
     "execution_count": 21,
     "metadata": {},
     "output_type": "execute_result"
    }
   ],
   "source": [
    "tuple4[1:4]"
   ]
  },
  {
   "cell_type": "code",
   "execution_count": 22,
   "metadata": {},
   "outputs": [
    {
     "data": {
      "text/plain": [
       "3"
      ]
     },
     "execution_count": 22,
     "metadata": {},
     "output_type": "execute_result"
    }
   ],
   "source": [
    "len(tuple1)"
   ]
  },
  {
   "cell_type": "code",
   "execution_count": 23,
   "metadata": {},
   "outputs": [
    {
     "data": {
      "text/plain": [
       "3"
      ]
     },
     "execution_count": 23,
     "metadata": {},
     "output_type": "execute_result"
    }
   ],
   "source": [
    "len(tuple3)"
   ]
  },
  {
   "cell_type": "code",
   "execution_count": 24,
   "metadata": {},
   "outputs": [
    {
     "data": {
      "text/plain": [
       "1"
      ]
     },
     "execution_count": 24,
     "metadata": {},
     "output_type": "execute_result"
    }
   ],
   "source": [
    "len((\"2\"))"
   ]
  },
  {
   "cell_type": "code",
   "execution_count": 25,
   "metadata": {},
   "outputs": [],
   "source": [
    "teams = (\"NYR\", \"NJD\", \"BB\", \"MC\", \"TML\")"
   ]
  },
  {
   "cell_type": "code",
   "execution_count": 28,
   "metadata": {},
   "outputs": [],
   "source": [
    "topteams = teams[1:3]"
   ]
  },
  {
   "cell_type": "code",
   "execution_count": 29,
   "metadata": {},
   "outputs": [
    {
     "data": {
      "text/plain": [
       "('NJD', 'BB')"
      ]
     },
     "execution_count": 29,
     "metadata": {},
     "output_type": "execute_result"
    }
   ],
   "source": [
    "topteams"
   ]
  },
  {
   "cell_type": "code",
   "execution_count": 30,
   "metadata": {},
   "outputs": [],
   "source": [
    "ratings = (2,4,1,6,9,8,0,1,7)"
   ]
  },
  {
   "cell_type": "code",
   "execution_count": 39,
   "metadata": {},
   "outputs": [],
   "source": [
    "sorted_ratings = sorted(ratings)"
   ]
  },
  {
   "cell_type": "code",
   "execution_count": 40,
   "metadata": {},
   "outputs": [
    {
     "name": "stdout",
     "output_type": "stream",
     "text": [
      "[0, 1, 1, 2, 4, 6, 7, 8, 9]\n"
     ]
    }
   ],
   "source": [
    "print(sorted_ratings)"
   ]
  },
  {
   "cell_type": "code",
   "execution_count": 43,
   "metadata": {},
   "outputs": [],
   "source": [
    "nested = (1,2,(\"pop\", \"rock\"),(3,4),(\"disco\",(1,2)))"
   ]
  },
  {
   "cell_type": "code",
   "execution_count": 49,
   "metadata": {},
   "outputs": [
    {
     "data": {
      "text/plain": [
       "2"
      ]
     },
     "execution_count": 49,
     "metadata": {},
     "output_type": "execute_result"
    }
   ],
   "source": [
    "nested[4][1][1]"
   ]
  },
  {
   "cell_type": "markdown",
   "metadata": {},
   "source": [
    "# Lists"
   ]
  },
  {
   "cell_type": "code",
   "execution_count": 50,
   "metadata": {},
   "outputs": [],
   "source": [
    "list1 = [\"Wayne Gretzky\",10.1,1982]"
   ]
  },
  {
   "cell_type": "code",
   "execution_count": 51,
   "metadata": {},
   "outputs": [
    {
     "data": {
      "text/plain": [
       "'Wayne Gretzky'"
      ]
     },
     "execution_count": 51,
     "metadata": {},
     "output_type": "execute_result"
    }
   ],
   "source": [
    "list1[0]"
   ]
  },
  {
   "cell_type": "code",
   "execution_count": 52,
   "metadata": {},
   "outputs": [],
   "source": [
    "list1[0] = \"Wayne juckts\""
   ]
  },
  {
   "cell_type": "code",
   "execution_count": 53,
   "metadata": {},
   "outputs": [
    {
     "data": {
      "text/plain": [
       "['Wayne juckts', 10.1, 1982]"
      ]
     },
     "execution_count": 53,
     "metadata": {},
     "output_type": "execute_result"
    }
   ],
   "source": [
    "list1"
   ]
  },
  {
   "cell_type": "code",
   "execution_count": 57,
   "metadata": {},
   "outputs": [],
   "source": [
    "type_of_list_element = type(list1[1])"
   ]
  },
  {
   "cell_type": "code",
   "execution_count": 58,
   "metadata": {},
   "outputs": [
    {
     "data": {
      "text/plain": [
       "float"
      ]
     },
     "execution_count": 58,
     "metadata": {},
     "output_type": "execute_result"
    }
   ],
   "source": [
    "type_of_list_element"
   ]
  },
  {
   "cell_type": "code",
   "execution_count": 59,
   "metadata": {},
   "outputs": [],
   "source": [
    "nesting = [\"Gretzky\",(0,1),[3,6,9]]"
   ]
  },
  {
   "cell_type": "code",
   "execution_count": 67,
   "metadata": {},
   "outputs": [
    {
     "data": {
      "text/plain": [
       "['Gretzky', (0, 1), [27, 6, 9]]"
      ]
     },
     "execution_count": 67,
     "metadata": {},
     "output_type": "execute_result"
    }
   ],
   "source": [
    "nesting[2][0] = 27\n",
    "nesting"
   ]
  },
  {
   "cell_type": "code",
   "execution_count": 72,
   "metadata": {},
   "outputs": [
    {
     "data": {
      "text/plain": [
       "[[27, 6, 9]]"
      ]
     },
     "execution_count": 72,
     "metadata": {},
     "output_type": "execute_result"
    }
   ],
   "source": [
    "slicing = nesting[2:3]\n",
    "slicing"
   ]
  },
  {
   "cell_type": "code",
   "execution_count": 74,
   "metadata": {},
   "outputs": [
    {
     "data": {
      "text/plain": [
       "[1, 2, 3, 4, 5]"
      ]
     },
     "execution_count": 74,
     "metadata": {},
     "output_type": "execute_result"
    }
   ],
   "source": [
    "list1 = [1,2,3,4,5,6]\n",
    "list1[0:5]"
   ]
  },
  {
   "cell_type": "code",
   "execution_count": 75,
   "metadata": {},
   "outputs": [
    {
     "data": {
      "text/plain": [
       "[4, 5]"
      ]
     },
     "execution_count": 75,
     "metadata": {},
     "output_type": "execute_result"
    }
   ],
   "source": [
    "list1[3:5]"
   ]
  },
  {
   "cell_type": "code",
   "execution_count": 77,
   "metadata": {},
   "outputs": [
    {
     "data": {
      "text/plain": [
       "[6]"
      ]
     },
     "execution_count": 77,
     "metadata": {},
     "output_type": "execute_result"
    }
   ],
   "source": [
    "list1[5:6]"
   ]
  },
  {
   "cell_type": "code",
   "execution_count": 79,
   "metadata": {},
   "outputs": [
    {
     "data": {
      "text/plain": [
       "[2]"
      ]
     },
     "execution_count": 79,
     "metadata": {},
     "output_type": "execute_result"
    }
   ],
   "source": [
    "list1[1:2]"
   ]
  },
  {
   "cell_type": "markdown",
   "metadata": {},
   "source": [
    "## Concatenate"
   ]
  },
  {
   "cell_type": "code",
   "execution_count": 80,
   "metadata": {},
   "outputs": [
    {
     "data": {
      "text/plain": [
       "[1, 2, 3, 4, 5, 6, 33, 66, 99, 88, 77]"
      ]
     },
     "execution_count": 80,
     "metadata": {},
     "output_type": "execute_result"
    }
   ],
   "source": [
    "list1 + [33,66,99,88,77]"
   ]
  },
  {
   "cell_type": "code",
   "execution_count": 91,
   "metadata": {},
   "outputs": [],
   "source": [
    "list1.extend([3,6,9])"
   ]
  },
  {
   "cell_type": "code",
   "execution_count": 92,
   "metadata": {},
   "outputs": [
    {
     "data": {
      "text/plain": [
       "[1, 2, 3, 4, 5, 6, 3, 6, 9, 3, 6, 9, 3, 6, 9, 999, 3, 6, 9]"
      ]
     },
     "execution_count": 92,
     "metadata": {},
     "output_type": "execute_result"
    }
   ],
   "source": [
    "list1"
   ]
  },
  {
   "cell_type": "code",
   "execution_count": 88,
   "metadata": {},
   "outputs": [
    {
     "data": {
      "text/plain": [
       "[1, 2, 3, 4, 5, 6, 3, 6, 9, 3, 6, 9, 3, 6, 9]"
      ]
     },
     "execution_count": 88,
     "metadata": {},
     "output_type": "execute_result"
    }
   ],
   "source": [
    "list1"
   ]
  },
  {
   "cell_type": "code",
   "execution_count": 89,
   "metadata": {},
   "outputs": [],
   "source": [
    "list1.append(999)"
   ]
  },
  {
   "cell_type": "code",
   "execution_count": 90,
   "metadata": {},
   "outputs": [
    {
     "data": {
      "text/plain": [
       "[1, 2, 3, 4, 5, 6, 3, 6, 9, 3, 6, 9, 3, 6, 9, 999]"
      ]
     },
     "execution_count": 90,
     "metadata": {},
     "output_type": "execute_result"
    }
   ],
   "source": [
    "list1"
   ]
  },
  {
   "cell_type": "code",
   "execution_count": 93,
   "metadata": {},
   "outputs": [],
   "source": [
    "list1 = 0"
   ]
  },
  {
   "cell_type": "code",
   "execution_count": 94,
   "metadata": {},
   "outputs": [
    {
     "data": {
      "text/plain": [
       "0"
      ]
     },
     "execution_count": 94,
     "metadata": {},
     "output_type": "execute_result"
    }
   ],
   "source": [
    "list1"
   ]
  },
  {
   "cell_type": "code",
   "execution_count": 96,
   "metadata": {},
   "outputs": [],
   "source": [
    "list1 =[1,2,3]"
   ]
  },
  {
   "cell_type": "code",
   "execution_count": 97,
   "metadata": {},
   "outputs": [],
   "source": [
    "list1.extend([4,5,6])"
   ]
  },
  {
   "cell_type": "code",
   "execution_count": 98,
   "metadata": {},
   "outputs": [
    {
     "data": {
      "text/plain": [
       "[1, 2, 3, 4, 5, 6]"
      ]
     },
     "execution_count": 98,
     "metadata": {},
     "output_type": "execute_result"
    }
   ],
   "source": [
    "list1"
   ]
  },
  {
   "cell_type": "code",
   "execution_count": 99,
   "metadata": {},
   "outputs": [],
   "source": [
    "list1.append([7,8,9])"
   ]
  },
  {
   "cell_type": "code",
   "execution_count": 100,
   "metadata": {},
   "outputs": [
    {
     "data": {
      "text/plain": [
       "[1, 2, 3, 4, 5, 6, [7, 8, 9]]"
      ]
     },
     "execution_count": 100,
     "metadata": {},
     "output_type": "execute_result"
    }
   ],
   "source": [
    "list1"
   ]
  },
  {
   "cell_type": "code",
   "execution_count": 101,
   "metadata": {},
   "outputs": [],
   "source": [
    "del(list1[6])"
   ]
  },
  {
   "cell_type": "code",
   "execution_count": 102,
   "metadata": {},
   "outputs": [
    {
     "data": {
      "text/plain": [
       "[1, 2, 3, 4, 5, 6]"
      ]
     },
     "execution_count": 102,
     "metadata": {},
     "output_type": "execute_result"
    }
   ],
   "source": [
    "list1"
   ]
  },
  {
   "cell_type": "code",
   "execution_count": 103,
   "metadata": {},
   "outputs": [
    {
     "data": {
      "text/plain": [
       "['hans', 'im', 'wunderland']"
      ]
     },
     "execution_count": 103,
     "metadata": {},
     "output_type": "execute_result"
    }
   ],
   "source": [
    "\"hans im wunderland\".split()"
   ]
  },
  {
   "cell_type": "code",
   "execution_count": 104,
   "metadata": {},
   "outputs": [
    {
     "data": {
      "text/plain": [
       "['A,B,C,D']"
      ]
     },
     "execution_count": 104,
     "metadata": {},
     "output_type": "execute_result"
    }
   ],
   "source": [
    "\"A,B,C,D\".split()"
   ]
  },
  {
   "cell_type": "code",
   "execution_count": 105,
   "metadata": {},
   "outputs": [
    {
     "data": {
      "text/plain": [
       "['A', 'B', 'C', 'D']"
      ]
     },
     "execution_count": 105,
     "metadata": {},
     "output_type": "execute_result"
    }
   ],
   "source": [
    "\"A,B,C,D\".split(\",\")"
   ]
  },
  {
   "cell_type": "code",
   "execution_count": 106,
   "metadata": {},
   "outputs": [
    {
     "data": {
      "text/plain": [
       "['1', '2', '3', '4']"
      ]
     },
     "execution_count": 106,
     "metadata": {},
     "output_type": "execute_result"
    }
   ],
   "source": [
    "\"1:2:3:4\".split(\":\")"
   ]
  },
  {
   "cell_type": "code",
   "execution_count": 107,
   "metadata": {},
   "outputs": [
    {
     "data": {
      "text/plain": [
       "[1, 2, 3, 4, 5, 6]"
      ]
     },
     "execution_count": 107,
     "metadata": {},
     "output_type": "execute_result"
    }
   ],
   "source": [
    "list1"
   ]
  },
  {
   "cell_type": "code",
   "execution_count": 108,
   "metadata": {},
   "outputs": [],
   "source": [
    "list2 = list1"
   ]
  },
  {
   "cell_type": "code",
   "execution_count": 109,
   "metadata": {},
   "outputs": [
    {
     "data": {
      "text/plain": [
       "[1, 2, 3, 4, 5, 6]"
      ]
     },
     "execution_count": 109,
     "metadata": {},
     "output_type": "execute_result"
    }
   ],
   "source": [
    "list2"
   ]
  },
  {
   "cell_type": "code",
   "execution_count": 110,
   "metadata": {},
   "outputs": [],
   "source": [
    "list2[0] = 27"
   ]
  },
  {
   "cell_type": "code",
   "execution_count": 111,
   "metadata": {},
   "outputs": [
    {
     "data": {
      "text/plain": [
       "[27, 2, 3, 4, 5, 6]"
      ]
     },
     "execution_count": 111,
     "metadata": {},
     "output_type": "execute_result"
    }
   ],
   "source": [
    "list1"
   ]
  },
  {
   "cell_type": "code",
   "execution_count": 112,
   "metadata": {},
   "outputs": [
    {
     "data": {
      "text/plain": [
       "[27, 2, 3, 4, 5, 6]"
      ]
     },
     "execution_count": 112,
     "metadata": {},
     "output_type": "execute_result"
    }
   ],
   "source": [
    "list2"
   ]
  },
  {
   "cell_type": "code",
   "execution_count": 113,
   "metadata": {},
   "outputs": [],
   "source": [
    "list2 = list1[:]"
   ]
  },
  {
   "cell_type": "code",
   "execution_count": 115,
   "metadata": {},
   "outputs": [
    {
     "data": {
      "text/plain": [
       "[27, 2, 3, 4, 5, 6]"
      ]
     },
     "execution_count": 115,
     "metadata": {},
     "output_type": "execute_result"
    }
   ],
   "source": [
    "list2"
   ]
  },
  {
   "cell_type": "code",
   "execution_count": 117,
   "metadata": {},
   "outputs": [],
   "source": [
    "list2[0] = 33"
   ]
  },
  {
   "cell_type": "code",
   "execution_count": 118,
   "metadata": {},
   "outputs": [
    {
     "data": {
      "text/plain": [
       "[33, 2, 3, 4, 5, 6]"
      ]
     },
     "execution_count": 118,
     "metadata": {},
     "output_type": "execute_result"
    }
   ],
   "source": [
    "list2"
   ]
  },
  {
   "cell_type": "code",
   "execution_count": 119,
   "metadata": {},
   "outputs": [
    {
     "data": {
      "text/plain": [
       "[27, 2, 3, 4, 5, 6]"
      ]
     },
     "execution_count": 119,
     "metadata": {},
     "output_type": "execute_result"
    }
   ],
   "source": [
    "list1"
   ]
  },
  {
   "cell_type": "code",
   "execution_count": 122,
   "metadata": {},
   "outputs": [
    {
     "name": "stdout",
     "output_type": "stream",
     "text": [
      "Help on class list in module builtins:\n",
      "\n",
      "class list(object)\n",
      " |  list(iterable=(), /)\n",
      " |  \n",
      " |  Built-in mutable sequence.\n",
      " |  \n",
      " |  If no argument is given, the constructor creates a new empty list.\n",
      " |  The argument must be an iterable if specified.\n",
      " |  \n",
      " |  Methods defined here:\n",
      " |  \n",
      " |  __add__(self, value, /)\n",
      " |      Return self+value.\n",
      " |  \n",
      " |  __contains__(self, key, /)\n",
      " |      Return key in self.\n",
      " |  \n",
      " |  __delitem__(self, key, /)\n",
      " |      Delete self[key].\n",
      " |  \n",
      " |  __eq__(self, value, /)\n",
      " |      Return self==value.\n",
      " |  \n",
      " |  __ge__(self, value, /)\n",
      " |      Return self>=value.\n",
      " |  \n",
      " |  __getattribute__(self, name, /)\n",
      " |      Return getattr(self, name).\n",
      " |  \n",
      " |  __getitem__(...)\n",
      " |      x.__getitem__(y) <==> x[y]\n",
      " |  \n",
      " |  __gt__(self, value, /)\n",
      " |      Return self>value.\n",
      " |  \n",
      " |  __iadd__(self, value, /)\n",
      " |      Implement self+=value.\n",
      " |  \n",
      " |  __imul__(self, value, /)\n",
      " |      Implement self*=value.\n",
      " |  \n",
      " |  __init__(self, /, *args, **kwargs)\n",
      " |      Initialize self.  See help(type(self)) for accurate signature.\n",
      " |  \n",
      " |  __iter__(self, /)\n",
      " |      Implement iter(self).\n",
      " |  \n",
      " |  __le__(self, value, /)\n",
      " |      Return self<=value.\n",
      " |  \n",
      " |  __len__(self, /)\n",
      " |      Return len(self).\n",
      " |  \n",
      " |  __lt__(self, value, /)\n",
      " |      Return self<value.\n",
      " |  \n",
      " |  __mul__(self, value, /)\n",
      " |      Return self*value.\n",
      " |  \n",
      " |  __ne__(self, value, /)\n",
      " |      Return self!=value.\n",
      " |  \n",
      " |  __repr__(self, /)\n",
      " |      Return repr(self).\n",
      " |  \n",
      " |  __reversed__(self, /)\n",
      " |      Return a reverse iterator over the list.\n",
      " |  \n",
      " |  __rmul__(self, value, /)\n",
      " |      Return value*self.\n",
      " |  \n",
      " |  __setitem__(self, key, value, /)\n",
      " |      Set self[key] to value.\n",
      " |  \n",
      " |  __sizeof__(self, /)\n",
      " |      Return the size of the list in memory, in bytes.\n",
      " |  \n",
      " |  append(self, object, /)\n",
      " |      Append object to the end of the list.\n",
      " |  \n",
      " |  clear(self, /)\n",
      " |      Remove all items from list.\n",
      " |  \n",
      " |  copy(self, /)\n",
      " |      Return a shallow copy of the list.\n",
      " |  \n",
      " |  count(self, value, /)\n",
      " |      Return number of occurrences of value.\n",
      " |  \n",
      " |  extend(self, iterable, /)\n",
      " |      Extend list by appending elements from the iterable.\n",
      " |  \n",
      " |  index(self, value, start=0, stop=9223372036854775807, /)\n",
      " |      Return first index of value.\n",
      " |      \n",
      " |      Raises ValueError if the value is not present.\n",
      " |  \n",
      " |  insert(self, index, object, /)\n",
      " |      Insert object before index.\n",
      " |  \n",
      " |  pop(self, index=-1, /)\n",
      " |      Remove and return item at index (default last).\n",
      " |      \n",
      " |      Raises IndexError if list is empty or index is out of range.\n",
      " |  \n",
      " |  remove(self, value, /)\n",
      " |      Remove first occurrence of value.\n",
      " |      \n",
      " |      Raises ValueError if the value is not present.\n",
      " |  \n",
      " |  reverse(self, /)\n",
      " |      Reverse *IN PLACE*.\n",
      " |  \n",
      " |  sort(self, /, *, key=None, reverse=False)\n",
      " |      Stable sort *IN PLACE*.\n",
      " |  \n",
      " |  ----------------------------------------------------------------------\n",
      " |  Static methods defined here:\n",
      " |  \n",
      " |  __new__(*args, **kwargs) from builtins.type\n",
      " |      Create and return a new object.  See help(type) for accurate signature.\n",
      " |  \n",
      " |  ----------------------------------------------------------------------\n",
      " |  Data and other attributes defined here:\n",
      " |  \n",
      " |  __hash__ = None\n",
      "\n"
     ]
    }
   ],
   "source": [
    "help(list)"
   ]
  },
  {
   "cell_type": "code",
   "execution_count": 124,
   "metadata": {},
   "outputs": [
    {
     "data": {
      "text/plain": [
       "[1]"
      ]
     },
     "execution_count": 124,
     "metadata": {},
     "output_type": "execute_result"
    }
   ],
   "source": [
    "tuplee = (1,2,3,4,5,[1])\n",
    "tuplee[5]\n"
   ]
  },
  {
   "cell_type": "code",
   "execution_count": 126,
   "metadata": {},
   "outputs": [
    {
     "data": {
      "text/plain": [
       "int"
      ]
     },
     "execution_count": 126,
     "metadata": {},
     "output_type": "execute_result"
    }
   ],
   "source": [
    "type(tuplee[5][0])"
   ]
  },
  {
   "cell_type": "markdown",
   "metadata": {},
   "source": [
    "# Dictionaries"
   ]
  },
  {
   "cell_type": "code",
   "execution_count": 127,
   "metadata": {},
   "outputs": [],
   "source": [
    "dic = {\"name\": \"hans\",\"bday\": 1991,\"geschlecht\": \"m\"}"
   ]
  },
  {
   "cell_type": "code",
   "execution_count": 128,
   "metadata": {},
   "outputs": [
    {
     "data": {
      "text/plain": [
       "{'name': 'hans', 'bday': 1991, 'geschlecht': 'm'}"
      ]
     },
     "execution_count": 128,
     "metadata": {},
     "output_type": "execute_result"
    }
   ],
   "source": [
    "dic"
   ]
  },
  {
   "cell_type": "code",
   "execution_count": 129,
   "metadata": {},
   "outputs": [
    {
     "data": {
      "text/plain": [
       "'hans'"
      ]
     },
     "execution_count": 129,
     "metadata": {},
     "output_type": "execute_result"
    }
   ],
   "source": [
    "dic[\"name\"]"
   ]
  },
  {
   "cell_type": "code",
   "execution_count": 131,
   "metadata": {},
   "outputs": [
    {
     "ename": "SyntaxError",
     "evalue": "invalid syntax (<ipython-input-131-b691d95dcef0>, line 1)",
     "output_type": "error",
     "traceback": [
      "\u001b[0;36m  File \u001b[0;32m\"<ipython-input-131-b691d95dcef0>\"\u001b[0;36m, line \u001b[0;32m1\u001b[0m\n\u001b[0;31m    dic{0}\u001b[0m\n\u001b[0m       ^\u001b[0m\n\u001b[0;31mSyntaxError\u001b[0m\u001b[0;31m:\u001b[0m invalid syntax\n"
     ]
    }
   ],
   "source": [
    "dic{0}"
   ]
  },
  {
   "cell_type": "code",
   "execution_count": 133,
   "metadata": {},
   "outputs": [],
   "source": [
    "dic1 = {\"Inception\": 2010, \"Star Wars\": 1999, \"Interstellar\":2016}"
   ]
  },
  {
   "cell_type": "code",
   "execution_count": 134,
   "metadata": {},
   "outputs": [
    {
     "data": {
      "text/plain": [
       "{'Inception': 2010, 'Star Wars': 1999, 'Interstellar': 2016}"
      ]
     },
     "execution_count": 134,
     "metadata": {},
     "output_type": "execute_result"
    }
   ],
   "source": [
    "dic1"
   ]
  },
  {
   "cell_type": "code",
   "execution_count": 140,
   "metadata": {},
   "outputs": [
    {
     "data": {
      "text/plain": [
       "2010"
      ]
     },
     "execution_count": 140,
     "metadata": {},
     "output_type": "execute_result"
    }
   ],
   "source": [
    "dic1[\"Inception\"]"
   ]
  },
  {
   "cell_type": "code",
   "execution_count": 142,
   "metadata": {},
   "outputs": [],
   "source": [
    "dic1[\"Falling Down\"] = 1989"
   ]
  },
  {
   "cell_type": "code",
   "execution_count": 143,
   "metadata": {},
   "outputs": [
    {
     "data": {
      "text/plain": [
       "{'name': 'hans', 'bday': 1991, 'geschlecht': 'm', 'Falling Down': 1989}"
      ]
     },
     "execution_count": 143,
     "metadata": {},
     "output_type": "execute_result"
    }
   ],
   "source": [
    "dic"
   ]
  },
  {
   "cell_type": "code",
   "execution_count": 144,
   "metadata": {},
   "outputs": [],
   "source": [
    "del(dic[\"Falling Down\"])"
   ]
  },
  {
   "cell_type": "code",
   "execution_count": 145,
   "metadata": {},
   "outputs": [
    {
     "data": {
      "text/plain": [
       "{'name': 'hans', 'bday': 1991, 'geschlecht': 'm'}"
      ]
     },
     "execution_count": 145,
     "metadata": {},
     "output_type": "execute_result"
    }
   ],
   "source": [
    "dic"
   ]
  },
  {
   "cell_type": "code",
   "execution_count": 146,
   "metadata": {},
   "outputs": [],
   "source": [
    "dic1[\"Falling Down\"] = 1989"
   ]
  },
  {
   "cell_type": "code",
   "execution_count": 147,
   "metadata": {},
   "outputs": [
    {
     "data": {
      "text/plain": [
       "{'Inception': 2010,\n",
       " 'Star Wars': 1999,\n",
       " 'Interstellar': 2016,\n",
       " 'Falling Down': 1989}"
      ]
     },
     "execution_count": 147,
     "metadata": {},
     "output_type": "execute_result"
    }
   ],
   "source": [
    "dic1"
   ]
  },
  {
   "cell_type": "code",
   "execution_count": 148,
   "metadata": {},
   "outputs": [],
   "source": [
    "dic1[\"Inception\"] = 2101"
   ]
  },
  {
   "cell_type": "code",
   "execution_count": 149,
   "metadata": {},
   "outputs": [
    {
     "data": {
      "text/plain": [
       "{'Inception': 2101,\n",
       " 'Star Wars': 1999,\n",
       " 'Interstellar': 2016,\n",
       " 'Falling Down': 1989}"
      ]
     },
     "execution_count": 149,
     "metadata": {},
     "output_type": "execute_result"
    }
   ],
   "source": [
    "dic1"
   ]
  },
  {
   "cell_type": "code",
   "execution_count": 154,
   "metadata": {},
   "outputs": [
    {
     "data": {
      "text/plain": [
       "True"
      ]
     },
     "execution_count": 154,
     "metadata": {},
     "output_type": "execute_result"
    }
   ],
   "source": [
    "\"Inception\" in dic1"
   ]
  },
  {
   "cell_type": "code",
   "execution_count": 155,
   "metadata": {},
   "outputs": [
    {
     "data": {
      "text/plain": [
       "dict_keys(['Inception', 'Star Wars', 'Interstellar', 'Falling Down'])"
      ]
     },
     "execution_count": 155,
     "metadata": {},
     "output_type": "execute_result"
    }
   ],
   "source": [
    "dic1.keys()"
   ]
  },
  {
   "cell_type": "code",
   "execution_count": 156,
   "metadata": {},
   "outputs": [],
   "source": [
    "schlüssel = dic1.keys()"
   ]
  },
  {
   "cell_type": "code",
   "execution_count": 157,
   "metadata": {},
   "outputs": [
    {
     "data": {
      "text/plain": [
       "dict_keys(['Inception', 'Star Wars', 'Interstellar', 'Falling Down'])"
      ]
     },
     "execution_count": 157,
     "metadata": {},
     "output_type": "execute_result"
    }
   ],
   "source": [
    "schlüssel"
   ]
  },
  {
   "cell_type": "code",
   "execution_count": 158,
   "metadata": {},
   "outputs": [
    {
     "data": {
      "text/plain": [
       "dict_keys"
      ]
     },
     "execution_count": 158,
     "metadata": {},
     "output_type": "execute_result"
    }
   ],
   "source": [
    "type(schlüssel)"
   ]
  },
  {
   "cell_type": "code",
   "execution_count": 161,
   "metadata": {},
   "outputs": [
    {
     "ename": "TypeError",
     "evalue": "'dict_keys' object does not support indexing",
     "output_type": "error",
     "traceback": [
      "\u001b[0;31m---------------------------------------------------------------------------\u001b[0m",
      "\u001b[0;31mTypeError\u001b[0m                                 Traceback (most recent call last)",
      "\u001b[0;32m<ipython-input-161-7ad7600d2cbe>\u001b[0m in \u001b[0;36m<module>\u001b[0;34m\u001b[0m\n\u001b[0;32m----> 1\u001b[0;31m \u001b[0mschlüssel\u001b[0m\u001b[0;34m[\u001b[0m\u001b[0;36m0\u001b[0m\u001b[0;34m]\u001b[0m\u001b[0;34m\u001b[0m\u001b[0;34m\u001b[0m\u001b[0m\n\u001b[0m",
      "\u001b[0;31mTypeError\u001b[0m: 'dict_keys' object does not support indexing"
     ]
    }
   ],
   "source": [
    "schlüssel[0]"
   ]
  },
  {
   "cell_type": "code",
   "execution_count": 162,
   "metadata": {},
   "outputs": [
    {
     "data": {
      "text/plain": [
       "dict_values([2101, 1999, 2016, 1989])"
      ]
     },
     "execution_count": 162,
     "metadata": {},
     "output_type": "execute_result"
    }
   ],
   "source": [
    "dic1.values()"
   ]
  },
  {
   "cell_type": "code",
   "execution_count": 163,
   "metadata": {},
   "outputs": [],
   "source": [
    "dic1_values = dic1.values()"
   ]
  },
  {
   "cell_type": "code",
   "execution_count": 164,
   "metadata": {},
   "outputs": [
    {
     "data": {
      "text/plain": [
       "dict_values([2101, 1999, 2016, 1989])"
      ]
     },
     "execution_count": 164,
     "metadata": {},
     "output_type": "execute_result"
    }
   ],
   "source": [
    "dic1_values"
   ]
  },
  {
   "cell_type": "code",
   "execution_count": 165,
   "metadata": {},
   "outputs": [
    {
     "data": {
      "text/plain": [
       "dict_values"
      ]
     },
     "execution_count": 165,
     "metadata": {},
     "output_type": "execute_result"
    }
   ],
   "source": [
    "type(dic1_values)"
   ]
  },
  {
   "cell_type": "code",
   "execution_count": 166,
   "metadata": {},
   "outputs": [],
   "source": [
    "dic1[\"Inception\"] = 2101"
   ]
  },
  {
   "cell_type": "code",
   "execution_count": 167,
   "metadata": {},
   "outputs": [
    {
     "data": {
      "text/plain": [
       "{'Inception': 2101,\n",
       " 'Star Wars': 1999,\n",
       " 'Interstellar': 2016,\n",
       " 'Falling Down': 1989}"
      ]
     },
     "execution_count": 167,
     "metadata": {},
     "output_type": "execute_result"
    }
   ],
   "source": [
    "dic1"
   ]
  },
  {
   "cell_type": "markdown",
   "metadata": {},
   "source": [
    "# Sets"
   ]
  },
  {
   "cell_type": "code",
   "execution_count": 181,
   "metadata": {},
   "outputs": [],
   "source": [
    "set1 = {\"Hans\", \"Franz\"}\n",
    "set2 = {\"Hans\", \"Franz\", \"Reiner\"}\n",
    "set3 = set1 & set2"
   ]
  },
  {
   "cell_type": "code",
   "execution_count": 182,
   "metadata": {},
   "outputs": [
    {
     "data": {
      "text/plain": [
       "{'Franz', 'Hans'}"
      ]
     },
     "execution_count": 182,
     "metadata": {},
     "output_type": "execute_result"
    }
   ],
   "source": [
    "set1"
   ]
  },
  {
   "cell_type": "code",
   "execution_count": 183,
   "metadata": {},
   "outputs": [
    {
     "data": {
      "text/plain": [
       "{'Franz', 'Hans', 'Reiner'}"
      ]
     },
     "execution_count": 183,
     "metadata": {},
     "output_type": "execute_result"
    }
   ],
   "source": [
    "set2"
   ]
  },
  {
   "cell_type": "code",
   "execution_count": 184,
   "metadata": {},
   "outputs": [
    {
     "data": {
      "text/plain": [
       "{'Franz', 'Hans'}"
      ]
     },
     "execution_count": 184,
     "metadata": {},
     "output_type": "execute_result"
    }
   ],
   "source": [
    "set3"
   ]
  },
  {
   "cell_type": "code",
   "execution_count": 186,
   "metadata": {},
   "outputs": [
    {
     "data": {
      "text/plain": [
       "True"
      ]
     },
     "execution_count": 186,
     "metadata": {},
     "output_type": "execute_result"
    }
   ],
   "source": [
    "set3.issubset(set2)"
   ]
  },
  {
   "cell_type": "code",
   "execution_count": null,
   "metadata": {},
   "outputs": [],
   "source": [
    "#Intersection"
   ]
  },
  {
   "cell_type": "code",
   "execution_count": 200,
   "metadata": {},
   "outputs": [
    {
     "data": {
      "text/plain": [
       "{1, 2}"
      ]
     },
     "execution_count": 200,
     "metadata": {},
     "output_type": "execute_result"
    }
   ],
   "source": [
    "test = {1,2}\n",
    "test1 = {1,2,3}\n",
    "intersection = test & test1\n",
    "intersection"
   ]
  },
  {
   "cell_type": "code",
   "execution_count": null,
   "metadata": {},
   "outputs": [],
   "source": [
    "#Union"
   ]
  },
  {
   "cell_type": "code",
   "execution_count": 197,
   "metadata": {},
   "outputs": [
    {
     "data": {
      "text/plain": [
       "{1, 2, 3}"
      ]
     },
     "execution_count": 197,
     "metadata": {},
     "output_type": "execute_result"
    }
   ],
   "source": [
    "union = test | test1\n",
    "union"
   ]
  },
  {
   "cell_type": "code",
   "execution_count": 201,
   "metadata": {},
   "outputs": [],
   "source": [
    "#Difference"
   ]
  },
  {
   "cell_type": "code",
   "execution_count": 204,
   "metadata": {},
   "outputs": [
    {
     "data": {
      "text/plain": [
       "{3}"
      ]
     },
     "execution_count": 204,
     "metadata": {},
     "output_type": "execute_result"
    }
   ],
   "source": [
    "difference = test1 - test\n",
    "difference"
   ]
  },
  {
   "cell_type": "markdown",
   "metadata": {},
   "source": [
    "# Conditions an Branching"
   ]
  },
  {
   "cell_type": "code",
   "execution_count": 205,
   "metadata": {},
   "outputs": [
    {
     "data": {
      "text/plain": [
       "True"
      ]
     },
     "execution_count": 205,
     "metadata": {},
     "output_type": "execute_result"
    }
   ],
   "source": [
    "6 == 6"
   ]
  },
  {
   "cell_type": "code",
   "execution_count": 209,
   "metadata": {},
   "outputs": [],
   "source": [
    "x = 2"
   ]
  },
  {
   "cell_type": "code",
   "execution_count": 215,
   "metadata": {},
   "outputs": [],
   "source": [
    "booool = x!=2"
   ]
  },
  {
   "cell_type": "code",
   "execution_count": 218,
   "metadata": {},
   "outputs": [
    {
     "data": {
      "text/plain": [
       "False"
      ]
     },
     "execution_count": 218,
     "metadata": {},
     "output_type": "execute_result"
    }
   ],
   "source": [
    "booool\n"
   ]
  },
  {
   "cell_type": "code",
   "execution_count": 220,
   "metadata": {},
   "outputs": [
    {
     "data": {
      "text/plain": [
       "False"
      ]
     },
     "execution_count": 220,
     "metadata": {},
     "output_type": "execute_result"
    }
   ],
   "source": [
    "\"hans\" != \"hans\""
   ]
  },
  {
   "cell_type": "code",
   "execution_count": 221,
   "metadata": {},
   "outputs": [
    {
     "data": {
      "text/plain": [
       "True"
      ]
     },
     "execution_count": 221,
     "metadata": {},
     "output_type": "execute_result"
    }
   ],
   "source": [
    "\"hans\" == \"hans\""
   ]
  },
  {
   "cell_type": "code",
   "execution_count": 222,
   "metadata": {},
   "outputs": [
    {
     "data": {
      "text/plain": [
       "False"
      ]
     },
     "execution_count": 222,
     "metadata": {},
     "output_type": "execute_result"
    }
   ],
   "source": [
    "\"a\" == \"A\""
   ]
  },
  {
   "cell_type": "code",
   "execution_count": 232,
   "metadata": {},
   "outputs": [
    {
     "name": "stdout",
     "output_type": "stream",
     "text": [
      "HA falsch\n"
     ]
    }
   ],
   "source": [
    "if x != 2:\n",
    "    print(\"Trueeee\")\n",
    "else:\n",
    "    print(\"HA falsch\")"
   ]
  },
  {
   "cell_type": "code",
   "execution_count": 236,
   "metadata": {},
   "outputs": [],
   "source": [
    "age = 17"
   ]
  },
  {
   "cell_type": "code",
   "execution_count": 237,
   "metadata": {},
   "outputs": [
    {
     "name": "stdout",
     "output_type": "stream",
     "text": [
      "Access denied\n"
     ]
    }
   ],
   "source": [
    "if age >= 18:\n",
    "    print(\"Access granted\")\n",
    "else:\n",
    "    print(\"Access denied\")"
   ]
  },
  {
   "cell_type": "code",
   "execution_count": 238,
   "metadata": {},
   "outputs": [
    {
     "data": {
      "text/plain": [
       "True"
      ]
     },
     "execution_count": 238,
     "metadata": {},
     "output_type": "execute_result"
    }
   ],
   "source": [
    "True or False"
   ]
  },
  {
   "cell_type": "markdown",
   "metadata": {},
   "source": [
    "# Loops"
   ]
  },
  {
   "cell_type": "code",
   "execution_count": 242,
   "metadata": {},
   "outputs": [
    {
     "data": {
      "text/plain": [
       "range(10, 16)"
      ]
     },
     "execution_count": 242,
     "metadata": {},
     "output_type": "execute_result"
    }
   ],
   "source": [
    "range(10,16)"
   ]
  },
  {
   "cell_type": "code",
   "execution_count": 243,
   "metadata": {},
   "outputs": [],
   "source": [
    "x = range(10,15)"
   ]
  },
  {
   "cell_type": "code",
   "execution_count": 244,
   "metadata": {},
   "outputs": [
    {
     "data": {
      "text/plain": [
       "range(10, 15)"
      ]
     },
     "execution_count": 244,
     "metadata": {},
     "output_type": "execute_result"
    }
   ],
   "source": [
    "x"
   ]
  },
  {
   "cell_type": "code",
   "execution_count": 245,
   "metadata": {},
   "outputs": [
    {
     "data": {
      "text/plain": [
       "range"
      ]
     },
     "execution_count": 245,
     "metadata": {},
     "output_type": "execute_result"
    }
   ],
   "source": [
    "type(x)"
   ]
  },
  {
   "cell_type": "code",
   "execution_count": 247,
   "metadata": {},
   "outputs": [
    {
     "name": "stdout",
     "output_type": "stream",
     "text": [
      "hans\n",
      "hans\n",
      "hans\n",
      "hans\n",
      "hans\n"
     ]
    }
   ],
   "source": [
    "for i in x:\n",
    "    print(\"hans\")"
   ]
  },
  {
   "cell_type": "code",
   "execution_count": 255,
   "metadata": {},
   "outputs": [
    {
     "name": "stdout",
     "output_type": "stream",
     "text": [
      "['white', 'white', 'white', 'white', 'white']\n"
     ]
    }
   ],
   "source": [
    "squares = [\"blue\", \"yellow\", \"green\", \"brown\", \"red\"]\n",
    "for i in range(0,5):\n",
    "    squares[i] = \"white\"\n",
    "print(squares)"
   ]
  },
  {
   "cell_type": "code",
   "execution_count": 256,
   "metadata": {},
   "outputs": [
    {
     "name": "stdout",
     "output_type": "stream",
     "text": [
      "white\n",
      "white\n",
      "white\n",
      "white\n",
      "white\n"
     ]
    }
   ],
   "source": [
    "for square in squares:\n",
    "    print(square)"
   ]
  },
  {
   "cell_type": "code",
   "execution_count": 257,
   "metadata": {},
   "outputs": [
    {
     "name": "stdout",
     "output_type": "stream",
     "text": [
      "aa\n",
      "ba\n",
      "ca\n"
     ]
    }
   ],
   "source": [
    "for x in [\"a\", \"b\", \"c\"]:\n",
    "    print(x + \"a\")"
   ]
  },
  {
   "cell_type": "code",
   "execution_count": 273,
   "metadata": {},
   "outputs": [
    {
     "name": "stdout",
     "output_type": "stream",
     "text": [
      "0 white\n",
      "1 white\n",
      "2 white\n",
      "3 white\n",
      "4 white\n"
     ]
    }
   ],
   "source": [
    "for i, square in enumerate(squares):\n",
    "    print(i, square)"
   ]
  },
  {
   "cell_type": "code",
   "execution_count": 260,
   "metadata": {},
   "outputs": [],
   "source": [
    "#Enumerate"
   ]
  },
  {
   "cell_type": "code",
   "execution_count": 263,
   "metadata": {},
   "outputs": [],
   "source": [
    "seasons = [\"Spring\", \"Summer\", \"Fall\", \"Winter\"]\n",
    "x = enumerate(seasons)"
   ]
  },
  {
   "cell_type": "code",
   "execution_count": 265,
   "metadata": {},
   "outputs": [
    {
     "data": {
      "text/plain": [
       "enumerate"
      ]
     },
     "execution_count": 265,
     "metadata": {},
     "output_type": "execute_result"
    }
   ],
   "source": [
    "type(x)"
   ]
  },
  {
   "cell_type": "code",
   "execution_count": 268,
   "metadata": {},
   "outputs": [],
   "source": [
    "enumerate_list = list(enumerate(seasons))"
   ]
  },
  {
   "cell_type": "code",
   "execution_count": 269,
   "metadata": {},
   "outputs": [
    {
     "data": {
      "text/plain": [
       "list"
      ]
     },
     "execution_count": 269,
     "metadata": {},
     "output_type": "execute_result"
    }
   ],
   "source": [
    "type(enumerate_list)"
   ]
  },
  {
   "cell_type": "code",
   "execution_count": 271,
   "metadata": {},
   "outputs": [
    {
     "data": {
      "text/plain": [
       "[(0, 'Spring'), (1, 'Summer'), (2, 'Fall'), (3, 'Winter')]"
      ]
     },
     "execution_count": 271,
     "metadata": {},
     "output_type": "execute_result"
    }
   ],
   "source": [
    "enumerate_list"
   ]
  },
  {
   "cell_type": "code",
   "execution_count": 274,
   "metadata": {},
   "outputs": [
    {
     "data": {
      "text/plain": [
       "(1, 'Summer')"
      ]
     },
     "execution_count": 274,
     "metadata": {},
     "output_type": "execute_result"
    }
   ],
   "source": [
    "enumerate_list[1]"
   ]
  },
  {
   "cell_type": "code",
   "execution_count": 276,
   "metadata": {},
   "outputs": [],
   "source": [
    "cars = [\"BMW\",\"BENZ\",\"AUDI\"]\n",
    "x = enumerate(cars)"
   ]
  },
  {
   "cell_type": "code",
   "execution_count": 277,
   "metadata": {},
   "outputs": [
    {
     "data": {
      "text/plain": [
       "<enumerate at 0x10a676a68>"
      ]
     },
     "execution_count": 277,
     "metadata": {},
     "output_type": "execute_result"
    }
   ],
   "source": [
    "x"
   ]
  },
  {
   "cell_type": "code",
   "execution_count": 286,
   "metadata": {},
   "outputs": [
    {
     "name": "stdout",
     "output_type": "stream",
     "text": [
      "[]\n"
     ]
    }
   ],
   "source": [
    "letters = []\n",
    "for i, in enumerate([\"A\",\"B\",\"C\"]):\n",
    "    \n",
    "\n",
    "    "
   ]
  },
  {
   "cell_type": "code",
   "execution_count": 67,
   "metadata": {},
   "outputs": [
    {
     "name": "stdout",
     "output_type": "stream",
     "text": [
      "0\n",
      "1\n",
      "2\n"
     ]
    }
   ],
   "source": [
    "letters = [\"x\", \"y\", \"z\"]\n",
    "for letter in range(len(letters)):\n",
    "    print(letter)"
   ]
  },
  {
   "cell_type": "code",
   "execution_count": 69,
   "metadata": {},
   "outputs": [
    {
     "ename": "ValueError",
     "evalue": "not enough values to unpack (expected 2, got 1)",
     "output_type": "error",
     "traceback": [
      "\u001b[0;31m---------------------------------------------------------------------------\u001b[0m",
      "\u001b[0;31mValueError\u001b[0m                                Traceback (most recent call last)",
      "\u001b[0;32m<ipython-input-69-5d40d16100a4>\u001b[0m in \u001b[0;36m<module>\u001b[0;34m\u001b[0m\n\u001b[1;32m      1\u001b[0m \u001b[0mz\u001b[0m \u001b[0;34m=\u001b[0m \u001b[0mletters\u001b[0m\u001b[0;34m\u001b[0m\u001b[0;34m\u001b[0m\u001b[0m\n\u001b[0;32m----> 2\u001b[0;31m \u001b[0;32mfor\u001b[0m \u001b[0mi\u001b[0m\u001b[0;34m,\u001b[0m \u001b[0mletter\u001b[0m \u001b[0;32min\u001b[0m \u001b[0mz\u001b[0m\u001b[0;34m:\u001b[0m\u001b[0;34m\u001b[0m\u001b[0;34m\u001b[0m\u001b[0m\n\u001b[0m\u001b[1;32m      3\u001b[0m     \u001b[0mprint\u001b[0m\u001b[0;34m(\u001b[0m\u001b[0mletter\u001b[0m\u001b[0;34m)\u001b[0m\u001b[0;34m\u001b[0m\u001b[0;34m\u001b[0m\u001b[0m\n",
      "\u001b[0;31mValueError\u001b[0m: not enough values to unpack (expected 2, got 1)"
     ]
    }
   ],
   "source": [
    "z = enumerate(letters)\n",
    "for i, letter in z:\n",
    "    print(letter)"
   ]
  },
  {
   "cell_type": "code",
   "execution_count": null,
   "metadata": {},
   "outputs": [],
   "source": [
    "squares = [\"orange\", \"orange\", \"purple\", \"blue\"]\n",
    "newsquares = []\n",
    "i = 0\n",
    "while(squares[i] == \"orange\"):\n",
    "    newsquares.append(squares[i])\n",
    "    i = i + 1\n",
    "print(newsquares)"
   ]
  },
  {
   "cell_type": "code",
   "execution_count": null,
   "metadata": {},
   "outputs": [],
   "source": [
    "squares = ['orange', 'orange', 'purple', 'blue ', 'orange']\n",
    "new_squares = [\"x\"]\n",
    "i = 0\n",
    "while(squares[i] == 'orange'):\n",
    "    new_squares.append(squares[i])\n",
    "    i = i + 1\n",
    "print (new_squares)"
   ]
  },
  {
   "cell_type": "code",
   "execution_count": 3,
   "metadata": {},
   "outputs": [
    {
     "name": "stdout",
     "output_type": "stream",
     "text": [
      "1999\n",
      "1998\n",
      "1991\n",
      "2000\n"
     ]
    }
   ],
   "source": [
    "dates = [1999, 1998,1991,2000]\n",
    "for date in dates:\n",
    "    print(date)"
   ]
  },
  {
   "cell_type": "markdown",
   "metadata": {},
   "source": [
    "# Functions"
   ]
  },
  {
   "cell_type": "code",
   "execution_count": 8,
   "metadata": {},
   "outputs": [],
   "source": [
    "def add1(a):\n",
    "    \"\"\"add 1 to a\"\"\"\n",
    "    b = a + 1\n",
    "    return b\n",
    "    "
   ]
  },
  {
   "cell_type": "code",
   "execution_count": 5,
   "metadata": {},
   "outputs": [
    {
     "data": {
      "text/plain": [
       "2"
      ]
     },
     "execution_count": 5,
     "metadata": {},
     "output_type": "execute_result"
    }
   ],
   "source": [
    "add1(1)"
   ]
  },
  {
   "cell_type": "code",
   "execution_count": 6,
   "metadata": {},
   "outputs": [],
   "source": [
    "b = add1(4)"
   ]
  },
  {
   "cell_type": "code",
   "execution_count": 7,
   "metadata": {},
   "outputs": [
    {
     "data": {
      "text/plain": [
       "5"
      ]
     },
     "execution_count": 7,
     "metadata": {},
     "output_type": "execute_result"
    }
   ],
   "source": [
    "b"
   ]
  },
  {
   "cell_type": "code",
   "execution_count": 9,
   "metadata": {},
   "outputs": [
    {
     "name": "stdout",
     "output_type": "stream",
     "text": [
      "Help on function add1 in module __main__:\n",
      "\n",
      "add1(a)\n",
      "    add 1 to a\n",
      "\n"
     ]
    }
   ],
   "source": [
    "help(add1)"
   ]
  },
  {
   "cell_type": "code",
   "execution_count": 12,
   "metadata": {},
   "outputs": [],
   "source": [
    "def Mult(a, b):\n",
    "    c = a + b\n",
    "    return c\n"
   ]
  },
  {
   "cell_type": "code",
   "execution_count": 13,
   "metadata": {},
   "outputs": [
    {
     "data": {
      "text/plain": [
       "'Hans Gerter'"
      ]
     },
     "execution_count": 13,
     "metadata": {},
     "output_type": "execute_result"
    }
   ],
   "source": [
    "Mult(\"Hans\",\" Gerter\")"
   ]
  },
  {
   "cell_type": "code",
   "execution_count": 18,
   "metadata": {},
   "outputs": [],
   "source": [
    "def output():\n",
    "    print(\"output\")\n",
    "    #return None"
   ]
  },
  {
   "cell_type": "code",
   "execution_count": 16,
   "metadata": {},
   "outputs": [
    {
     "name": "stdout",
     "output_type": "stream",
     "text": [
      "output\n"
     ]
    }
   ],
   "source": [
    "output()\n"
   ]
  },
  {
   "cell_type": "code",
   "execution_count": 72,
   "metadata": {},
   "outputs": [],
   "source": [
    "def print_stuff(stuff):\n",
    "    for i, s in enumerate(stuff):\n",
    "        print(\"Album\", i, \"Rating is\",s)"
   ]
  },
  {
   "cell_type": "code",
   "execution_count": 73,
   "metadata": {},
   "outputs": [],
   "source": [
    "album_ratings = [10,9,8]"
   ]
  },
  {
   "cell_type": "code",
   "execution_count": 74,
   "metadata": {},
   "outputs": [
    {
     "name": "stdout",
     "output_type": "stream",
     "text": [
      "Album 0 Rating is 10\n",
      "Album 1 Rating is 9\n",
      "Album 2 Rating is 8\n"
     ]
    }
   ],
   "source": [
    "print_stuff(album_ratings)"
   ]
  },
  {
   "cell_type": "code",
   "execution_count": 79,
   "metadata": {},
   "outputs": [
    {
     "name": "stdout",
     "output_type": "stream",
     "text": [
      "0\n",
      "1\n",
      "2\n"
     ]
    }
   ],
   "source": [
    "for i in range(len(album_ratings)):\n",
    "    print(i)"
   ]
  },
  {
   "cell_type": "code",
   "execution_count": 80,
   "metadata": {},
   "outputs": [],
   "source": [
    "#Collecting Arguments"
   ]
  },
  {
   "cell_type": "code",
   "execution_count": 81,
   "metadata": {},
   "outputs": [],
   "source": [
    "def artist_names(*names):\n",
    "    for name in names:\n",
    "        print(name)"
   ]
  },
  {
   "cell_type": "code",
   "execution_count": 83,
   "metadata": {},
   "outputs": [
    {
     "name": "stdout",
     "output_type": "stream",
     "text": [
      "Bushido\n",
      "Fler\n",
      "Capital Bra\n",
      "Sido\n"
     ]
    }
   ],
   "source": [
    "artist_names(\"Bushido\", \"Fler\", \"Capital Bra\",\"Sido\")"
   ]
  },
  {
   "cell_type": "code",
   "execution_count": 85,
   "metadata": {},
   "outputs": [],
   "source": [
    "#Global local scope"
   ]
  },
  {
   "cell_type": "code",
   "execution_count": 91,
   "metadata": {},
   "outputs": [],
   "source": [
    "def thriller():\n",
    "    Date = 1991 #local\n",
    "    return(Date)\n",
    "\n",
    "Date = 2017 #global"
   ]
  },
  {
   "cell_type": "code",
   "execution_count": 92,
   "metadata": {},
   "outputs": [
    {
     "name": "stdout",
     "output_type": "stream",
     "text": [
      "1991\n"
     ]
    }
   ],
   "source": [
    "print(thriller())"
   ]
  },
  {
   "cell_type": "code",
   "execution_count": 90,
   "metadata": {},
   "outputs": [
    {
     "data": {
      "text/plain": [
       "2017"
      ]
     },
     "execution_count": 90,
     "metadata": {},
     "output_type": "execute_result"
    }
   ],
   "source": [
    "Date"
   ]
  },
  {
   "cell_type": "code",
   "execution_count": 96,
   "metadata": {},
   "outputs": [],
   "source": [
    "def pink_floyd():\n",
    "    global claimed_sales \n",
    "    claimed_sales = 450000000\n",
    "    return claimed_sales"
   ]
  },
  {
   "cell_type": "code",
   "execution_count": 98,
   "metadata": {},
   "outputs": [
    {
     "name": "stdout",
     "output_type": "stream",
     "text": [
      "450000000\n"
     ]
    }
   ],
   "source": [
    "print(pink_floyd())"
   ]
  },
  {
   "cell_type": "code",
   "execution_count": 99,
   "metadata": {},
   "outputs": [
    {
     "data": {
      "text/plain": [
       "450000000"
      ]
     },
     "execution_count": 99,
     "metadata": {},
     "output_type": "execute_result"
    }
   ],
   "source": [
    "claimed_sales"
   ]
  },
  {
   "cell_type": "markdown",
   "metadata": {},
   "source": [
    "# Objects and Classes"
   ]
  },
  {
   "cell_type": "code",
   "execution_count": 121,
   "metadata": {},
   "outputs": [],
   "source": [
    "ratings = [10,3,5,7,9,0,2] \n",
    "ratings.sort()\n"
   ]
  },
  {
   "cell_type": "code",
   "execution_count": 122,
   "metadata": {},
   "outputs": [
    {
     "name": "stdout",
     "output_type": "stream",
     "text": [
      "[0, 2, 3, 5, 7, 9, 10]\n"
     ]
    }
   ],
   "source": [
    "print(ratings)"
   ]
  },
  {
   "cell_type": "code",
   "execution_count": 123,
   "metadata": {},
   "outputs": [
    {
     "data": {
      "text/plain": [
       "[10, 9, 7, 5, 3, 2, 0]"
      ]
     },
     "execution_count": 123,
     "metadata": {},
     "output_type": "execute_result"
    }
   ],
   "source": [
    "ratings.reverse()\n",
    "ratings"
   ]
  },
  {
   "cell_type": "code",
   "execution_count": 162,
   "metadata": {},
   "outputs": [],
   "source": [
    "import matplotlib.pyplot as plt\n",
    "%matplotlib inline\n",
    "\n",
    "class Circle(object):\n",
    "    def __init__(self, radius, color=\"red\"):\n",
    "        self.radius = radius\n",
    "        self.color = color\n",
    "    def add_radius(self, r):\n",
    "        self.radius = self.radius + r\n",
    "        return(self.radius)\n",
    "    def drawCircle(self):\n",
    "        plt.gca().add_patch(plt.Circle((0, 0), radius=self.radius, fc=self.color))\n",
    "        plt.axis(\"scaled\")\n",
    "        plt.show()\n",
    "\n",
    "circle1 = Circle(10)"
   ]
  },
  {
   "cell_type": "code",
   "execution_count": 144,
   "metadata": {},
   "outputs": [],
   "source": [
    "circle1.radius = 27"
   ]
  },
  {
   "cell_type": "code",
   "execution_count": 145,
   "metadata": {},
   "outputs": [
    {
     "data": {
      "text/plain": [
       "27"
      ]
     },
     "execution_count": 145,
     "metadata": {},
     "output_type": "execute_result"
    }
   ],
   "source": [
    "circle1.radius"
   ]
  },
  {
   "cell_type": "code",
   "execution_count": 141,
   "metadata": {},
   "outputs": [
    {
     "data": {
      "text/plain": [
       "18"
      ]
     },
     "execution_count": 141,
     "metadata": {},
     "output_type": "execute_result"
    }
   ],
   "source": [
    "circle1.add_radius(8)"
   ]
  },
  {
   "cell_type": "code",
   "execution_count": 152,
   "metadata": {},
   "outputs": [
    {
     "data": {
      "text/plain": [
       "'green'"
      ]
     },
     "execution_count": 152,
     "metadata": {},
     "output_type": "execute_result"
    }
   ],
   "source": [
    "circle1.color = \"green\"\n",
    "circle1.color"
   ]
  },
  {
   "cell_type": "code",
   "execution_count": 163,
   "metadata": {},
   "outputs": [
    {
     "data": {
      "image/png": "[encoded data removed]",
      "text/plain": [
       "<Figure size 432x288 with 1 Axes>"
      ]
     },
     "metadata": {
      "needs_background": "light"
     },
     "output_type": "display_data"
    }
   ],
   "source": [
    "circle1.drawCircle()"
   ]
  },
  {
   "cell_type": "code",
   "execution_count": 195,
   "metadata": {},
   "outputs": [],
   "source": [
    "example1 = \"/Users/Dennis/Desktop/HOME/DataScience/JuypterNotebooks/Nikola_Tesla.txt\"\n",
    "file1 = open(example1, \"r\")\n"
   ]
  },
  {
   "cell_type": "code",
   "execution_count": 196,
   "metadata": {},
   "outputs": [
    {
     "data": {
      "text/plain": [
       "'/Users/Dennis/Desktop/HOME/DataScience/JuypterNotebooks/Nikola_Tesla.txt'"
      ]
     },
     "execution_count": 196,
     "metadata": {},
     "output_type": "execute_result"
    }
   ],
   "source": [
    "file1.name"
   ]
  },
  {
   "cell_type": "code",
   "execution_count": 197,
   "metadata": {},
   "outputs": [
    {
     "data": {
      "text/plain": [
       "'r'"
      ]
     },
     "execution_count": 197,
     "metadata": {},
     "output_type": "execute_result"
    }
   ],
   "source": [
    "file1.mode"
   ]
  },
  {
   "cell_type": "code",
   "execution_count": 198,
   "metadata": {},
   "outputs": [
    {
     "name": "stdout",
     "output_type": "stream",
     "text": [
      "Nikola Tesla: Das betrogene Genie\n",
      "Der Serbe Nikola Tesla war einer der genialsten Erfinder aller Zeiten, doch immer wieder ließ er sich um die Früchte seiner Arbeit bringen.\n",
      "Mit einem Fingerschnippen eröffnet der in die USA emigrierte Serbe Nikola Tesla an einem Abend im Jahr 1891 die Vorstellung: Augenblicklich lodert ein roter Feuerball in seiner Hand auf. Behutsam lässt der hoch-gewachsene Mann die Flammen auf seinen weißen Frack, dann über sein schwarzes, in der - Mitte gescheiteltes Haar gleiten. Schließlich verstaut der Magier – zum Erstaunen des Publikums gänzlich unversehrt – das geheimnisvolle Feuer in einer Holzschachtel.\n",
      "„Jetzt werde ich Ihnen Tageslicht machen“, ruft Tesla. Mit einem Mal erstrahlt der Vorführungsraum, sein Labor in der New Yorker South Fifth Avenue, in wundersam hellem Licht.\n",
      "\n",
      "Dann springt der Erfinder auf eine Plattform, die mit einem elektrischen Spannungsgeber verbunden ist. Langsam dreht er den Regler hoch, bis sein Körper schließlich einer Spannung von zwei Millionen Volt ausgesetzt ist.\n",
      "\n",
      "Elektrische Entladungen knistern um seinen Leib. Blitze und Flammen zucken aus seinen Händen. Als Tesla die Spannung ausschaltet, umflirrt ihn, so erinnern sich später manche, noch immer ein bläuliches Glimmen. Der „Magier der Elektrizität“ liebt es, New Yorks High Society mit seinen Inszenierungen zu verzaubern und\n",
      "\n",
      "Reportern die Kraft und Gefahrlosigkeit des von ihm entwickelten Stromsystems zu präsentieren. Nicht zuletzt sind seine spektakulären Vorführungen Propaganda im Krieg um die weltweite Elektrifizierung.\n",
      "\n",
      "Nikola Teslas Gegenspieler ist ein gerissener Geschäftsmann\n",
      "Es ist ein Krieg, den Tesla (wenn auch unfreiwillig) gegen einen zweiten, nicht weniger gefeierten Erfinder führt. Einen Mann von so anderem Naturell, dass er wie der Gegenentwurf zu Tesla anmutet: Thomas Alva Edison – hemdsärmelig, gerissen, geschäftstüchtig.\n",
      "\n",
      "Für den Amerikaner ist Tesla nicht mehr als ein „Wissenschaftspoet“, ein Theoretiker und glückloser Tüftler, dessen Ideen zwar „großartig, aber ausgesprochen unbrauchbar“ sind. Edison bemisst den Wert einer Erfindung daran, wie viele Dollar sie seinem Unternehmen einbringt.\n",
      "\n",
      "Tesla dagegen geht es nicht nur ums Geld: Der Zweck einer Erfindung, sagt er, bestehe vor allem in der Nutzbarmachung der Naturkräfte für die menschlichen Bedürfnisse.\n",
      "\n",
      "Der Kampf um den Strom: Tesla wird ihn gewinnen. Und doch – wie so oft in seinem Leben – als Verlierer daraus hervorgehen.\n",
      "\n",
      "Die geheimnisvolle Wirkkraft der Elektrizität scheint Nikola Tesla schon als Kind erfasst zu haben. Immer wieder sieht der am 10. Juli 1856 im kroatischen Dorf Smiljan geborene Sohn serbischer Eltern grelle Lichtblitze. „In einigen Fällen war die gesamte Luft um mich herum mit lebendigen, flammenden Zungen erfüllt“, erinnert sich Tesla später in seiner Autobiografie.\n",
      "\n",
      "Oft gehen diese Erscheinungen mit inneren Bildern einher. Dann sieht Tesla Räume oder Gegenstände vor seinem geistigen Auge, so klar, dass er Traum und Wirklichkeit kaum auseinanderzuhalten weiß. Mit der Zeit lernt er, diese visuellen Eingebungen zu kontrollieren. Er reist gedanklich in fremde Städte und Länder, unterhält sich im Geiste mit Menschen, schließt Freundschaften.\n"
     ]
    }
   ],
   "source": [
    "file_content = file1.read()\n",
    "file_content\n",
    "print(file_content)"
   ]
  },
  {
   "cell_type": "code",
   "execution_count": 201,
   "metadata": {},
   "outputs": [
    {
     "name": "stdout",
     "output_type": "stream",
     "text": [
      "[]\n"
     ]
    },
    {
     "ename": "AttributeError",
     "evalue": "'_io.TextIOWrapper' object has no attribute 'open'",
     "output_type": "error",
     "traceback": [
      "\u001b[0;31m---------------------------------------------------------------------------\u001b[0m",
      "\u001b[0;31mAttributeError\u001b[0m                            Traceback (most recent call last)",
      "\u001b[0;32m<ipython-input-201-d145baa909aa>\u001b[0m in \u001b[0;36m<module>\u001b[0;34m\u001b[0m\n\u001b[1;32m      2\u001b[0m \u001b[0mfirst27lines\u001b[0m \u001b[0;34m=\u001b[0m \u001b[0mfile1\u001b[0m\u001b[0;34m.\u001b[0m\u001b[0mreadlines\u001b[0m\u001b[0;34m(\u001b[0m\u001b[0;36m27\u001b[0m\u001b[0;34m)\u001b[0m\u001b[0;34m\u001b[0m\u001b[0;34m\u001b[0m\u001b[0m\n\u001b[1;32m      3\u001b[0m \u001b[0mprint\u001b[0m\u001b[0;34m(\u001b[0m\u001b[0mfirst27lines\u001b[0m\u001b[0;34m)\u001b[0m\u001b[0;34m\u001b[0m\u001b[0;34m\u001b[0m\u001b[0m\n\u001b[0;32m----> 4\u001b[0;31m \u001b[0mprint\u001b[0m\u001b[0;34m(\u001b[0m\u001b[0mfile1\u001b[0m\u001b[0;34m.\u001b[0m\u001b[0mopen\u001b[0m\u001b[0;34m)\u001b[0m\u001b[0;34m\u001b[0m\u001b[0;34m\u001b[0m\u001b[0m\n\u001b[0m",
      "\u001b[0;31mAttributeError\u001b[0m: '_io.TextIOWrapper' object has no attribute 'open'"
     ]
    }
   ],
   "source": [
    "\n",
    "first27lines = file1.readlines(27)\n",
    "print(first27lines)"
   ]
  },
  {
   "cell_type": "code",
   "execution_count": 202,
   "metadata": {},
   "outputs": [],
   "source": [
    "file1.close()"
   ]
  },
  {
   "cell_type": "code",
   "execution_count": 203,
   "metadata": {},
   "outputs": [
    {
     "name": "stdout",
     "output_type": "stream",
     "text": [
      "True\n"
     ]
    }
   ],
   "source": [
    "print(file1.closed)"
   ]
  },
  {
   "cell_type": "code",
   "execution_count": 223,
   "metadata": {},
   "outputs": [
    {
     "name": "stdout",
     "output_type": "stream",
     "text": [
      "Nikola Tesla: Das betrogene Genie\n",
      "Der Serbe Nikola Tesla war einer der genialsten Erfinder aller Zeiten, doch immer wieder ließ er sich um die Früchte seiner Arbeit bringen.\n",
      "Mit einem Fingerschnippen eröffnet der in die USA emigrierte Serbe Nikola Tesla an einem Abend im Jahr 1891 die Vorstellung: Augenblicklich lodert ein roter Feuerball in seiner Hand auf. Behutsam lässt der hoch-gewachsene Mann die Flammen auf seinen weißen Frack, dann über sein schwarzes, in der - Mitte gescheiteltes Haar gleiten. Schließlich verstaut der Magier – zum Erstaunen des Publikums gänzlich unversehrt – das geheimnisvolle Feuer in einer Holzschachtel.\n",
      "„Jetzt werde ich Ihnen Tageslicht machen“, ruft Tesla. Mit einem Mal erstrahlt der Vorführungsraum, sein Labor in der New Yorker South Fifth Avenue, in wundersam hellem Licht.\n",
      "\n",
      "Dann springt der Erfinder auf eine Plattform, die mit einem elektrischen Spannungsgeber verbunden ist. Langsam dreht er den Regler hoch, bis sein Körper schließlich einer Spannung von zwei Millionen Volt ausgesetzt ist.\n",
      "\n",
      "Elektrische Entladungen knistern um seinen Leib. Blitze und Flammen zucken aus seinen Händen. Als Tesla die Spannung ausschaltet, umflirrt ihn, so erinnern sich später manche, noch immer ein bläuliches Glimmen. Der „Magier der Elektrizität“ liebt es, New Yorks High Society mit seinen Inszenierungen zu verzaubern und\n",
      "\n",
      "Reportern die Kraft und Gefahrlosigkeit des von ihm entwickelten Stromsystems zu präsentieren. Nicht zuletzt sind seine spektakulären Vorführungen Propaganda im Krieg um die weltweite Elektrifizierung.\n",
      "\n",
      "Nikola Teslas Gegenspieler ist ein gerissener Geschäftsmann\n",
      "Es ist ein Krieg, den Tesla (wenn auch unfreiwillig) gegen einen zweiten, nicht weniger gefeierten Erfinder führt. Einen Mann von so anderem Naturell, dass er wie der Gegenentwurf zu Tesla anmutet: Thomas Alva Edison – hemdsärmelig, gerissen, geschäftstüchtig.\n",
      "\n",
      "Für den Amerikaner ist Tesla nicht mehr als ein „Wissenschaftspoet“, ein Theoretiker und glückloser Tüftler, dessen Ideen zwar „großartig, aber ausgesprochen unbrauchbar“ sind. Edison bemisst den Wert einer Erfindung daran, wie viele Dollar sie seinem Unternehmen einbringt.\n",
      "\n",
      "Tesla dagegen geht es nicht nur ums Geld: Der Zweck einer Erfindung, sagt er, bestehe vor allem in der Nutzbarmachung der Naturkräfte für die menschlichen Bedürfnisse.\n",
      "\n",
      "Der Kampf um den Strom: Tesla wird ihn gewinnen. Und doch – wie so oft in seinem Leben – als Verlierer daraus hervorgehen.\n",
      "\n",
      "Die geheimnisvolle Wirkkraft der Elektrizität scheint Nikola Tesla schon als Kind erfasst zu haben. Immer wieder sieht der am 10. Juli 1856 im kroatischen Dorf Smiljan geborene Sohn serbischer Eltern grelle Lichtblitze. „In einigen Fällen war die gesamte Luft um mich herum mit lebendigen, flammenden Zungen erfüllt“, erinnert sich Tesla später in seiner Autobiografie.\n",
      "\n",
      "Oft gehen diese Erscheinungen mit inneren Bildern einher. Dann sieht Tesla Räume oder Gegenstände vor seinem geistigen Auge, so klar, dass er Traum und Wirklichkeit kaum auseinanderzuhalten weiß. Mit der Zeit lernt er, diese visuellen Eingebungen zu kontrollieren. Er reist gedanklich in fremde Städte und Länder, unterhält sich im Geiste mit Menschen, schließt Freundschaften.\n",
      "Der junge Tüftler arbeitet ohne Zeichnungen und Modelle\n",
      "Als Tesla mit 17 Jahren beginnt, sich „ernsthaft mit Erfindungen“ zu befassen, offenbart sich seine Vorstellungskraft: Er braucht keine Modelle, Zeichnungen oder Experimente, um Geräte zu entwickeln – er verfolgt den gesamten Schaffensprozess einer Erfindung im Kopf. Dort baut er die Apparaturen auf, bessert Fehler aus, lässt sie laufen. „Es ist völlig ohne Bedeutung für mich, ob ich eine Turbine in meinem Geist oder in der Werkstatt betreibe“, schreibt er. „Ich kann sogar bemerken, wenn sie aus dem Gleichgewicht gerät.“\n",
      "\n",
      "1875 erhält der 19-Jährige ein Stipendium an der Technischen Hochschule in Graz. Er lernt wie besessen – manchmal von drei Uhr morgens bis abends um elf – und besteht im ersten Jahr gleich neun Examina mit Bestnote. „Ich\n",
      "\n",
      "besaß eine wahre Manie, alles, was ich einmal begonnen hatte, auch zu Ende zu führen“, erinnert sich Tesla später. Als er Voltaire zu lesen beginnt, stellt er zu seinem Leidwesen fest, dass „dieses Monster“ an die 100 Bücher geschrieben hat – quält sich aber dennoch durch das Mammutwerk.\n",
      "Ohnehin hängt dem jungen Mann etwas Zwanghaftes an. Er hegt eine starke Abneigung gegen Perlen und Ohrringe, ekelt sich vor den Haaren anderer Leute. Ihm wird heiß, wenn er einen Pfirsich sieht. Er wiederholt bestimmte\n",
      "\n",
      "Tätigkeiten genau so oft, dass die Anzahl der Wiederholungen durch drei teilbar ist. Stets zählt er die Schritte beim\n",
      "\n",
      "Gehen, berechnet den Rauminhalt von Suppentellern, Kaffeetassen, Lebensmitteln. „Wenn ich das nicht tat, schmeckte mir mein Essen nicht“, notiert er.\n",
      "\n",
      "In Graz stößt Tesla schließlich auf jenes mysteriöse Forschungsgebiet, das ihn Zeit seines Lebens nicht mehr loslassen wird: die Elektrizität. Für die meisten Menschen jener Zeit ist Strom noch ein okkulter Saft, der wie von Geisterhand durch Drähte fließt. Tesla möchte die Gesetze dieses Fluidums begreifen – und ist instinktiv davon überzeugt, dass die Zukunft einem damals noch nicht praxistauglichen System gehört, dem Wechselstrom.\n",
      "\n",
      "Nikola Tesla glaubt an die Zukunft des Wechselstroms\n",
      "Anders als bei einem Gleichstrom-Generator, der mit einem fest montierten Magneten und einer im Inneren des Geräts rotierenden Spule Strom erzeugt, dreht sich beim Wechselstrom-Generator der Magnet im Zentrum und produziert so in den außen angebrachten Spulen Strom.\n",
      "\n",
      "Der Vorteil: Der Strom muss nicht mehr umständlich mithilfe von Funken sprühenden Schleifkontakten an einer rotierenden Spule abgenommen werden. Er entsteht stattdessen im äußeren, statischen Teil des Generators.\n",
      "\n",
      "Doch sämtliche elektrisch betriebenen Geräte jener Zeit beziehen ihre Kraft über den permanent in eine Richtung fließenden Gleichstrom. Vor allem Elektromotoren, die per Wechselstrom betrieben werden, halten Wissenschaftler für undenkbar. Tesla aber vertraut seiner Intuition. Im Geiste testet er einen Wechselstrom-Motor nach dem anderen, verfolgt gedanklich, wie der schnell wechselnde Strom durch die Schaltkreise rauscht. Zunächst ohne Erfolg.\n",
      "\n",
      "Es dauert sieben Jahre, bis der nunmehr bei einer Budapester Telefongesellschaft angestellte Ingenieur den Durchbruch schafft. Während eines abendlichen Spaziergangs 1882 durch den Stadtpark schießt ihm die Lösung „wie ein Blitz“ durch den Kopf.\n",
      "\n",
      "Tesla greift nach ei-nem Stock und zeichnet das Diagramm eines gänzlich neuartigen Motors in den Staub, bei dem außen angebrachte Spulen, die von Wechselströmen durchflossen werden, ein rotierendes Magnetfeld erzeugen. Dadurch wirken auf den Rotor im Inneren Kräfte, die ihn antreiben.\n",
      "Wie im Rausch entwickelt er in den folgenden Wochen weite-re Motoren, Dynamos und Transformatoren, die allesamt Wechselstrom benötigen – oder erzeugen. „Es war ein geistiger Zustand von Glück, so vollständig, wie ich es nie zuvor im Leben gekannt habe“, schreibt er. „Die Ideen kamen in einem ununterbrochenen Strom, und die einzige Schwierigkeit, die ich hatte, war die, sie festzuhalten.“\n",
      "\n",
      "Tesla erkennt auch, dass Wechselstrom einen entscheidenden Vorteil gegenüber Gleichstrom hat: Er kann aufgrund seiner physikalischen Natur nahezu verlustfrei über Hunderte von Kilometern durch die Kabel geschickt werden. Gleichstrom dagegen lässt sich lediglich über kurze Strecken transportieren.\n",
      "\n",
      "Zwei Jahre später, 1884, kündigt er in seiner Firma und macht sich mit einem Empfehlungsschreiben in der Hand auf den Weg nach New York. Er will sich dort bei dem großen Thomas Alva Edison um eine Anstellung bemühen und ihn für seine bahnbrechende Erfindung begeistern.\n",
      "\n",
      "Edison sagt dem Genie eine Prämie von 50.000 Dollar zu\n",
      "Mitten in Manhattan hat der Glühbirnen-Magnat das weltweit erste öffentliche Kraftwerk errichtet. Allerdings vermag der dort produzierte Gleichstrom nur die elektrischen Straßenlaternen im Umkreis weniger Hundert Meter zum Leuchten zu bringen. Deshalb plant Edison, die Stadt mit einem Netz von Generatoren zu überziehen.\n",
      "\n",
      "Das Empfehlungsschreiben verschafft Tesla ein Vorstellungsgespräch. Doch schon die erste Begegnung mit Edison verläuft ernüchternd: Als Tesla die Vorzüge seines Stromsystems darlegt, erwidert der Amerikaner verärgert, er solle mit dem Unsinn aufhören. „Die Leute mögen den Gleichstrom, und er ist alles, womit ich mich je abgeben werde.“ Allerdings erkennt Edison das technische Talent des jungen Serben, stellt ihn ein – und verspricht Tesla sogar eine Prämie von 50 000 US-Dollar, falls es ihm gelingen sollte, die Leistung der Gleichstrom-Dynamos zu verbessern.\n",
      "\n",
      "Tesla nimmt das Angebot an und kann seinem Chef nach fast einem Jahr harter Arbeit den Erfolg melden: Die Umbauten an Edisons Dynamos sind abgeschlossen, die Effizienz ist wesentlich gesteigert.\n",
      "\n",
      "Doch die zugesagte Belohnung bleibt aus – Edison weigert sich, die Prämie zu zahlen: „Tesla, Sie verstehen den amerikanischen Humor nicht“, erklärt er. Empört kündigt Tesla. Später wird er über das angebliche Jahrhundertgenie schreiben: „Wenn Edison eine Nadel in einem Heuhaufen finden müsste, würde er sofort mit dem Eifer einer Biene darangehen, Strohhalm für Strohhalm zu untersuchen, bis er das gesuchte Objekt gefunden hätte. Ich war bedauernder Zeuge solcher Handlungen und wusste, dass ein wenig Theorie und Berechnung ihm 90 Prozent der Arbeit erspart hätten.“\n",
      "\n",
      "Nikola gründet seine eigene Firma\n",
      "Seine herausragende Arbeit bei der „Edison Electric Light Company“ hat Tesla in Fachkreisen bekannt gemacht. Und so nimmt der inzwischen 29-Jährige kurz nach seiner Kündigung das Angebot einer Gruppe von Investoren an und gründet eine eigene Firma, die „Tesla Electric Light and Manufacturing Company“.\n",
      "\n",
      "Doch wieder erfüllen sich seine Hoffnungen nicht. Statt Wechselstromsysteme zur Marktreife zu bringen, lassen sich die Geldgeber von ihm innovative Straßen- und Fabrikleuchten konstruieren. So tüftelt Tesla unter anderem an der Entwicklung einer Bogenlampe, erwirbt mehrere Patente – und wird nach Erfüllung seiner Aufgabe von den Investoren aus der Firma gedrängt und um seine Entlohnung betrogen.\n",
      "\n",
      "„Danach folgte eine Periode des Kampfes“, erinnert sich der Erfinder. Ein Jahr lang muss er sich gar als Tagelöhner im Straßenbau durchschlagen.\n",
      "\n",
      "Bis sein Schicksal im Frühjahr 1887 eine unerwartete Wende nimmt: Der Vorarbeiter seiner Baukolonne erfährt von Teslas angeblichem Wundermotor und vermittelt ihm den Kontakt zu Alfred K. Brown, dem Direktor der Western Union Telegraph Company (Telegraphenfirmen brauchen Strom – also interessiert Brown der Wechselstrom, der sich über weite Strecken ohne Verlust übertragen lässt).\n",
      "\n",
      "Unweit der Edison Company in Manhattan mieten sie ein geräumiges Labor, in dem Tesla endlich die praktische Umsetzung seines Wechselstromsystems vorantreiben kann. Der Krieg um den Strom beginnt: Tesla bringt ein Patent nach dem anderen für Komponenten seiner neuartigen Motoren heraus, hält Vorträge, setzt sich vor begeistertem Publikum in Szene und gewinnt alsbald die Aufmerksamkeit des Industriellen George Westinghouse.\n",
      "\n",
      "Ein finanzstarker Industrieller erwirbt Nikola Teslas Patente\n",
      "Westinghouse, selbst Ingenieur und Erfinder, ist einige Jahre zuvor in den Strommarkt eingestiegen und hat mehrere Patente gekauft. Anders als Edison glaubt er an die Wirtschaftlichkeit der neuen Technik. Er erwirbt Teslas Patente, vereinbart die Entrichtung einer Lizenz-gebühr von zweieinhalb Dollar für jede Pferdestärke verkaufter „Tesla-Elektrizität“ – und zieht in den Kampf für den Wechselstrom.\n",
      "\n",
      "Aufgrund der geringen Energieverluste kann Westinghouse seine Kraftwerke außerhalb der Städte errichten. Zudem genügen dünnere Kupferkabel als bei Gleichstrom, sodass die Kosten für die Leitungen geringer sind als die des Konkurrenten. Deshalb kann Westinghouse den Strom günstiger verkaufen und hat schon bald mehr Kunden\n",
      "\n",
      "als Edison.\n",
      "\n",
      "Doch der holt zum Gegenschlag aus: Edison lässt Informationen über Unfälle mit Wechselstrom zusammentragen, schreibt Pamphlete und bedrängt Politiker. Er bezahlt Schuljungen dafür, dass sie ihm Katzen und Hunde fangen, lässt die Tiere in öffentlichen Vorführungen auf Metallplatten schnallen und jagt ihnen Wechselstrom durch den zuckenden Leib. Anschließend fragt er die Zuschauer: „Ist das die Erfindung, mit der Ihre lieben Frauen kochen sollen?“\n",
      "\n",
      "Im Januar 1889 tritt in New York ein Gesetz in Kraft, nach dem Mörder zum Tode durch Stromschlag verurteilt werden – und prompt plädiert Edison dafür, dafür Wechselstrom zu verwenden. Im August 1890 stirbt erstmals ein Mensch auf dem elektrischen Stuhl: durch Wechselstrom. Zweimal muss der Schalter umgelegt werden, bis der Verurteilte aufhört zu zucken.\n",
      "\n",
      "Doch Edisons Schmähkampagnen erzielen nicht die gewünschte Wirkung. Binnen zwei Jahren baut Westinghouse mehr als 30 Kraftwerke und versorgt 130 amerikanische Städte mit Teslas Wechselstrom.\n",
      "\n",
      "Nikola Tesla verzichtet auf Tantieme in Milliardenhöhe\n",
      "1893 wird der Auftrag für die Beleuchtung der Weltausstellung in Chicago ausgeschrieben: Westinghouse unterbietet Edison um fast eine Million Dollar. Ab November 1896 installieren weltweit Städte fast nur noch Wechselstromanlagen. Nikola Tesla steht kurz davor, einer der reichsten Männer der Welt zu werden: Denn laut Lizenzvertrag soll er für jeden verkauften Elektromotor, ja für alle Anwendungen der Wechselstrompatente Gebühren kassieren.\n",
      "\n",
      "Doch Geldgeber drängen Westinghouse dazu, den Vertrag zu ändern. Der Unternehmer macht Tesla deutlich, dass dessen Entschluss über das Schicksal der Firma entscheide. Tesla, der in Westinghouse einen Freund sieht, zerreißt seinen Vertrag und tauscht die Tantiemen für seine Patente gegen eine einmalige Pauschale von 216 000 Dollar ein.\n",
      "\n",
      "Damit verliert er nicht nur den Anspruch auf vermutlich zwölf Millionen Dollar bereits verdienter Honorare, sondern auch auf Milliarden, die in Zukunft angefallen wären.\n",
      "\n",
      "Doch nicht das Geld ist Tesla wichtig, sondern die Verbreitung seiner neuen Technik. Außerdem hat sich der Erfinder bereits in neue Aufgaben vertieft: Er hegt Visionen von einer Welt, in der alle Menschen unbegrenzt und kostenlos mit Energie versorgt werden. Stromnetze begreift Tesla nur als Zwischenstufe auf dem Weg zu einem kabellosen System, das Informationen und Energie über den ganzen Erdball senden soll.\n",
      "\n",
      "1898 entwickelt er die erste Fernbedienung. Im Jahr darauf gelingt es ihm, aus einem Labor in der Nähe von Colorado Springs Radiowellen über eine Entfernung von 1000 Kilometern zu übertragen. 1900 findet Tesla einen Financier für den Bau eines futuristischen Funkturms auf Long Island: Von dort möchte er unter anderem hochenergetische Wellen in die oberen Atmosphärenschichten schicken und deren Energie rund um den Globus verteilen.\n",
      "\n",
      "Als ein Investor abspringt, bricht Tesla zusammen\n",
      "Doch kurz vor der Fertigstellung des ambitionierten Projekts springt der Investor ab: Wenn jedermann weltweit unkontrolliert die Energie aus Long Island anzapfen kann, womit würde sich dann noch Geld verdienen lassen?\n",
      "\n",
      "Tesla erleidet daraufhin einen Nervenzusammenbruch, von dem er sich nur langsam erholt. 1917 wird das Stahlgerüst des Turms gesprengt und für 1000 Dollar Schrottwert verkauft. Im selben Jahr soll dem Erfinder die angesehene Edison-Medaille verliehen werden. Tesla lehnt zunächst ab: Nicht ihn würde die Auszeichnung ehren, sondern Edison.\n",
      "\n",
      "Bernard Arthur Behrend, der Jury-Präsident, überredet ihn schließlich, die Medaille doch entgegenzunehmen.\n",
      "\n",
      "„Wollten wir all das, was aus Teslas Werk bisher entstanden ist, wieder aus der Industrie entfernen“, sagt Behrend in\n",
      "\n",
      "einer Laudatio, „würden ihre Räder nicht weiterlaufen, unsere elektrischen Wagen und Züge stillstehen, unsere Städte wären dunkel und unsere Mühlen tot und nutzlos. Ja, so weittragend ist sein Werk, dass es zum Fundament unserer Industrie geworden ist.“\n",
      "\n",
      "Trotz des Ruhmes und seiner rund 700 Patente bleibt der Magier der Elektrizität finanziell erfolglos. Verarmt stirbt Nikola Tesla, der wohl selbstloseste Erfinder der Geschichte, am 7. Januar 1943 mit 86 Jahren in einem New Yorker Hotelzimmer.\n",
      "\n",
      "\n"
     ]
    }
   ],
   "source": [
    "with open(example1, \"r\") as file1:\n",
    "    file_content = file1.read()\n",
    "    print(file_content)"
   ]
  },
  {
   "cell_type": "code",
   "execution_count": 206,
   "metadata": {},
   "outputs": [
    {
     "data": {
      "text/plain": [
       "True"
      ]
     },
     "execution_count": 206,
     "metadata": {},
     "output_type": "execute_result"
    }
   ],
   "source": [
    "file1.closed"
   ]
  },
  {
   "cell_type": "code",
   "execution_count": 212,
   "metadata": {},
   "outputs": [
    {
     "name": "stdout",
     "output_type": "stream",
     "text": [
      "First line: Nikola Tesla: Das betrogene Genie\n",
      "\n"
     ]
    }
   ],
   "source": [
    "with open(example1, \"r\") as file1:\n",
    "    print(\"First line: \" + file1.readline())"
   ]
  },
  {
   "cell_type": "code",
   "execution_count": 217,
   "metadata": {},
   "outputs": [
    {
     "name": "stdout",
     "output_type": "stream",
     "text": [
      "Line 0 :  Nikola Tesla: Das betrogene Genie\n",
      "\n",
      "Line 1 :  Der Serbe Nikola Tesla war einer der genialsten Erfinder aller Zeiten, doch immer wieder ließ er sich um die Früchte seiner Arbeit bringen.\n",
      "\n",
      "Line 2 :  Mit einem Fingerschnippen eröffnet der in die USA emigrierte Serbe Nikola Tesla an einem Abend im Jahr 1891 die Vorstellung: Augenblicklich lodert ein roter Feuerball in seiner Hand auf. Behutsam lässt der hoch-gewachsene Mann die Flammen auf seinen weißen Frack, dann über sein schwarzes, in der - Mitte gescheiteltes Haar gleiten. Schließlich verstaut der Magier – zum Erstaunen des Publikums gänzlich unversehrt – das geheimnisvolle Feuer in einer Holzschachtel.\n",
      "\n",
      "Line 3 :  „Jetzt werde ich Ihnen Tageslicht machen“, ruft Tesla. Mit einem Mal erstrahlt der Vorführungsraum, sein Labor in der New Yorker South Fifth Avenue, in wundersam hellem Licht.\n",
      "\n",
      "Line 4 :  \n",
      "\n",
      "Line 5 :  Dann springt der Erfinder auf eine Plattform, die mit einem elektrischen Spannungsgeber verbunden ist. Langsam dreht er den Regler hoch, bis sein Körper schließlich einer Spannung von zwei Millionen Volt ausgesetzt ist.\n",
      "\n",
      "Line 6 :  \n",
      "\n",
      "Line 7 :  Elektrische Entladungen knistern um seinen Leib. Blitze und Flammen zucken aus seinen Händen. Als Tesla die Spannung ausschaltet, umflirrt ihn, so erinnern sich später manche, noch immer ein bläuliches Glimmen. Der „Magier der Elektrizität“ liebt es, New Yorks High Society mit seinen Inszenierungen zu verzaubern und\n",
      "\n",
      "Line 8 :  \n",
      "\n",
      "Line 9 :  Reportern die Kraft und Gefahrlosigkeit des von ihm entwickelten Stromsystems zu präsentieren. Nicht zuletzt sind seine spektakulären Vorführungen Propaganda im Krieg um die weltweite Elektrifizierung.\n",
      "\n",
      "Line 10 :  \n",
      "\n",
      "Line 11 :  Nikola Teslas Gegenspieler ist ein gerissener Geschäftsmann\n",
      "\n",
      "Line 12 :  Es ist ein Krieg, den Tesla (wenn auch unfreiwillig) gegen einen zweiten, nicht weniger gefeierten Erfinder führt. Einen Mann von so anderem Naturell, dass er wie der Gegenentwurf zu Tesla anmutet: Thomas Alva Edison – hemdsärmelig, gerissen, geschäftstüchtig.\n",
      "\n",
      "Line 13 :  \n",
      "\n",
      "Line 14 :  Für den Amerikaner ist Tesla nicht mehr als ein „Wissenschaftspoet“, ein Theoretiker und glückloser Tüftler, dessen Ideen zwar „großartig, aber ausgesprochen unbrauchbar“ sind. Edison bemisst den Wert einer Erfindung daran, wie viele Dollar sie seinem Unternehmen einbringt.\n",
      "\n",
      "Line 15 :  \n",
      "\n",
      "Line 16 :  Tesla dagegen geht es nicht nur ums Geld: Der Zweck einer Erfindung, sagt er, bestehe vor allem in der Nutzbarmachung der Naturkräfte für die menschlichen Bedürfnisse.\n",
      "\n",
      "Line 17 :  \n",
      "\n",
      "Line 18 :  Der Kampf um den Strom: Tesla wird ihn gewinnen. Und doch – wie so oft in seinem Leben – als Verlierer daraus hervorgehen.\n",
      "\n",
      "Line 19 :  \n",
      "\n",
      "Line 20 :  Die geheimnisvolle Wirkkraft der Elektrizität scheint Nikola Tesla schon als Kind erfasst zu haben. Immer wieder sieht der am 10. Juli 1856 im kroatischen Dorf Smiljan geborene Sohn serbischer Eltern grelle Lichtblitze. „In einigen Fällen war die gesamte Luft um mich herum mit lebendigen, flammenden Zungen erfüllt“, erinnert sich Tesla später in seiner Autobiografie.\n",
      "\n",
      "Line 21 :  \n",
      "\n",
      "Line 22 :  Oft gehen diese Erscheinungen mit inneren Bildern einher. Dann sieht Tesla Räume oder Gegenstände vor seinem geistigen Auge, so klar, dass er Traum und Wirklichkeit kaum auseinanderzuhalten weiß. Mit der Zeit lernt er, diese visuellen Eingebungen zu kontrollieren. Er reist gedanklich in fremde Städte und Länder, unterhält sich im Geiste mit Menschen, schließt Freundschaften.\n",
      "\n",
      "Line 23 :  Der junge Tüftler arbeitet ohne Zeichnungen und Modelle\n",
      "\n",
      "Line 24 :  Als Tesla mit 17 Jahren beginnt, sich „ernsthaft mit Erfindungen“ zu befassen, offenbart sich seine Vorstellungskraft: Er braucht keine Modelle, Zeichnungen oder Experimente, um Geräte zu entwickeln – er verfolgt den gesamten Schaffensprozess einer Erfindung im Kopf. Dort baut er die Apparaturen auf, bessert Fehler aus, lässt sie laufen. „Es ist völlig ohne Bedeutung für mich, ob ich eine Turbine in meinem Geist oder in der Werkstatt betreibe“, schreibt er. „Ich kann sogar bemerken, wenn sie aus dem Gleichgewicht gerät.“\n",
      "\n",
      "Line 25 :  \n",
      "\n",
      "Line 26 :  1875 erhält der 19-Jährige ein Stipendium an der Technischen Hochschule in Graz. Er lernt wie besessen – manchmal von drei Uhr morgens bis abends um elf – und besteht im ersten Jahr gleich neun Examina mit Bestnote. „Ich\n",
      "\n",
      "Line 27 :  \n",
      "\n",
      "Line 28 :  besaß eine wahre Manie, alles, was ich einmal begonnen hatte, auch zu Ende zu führen“, erinnert sich Tesla später. Als er Voltaire zu lesen beginnt, stellt er zu seinem Leidwesen fest, dass „dieses Monster“ an die 100 Bücher geschrieben hat – quält sich aber dennoch durch das Mammutwerk.\n",
      "\n",
      "Line 29 :  Ohnehin hängt dem jungen Mann etwas Zwanghaftes an. Er hegt eine starke Abneigung gegen Perlen und Ohrringe, ekelt sich vor den Haaren anderer Leute. Ihm wird heiß, wenn er einen Pfirsich sieht. Er wiederholt bestimmte\n",
      "\n",
      "Line 30 :  \n",
      "\n",
      "Line 31 :  Tätigkeiten genau so oft, dass die Anzahl der Wiederholungen durch drei teilbar ist. Stets zählt er die Schritte beim\n",
      "\n",
      "Line 32 :  \n",
      "\n",
      "Line 33 :  Gehen, berechnet den Rauminhalt von Suppentellern, Kaffeetassen, Lebensmitteln. „Wenn ich das nicht tat, schmeckte mir mein Essen nicht“, notiert er.\n",
      "\n",
      "Line 34 :  \n",
      "\n",
      "Line 35 :  In Graz stößt Tesla schließlich auf jenes mysteriöse Forschungsgebiet, das ihn Zeit seines Lebens nicht mehr loslassen wird: die Elektrizität. Für die meisten Menschen jener Zeit ist Strom noch ein okkulter Saft, der wie von Geisterhand durch Drähte fließt. Tesla möchte die Gesetze dieses Fluidums begreifen – und ist instinktiv davon überzeugt, dass die Zukunft einem damals noch nicht praxistauglichen System gehört, dem Wechselstrom.\n",
      "\n",
      "Line 36 :  \n",
      "\n",
      "Line 37 :  Nikola Tesla glaubt an die Zukunft des Wechselstroms\n",
      "\n",
      "Line 38 :  Anders als bei einem Gleichstrom-Generator, der mit einem fest montierten Magneten und einer im Inneren des Geräts rotierenden Spule Strom erzeugt, dreht sich beim Wechselstrom-Generator der Magnet im Zentrum und produziert so in den außen angebrachten Spulen Strom.\n",
      "\n",
      "Line 39 :  \n",
      "\n",
      "Line 40 :  Der Vorteil: Der Strom muss nicht mehr umständlich mithilfe von Funken sprühenden Schleifkontakten an einer rotierenden Spule abgenommen werden. Er entsteht stattdessen im äußeren, statischen Teil des Generators.\n",
      "\n",
      "Line 41 :  \n",
      "\n",
      "Line 42 :  Doch sämtliche elektrisch betriebenen Geräte jener Zeit beziehen ihre Kraft über den permanent in eine Richtung fließenden Gleichstrom. Vor allem Elektromotoren, die per Wechselstrom betrieben werden, halten Wissenschaftler für undenkbar. Tesla aber vertraut seiner Intuition. Im Geiste testet er einen Wechselstrom-Motor nach dem anderen, verfolgt gedanklich, wie der schnell wechselnde Strom durch die Schaltkreise rauscht. Zunächst ohne Erfolg.\n",
      "\n",
      "Line 43 :  \n",
      "\n",
      "Line 44 :  Es dauert sieben Jahre, bis der nunmehr bei einer Budapester Telefongesellschaft angestellte Ingenieur den Durchbruch schafft. Während eines abendlichen Spaziergangs 1882 durch den Stadtpark schießt ihm die Lösung „wie ein Blitz“ durch den Kopf.\n",
      "\n",
      "Line 45 :  \n",
      "\n",
      "Line 46 :  Tesla greift nach ei-nem Stock und zeichnet das Diagramm eines gänzlich neuartigen Motors in den Staub, bei dem außen angebrachte Spulen, die von Wechselströmen durchflossen werden, ein rotierendes Magnetfeld erzeugen. Dadurch wirken auf den Rotor im Inneren Kräfte, die ihn antreiben.\n",
      "\n",
      "Line 47 :  Wie im Rausch entwickelt er in den folgenden Wochen weite-re Motoren, Dynamos und Transformatoren, die allesamt Wechselstrom benötigen – oder erzeugen. „Es war ein geistiger Zustand von Glück, so vollständig, wie ich es nie zuvor im Leben gekannt habe“, schreibt er. „Die Ideen kamen in einem ununterbrochenen Strom, und die einzige Schwierigkeit, die ich hatte, war die, sie festzuhalten.“\n",
      "\n",
      "Line 48 :  \n",
      "\n",
      "Line 49 :  Tesla erkennt auch, dass Wechselstrom einen entscheidenden Vorteil gegenüber Gleichstrom hat: Er kann aufgrund seiner physikalischen Natur nahezu verlustfrei über Hunderte von Kilometern durch die Kabel geschickt werden. Gleichstrom dagegen lässt sich lediglich über kurze Strecken transportieren.\n",
      "\n",
      "Line 50 :  \n",
      "\n",
      "Line 51 :  Zwei Jahre später, 1884, kündigt er in seiner Firma und macht sich mit einem Empfehlungsschreiben in der Hand auf den Weg nach New York. Er will sich dort bei dem großen Thomas Alva Edison um eine Anstellung bemühen und ihn für seine bahnbrechende Erfindung begeistern.\n",
      "\n",
      "Line 52 :  \n",
      "\n",
      "Line 53 :  Edison sagt dem Genie eine Prämie von 50.000 Dollar zu\n",
      "\n",
      "Line 54 :  Mitten in Manhattan hat der Glühbirnen-Magnat das weltweit erste öffentliche Kraftwerk errichtet. Allerdings vermag der dort produzierte Gleichstrom nur die elektrischen Straßenlaternen im Umkreis weniger Hundert Meter zum Leuchten zu bringen. Deshalb plant Edison, die Stadt mit einem Netz von Generatoren zu überziehen.\n",
      "\n",
      "Line 55 :  \n",
      "\n",
      "Line 56 :  Das Empfehlungsschreiben verschafft Tesla ein Vorstellungsgespräch. Doch schon die erste Begegnung mit Edison verläuft ernüchternd: Als Tesla die Vorzüge seines Stromsystems darlegt, erwidert der Amerikaner verärgert, er solle mit dem Unsinn aufhören. „Die Leute mögen den Gleichstrom, und er ist alles, womit ich mich je abgeben werde.“ Allerdings erkennt Edison das technische Talent des jungen Serben, stellt ihn ein – und verspricht Tesla sogar eine Prämie von 50 000 US-Dollar, falls es ihm gelingen sollte, die Leistung der Gleichstrom-Dynamos zu verbessern.\n",
      "\n",
      "Line 57 :  \n",
      "\n",
      "Line 58 :  Tesla nimmt das Angebot an und kann seinem Chef nach fast einem Jahr harter Arbeit den Erfolg melden: Die Umbauten an Edisons Dynamos sind abgeschlossen, die Effizienz ist wesentlich gesteigert.\n",
      "\n",
      "Line 59 :  \n",
      "\n",
      "Line 60 :  Doch die zugesagte Belohnung bleibt aus – Edison weigert sich, die Prämie zu zahlen: „Tesla, Sie verstehen den amerikanischen Humor nicht“, erklärt er. Empört kündigt Tesla. Später wird er über das angebliche Jahrhundertgenie schreiben: „Wenn Edison eine Nadel in einem Heuhaufen finden müsste, würde er sofort mit dem Eifer einer Biene darangehen, Strohhalm für Strohhalm zu untersuchen, bis er das gesuchte Objekt gefunden hätte. Ich war bedauernder Zeuge solcher Handlungen und wusste, dass ein wenig Theorie und Berechnung ihm 90 Prozent der Arbeit erspart hätten.“\n",
      "\n",
      "Line 61 :  \n",
      "\n",
      "Line 62 :  Nikola gründet seine eigene Firma\n",
      "\n",
      "Line 63 :  Seine herausragende Arbeit bei der „Edison Electric Light Company“ hat Tesla in Fachkreisen bekannt gemacht. Und so nimmt der inzwischen 29-Jährige kurz nach seiner Kündigung das Angebot einer Gruppe von Investoren an und gründet eine eigene Firma, die „Tesla Electric Light and Manufacturing Company“.\n",
      "\n",
      "Line 64 :  \n",
      "\n",
      "Line 65 :  Doch wieder erfüllen sich seine Hoffnungen nicht. Statt Wechselstromsysteme zur Marktreife zu bringen, lassen sich die Geldgeber von ihm innovative Straßen- und Fabrikleuchten konstruieren. So tüftelt Tesla unter anderem an der Entwicklung einer Bogenlampe, erwirbt mehrere Patente – und wird nach Erfüllung seiner Aufgabe von den Investoren aus der Firma gedrängt und um seine Entlohnung betrogen.\n",
      "\n",
      "Line 66 :  \n",
      "\n",
      "Line 67 :  „Danach folgte eine Periode des Kampfes“, erinnert sich der Erfinder. Ein Jahr lang muss er sich gar als Tagelöhner im Straßenbau durchschlagen.\n",
      "\n",
      "Line 68 :  \n",
      "\n",
      "Line 69 :  Bis sein Schicksal im Frühjahr 1887 eine unerwartete Wende nimmt: Der Vorarbeiter seiner Baukolonne erfährt von Teslas angeblichem Wundermotor und vermittelt ihm den Kontakt zu Alfred K. Brown, dem Direktor der Western Union Telegraph Company (Telegraphenfirmen brauchen Strom – also interessiert Brown der Wechselstrom, der sich über weite Strecken ohne Verlust übertragen lässt).\n",
      "\n",
      "Line 70 :  \n",
      "\n",
      "Line 71 :  Unweit der Edison Company in Manhattan mieten sie ein geräumiges Labor, in dem Tesla endlich die praktische Umsetzung seines Wechselstromsystems vorantreiben kann. Der Krieg um den Strom beginnt: Tesla bringt ein Patent nach dem anderen für Komponenten seiner neuartigen Motoren heraus, hält Vorträge, setzt sich vor begeistertem Publikum in Szene und gewinnt alsbald die Aufmerksamkeit des Industriellen George Westinghouse.\n",
      "\n",
      "Line 72 :  \n",
      "\n",
      "Line 73 :  Ein finanzstarker Industrieller erwirbt Nikola Teslas Patente\n",
      "\n",
      "Line 74 :  Westinghouse, selbst Ingenieur und Erfinder, ist einige Jahre zuvor in den Strommarkt eingestiegen und hat mehrere Patente gekauft. Anders als Edison glaubt er an die Wirtschaftlichkeit der neuen Technik. Er erwirbt Teslas Patente, vereinbart die Entrichtung einer Lizenz-gebühr von zweieinhalb Dollar für jede Pferdestärke verkaufter „Tesla-Elektrizität“ – und zieht in den Kampf für den Wechselstrom.\n",
      "\n",
      "Line 75 :  \n",
      "\n",
      "Line 76 :  Aufgrund der geringen Energieverluste kann Westinghouse seine Kraftwerke außerhalb der Städte errichten. Zudem genügen dünnere Kupferkabel als bei Gleichstrom, sodass die Kosten für die Leitungen geringer sind als die des Konkurrenten. Deshalb kann Westinghouse den Strom günstiger verkaufen und hat schon bald mehr Kunden\n",
      "\n",
      "Line 77 :  \n",
      "\n",
      "Line 78 :  als Edison.\n",
      "\n",
      "Line 79 :  \n",
      "\n",
      "Line 80 :  Doch der holt zum Gegenschlag aus: Edison lässt Informationen über Unfälle mit Wechselstrom zusammentragen, schreibt Pamphlete und bedrängt Politiker. Er bezahlt Schuljungen dafür, dass sie ihm Katzen und Hunde fangen, lässt die Tiere in öffentlichen Vorführungen auf Metallplatten schnallen und jagt ihnen Wechselstrom durch den zuckenden Leib. Anschließend fragt er die Zuschauer: „Ist das die Erfindung, mit der Ihre lieben Frauen kochen sollen?“\n",
      "\n",
      "Line 81 :  \n",
      "\n",
      "Line 82 :  Im Januar 1889 tritt in New York ein Gesetz in Kraft, nach dem Mörder zum Tode durch Stromschlag verurteilt werden – und prompt plädiert Edison dafür, dafür Wechselstrom zu verwenden. Im August 1890 stirbt erstmals ein Mensch auf dem elektrischen Stuhl: durch Wechselstrom. Zweimal muss der Schalter umgelegt werden, bis der Verurteilte aufhört zu zucken.\n",
      "\n",
      "Line 83 :  \n",
      "\n",
      "Line 84 :  Doch Edisons Schmähkampagnen erzielen nicht die gewünschte Wirkung. Binnen zwei Jahren baut Westinghouse mehr als 30 Kraftwerke und versorgt 130 amerikanische Städte mit Teslas Wechselstrom.\n",
      "\n",
      "Line 85 :  \n",
      "\n",
      "Line 86 :  Nikola Tesla verzichtet auf Tantieme in Milliardenhöhe\n",
      "\n",
      "Line 87 :  1893 wird der Auftrag für die Beleuchtung der Weltausstellung in Chicago ausgeschrieben: Westinghouse unterbietet Edison um fast eine Million Dollar. Ab November 1896 installieren weltweit Städte fast nur noch Wechselstromanlagen. Nikola Tesla steht kurz davor, einer der reichsten Männer der Welt zu werden: Denn laut Lizenzvertrag soll er für jeden verkauften Elektromotor, ja für alle Anwendungen der Wechselstrompatente Gebühren kassieren.\n",
      "\n",
      "Line 88 :  \n",
      "\n",
      "Line 89 :  Doch Geldgeber drängen Westinghouse dazu, den Vertrag zu ändern. Der Unternehmer macht Tesla deutlich, dass dessen Entschluss über das Schicksal der Firma entscheide. Tesla, der in Westinghouse einen Freund sieht, zerreißt seinen Vertrag und tauscht die Tantiemen für seine Patente gegen eine einmalige Pauschale von 216 000 Dollar ein.\n",
      "\n",
      "Line 90 :  \n",
      "\n",
      "Line 91 :  Damit verliert er nicht nur den Anspruch auf vermutlich zwölf Millionen Dollar bereits verdienter Honorare, sondern auch auf Milliarden, die in Zukunft angefallen wären.\n",
      "\n",
      "Line 92 :  \n",
      "\n",
      "Line 93 :  Doch nicht das Geld ist Tesla wichtig, sondern die Verbreitung seiner neuen Technik. Außerdem hat sich der Erfinder bereits in neue Aufgaben vertieft: Er hegt Visionen von einer Welt, in der alle Menschen unbegrenzt und kostenlos mit Energie versorgt werden. Stromnetze begreift Tesla nur als Zwischenstufe auf dem Weg zu einem kabellosen System, das Informationen und Energie über den ganzen Erdball senden soll.\n",
      "\n",
      "Line 94 :  \n",
      "\n",
      "Line 95 :  1898 entwickelt er die erste Fernbedienung. Im Jahr darauf gelingt es ihm, aus einem Labor in der Nähe von Colorado Springs Radiowellen über eine Entfernung von 1000 Kilometern zu übertragen. 1900 findet Tesla einen Financier für den Bau eines futuristischen Funkturms auf Long Island: Von dort möchte er unter anderem hochenergetische Wellen in die oberen Atmosphärenschichten schicken und deren Energie rund um den Globus verteilen.\n",
      "\n",
      "Line 96 :  \n",
      "\n",
      "Line 97 :  Als ein Investor abspringt, bricht Tesla zusammen\n",
      "\n",
      "Line 98 :  Doch kurz vor der Fertigstellung des ambitionierten Projekts springt der Investor ab: Wenn jedermann weltweit unkontrolliert die Energie aus Long Island anzapfen kann, womit würde sich dann noch Geld verdienen lassen?\n",
      "\n",
      "Line 99 :  \n",
      "\n",
      "Line 100 :  Tesla erleidet daraufhin einen Nervenzusammenbruch, von dem er sich nur langsam erholt. 1917 wird das Stahlgerüst des Turms gesprengt und für 1000 Dollar Schrottwert verkauft. Im selben Jahr soll dem Erfinder die angesehene Edison-Medaille verliehen werden. Tesla lehnt zunächst ab: Nicht ihn würde die Auszeichnung ehren, sondern Edison.\n",
      "\n",
      "Line 101 :  \n",
      "\n",
      "Line 102 :  Bernard Arthur Behrend, der Jury-Präsident, überredet ihn schließlich, die Medaille doch entgegenzunehmen.\n",
      "\n",
      "Line 103 :  \n",
      "\n",
      "Line 104 :  „Wollten wir all das, was aus Teslas Werk bisher entstanden ist, wieder aus der Industrie entfernen“, sagt Behrend in\n",
      "\n",
      "Line 105 :  \n",
      "\n",
      "Line 106 :  einer Laudatio, „würden ihre Räder nicht weiterlaufen, unsere elektrischen Wagen und Züge stillstehen, unsere Städte wären dunkel und unsere Mühlen tot und nutzlos. Ja, so weittragend ist sein Werk, dass es zum Fundament unserer Industrie geworden ist.“\n",
      "\n",
      "Line 107 :  \n",
      "\n",
      "Line 108 :  Trotz des Ruhmes und seiner rund 700 Patente bleibt der Magier der Elektrizität finanziell erfolglos. Verarmt stirbt Nikola Tesla, der wohl selbstloseste Erfinder der Geschichte, am 7. Januar 1943 mit 86 Jahren in einem New Yorker Hotelzimmer.\n",
      "\n",
      "Line 109 :  \n",
      "\n"
     ]
    }
   ],
   "source": [
    "with open(example1,\"r\") as file1:\n",
    "    i = 0\n",
    "    for line in file1:\n",
    "        print(\"Line\", i, \": \", line)\n",
    "        i = i + 1"
   ]
  },
  {
   "cell_type": "code",
   "execution_count": 218,
   "metadata": {},
   "outputs": [],
   "source": [
    "with open(example1, \"r\") as file1:\n",
    "    file_as_list = file1.readlines()"
   ]
  },
  {
   "cell_type": "code",
   "execution_count": 220,
   "metadata": {},
   "outputs": [
    {
     "name": "stdout",
     "output_type": "stream",
     "text": [
      "Der Serbe Nikola Tesla war einer der genialsten Erfinder aller Zeiten, doch immer wieder ließ er sich um die Früchte seiner Arbeit bringen.\n",
      "\n"
     ]
    }
   ],
   "source": [
    "print(file_as_list[1])"
   ]
  },
  {
   "cell_type": "code",
   "execution_count": 228,
   "metadata": {},
   "outputs": [],
   "source": [
    "example2 = \"/Users/Dennis/Desktop/HOME/DataScience/JuypterNotebooks/test.txt\"\n",
    "with open(example2, \"w\") as file2:\n",
    "    file2.write(\"Dieser Text wurde durch die Programmiersprache Python kreiert\")    \n",
    "\n",
    "    "
   ]
  },
  {
   "cell_type": "code",
   "execution_count": 247,
   "metadata": {},
   "outputs": [
    {
     "name": "stdout",
     "output_type": "stream",
     "text": [
      "Dieser Text wurde durch die Programmiersprache Python kreiert\n"
     ]
    }
   ],
   "source": [
    "with open(example2, \"r\") as file2:\n",
    "    file2_content = file2.read()\n",
    "    print(file2_content)\n"
   ]
  },
  {
   "cell_type": "code",
   "execution_count": 248,
   "metadata": {},
   "outputs": [],
   "source": [
    "#writing elements from a list to a file"
   ]
  },
  {
   "cell_type": "code",
   "execution_count": 282,
   "metadata": {},
   "outputs": [],
   "source": [
    "lines = [\"This is line A\\n\", \"This is line B\\n\", \"This is line c\\n\"]\n",
    "with open(\"/Users/Dennis/Desktop/HOME/DataScience/JuypterNotebooks/test2.txt\" ,\"w\") as file3:\n",
    "    for line in lines:\n",
    "        file3.write(line)"
   ]
  },
  {
   "cell_type": "code",
   "execution_count": 267,
   "metadata": {},
   "outputs": [
    {
     "name": "stdout",
     "output_type": "stream",
     "text": [
      "0 This is line A\n",
      "\n",
      "1 This is line B\n",
      "\n",
      "2 This is line c\n",
      "\n"
     ]
    }
   ],
   "source": [
    "i = 0\n",
    "for line in lines:\n",
    "    print(i, line)\n",
    "    i = i + 1"
   ]
  },
  {
   "cell_type": "code",
   "execution_count": null,
   "metadata": {},
   "outputs": [],
   "source": [
    "#append string to file"
   ]
  },
  {
   "cell_type": "code",
   "execution_count": 283,
   "metadata": {},
   "outputs": [],
   "source": [
    "with open(\"/Users/Dennis/Desktop/HOME/DataScience/JuypterNotebooks/test2.txt\" ,\"a\") as file3:\n",
    "    file3.write(\"This text is appended with the flag \\\"a\\\" \")"
   ]
  },
  {
   "cell_type": "code",
   "execution_count": 273,
   "metadata": {},
   "outputs": [],
   "source": [
    "#copy file to a new file"
   ]
  },
  {
   "cell_type": "code",
   "execution_count": 288,
   "metadata": {},
   "outputs": [],
   "source": [
    "example3 = \"/Users/Dennis/Desktop/HOME/DataScience/JuypterNotebooks/Nikola_Tesla_copy.txt\"\n",
    "with open(example1,\"r\") as file1:\n",
    "    with open(example3, \"w\") as file4 :\n",
    "        for line in file1:\n",
    "            file4.write(line)"
   ]
  },
  {
   "cell_type": "code",
   "execution_count": 289,
   "metadata": {},
   "outputs": [],
   "source": [
    "with open(\"/Users/Dennis/Desktop/HOME/DataScience/JuypterNotebooks/test2.txt\", \"r\") as readfile:\n",
    "    with open(\"/Users/Dennis/Desktop/HOME/DataScience/JuypterNotebooks/test3.txt\",\"w\") as writefile:\n",
    "        for i in readfile:\n",
    "            writefile.write(i)"
   ]
  },
  {
   "cell_type": "markdown",
   "metadata": {},
   "source": [
    "# PANDAS"
   ]
  },
  {
   "cell_type": "code",
   "execution_count": 11,
   "metadata": {},
   "outputs": [
    {
     "data": {
      "text/html": [
       "<div>\n",
       "<style scoped>\n",
       "    .dataframe tbody tr th:only-of-type {\n",
       "        vertical-align: middle;\n",
       "    }\n",
       "\n",
       "    .dataframe tbody tr th {\n",
       "        vertical-align: top;\n",
       "    }\n",
       "\n",
       "    .dataframe thead th {\n",
       "        text-align: right;\n",
       "    }\n",
       "</style>\n",
       "<table border=\"1\" class=\"dataframe\">\n",
       "  <thead>\n",
       "    <tr style=\"text-align: right;\">\n",
       "      <th></th>\n",
       "      <th>Album</th>\n",
       "      <th>Released:</th>\n",
       "      <th>Length</th>\n",
       "    </tr>\n",
       "  </thead>\n",
       "  <tbody>\n",
       "    <tr>\n",
       "      <th>0</th>\n",
       "      <td>Thriller</td>\n",
       "      <td>1982</td>\n",
       "      <td>00:42:19</td>\n",
       "    </tr>\n",
       "    <tr>\n",
       "      <th>1</th>\n",
       "      <td>Black in Black</td>\n",
       "      <td>1980</td>\n",
       "      <td>00:42:11</td>\n",
       "    </tr>\n",
       "    <tr>\n",
       "      <th>2</th>\n",
       "      <td>The Dark Side of the Moon</td>\n",
       "      <td>1973</td>\n",
       "      <td>00:42:49</td>\n",
       "    </tr>\n",
       "    <tr>\n",
       "      <th>3</th>\n",
       "      <td>The Bodyguard</td>\n",
       "      <td>1992</td>\n",
       "      <td>00:57:44</td>\n",
       "    </tr>\n",
       "    <tr>\n",
       "      <th>4</th>\n",
       "      <td>Bat out of hell</td>\n",
       "      <td>1977</td>\n",
       "      <td>00:46:33</td>\n",
       "    </tr>\n",
       "  </tbody>\n",
       "</table>\n",
       "</div>"
      ],
      "text/plain": [
       "                       Album  Released:    Length\n",
       "0                   Thriller       1982  00:42:19\n",
       "1             Black in Black       1980  00:42:11\n",
       "2  The Dark Side of the Moon       1973  00:42:49\n",
       "3              The Bodyguard       1992  00:57:44\n",
       "4            Bat out of hell       1977  00:46:33"
      ]
     },
     "execution_count": 11,
     "metadata": {},
     "output_type": "execute_result"
    }
   ],
   "source": [
    "import pandas as pd\n",
    "csv_path = \"/Users/Dennis/Desktop/HOME/DataScience/JuypterNotebooks/recipes.csv\"\n",
    "df = pd.read_csv(csv_path)\n",
    "df.head()\n"
   ]
  },
  {
   "cell_type": "code",
   "execution_count": 13,
   "metadata": {},
   "outputs": [],
   "source": [
    "#from dictionary to Pandas DataFrame"
   ]
  },
  {
   "cell_type": "code",
   "execution_count": 14,
   "metadata": {},
   "outputs": [
    {
     "data": {
      "text/html": [
       "<div>\n",
       "<style scoped>\n",
       "    .dataframe tbody tr th:only-of-type {\n",
       "        vertical-align: middle;\n",
       "    }\n",
       "\n",
       "    .dataframe tbody tr th {\n",
       "        vertical-align: top;\n",
       "    }\n",
       "\n",
       "    .dataframe thead th {\n",
       "        text-align: right;\n",
       "    }\n",
       "</style>\n",
       "<table border=\"1\" class=\"dataframe\">\n",
       "  <thead>\n",
       "    <tr style=\"text-align: right;\">\n",
       "      <th></th>\n",
       "      <th>Album</th>\n",
       "      <th>Released</th>\n",
       "      <th>Length</th>\n",
       "    </tr>\n",
       "  </thead>\n",
       "  <tbody>\n",
       "    <tr>\n",
       "      <th>0</th>\n",
       "      <td>Thriller</td>\n",
       "      <td>1982</td>\n",
       "      <td>00:42:19</td>\n",
       "    </tr>\n",
       "    <tr>\n",
       "      <th>1</th>\n",
       "      <td>Black in Black</td>\n",
       "      <td>1980</td>\n",
       "      <td>00:42:11</td>\n",
       "    </tr>\n",
       "    <tr>\n",
       "      <th>2</th>\n",
       "      <td>The Dark Side of the Moon</td>\n",
       "      <td>1973</td>\n",
       "      <td>00:42:49</td>\n",
       "    </tr>\n",
       "    <tr>\n",
       "      <th>3</th>\n",
       "      <td>The Bodyguard</td>\n",
       "      <td>1992</td>\n",
       "      <td>00:57:44</td>\n",
       "    </tr>\n",
       "    <tr>\n",
       "      <th>4</th>\n",
       "      <td>Bat out of hell</td>\n",
       "      <td>1977</td>\n",
       "      <td>00:46:33</td>\n",
       "    </tr>\n",
       "  </tbody>\n",
       "</table>\n",
       "</div>"
      ],
      "text/plain": [
       "                       Album  Released    Length\n",
       "0                   Thriller      1982  00:42:19\n",
       "1             Black in Black      1980  00:42:11\n",
       "2  The Dark Side of the Moon      1973  00:42:49\n",
       "3              The Bodyguard      1992  00:57:44\n",
       "4            Bat out of hell      1977  00:46:33"
      ]
     },
     "execution_count": 14,
     "metadata": {},
     "output_type": "execute_result"
    }
   ],
   "source": [
    "songs = {\"Album\":[\"Thriller\", \"Black in Black\", \"The Dark Side of the Moon\",\"The Bodyguard\",\"Bat out of hell\"], \"Released\":[1982,1980,1973,1992,1977],\"Length\":[\"00:42:19\", \"00:42:11\",\"00:42:49\",\"00:57:44\",\"00:46:33\"]}\n",
    "songs_frame = pd.DataFrame(songs)\n",
    "songs_frame.head()"
   ]
  },
  {
   "cell_type": "code",
   "execution_count": 36,
   "metadata": {},
   "outputs": [],
   "source": [
    "#make new dataframe out of one column from the previous dataframe"
   ]
  },
  {
   "cell_type": "code",
   "execution_count": 88,
   "metadata": {},
   "outputs": [
    {
     "data": {
      "text/html": [
       "<div>\n",
       "<style scoped>\n",
       "    .dataframe tbody tr th:only-of-type {\n",
       "        vertical-align: middle;\n",
       "    }\n",
       "\n",
       "    .dataframe tbody tr th {\n",
       "        vertical-align: top;\n",
       "    }\n",
       "\n",
       "    .dataframe thead th {\n",
       "        text-align: right;\n",
       "    }\n",
       "</style>\n",
       "<table border=\"1\" class=\"dataframe\">\n",
       "  <thead>\n",
       "    <tr style=\"text-align: right;\">\n",
       "      <th></th>\n",
       "      <th>Length</th>\n",
       "    </tr>\n",
       "  </thead>\n",
       "  <tbody>\n",
       "    <tr>\n",
       "      <th>0</th>\n",
       "      <td>00:42:19</td>\n",
       "    </tr>\n",
       "    <tr>\n",
       "      <th>1</th>\n",
       "      <td>00:42:11</td>\n",
       "    </tr>\n",
       "    <tr>\n",
       "      <th>2</th>\n",
       "      <td>00:42:49</td>\n",
       "    </tr>\n",
       "    <tr>\n",
       "      <th>3</th>\n",
       "      <td>00:57:44</td>\n",
       "    </tr>\n",
       "    <tr>\n",
       "      <th>4</th>\n",
       "      <td>00:46:33</td>\n",
       "    </tr>\n",
       "  </tbody>\n",
       "</table>\n",
       "</div>"
      ],
      "text/plain": [
       "     Length\n",
       "0  00:42:19\n",
       "1  00:42:11\n",
       "2  00:42:49\n",
       "3  00:57:44\n",
       "4  00:46:33"
      ]
     },
     "execution_count": 88,
     "metadata": {},
     "output_type": "execute_result"
    }
   ],
   "source": [
    "length_df = songs_frame[[\"Length\"]]\n",
    "length_df.head()"
   ]
  },
  {
   "cell_type": "code",
   "execution_count": 29,
   "metadata": {},
   "outputs": [
    {
     "name": "stdout",
     "output_type": "stream",
     "text": [
      "1977\n"
     ]
    }
   ],
   "source": [
    "release_year_batoutofhell = songs_frame.iloc[4,1]\n",
    "print(release_year_batoutofhell)"
   ]
  },
  {
   "cell_type": "code",
   "execution_count": 31,
   "metadata": {},
   "outputs": [
    {
     "data": {
      "text/plain": [
       "'00:42:49'"
      ]
     },
     "execution_count": 31,
     "metadata": {},
     "output_type": "execute_result"
    }
   ],
   "source": [
    "songs_frame.iloc[2,2]"
   ]
  },
  {
   "cell_type": "code",
   "execution_count": 37,
   "metadata": {},
   "outputs": [
    {
     "data": {
      "text/plain": [
       "'00:42:19'"
      ]
     },
     "execution_count": 37,
     "metadata": {},
     "output_type": "execute_result"
    }
   ],
   "source": [
    "songs_frame.loc[0,\"Length\"]"
   ]
  },
  {
   "cell_type": "code",
   "execution_count": 38,
   "metadata": {},
   "outputs": [],
   "source": [
    "#slice out values and make new dataframe"
   ]
  },
  {
   "cell_type": "code",
   "execution_count": 41,
   "metadata": {},
   "outputs": [
    {
     "name": "stdout",
     "output_type": "stream",
     "text": [
      "            Album  Released    Length\n",
      "0        Thriller      1982  00:42:19\n",
      "1  Black in Black      1980  00:42:11\n"
     ]
    },
    {
     "data": {
      "text/html": [
       "<div>\n",
       "<style scoped>\n",
       "    .dataframe tbody tr th:only-of-type {\n",
       "        vertical-align: middle;\n",
       "    }\n",
       "\n",
       "    .dataframe tbody tr th {\n",
       "        vertical-align: top;\n",
       "    }\n",
       "\n",
       "    .dataframe thead th {\n",
       "        text-align: right;\n",
       "    }\n",
       "</style>\n",
       "<table border=\"1\" class=\"dataframe\">\n",
       "  <thead>\n",
       "    <tr style=\"text-align: right;\">\n",
       "      <th></th>\n",
       "      <th>Album</th>\n",
       "      <th>Released</th>\n",
       "      <th>Length</th>\n",
       "    </tr>\n",
       "  </thead>\n",
       "  <tbody>\n",
       "    <tr>\n",
       "      <th>0</th>\n",
       "      <td>Thriller</td>\n",
       "      <td>1982</td>\n",
       "      <td>00:42:19</td>\n",
       "    </tr>\n",
       "    <tr>\n",
       "      <th>1</th>\n",
       "      <td>Black in Black</td>\n",
       "      <td>1980</td>\n",
       "      <td>00:42:11</td>\n",
       "    </tr>\n",
       "  </tbody>\n",
       "</table>\n",
       "</div>"
      ],
      "text/plain": [
       "            Album  Released    Length\n",
       "0        Thriller      1982  00:42:19\n",
       "1  Black in Black      1980  00:42:11"
      ]
     },
     "execution_count": 41,
     "metadata": {},
     "output_type": "execute_result"
    }
   ],
   "source": [
    "new_dataframe = songs_frame.iloc[0:2, 0:3]\n",
    "print(new_dataframe)\n",
    "new_dataframe.head()"
   ]
  },
  {
   "cell_type": "code",
   "execution_count": 43,
   "metadata": {},
   "outputs": [
    {
     "data": {
      "text/html": [
       "<div>\n",
       "<style scoped>\n",
       "    .dataframe tbody tr th:only-of-type {\n",
       "        vertical-align: middle;\n",
       "    }\n",
       "\n",
       "    .dataframe tbody tr th {\n",
       "        vertical-align: top;\n",
       "    }\n",
       "\n",
       "    .dataframe thead th {\n",
       "        text-align: right;\n",
       "    }\n",
       "</style>\n",
       "<table border=\"1\" class=\"dataframe\">\n",
       "  <thead>\n",
       "    <tr style=\"text-align: right;\">\n",
       "      <th></th>\n",
       "      <th>Album</th>\n",
       "      <th>Released</th>\n",
       "      <th>Length</th>\n",
       "    </tr>\n",
       "  </thead>\n",
       "  <tbody>\n",
       "    <tr>\n",
       "      <th>0</th>\n",
       "      <td>Thriller</td>\n",
       "      <td>1982</td>\n",
       "      <td>00:42:19</td>\n",
       "    </tr>\n",
       "    <tr>\n",
       "      <th>1</th>\n",
       "      <td>Black in Black</td>\n",
       "      <td>1980</td>\n",
       "      <td>00:42:11</td>\n",
       "    </tr>\n",
       "    <tr>\n",
       "      <th>2</th>\n",
       "      <td>The Dark Side of the Moon</td>\n",
       "      <td>1973</td>\n",
       "      <td>00:42:49</td>\n",
       "    </tr>\n",
       "  </tbody>\n",
       "</table>\n",
       "</div>"
      ],
      "text/plain": [
       "                       Album  Released    Length\n",
       "0                   Thriller      1982  00:42:19\n",
       "1             Black in Black      1980  00:42:11\n",
       "2  The Dark Side of the Moon      1973  00:42:49"
      ]
     },
     "execution_count": 43,
     "metadata": {},
     "output_type": "execute_result"
    }
   ],
   "source": [
    "new_dataframe2 = songs_frame.loc[0:2,\"Album\":\"Length\"]\n",
    "new_dataframe2.head()"
   ]
  },
  {
   "cell_type": "code",
   "execution_count": 44,
   "metadata": {},
   "outputs": [],
   "source": [
    "#working and saving data"
   ]
  },
  {
   "cell_type": "code",
   "execution_count": 52,
   "metadata": {},
   "outputs": [
    {
     "name": "stdout",
     "output_type": "stream",
     "text": [
      "[1982 1980 1973 1992 1977]\n"
     ]
    }
   ],
   "source": [
    "x = songs_frame[\"Released\"].unique()\n",
    "print(x)"
   ]
  },
  {
   "cell_type": "code",
   "execution_count": 47,
   "metadata": {},
   "outputs": [
    {
     "data": {
      "text/plain": [
       "numpy.ndarray"
      ]
     },
     "execution_count": 47,
     "metadata": {},
     "output_type": "execute_result"
    }
   ],
   "source": [
    "type(x)"
   ]
  },
  {
   "cell_type": "code",
   "execution_count": 77,
   "metadata": {},
   "outputs": [],
   "source": [
    "if songs_frame[songs_frame[\"Released\"]>=1980] is True:\n",
    "    older_albums = songs_frame[songs_frame[\"Released\"]>=1980]\n"
   ]
  },
  {
   "cell_type": "code",
   "execution_count": null,
   "metadata": {},
   "outputs": [],
   "source": []
  },
  {
   "cell_type": "code",
   "execution_count": 78,
   "metadata": {},
   "outputs": [
    {
     "data": {
      "text/html": [
       "<div>\n",
       "<style scoped>\n",
       "    .dataframe tbody tr th:only-of-type {\n",
       "        vertical-align: middle;\n",
       "    }\n",
       "\n",
       "    .dataframe tbody tr th {\n",
       "        vertical-align: top;\n",
       "    }\n",
       "\n",
       "    .dataframe thead th {\n",
       "        text-align: right;\n",
       "    }\n",
       "</style>\n",
       "<table border=\"1\" class=\"dataframe\">\n",
       "  <thead>\n",
       "    <tr style=\"text-align: right;\">\n",
       "      <th></th>\n",
       "      <th>Album</th>\n",
       "      <th>Released</th>\n",
       "      <th>Length</th>\n",
       "    </tr>\n",
       "  </thead>\n",
       "  <tbody>\n",
       "    <tr>\n",
       "      <th>0</th>\n",
       "      <td>Thriller</td>\n",
       "      <td>1982</td>\n",
       "      <td>00:42:19</td>\n",
       "    </tr>\n",
       "    <tr>\n",
       "      <th>3</th>\n",
       "      <td>The Bodyguard</td>\n",
       "      <td>1992</td>\n",
       "      <td>00:57:44</td>\n",
       "    </tr>\n",
       "  </tbody>\n",
       "</table>\n",
       "</div>"
      ],
      "text/plain": [
       "           Album  Released    Length\n",
       "0       Thriller      1982  00:42:19\n",
       "3  The Bodyguard      1992  00:57:44"
      ]
     },
     "execution_count": 78,
     "metadata": {},
     "output_type": "execute_result"
    }
   ],
   "source": [
    "older_albums = songs_frame[songs_frame[\"Released\"]>1980]\n",
    "older_albums.head()"
   ]
  },
  {
   "cell_type": "code",
   "execution_count": 79,
   "metadata": {},
   "outputs": [],
   "source": [
    "#save new dataframe as csv file"
   ]
  },
  {
   "cell_type": "code",
   "execution_count": 82,
   "metadata": {},
   "outputs": [],
   "source": [
    "#older_albums.to_csv(\"/Users/Dennis/Desktop/HOME/DataScience/older_albums.csv\")\n",
    "older_albums.to_csv(\"older_albums.csv\") #current directory\n"
   ]
  },
  {
   "cell_type": "code",
   "execution_count": 85,
   "metadata": {},
   "outputs": [
    {
     "name": "stdout",
     "output_type": "stream",
     "text": [
      "     Length\n",
      "0  00:42:19\n",
      "3  00:57:44\n"
     ]
    }
   ],
   "source": [
    "print(older_albums[[\"Length\"]])"
   ]
  },
  {
   "cell_type": "code",
   "execution_count": 86,
   "metadata": {},
   "outputs": [
    {
     "name": "stdout",
     "output_type": "stream",
     "text": [
      "0    00:42:19\n",
      "3    00:57:44\n",
      "Name: Length, dtype: object\n"
     ]
    }
   ],
   "source": [
    "print(older_albums[\"Length\"])"
   ]
  },
  {
   "cell_type": "code",
   "execution_count": 89,
   "metadata": {},
   "outputs": [],
   "source": [
    "a = [\"0\",1,\"two\",\"3\",4]"
   ]
  },
  {
   "cell_type": "code",
   "execution_count": 90,
   "metadata": {},
   "outputs": [],
   "source": [
    "import numpy as np"
   ]
  },
  {
   "cell_type": "code",
   "execution_count": 95,
   "metadata": {},
   "outputs": [
    {
     "data": {
      "text/plain": [
       "numpy.ndarray"
      ]
     },
     "execution_count": 95,
     "metadata": {},
     "output_type": "execute_result"
    }
   ],
   "source": [
    "np_array = np.array([0,1,2,3,4])\n",
    "type(np_array)\n"
   ]
  },
  {
   "cell_type": "code",
   "execution_count": 96,
   "metadata": {},
   "outputs": [
    {
     "data": {
      "text/plain": [
       "dtype('int64')"
      ]
     },
     "execution_count": 96,
     "metadata": {},
     "output_type": "execute_result"
    }
   ],
   "source": [
    "np_array.dtype"
   ]
  },
  {
   "cell_type": "code",
   "execution_count": 98,
   "metadata": {},
   "outputs": [
    {
     "data": {
      "text/plain": [
       "5"
      ]
     },
     "execution_count": 98,
     "metadata": {},
     "output_type": "execute_result"
    }
   ],
   "source": [
    "np_array.size"
   ]
  },
  {
   "cell_type": "code",
   "execution_count": 99,
   "metadata": {},
   "outputs": [
    {
     "data": {
      "text/plain": [
       "1"
      ]
     },
     "execution_count": 99,
     "metadata": {},
     "output_type": "execute_result"
    }
   ],
   "source": [
    "np_array.ndim"
   ]
  },
  {
   "cell_type": "code",
   "execution_count": 100,
   "metadata": {},
   "outputs": [
    {
     "data": {
      "text/plain": [
       "(5,)"
      ]
     },
     "execution_count": 100,
     "metadata": {},
     "output_type": "execute_result"
    }
   ],
   "source": [
    "np_array.shape"
   ]
  },
  {
   "cell_type": "code",
   "execution_count": 107,
   "metadata": {},
   "outputs": [
    {
     "data": {
      "text/plain": [
       "array([27,  1,  2,  3,  4])"
      ]
     },
     "execution_count": 107,
     "metadata": {},
     "output_type": "execute_result"
    }
   ],
   "source": [
    "np_array2 = np.array([20,1,2,3,4])\n",
    "np_array2[0] = 27\n",
    "np_array2"
   ]
  },
  {
   "cell_type": "code",
   "execution_count": 108,
   "metadata": {},
   "outputs": [],
   "source": [
    "#slice"
   ]
  },
  {
   "cell_type": "code",
   "execution_count": 110,
   "metadata": {},
   "outputs": [
    {
     "data": {
      "text/plain": [
       "array([1, 2, 3])"
      ]
     },
     "execution_count": 110,
     "metadata": {},
     "output_type": "execute_result"
    }
   ],
   "source": [
    "np_array3 = np_array2[1:4]\n",
    "np_array3"
   ]
  },
  {
   "cell_type": "code",
   "execution_count": 111,
   "metadata": {},
   "outputs": [],
   "source": [
    "# vector addition with normal lists through loop"
   ]
  },
  {
   "cell_type": "code",
   "execution_count": 113,
   "metadata": {},
   "outputs": [],
   "source": [
    "u = [1,0]\n",
    "v = [0,1]\n",
    "z = []\n",
    "for n,m in zip(u,v):  #zip returns tuple\n",
    "    z.append(n+m)"
   ]
  },
  {
   "cell_type": "code",
   "execution_count": 114,
   "metadata": {},
   "outputs": [
    {
     "data": {
      "text/plain": [
       "[1, 1]"
      ]
     },
     "execution_count": 114,
     "metadata": {},
     "output_type": "execute_result"
    }
   ],
   "source": [
    "z"
   ]
  },
  {
   "cell_type": "code",
   "execution_count": 115,
   "metadata": {},
   "outputs": [
    {
     "data": {
      "text/plain": [
       "list"
      ]
     },
     "execution_count": 115,
     "metadata": {},
     "output_type": "execute_result"
    }
   ],
   "source": [
    "type(z)"
   ]
  },
  {
   "cell_type": "code",
   "execution_count": 119,
   "metadata": {},
   "outputs": [
    {
     "data": {
      "text/plain": [
       "zip"
      ]
     },
     "execution_count": 119,
     "metadata": {},
     "output_type": "execute_result"
    }
   ],
   "source": [
    "zip_tuple = zip(u,v)\n"
   ]
  },
  {
   "cell_type": "code",
   "execution_count": 123,
   "metadata": {},
   "outputs": [],
   "source": [
    "#vector addition with numpy arrays (much faster)"
   ]
  },
  {
   "cell_type": "code",
   "execution_count": 127,
   "metadata": {},
   "outputs": [
    {
     "data": {
      "text/plain": [
       "array([1, 1])"
      ]
     },
     "execution_count": 127,
     "metadata": {},
     "output_type": "execute_result"
    }
   ],
   "source": [
    "a = np.array([1,0])\n",
    "b = np.array([0,1])\n",
    "c = a + b\n",
    "c"
   ]
  },
  {
   "cell_type": "code",
   "execution_count": 126,
   "metadata": {},
   "outputs": [
    {
     "data": {
      "text/plain": [
       "array([ 1, -1])"
      ]
     },
     "execution_count": 126,
     "metadata": {},
     "output_type": "execute_result"
    }
   ],
   "source": [
    "d = a - b\n",
    "d"
   ]
  },
  {
   "cell_type": "code",
   "execution_count": 128,
   "metadata": {},
   "outputs": [],
   "source": [
    "#vector multiplication ndarray"
   ]
  },
  {
   "cell_type": "code",
   "execution_count": 129,
   "metadata": {},
   "outputs": [
    {
     "data": {
      "text/plain": [
       "array([2, 4])"
      ]
     },
     "execution_count": 129,
     "metadata": {},
     "output_type": "execute_result"
    }
   ],
   "source": [
    "e = np.array([1,2])\n",
    "f = 2*e\n",
    "f"
   ]
  },
  {
   "cell_type": "code",
   "execution_count": 130,
   "metadata": {},
   "outputs": [],
   "source": [
    "#vector multiplication list"
   ]
  },
  {
   "cell_type": "code",
   "execution_count": 131,
   "metadata": {},
   "outputs": [
    {
     "data": {
      "text/plain": [
       "[2, 4]"
      ]
     },
     "execution_count": 131,
     "metadata": {},
     "output_type": "execute_result"
    }
   ],
   "source": [
    "h = [1,2]\n",
    "z = []\n",
    "for n in h:\n",
    "    z.append(2*n)\n",
    "z"
   ]
  },
  {
   "cell_type": "code",
   "execution_count": 132,
   "metadata": {},
   "outputs": [],
   "source": [
    "#dot product"
   ]
  },
  {
   "cell_type": "code",
   "execution_count": 137,
   "metadata": {},
   "outputs": [
    {
     "data": {
      "text/plain": [
       "12"
      ]
     },
     "execution_count": 137,
     "metadata": {},
     "output_type": "execute_result"
    }
   ],
   "source": [
    "vector1 = np.array([3,3])\n",
    "vector2= np.array([2,2])\n",
    "dot_product = np.dot(vector1,vector2)\n",
    "dot_product"
   ]
  },
  {
   "cell_type": "code",
   "execution_count": 138,
   "metadata": {},
   "outputs": [
    {
     "data": {
      "text/plain": [
       "numpy.int64"
      ]
     },
     "execution_count": 138,
     "metadata": {},
     "output_type": "execute_result"
    }
   ],
   "source": [
    "type(dot_product)"
   ]
  },
  {
   "cell_type": "code",
   "execution_count": 139,
   "metadata": {},
   "outputs": [],
   "source": [
    "#broadcasting"
   ]
  },
  {
   "cell_type": "code",
   "execution_count": 142,
   "metadata": {},
   "outputs": [
    {
     "data": {
      "text/plain": [
       "array([2, 3, 4, 0])"
      ]
     },
     "execution_count": 142,
     "metadata": {},
     "output_type": "execute_result"
    }
   ],
   "source": [
    "q = np.array([1,2,3,-1])\n",
    "r = q + 1  #adds 1 to every element in ndarray\n",
    "r"
   ]
  },
  {
   "cell_type": "code",
   "execution_count": 143,
   "metadata": {},
   "outputs": [],
   "source": [
    "#universal function"
   ]
  },
  {
   "cell_type": "code",
   "execution_count": 145,
   "metadata": {},
   "outputs": [
    {
     "data": {
      "text/plain": [
       "1.25"
      ]
     },
     "execution_count": 145,
     "metadata": {},
     "output_type": "execute_result"
    }
   ],
   "source": [
    "mean_q = q.mean()\n",
    "mean_q"
   ]
  },
  {
   "cell_type": "code",
   "execution_count": 166,
   "metadata": {},
   "outputs": [
    {
     "data": {
      "text/plain": [
       "1.479019945774904"
      ]
     },
     "execution_count": 166,
     "metadata": {},
     "output_type": "execute_result"
    }
   ],
   "source": [
    "q.std()"
   ]
  },
  {
   "cell_type": "code",
   "execution_count": 147,
   "metadata": {},
   "outputs": [
    {
     "data": {
      "text/plain": [
       "3"
      ]
     },
     "execution_count": 147,
     "metadata": {},
     "output_type": "execute_result"
    }
   ],
   "source": [
    "max_q = q.max()\n",
    "max_q"
   ]
  },
  {
   "cell_type": "code",
   "execution_count": 149,
   "metadata": {},
   "outputs": [
    {
     "data": {
      "text/plain": [
       "-1"
      ]
     },
     "execution_count": 149,
     "metadata": {},
     "output_type": "execute_result"
    }
   ],
   "source": [
    "q.min()"
   ]
  },
  {
   "cell_type": "code",
   "execution_count": 150,
   "metadata": {},
   "outputs": [
    {
     "data": {
      "text/plain": [
       "3.141592653589793"
      ]
     },
     "execution_count": 150,
     "metadata": {},
     "output_type": "execute_result"
    }
   ],
   "source": [
    "np.pi"
   ]
  },
  {
   "cell_type": "code",
   "execution_count": 153,
   "metadata": {},
   "outputs": [
    {
     "data": {
      "text/plain": [
       "array([0.        , 1.57079633, 3.14159265])"
      ]
     },
     "execution_count": 153,
     "metadata": {},
     "output_type": "execute_result"
    }
   ],
   "source": [
    "x = np.array([0, np.pi/2, np.pi])\n",
    "x"
   ]
  },
  {
   "cell_type": "code",
   "execution_count": 156,
   "metadata": {},
   "outputs": [
    {
     "data": {
      "text/plain": [
       "array([0.0000000e+00, 1.0000000e+00, 1.2246468e-16])"
      ]
     },
     "execution_count": 156,
     "metadata": {},
     "output_type": "execute_result"
    }
   ],
   "source": [
    "y = np.sin(x)\n",
    "y"
   ]
  },
  {
   "cell_type": "code",
   "execution_count": 163,
   "metadata": {},
   "outputs": [
    {
     "data": {
      "text/plain": [
       "array([-2. , -1.5, -1. , -0.5,  0. ,  0.5,  1. ,  1.5,  2. ])"
      ]
     },
     "execution_count": 163,
     "metadata": {},
     "output_type": "execute_result"
    }
   ],
   "source": [
    "np.linspace(-2,2,num=9)"
   ]
  },
  {
   "cell_type": "code",
   "execution_count": 167,
   "metadata": {},
   "outputs": [
    {
     "data": {
      "text/plain": [
       "[<matplotlib.lines.Line2D at 0x119d47ef0>]"
      ]
     },
     "execution_count": 167,
     "metadata": {},
     "output_type": "execute_result"
    },
    {
     "data": {
      "image/png": "[encoded data removed]",
      "text/plain": [
       "<Figure size 432x288 with 1 Axes>"
      ]
     },
     "metadata": {
      "needs_background": "light"
     },
     "output_type": "display_data"
    }
   ],
   "source": [
    "x = np.linspace(0,2*np.pi,100)\n",
    "y = np.sin(x)\n",
    "import matplotlib.pyplot as plt\n",
    "%matplotlib inline\n",
    "plt.plot(x,y)"
   ]
  },
  {
   "cell_type": "code",
   "execution_count": 168,
   "metadata": {},
   "outputs": [],
   "source": [
    "import time \n",
    "import sys\n",
    "import numpy as np \n",
    "\n",
    "import matplotlib.pyplot as plt\n",
    "%matplotlib inline  "
   ]
  },
  {
   "cell_type": "code",
   "execution_count": 169,
   "metadata": {},
   "outputs": [],
   "source": [
    "def Plotvec1(u, z, v):\n",
    "    \n",
    "    ax = plt.axes()\n",
    "    ax.arrow(0, 0, *u, head_width=0.05, color='r', head_length=0.1)\n",
    "    plt.text(*(u + 0.1), 'u')\n",
    "    \n",
    "    ax.arrow(0, 0, *v, head_width=0.05, color='b', head_length=0.1)\n",
    "    plt.text(*(v + 0.1), 'v')\n",
    "    ax.arrow(0, 0, *z, head_width=0.05, head_length=0.1)\n",
    "    plt.text(*(z + 0.1), 'z')\n",
    "    plt.ylim(-2, 2)\n",
    "    plt.xlim(-2, 2)\n",
    "\n",
    "def Plotvec2(a,b):\n",
    "    ax = plt.axes()\n",
    "    ax.arrow(0, 0, *a, head_width=0.05, color ='r', head_length=0.1)\n",
    "    plt.text(*(a + 0.1), 'a')\n",
    "    ax.arrow(0, 0, *b, head_width=0.05, color ='b', head_length=0.1)\n",
    "    plt.text(*(b + 0.1), 'b')\n",
    "    plt.ylim(-2, 2)\n",
    "    plt.xlim(-2, 2)"
   ]
  },
  {
   "cell_type": "code",
   "execution_count": 174,
   "metadata": {},
   "outputs": [
    {
     "ename": "TypeError",
     "evalue": "arrow() argument after * must be an iterable, not int",
     "output_type": "error",
     "traceback": [
      "\u001b[0;31m---------------------------------------------------------------------------\u001b[0m",
      "\u001b[0;31mTypeError\u001b[0m                                 Traceback (most recent call last)",
      "\u001b[0;32m<ipython-input-174-7818ae993a3f>\u001b[0m in \u001b[0;36m<module>\u001b[0;34m\u001b[0m\n\u001b[0;32m----> 1\u001b[0;31m \u001b[0mPlotvec2\u001b[0m\u001b[0;34m(\u001b[0m\u001b[0;36m3\u001b[0m\u001b[0;34m,\u001b[0m\u001b[0;36m3\u001b[0m\u001b[0;34m)\u001b[0m\u001b[0;34m\u001b[0m\u001b[0;34m\u001b[0m\u001b[0m\n\u001b[0m",
      "\u001b[0;32m<ipython-input-169-1b841ca97b8c>\u001b[0m in \u001b[0;36mPlotvec2\u001b[0;34m(a, b)\u001b[0m\n\u001b[1;32m     14\u001b[0m \u001b[0;32mdef\u001b[0m \u001b[0mPlotvec2\u001b[0m\u001b[0;34m(\u001b[0m\u001b[0ma\u001b[0m\u001b[0;34m,\u001b[0m\u001b[0mb\u001b[0m\u001b[0;34m)\u001b[0m\u001b[0;34m:\u001b[0m\u001b[0;34m\u001b[0m\u001b[0;34m\u001b[0m\u001b[0m\n\u001b[1;32m     15\u001b[0m     \u001b[0max\u001b[0m \u001b[0;34m=\u001b[0m \u001b[0mplt\u001b[0m\u001b[0;34m.\u001b[0m\u001b[0maxes\u001b[0m\u001b[0;34m(\u001b[0m\u001b[0;34m)\u001b[0m\u001b[0;34m\u001b[0m\u001b[0;34m\u001b[0m\u001b[0m\n\u001b[0;32m---> 16\u001b[0;31m     \u001b[0max\u001b[0m\u001b[0;34m.\u001b[0m\u001b[0marrow\u001b[0m\u001b[0;34m(\u001b[0m\u001b[0;36m0\u001b[0m\u001b[0;34m,\u001b[0m \u001b[0;36m0\u001b[0m\u001b[0;34m,\u001b[0m \u001b[0;34m*\u001b[0m\u001b[0ma\u001b[0m\u001b[0;34m,\u001b[0m \u001b[0mhead_width\u001b[0m\u001b[0;34m=\u001b[0m\u001b[0;36m0.05\u001b[0m\u001b[0;34m,\u001b[0m \u001b[0mcolor\u001b[0m \u001b[0;34m=\u001b[0m\u001b[0;34m'r'\u001b[0m\u001b[0;34m,\u001b[0m \u001b[0mhead_length\u001b[0m\u001b[0;34m=\u001b[0m\u001b[0;36m0.1\u001b[0m\u001b[0;34m)\u001b[0m\u001b[0;34m\u001b[0m\u001b[0;34m\u001b[0m\u001b[0m\n\u001b[0m\u001b[1;32m     17\u001b[0m     \u001b[0mplt\u001b[0m\u001b[0;34m.\u001b[0m\u001b[0mtext\u001b[0m\u001b[0;34m(\u001b[0m\u001b[0;34m*\u001b[0m\u001b[0;34m(\u001b[0m\u001b[0ma\u001b[0m \u001b[0;34m+\u001b[0m \u001b[0;36m0.1\u001b[0m\u001b[0;34m)\u001b[0m\u001b[0;34m,\u001b[0m \u001b[0;34m'a'\u001b[0m\u001b[0;34m)\u001b[0m\u001b[0;34m\u001b[0m\u001b[0;34m\u001b[0m\u001b[0m\n\u001b[1;32m     18\u001b[0m     \u001b[0max\u001b[0m\u001b[0;34m.\u001b[0m\u001b[0marrow\u001b[0m\u001b[0;34m(\u001b[0m\u001b[0;36m0\u001b[0m\u001b[0;34m,\u001b[0m \u001b[0;36m0\u001b[0m\u001b[0;34m,\u001b[0m \u001b[0;34m*\u001b[0m\u001b[0mb\u001b[0m\u001b[0;34m,\u001b[0m \u001b[0mhead_width\u001b[0m\u001b[0;34m=\u001b[0m\u001b[0;36m0.05\u001b[0m\u001b[0;34m,\u001b[0m \u001b[0mcolor\u001b[0m \u001b[0;34m=\u001b[0m\u001b[0;34m'b'\u001b[0m\u001b[0;34m,\u001b[0m \u001b[0mhead_length\u001b[0m\u001b[0;34m=\u001b[0m\u001b[0;36m0.1\u001b[0m\u001b[0;34m)\u001b[0m\u001b[0;34m\u001b[0m\u001b[0;34m\u001b[0m\u001b[0m\n",
      "\u001b[0;31mTypeError\u001b[0m: arrow() argument after * must be an iterable, not int"
     ]
    },
    {
     "data": {
      "image/png": "[encoded data removed]",
      "text/plain": [
       "<Figure size 432x288 with 1 Axes>"
      ]
     },
     "metadata": {
      "needs_background": "light"
     },
     "output_type": "display_data"
    }
   ],
   "source": [
    "Plotvec2(3,3)"
   ]
  },
  {
   "cell_type": "markdown",
   "metadata": {},
   "source": [
    "# 2 dimensional arrays"
   ]
  },
  {
   "cell_type": "code",
   "execution_count": 193,
   "metadata": {},
   "outputs": [],
   "source": [
    "a = [[11,12,13],[21,22,23],[31,32,33]]"
   ]
  },
  {
   "cell_type": "code",
   "execution_count": 194,
   "metadata": {},
   "outputs": [],
   "source": [
    "A = np.array(a)"
   ]
  },
  {
   "cell_type": "code",
   "execution_count": 195,
   "metadata": {},
   "outputs": [
    {
     "data": {
      "text/plain": [
       "2"
      ]
     },
     "execution_count": 195,
     "metadata": {},
     "output_type": "execute_result"
    }
   ],
   "source": [
    "A.ndim #number of nested lists"
   ]
  },
  {
   "cell_type": "code",
   "execution_count": 181,
   "metadata": {},
   "outputs": [
    {
     "data": {
      "text/plain": [
       "(3, 3)"
      ]
     },
     "execution_count": 181,
     "metadata": {},
     "output_type": "execute_result"
    }
   ],
   "source": [
    "A.shape # 3x3 Matrix"
   ]
  },
  {
   "cell_type": "code",
   "execution_count": 182,
   "metadata": {},
   "outputs": [
    {
     "data": {
      "text/plain": [
       "9"
      ]
     },
     "execution_count": 182,
     "metadata": {},
     "output_type": "execute_result"
    }
   ],
   "source": [
    "A.size # 3 * 3 = 9 Elements"
   ]
  },
  {
   "cell_type": "code",
   "execution_count": 183,
   "metadata": {},
   "outputs": [
    {
     "data": {
      "text/plain": [
       "22"
      ]
     },
     "execution_count": 183,
     "metadata": {},
     "output_type": "execute_result"
    }
   ],
   "source": [
    "A[1][1]"
   ]
  },
  {
   "cell_type": "code",
   "execution_count": 196,
   "metadata": {},
   "outputs": [
    {
     "data": {
      "text/plain": [
       "32"
      ]
     },
     "execution_count": 196,
     "metadata": {},
     "output_type": "execute_result"
    }
   ],
   "source": [
    "A[2,1]"
   ]
  },
  {
   "cell_type": "code",
   "execution_count": 210,
   "metadata": {},
   "outputs": [
    {
     "data": {
      "text/plain": [
       "array([11, 21])"
      ]
     },
     "execution_count": 210,
     "metadata": {},
     "output_type": "execute_result"
    }
   ],
   "source": [
    "A[0,0:2]  #slicing first row, frist two elements 0th and 1st element"
   ]
  },
  {
   "cell_type": "code",
   "execution_count": null,
   "metadata": {},
   "outputs": [],
   "source": [
    "A[0:2,0] # slicing first elements first row and first elements second row"
   ]
  },
  {
   "cell_type": "code",
   "execution_count": 197,
   "metadata": {},
   "outputs": [],
   "source": [
    "S = np.array([[1,0],[0,1]])\n",
    "T = np.array([[2,1],[1,2]])"
   ]
  },
  {
   "cell_type": "code",
   "execution_count": 199,
   "metadata": {},
   "outputs": [
    {
     "data": {
      "text/plain": [
       "array([[3, 1],\n",
       "       [1, 3]])"
      ]
     },
     "execution_count": 199,
     "metadata": {},
     "output_type": "execute_result"
    }
   ],
   "source": [
    "S + T"
   ]
  },
  {
   "cell_type": "code",
   "execution_count": 201,
   "metadata": {},
   "outputs": [
    {
     "data": {
      "text/plain": [
       "array([[4, 2],\n",
       "       [2, 4]])"
      ]
     },
     "execution_count": 201,
     "metadata": {},
     "output_type": "execute_result"
    }
   ],
   "source": [
    "2*T #every elements gets multiplied by 2"
   ]
  },
  {
   "cell_type": "code",
   "execution_count": 202,
   "metadata": {},
   "outputs": [
    {
     "data": {
      "text/plain": [
       "array([[2, 0],\n",
       "       [0, 2]])"
      ]
     },
     "execution_count": 202,
     "metadata": {},
     "output_type": "execute_result"
    }
   ],
   "source": [
    "S * T"
   ]
  },
  {
   "cell_type": "code",
   "execution_count": 203,
   "metadata": {},
   "outputs": [],
   "source": [
    "# Matrice multiplication"
   ]
  },
  {
   "cell_type": "code",
   "execution_count": 204,
   "metadata": {},
   "outputs": [],
   "source": [
    "two_x_three = np.array([[0,1,1],[1,0,1]])\n",
    "three_x_two = np.array([[1,1],[1,1],[-1,1]])"
   ]
  },
  {
   "cell_type": "code",
   "execution_count": 205,
   "metadata": {},
   "outputs": [],
   "source": [
    "# rows of first matrice hast to be equal to columns of second matrice, dot product with row * column"
   ]
  },
  {
   "cell_type": "code",
   "execution_count": 1,
   "metadata": {},
   "outputs": [
    {
     "ename": "NameError",
     "evalue": "name 'np' is not defined",
     "output_type": "error",
     "traceback": [
      "\u001b[0;31m---------------------------------------------------------------------------\u001b[0m",
      "\u001b[0;31mNameError\u001b[0m                                 Traceback (most recent call last)",
      "\u001b[0;32m<ipython-input-1-02d6e35adc66>\u001b[0m in \u001b[0;36m<module>\u001b[0;34m\u001b[0m\n\u001b[0;32m----> 1\u001b[0;31m \u001b[0mtwo_x_two\u001b[0m \u001b[0;34m=\u001b[0m \u001b[0mnp\u001b[0m\u001b[0;34m.\u001b[0m\u001b[0mdot\u001b[0m\u001b[0;34m(\u001b[0m\u001b[0mtwo_x_three\u001b[0m\u001b[0;34m,\u001b[0m \u001b[0mthree_x_two\u001b[0m\u001b[0;34m)\u001b[0m\u001b[0;34m\u001b[0m\u001b[0;34m\u001b[0m\u001b[0m\n\u001b[0m\u001b[1;32m      2\u001b[0m \u001b[0mtwo_x_two\u001b[0m\u001b[0;34m\u001b[0m\u001b[0;34m\u001b[0m\u001b[0m\n",
      "\u001b[0;31mNameError\u001b[0m: name 'np' is not defined"
     ]
    }
   ],
   "source": [
    "two_x_two = np.dot(two_x_three, three_x_two)\n",
    "two_x_two"
   ]
  },
  {
   "cell_type": "markdown",
   "metadata": {},
   "source": [
    "# Web Crawling/Scraping"
   ]
  },
  {
   "cell_type": "code",
   "execution_count": 71,
   "metadata": {},
   "outputs": [],
   "source": [
    "import requests\n",
    "from lxml import html"
   ]
  },
  {
   "cell_type": "code",
   "execution_count": 72,
   "metadata": {},
   "outputs": [],
   "source": [
    "wikipedia_link='https://en.wikipedia.org/wiki/Special:Random'\n",
    "raw_random_wikipedia_page = requests.get(wikipedia_link)\n",
    "with open(\"random_wiki.txt\", \"w\") as wiki:\n",
    "    xml_content = str(raw_random_wikipedia_page.text)\n",
    "    result = wiki.write(xml_content)"
   ]
  },
  {
   "cell_type": "code",
   "execution_count": 36,
   "metadata": {},
   "outputs": [
    {
     "data": {
      "text/plain": [
       "bytes"
      ]
     },
     "execution_count": 36,
     "metadata": {},
     "output_type": "execute_result"
    }
   ],
   "source": [
    "type(raw_random_wikipedia_page.content)"
   ]
  },
  {
   "cell_type": "code",
   "execution_count": 90,
   "metadata": {},
   "outputs": [
    {
     "data": {
      "text/plain": [
       "'Donuts (album)'"
      ]
     },
     "execution_count": 90,
     "metadata": {},
     "output_type": "execute_result"
    }
   ],
   "source": [
    "tree = html.fromstring(raw_random_wikipedia_page.content)\n",
    "title = tree.xpath(\"//title/text()\")\n",
    "parsed = str(title[0])\n",
    "#band_title =  parsed.replace(\" - Wikipedia\", \"\")\n",
    "band_title =  parsed.strip(\" - Wikipedia\")\n",
    "\n",
    "band_title"
   ]
  },
  {
   "cell_type": "code",
   "execution_count": 82,
   "metadata": {},
   "outputs": [
    {
     "data": {
      "text/plain": [
       "list"
      ]
     },
     "execution_count": 82,
     "metadata": {},
     "output_type": "execute_result"
    }
   ],
   "source": [
    "type(title)"
   ]
  },
  {
   "cell_type": "code",
   "execution_count": null,
   "metadata": {},
   "outputs": [],
   "source": []
  }
 ],
 "metadata": {
  "kernelspec": {
   "display_name": "Python 3",
   "language": "python",
   "name": "python3"
  },
  "language_info": {
   "codemirror_mode": {
    "name": "ipython",
    "version": 3
   },
   "file_extension": ".py",
   "mimetype": "text/x-python",
   "name": "python",
   "nbconvert_exporter": "python",
   "pygments_lexer": "ipython3",
   "version": "3.7.1"
  }
 },
 "nbformat": 4,
 "nbformat_minor": 2
}
