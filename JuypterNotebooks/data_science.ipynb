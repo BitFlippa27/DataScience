{
 "cells": [
  {
   "cell_type": "markdown",
   "metadata": {},
   "source": [
    "# Tuples"
   ]
  },
  {
   "cell_type": "code",
   "execution_count": 3,
   "metadata": {},
   "outputs": [],
   "source": [
    "tuple1 = (\"hans\", 2, \"franz\")"
   ]
  },
  {
   "cell_type": "code",
   "execution_count": 5,
   "metadata": {},
   "outputs": [
    {
     "data": {
      "text/plain": [
       "('hans', 2, 'franz')"
      ]
     },
     "execution_count": 5,
     "metadata": {},
     "output_type": "execute_result"
    }
   ],
   "source": [
    "tuple1\n"
   ]
  },
  {
   "cell_type": "code",
   "execution_count": 8,
   "metadata": {},
   "outputs": [
    {
     "data": {
      "text/plain": [
       "'hans'"
      ]
     },
     "execution_count": 8,
     "metadata": {},
     "output_type": "execute_result"
    }
   ],
   "source": [
    "tuple1[0]"
   ]
  },
  {
   "cell_type": "code",
   "execution_count": 10,
   "metadata": {},
   "outputs": [
    {
     "name": "stdout",
     "output_type": "stream",
     "text": [
      "look: franz\n"
     ]
    }
   ],
   "source": [
    "print(\"look:\", tuple1[-1])"
   ]
  },
  {
   "cell_type": "code",
   "execution_count": 11,
   "metadata": {},
   "outputs": [],
   "source": [
    "tuple2 = (3, \"richard\",27, \"machine learning\")"
   ]
  },
  {
   "cell_type": "code",
   "execution_count": 13,
   "metadata": {},
   "outputs": [
    {
     "data": {
      "text/plain": [
       "('hans', 2, 'franz', 3, 'richard', 27, 'machine learning')"
      ]
     },
     "execution_count": 13,
     "metadata": {},
     "output_type": "execute_result"
    }
   ],
   "source": [
    "tuple1 + tuple2"
   ]
  },
  {
   "cell_type": "code",
   "execution_count": 14,
   "metadata": {},
   "outputs": [],
   "source": [
    "tuple2 = tuple1 + (\"369\",99, \"bamboo\")"
   ]
  },
  {
   "cell_type": "code",
   "execution_count": 15,
   "metadata": {},
   "outputs": [
    {
     "data": {
      "text/plain": [
       "('hans', 2, 'franz', '369', 99, 'bamboo')"
      ]
     },
     "execution_count": 15,
     "metadata": {},
     "output_type": "execute_result"
    }
   ],
   "source": [
    "tuple2"
   ]
  },
  {
   "cell_type": "code",
   "execution_count": 16,
   "metadata": {},
   "outputs": [
    {
     "data": {
      "text/plain": [
       "('hans', 2, 'franz')"
      ]
     },
     "execution_count": 16,
     "metadata": {},
     "output_type": "execute_result"
    }
   ],
   "source": [
    "tuple2[0:3]"
   ]
  },
  {
   "cell_type": "code",
   "execution_count": 18,
   "metadata": {},
   "outputs": [],
   "source": [
    "tuple3 = tuple1[0:3]"
   ]
  },
  {
   "cell_type": "code",
   "execution_count": 19,
   "metadata": {},
   "outputs": [
    {
     "data": {
      "text/plain": [
       "('hans', 2, 'franz')"
      ]
     },
     "execution_count": 19,
     "metadata": {},
     "output_type": "execute_result"
    }
   ],
   "source": [
    "tuple3"
   ]
  },
  {
   "cell_type": "code",
   "execution_count": 20,
   "metadata": {},
   "outputs": [],
   "source": [
    "tuple4 = (1,2,3,4,5)"
   ]
  },
  {
   "cell_type": "code",
   "execution_count": 21,
   "metadata": {},
   "outputs": [
    {
     "data": {
      "text/plain": [
       "(2, 3, 4)"
      ]
     },
     "execution_count": 21,
     "metadata": {},
     "output_type": "execute_result"
    }
   ],
   "source": [
    "tuple4[1:4]"
   ]
  },
  {
   "cell_type": "code",
   "execution_count": 22,
   "metadata": {},
   "outputs": [
    {
     "data": {
      "text/plain": [
       "3"
      ]
     },
     "execution_count": 22,
     "metadata": {},
     "output_type": "execute_result"
    }
   ],
   "source": [
    "len(tuple1)"
   ]
  },
  {
   "cell_type": "code",
   "execution_count": 23,
   "metadata": {},
   "outputs": [
    {
     "data": {
      "text/plain": [
       "3"
      ]
     },
     "execution_count": 23,
     "metadata": {},
     "output_type": "execute_result"
    }
   ],
   "source": [
    "len(tuple3)"
   ]
  },
  {
   "cell_type": "code",
   "execution_count": 24,
   "metadata": {},
   "outputs": [
    {
     "data": {
      "text/plain": [
       "1"
      ]
     },
     "execution_count": 24,
     "metadata": {},
     "output_type": "execute_result"
    }
   ],
   "source": [
    "len((\"2\"))"
   ]
  },
  {
   "cell_type": "code",
   "execution_count": 25,
   "metadata": {},
   "outputs": [],
   "source": [
    "teams = (\"NYR\", \"NJD\", \"BB\", \"MC\", \"TML\")"
   ]
  },
  {
   "cell_type": "code",
   "execution_count": 28,
   "metadata": {},
   "outputs": [],
   "source": [
    "topteams = teams[1:3]"
   ]
  },
  {
   "cell_type": "code",
   "execution_count": 29,
   "metadata": {},
   "outputs": [
    {
     "data": {
      "text/plain": [
       "('NJD', 'BB')"
      ]
     },
     "execution_count": 29,
     "metadata": {},
     "output_type": "execute_result"
    }
   ],
   "source": [
    "topteams"
   ]
  },
  {
   "cell_type": "code",
   "execution_count": 30,
   "metadata": {},
   "outputs": [],
   "source": [
    "ratings = (2,4,1,6,9,8,0,1,7)"
   ]
  },
  {
   "cell_type": "code",
   "execution_count": 39,
   "metadata": {},
   "outputs": [],
   "source": [
    "sorted_ratings = sorted(ratings)"
   ]
  },
  {
   "cell_type": "code",
   "execution_count": 40,
   "metadata": {},
   "outputs": [
    {
     "name": "stdout",
     "output_type": "stream",
     "text": [
      "[0, 1, 1, 2, 4, 6, 7, 8, 9]\n"
     ]
    }
   ],
   "source": [
    "print(sorted_ratings)"
   ]
  },
  {
   "cell_type": "code",
   "execution_count": 43,
   "metadata": {},
   "outputs": [],
   "source": [
    "nested = (1,2,(\"pop\", \"rock\"),(3,4),(\"disco\",(1,2)))"
   ]
  },
  {
   "cell_type": "code",
   "execution_count": 49,
   "metadata": {},
   "outputs": [
    {
     "data": {
      "text/plain": [
       "2"
      ]
     },
     "execution_count": 49,
     "metadata": {},
     "output_type": "execute_result"
    }
   ],
   "source": [
    "nested[4][1][1]"
   ]
  },
  {
   "cell_type": "markdown",
   "metadata": {},
   "source": [
    "# Lists"
   ]
  },
  {
   "cell_type": "code",
   "execution_count": 50,
   "metadata": {},
   "outputs": [],
   "source": [
    "list1 = [\"Wayne Gretzky\",10.1,1982]"
   ]
  },
  {
   "cell_type": "code",
   "execution_count": 51,
   "metadata": {},
   "outputs": [
    {
     "data": {
      "text/plain": [
       "'Wayne Gretzky'"
      ]
     },
     "execution_count": 51,
     "metadata": {},
     "output_type": "execute_result"
    }
   ],
   "source": [
    "list1[0]"
   ]
  },
  {
   "cell_type": "code",
   "execution_count": 52,
   "metadata": {},
   "outputs": [],
   "source": [
    "list1[0] = \"Wayne juckts\""
   ]
  },
  {
   "cell_type": "code",
   "execution_count": 53,
   "metadata": {},
   "outputs": [
    {
     "data": {
      "text/plain": [
       "['Wayne juckts', 10.1, 1982]"
      ]
     },
     "execution_count": 53,
     "metadata": {},
     "output_type": "execute_result"
    }
   ],
   "source": [
    "list1"
   ]
  },
  {
   "cell_type": "code",
   "execution_count": 57,
   "metadata": {},
   "outputs": [],
   "source": [
    "type_of_list_element = type(list1[1])"
   ]
  },
  {
   "cell_type": "code",
   "execution_count": 58,
   "metadata": {},
   "outputs": [
    {
     "data": {
      "text/plain": [
       "float"
      ]
     },
     "execution_count": 58,
     "metadata": {},
     "output_type": "execute_result"
    }
   ],
   "source": [
    "type_of_list_element"
   ]
  },
  {
   "cell_type": "code",
   "execution_count": 59,
   "metadata": {},
   "outputs": [],
   "source": [
    "nesting = [\"Gretzky\",(0,1),[3,6,9]]"
   ]
  },
  {
   "cell_type": "code",
   "execution_count": 67,
   "metadata": {},
   "outputs": [
    {
     "data": {
      "text/plain": [
       "['Gretzky', (0, 1), [27, 6, 9]]"
      ]
     },
     "execution_count": 67,
     "metadata": {},
     "output_type": "execute_result"
    }
   ],
   "source": [
    "nesting[2][0] = 27\n",
    "nesting"
   ]
  },
  {
   "cell_type": "code",
   "execution_count": 72,
   "metadata": {},
   "outputs": [
    {
     "data": {
      "text/plain": [
       "[[27, 6, 9]]"
      ]
     },
     "execution_count": 72,
     "metadata": {},
     "output_type": "execute_result"
    }
   ],
   "source": [
    "slicing = nesting[2:3]\n",
    "slicing"
   ]
  },
  {
   "cell_type": "code",
   "execution_count": 74,
   "metadata": {},
   "outputs": [
    {
     "data": {
      "text/plain": [
       "[1, 2, 3, 4, 5]"
      ]
     },
     "execution_count": 74,
     "metadata": {},
     "output_type": "execute_result"
    }
   ],
   "source": [
    "list1 = [1,2,3,4,5,6]\n",
    "list1[0:5]"
   ]
  },
  {
   "cell_type": "code",
   "execution_count": 75,
   "metadata": {},
   "outputs": [
    {
     "data": {
      "text/plain": [
       "[4, 5]"
      ]
     },
     "execution_count": 75,
     "metadata": {},
     "output_type": "execute_result"
    }
   ],
   "source": [
    "list1[3:5]"
   ]
  },
  {
   "cell_type": "code",
   "execution_count": 77,
   "metadata": {},
   "outputs": [
    {
     "data": {
      "text/plain": [
       "[6]"
      ]
     },
     "execution_count": 77,
     "metadata": {},
     "output_type": "execute_result"
    }
   ],
   "source": [
    "list1[5:6]"
   ]
  },
  {
   "cell_type": "code",
   "execution_count": 79,
   "metadata": {},
   "outputs": [
    {
     "data": {
      "text/plain": [
       "[2]"
      ]
     },
     "execution_count": 79,
     "metadata": {},
     "output_type": "execute_result"
    }
   ],
   "source": [
    "list1[1:2]"
   ]
  },
  {
   "cell_type": "markdown",
   "metadata": {},
   "source": [
    "## Concatenate"
   ]
  },
  {
   "cell_type": "code",
   "execution_count": 80,
   "metadata": {},
   "outputs": [
    {
     "data": {
      "text/plain": [
       "[1, 2, 3, 4, 5, 6, 33, 66, 99, 88, 77]"
      ]
     },
     "execution_count": 80,
     "metadata": {},
     "output_type": "execute_result"
    }
   ],
   "source": [
    "list1 + [33,66,99,88,77]"
   ]
  },
  {
   "cell_type": "code",
   "execution_count": 91,
   "metadata": {},
   "outputs": [],
   "source": [
    "list1.extend([3,6,9])"
   ]
  },
  {
   "cell_type": "code",
   "execution_count": 92,
   "metadata": {},
   "outputs": [
    {
     "data": {
      "text/plain": [
       "[1, 2, 3, 4, 5, 6, 3, 6, 9, 3, 6, 9, 3, 6, 9, 999, 3, 6, 9]"
      ]
     },
     "execution_count": 92,
     "metadata": {},
     "output_type": "execute_result"
    }
   ],
   "source": [
    "list1"
   ]
  },
  {
   "cell_type": "code",
   "execution_count": 88,
   "metadata": {},
   "outputs": [
    {
     "data": {
      "text/plain": [
       "[1, 2, 3, 4, 5, 6, 3, 6, 9, 3, 6, 9, 3, 6, 9]"
      ]
     },
     "execution_count": 88,
     "metadata": {},
     "output_type": "execute_result"
    }
   ],
   "source": [
    "list1"
   ]
  },
  {
   "cell_type": "code",
   "execution_count": 89,
   "metadata": {},
   "outputs": [],
   "source": [
    "list1.append(999)"
   ]
  },
  {
   "cell_type": "code",
   "execution_count": 90,
   "metadata": {},
   "outputs": [
    {
     "data": {
      "text/plain": [
       "[1, 2, 3, 4, 5, 6, 3, 6, 9, 3, 6, 9, 3, 6, 9, 999]"
      ]
     },
     "execution_count": 90,
     "metadata": {},
     "output_type": "execute_result"
    }
   ],
   "source": [
    "list1"
   ]
  },
  {
   "cell_type": "code",
   "execution_count": 93,
   "metadata": {},
   "outputs": [],
   "source": [
    "list1 = 0"
   ]
  },
  {
   "cell_type": "code",
   "execution_count": 94,
   "metadata": {},
   "outputs": [
    {
     "data": {
      "text/plain": [
       "0"
      ]
     },
     "execution_count": 94,
     "metadata": {},
     "output_type": "execute_result"
    }
   ],
   "source": [
    "list1"
   ]
  },
  {
   "cell_type": "code",
   "execution_count": 96,
   "metadata": {},
   "outputs": [],
   "source": [
    "list1 =[1,2,3]"
   ]
  },
  {
   "cell_type": "code",
   "execution_count": 97,
   "metadata": {},
   "outputs": [],
   "source": [
    "list1.extend([4,5,6])"
   ]
  },
  {
   "cell_type": "code",
   "execution_count": 98,
   "metadata": {},
   "outputs": [
    {
     "data": {
      "text/plain": [
       "[1, 2, 3, 4, 5, 6]"
      ]
     },
     "execution_count": 98,
     "metadata": {},
     "output_type": "execute_result"
    }
   ],
   "source": [
    "list1"
   ]
  },
  {
   "cell_type": "code",
   "execution_count": 99,
   "metadata": {},
   "outputs": [],
   "source": [
    "list1.append([7,8,9])"
   ]
  },
  {
   "cell_type": "code",
   "execution_count": 100,
   "metadata": {},
   "outputs": [
    {
     "data": {
      "text/plain": [
       "[1, 2, 3, 4, 5, 6, [7, 8, 9]]"
      ]
     },
     "execution_count": 100,
     "metadata": {},
     "output_type": "execute_result"
    }
   ],
   "source": [
    "list1"
   ]
  },
  {
   "cell_type": "code",
   "execution_count": 101,
   "metadata": {},
   "outputs": [],
   "source": [
    "del(list1[6])"
   ]
  },
  {
   "cell_type": "code",
   "execution_count": 102,
   "metadata": {},
   "outputs": [
    {
     "data": {
      "text/plain": [
       "[1, 2, 3, 4, 5, 6]"
      ]
     },
     "execution_count": 102,
     "metadata": {},
     "output_type": "execute_result"
    }
   ],
   "source": [
    "list1"
   ]
  },
  {
   "cell_type": "code",
   "execution_count": 103,
   "metadata": {},
   "outputs": [
    {
     "data": {
      "text/plain": [
       "['hans', 'im', 'wunderland']"
      ]
     },
     "execution_count": 103,
     "metadata": {},
     "output_type": "execute_result"
    }
   ],
   "source": [
    "\"hans im wunderland\".split()"
   ]
  },
  {
   "cell_type": "code",
   "execution_count": 104,
   "metadata": {},
   "outputs": [
    {
     "data": {
      "text/plain": [
       "['A,B,C,D']"
      ]
     },
     "execution_count": 104,
     "metadata": {},
     "output_type": "execute_result"
    }
   ],
   "source": [
    "\"A,B,C,D\".split()"
   ]
  },
  {
   "cell_type": "code",
   "execution_count": 105,
   "metadata": {},
   "outputs": [
    {
     "data": {
      "text/plain": [
       "['A', 'B', 'C', 'D']"
      ]
     },
     "execution_count": 105,
     "metadata": {},
     "output_type": "execute_result"
    }
   ],
   "source": [
    "\"A,B,C,D\".split(\",\")"
   ]
  },
  {
   "cell_type": "code",
   "execution_count": 106,
   "metadata": {},
   "outputs": [
    {
     "data": {
      "text/plain": [
       "['1', '2', '3', '4']"
      ]
     },
     "execution_count": 106,
     "metadata": {},
     "output_type": "execute_result"
    }
   ],
   "source": [
    "\"1:2:3:4\".split(\":\")"
   ]
  },
  {
   "cell_type": "code",
   "execution_count": 107,
   "metadata": {},
   "outputs": [
    {
     "data": {
      "text/plain": [
       "[1, 2, 3, 4, 5, 6]"
      ]
     },
     "execution_count": 107,
     "metadata": {},
     "output_type": "execute_result"
    }
   ],
   "source": [
    "list1"
   ]
  },
  {
   "cell_type": "code",
   "execution_count": 108,
   "metadata": {},
   "outputs": [],
   "source": [
    "list2 = list1"
   ]
  },
  {
   "cell_type": "code",
   "execution_count": 109,
   "metadata": {},
   "outputs": [
    {
     "data": {
      "text/plain": [
       "[1, 2, 3, 4, 5, 6]"
      ]
     },
     "execution_count": 109,
     "metadata": {},
     "output_type": "execute_result"
    }
   ],
   "source": [
    "list2"
   ]
  },
  {
   "cell_type": "code",
   "execution_count": 110,
   "metadata": {},
   "outputs": [],
   "source": [
    "list2[0] = 27"
   ]
  },
  {
   "cell_type": "code",
   "execution_count": 111,
   "metadata": {},
   "outputs": [
    {
     "data": {
      "text/plain": [
       "[27, 2, 3, 4, 5, 6]"
      ]
     },
     "execution_count": 111,
     "metadata": {},
     "output_type": "execute_result"
    }
   ],
   "source": [
    "list1"
   ]
  },
  {
   "cell_type": "code",
   "execution_count": 112,
   "metadata": {},
   "outputs": [
    {
     "data": {
      "text/plain": [
       "[27, 2, 3, 4, 5, 6]"
      ]
     },
     "execution_count": 112,
     "metadata": {},
     "output_type": "execute_result"
    }
   ],
   "source": [
    "list2"
   ]
  },
  {
   "cell_type": "code",
   "execution_count": 113,
   "metadata": {},
   "outputs": [],
   "source": [
    "list2 = list1[:]"
   ]
  },
  {
   "cell_type": "code",
   "execution_count": 115,
   "metadata": {},
   "outputs": [
    {
     "data": {
      "text/plain": [
       "[27, 2, 3, 4, 5, 6]"
      ]
     },
     "execution_count": 115,
     "metadata": {},
     "output_type": "execute_result"
    }
   ],
   "source": [
    "list2"
   ]
  },
  {
   "cell_type": "code",
   "execution_count": 117,
   "metadata": {},
   "outputs": [],
   "source": [
    "list2[0] = 33"
   ]
  },
  {
   "cell_type": "code",
   "execution_count": 118,
   "metadata": {},
   "outputs": [
    {
     "data": {
      "text/plain": [
       "[33, 2, 3, 4, 5, 6]"
      ]
     },
     "execution_count": 118,
     "metadata": {},
     "output_type": "execute_result"
    }
   ],
   "source": [
    "list2"
   ]
  },
  {
   "cell_type": "code",
   "execution_count": 119,
   "metadata": {},
   "outputs": [
    {
     "data": {
      "text/plain": [
       "[27, 2, 3, 4, 5, 6]"
      ]
     },
     "execution_count": 119,
     "metadata": {},
     "output_type": "execute_result"
    }
   ],
   "source": [
    "list1"
   ]
  },
  {
   "cell_type": "code",
   "execution_count": 122,
   "metadata": {},
   "outputs": [
    {
     "name": "stdout",
     "output_type": "stream",
     "text": [
      "Help on class list in module builtins:\n",
      "\n",
      "class list(object)\n",
      " |  list(iterable=(), /)\n",
      " |  \n",
      " |  Built-in mutable sequence.\n",
      " |  \n",
      " |  If no argument is given, the constructor creates a new empty list.\n",
      " |  The argument must be an iterable if specified.\n",
      " |  \n",
      " |  Methods defined here:\n",
      " |  \n",
      " |  __add__(self, value, /)\n",
      " |      Return self+value.\n",
      " |  \n",
      " |  __contains__(self, key, /)\n",
      " |      Return key in self.\n",
      " |  \n",
      " |  __delitem__(self, key, /)\n",
      " |      Delete self[key].\n",
      " |  \n",
      " |  __eq__(self, value, /)\n",
      " |      Return self==value.\n",
      " |  \n",
      " |  __ge__(self, value, /)\n",
      " |      Return self>=value.\n",
      " |  \n",
      " |  __getattribute__(self, name, /)\n",
      " |      Return getattr(self, name).\n",
      " |  \n",
      " |  __getitem__(...)\n",
      " |      x.__getitem__(y) <==> x[y]\n",
      " |  \n",
      " |  __gt__(self, value, /)\n",
      " |      Return self>value.\n",
      " |  \n",
      " |  __iadd__(self, value, /)\n",
      " |      Implement self+=value.\n",
      " |  \n",
      " |  __imul__(self, value, /)\n",
      " |      Implement self*=value.\n",
      " |  \n",
      " |  __init__(self, /, *args, **kwargs)\n",
      " |      Initialize self.  See help(type(self)) for accurate signature.\n",
      " |  \n",
      " |  __iter__(self, /)\n",
      " |      Implement iter(self).\n",
      " |  \n",
      " |  __le__(self, value, /)\n",
      " |      Return self<=value.\n",
      " |  \n",
      " |  __len__(self, /)\n",
      " |      Return len(self).\n",
      " |  \n",
      " |  __lt__(self, value, /)\n",
      " |      Return self<value.\n",
      " |  \n",
      " |  __mul__(self, value, /)\n",
      " |      Return self*value.\n",
      " |  \n",
      " |  __ne__(self, value, /)\n",
      " |      Return self!=value.\n",
      " |  \n",
      " |  __repr__(self, /)\n",
      " |      Return repr(self).\n",
      " |  \n",
      " |  __reversed__(self, /)\n",
      " |      Return a reverse iterator over the list.\n",
      " |  \n",
      " |  __rmul__(self, value, /)\n",
      " |      Return value*self.\n",
      " |  \n",
      " |  __setitem__(self, key, value, /)\n",
      " |      Set self[key] to value.\n",
      " |  \n",
      " |  __sizeof__(self, /)\n",
      " |      Return the size of the list in memory, in bytes.\n",
      " |  \n",
      " |  append(self, object, /)\n",
      " |      Append object to the end of the list.\n",
      " |  \n",
      " |  clear(self, /)\n",
      " |      Remove all items from list.\n",
      " |  \n",
      " |  copy(self, /)\n",
      " |      Return a shallow copy of the list.\n",
      " |  \n",
      " |  count(self, value, /)\n",
      " |      Return number of occurrences of value.\n",
      " |  \n",
      " |  extend(self, iterable, /)\n",
      " |      Extend list by appending elements from the iterable.\n",
      " |  \n",
      " |  index(self, value, start=0, stop=9223372036854775807, /)\n",
      " |      Return first index of value.\n",
      " |      \n",
      " |      Raises ValueError if the value is not present.\n",
      " |  \n",
      " |  insert(self, index, object, /)\n",
      " |      Insert object before index.\n",
      " |  \n",
      " |  pop(self, index=-1, /)\n",
      " |      Remove and return item at index (default last).\n",
      " |      \n",
      " |      Raises IndexError if list is empty or index is out of range.\n",
      " |  \n",
      " |  remove(self, value, /)\n",
      " |      Remove first occurrence of value.\n",
      " |      \n",
      " |      Raises ValueError if the value is not present.\n",
      " |  \n",
      " |  reverse(self, /)\n",
      " |      Reverse *IN PLACE*.\n",
      " |  \n",
      " |  sort(self, /, *, key=None, reverse=False)\n",
      " |      Stable sort *IN PLACE*.\n",
      " |  \n",
      " |  ----------------------------------------------------------------------\n",
      " |  Static methods defined here:\n",
      " |  \n",
      " |  __new__(*args, **kwargs) from builtins.type\n",
      " |      Create and return a new object.  See help(type) for accurate signature.\n",
      " |  \n",
      " |  ----------------------------------------------------------------------\n",
      " |  Data and other attributes defined here:\n",
      " |  \n",
      " |  __hash__ = None\n",
      "\n"
     ]
    }
   ],
   "source": [
    "help(list)"
   ]
  },
  {
   "cell_type": "code",
   "execution_count": 124,
   "metadata": {},
   "outputs": [
    {
     "data": {
      "text/plain": [
       "[1]"
      ]
     },
     "execution_count": 124,
     "metadata": {},
     "output_type": "execute_result"
    }
   ],
   "source": [
    "tuplee = (1,2,3,4,5,[1])\n",
    "tuplee[5]\n"
   ]
  },
  {
   "cell_type": "code",
   "execution_count": 126,
   "metadata": {},
   "outputs": [
    {
     "data": {
      "text/plain": [
       "int"
      ]
     },
     "execution_count": 126,
     "metadata": {},
     "output_type": "execute_result"
    }
   ],
   "source": [
    "type(tuplee[5][0])"
   ]
  },
  {
   "cell_type": "markdown",
   "metadata": {},
   "source": [
    "# Dictionaries"
   ]
  },
  {
   "cell_type": "code",
   "execution_count": 127,
   "metadata": {},
   "outputs": [],
   "source": [
    "dic = {\"name\": \"hans\",\"bday\": 1991,\"geschlecht\": \"m\"}"
   ]
  },
  {
   "cell_type": "code",
   "execution_count": 128,
   "metadata": {},
   "outputs": [
    {
     "data": {
      "text/plain": [
       "{'name': 'hans', 'bday': 1991, 'geschlecht': 'm'}"
      ]
     },
     "execution_count": 128,
     "metadata": {},
     "output_type": "execute_result"
    }
   ],
   "source": [
    "dic"
   ]
  },
  {
   "cell_type": "code",
   "execution_count": 129,
   "metadata": {},
   "outputs": [
    {
     "data": {
      "text/plain": [
       "'hans'"
      ]
     },
     "execution_count": 129,
     "metadata": {},
     "output_type": "execute_result"
    }
   ],
   "source": [
    "dic[\"name\"]"
   ]
  },
  {
   "cell_type": "code",
   "execution_count": 131,
   "metadata": {},
   "outputs": [
    {
     "ename": "SyntaxError",
     "evalue": "invalid syntax (<ipython-input-131-b691d95dcef0>, line 1)",
     "output_type": "error",
     "traceback": [
      "\u001b[0;36m  File \u001b[0;32m\"<ipython-input-131-b691d95dcef0>\"\u001b[0;36m, line \u001b[0;32m1\u001b[0m\n\u001b[0;31m    dic{0}\u001b[0m\n\u001b[0m       ^\u001b[0m\n\u001b[0;31mSyntaxError\u001b[0m\u001b[0;31m:\u001b[0m invalid syntax\n"
     ]
    }
   ],
   "source": [
    "dic{0}"
   ]
  },
  {
   "cell_type": "code",
   "execution_count": 133,
   "metadata": {},
   "outputs": [],
   "source": [
    "dic1 = {\"Inception\": 2010, \"Star Wars\": 1999, \"Interstellar\":2016}"
   ]
  },
  {
   "cell_type": "code",
   "execution_count": 134,
   "metadata": {},
   "outputs": [
    {
     "data": {
      "text/plain": [
       "{'Inception': 2010, 'Star Wars': 1999, 'Interstellar': 2016}"
      ]
     },
     "execution_count": 134,
     "metadata": {},
     "output_type": "execute_result"
    }
   ],
   "source": [
    "dic1"
   ]
  },
  {
   "cell_type": "code",
   "execution_count": 140,
   "metadata": {},
   "outputs": [
    {
     "data": {
      "text/plain": [
       "2010"
      ]
     },
     "execution_count": 140,
     "metadata": {},
     "output_type": "execute_result"
    }
   ],
   "source": [
    "dic1[\"Inception\"]"
   ]
  },
  {
   "cell_type": "code",
   "execution_count": 142,
   "metadata": {},
   "outputs": [],
   "source": [
    "dic1[\"Falling Down\"] = 1989"
   ]
  },
  {
   "cell_type": "code",
   "execution_count": 143,
   "metadata": {},
   "outputs": [
    {
     "data": {
      "text/plain": [
       "{'name': 'hans', 'bday': 1991, 'geschlecht': 'm', 'Falling Down': 1989}"
      ]
     },
     "execution_count": 143,
     "metadata": {},
     "output_type": "execute_result"
    }
   ],
   "source": [
    "dic"
   ]
  },
  {
   "cell_type": "code",
   "execution_count": 144,
   "metadata": {},
   "outputs": [],
   "source": [
    "del(dic[\"Falling Down\"])"
   ]
  },
  {
   "cell_type": "code",
   "execution_count": 145,
   "metadata": {},
   "outputs": [
    {
     "data": {
      "text/plain": [
       "{'name': 'hans', 'bday': 1991, 'geschlecht': 'm'}"
      ]
     },
     "execution_count": 145,
     "metadata": {},
     "output_type": "execute_result"
    }
   ],
   "source": [
    "dic"
   ]
  },
  {
   "cell_type": "code",
   "execution_count": 146,
   "metadata": {},
   "outputs": [],
   "source": [
    "dic1[\"Falling Down\"] = 1989"
   ]
  },
  {
   "cell_type": "code",
   "execution_count": 147,
   "metadata": {},
   "outputs": [
    {
     "data": {
      "text/plain": [
       "{'Inception': 2010,\n",
       " 'Star Wars': 1999,\n",
       " 'Interstellar': 2016,\n",
       " 'Falling Down': 1989}"
      ]
     },
     "execution_count": 147,
     "metadata": {},
     "output_type": "execute_result"
    }
   ],
   "source": [
    "dic1"
   ]
  },
  {
   "cell_type": "code",
   "execution_count": 148,
   "metadata": {},
   "outputs": [],
   "source": [
    "dic1[\"Inception\"] = 2101"
   ]
  },
  {
   "cell_type": "code",
   "execution_count": 149,
   "metadata": {},
   "outputs": [
    {
     "data": {
      "text/plain": [
       "{'Inception': 2101,\n",
       " 'Star Wars': 1999,\n",
       " 'Interstellar': 2016,\n",
       " 'Falling Down': 1989}"
      ]
     },
     "execution_count": 149,
     "metadata": {},
     "output_type": "execute_result"
    }
   ],
   "source": [
    "dic1"
   ]
  },
  {
   "cell_type": "code",
   "execution_count": 154,
   "metadata": {},
   "outputs": [
    {
     "data": {
      "text/plain": [
       "True"
      ]
     },
     "execution_count": 154,
     "metadata": {},
     "output_type": "execute_result"
    }
   ],
   "source": [
    "\"Inception\" in dic1"
   ]
  },
  {
   "cell_type": "code",
   "execution_count": 155,
   "metadata": {},
   "outputs": [
    {
     "data": {
      "text/plain": [
       "dict_keys(['Inception', 'Star Wars', 'Interstellar', 'Falling Down'])"
      ]
     },
     "execution_count": 155,
     "metadata": {},
     "output_type": "execute_result"
    }
   ],
   "source": [
    "dic1.keys()"
   ]
  },
  {
   "cell_type": "code",
   "execution_count": 156,
   "metadata": {},
   "outputs": [],
   "source": [
    "schlüssel = dic1.keys()"
   ]
  },
  {
   "cell_type": "code",
   "execution_count": 157,
   "metadata": {},
   "outputs": [
    {
     "data": {
      "text/plain": [
       "dict_keys(['Inception', 'Star Wars', 'Interstellar', 'Falling Down'])"
      ]
     },
     "execution_count": 157,
     "metadata": {},
     "output_type": "execute_result"
    }
   ],
   "source": [
    "schlüssel"
   ]
  },
  {
   "cell_type": "code",
   "execution_count": 158,
   "metadata": {},
   "outputs": [
    {
     "data": {
      "text/plain": [
       "dict_keys"
      ]
     },
     "execution_count": 158,
     "metadata": {},
     "output_type": "execute_result"
    }
   ],
   "source": [
    "type(schlüssel)"
   ]
  },
  {
   "cell_type": "code",
   "execution_count": 161,
   "metadata": {},
   "outputs": [
    {
     "ename": "TypeError",
     "evalue": "'dict_keys' object does not support indexing",
     "output_type": "error",
     "traceback": [
      "\u001b[0;31m---------------------------------------------------------------------------\u001b[0m",
      "\u001b[0;31mTypeError\u001b[0m                                 Traceback (most recent call last)",
      "\u001b[0;32m<ipython-input-161-7ad7600d2cbe>\u001b[0m in \u001b[0;36m<module>\u001b[0;34m\u001b[0m\n\u001b[0;32m----> 1\u001b[0;31m \u001b[0mschlüssel\u001b[0m\u001b[0;34m[\u001b[0m\u001b[0;36m0\u001b[0m\u001b[0;34m]\u001b[0m\u001b[0;34m\u001b[0m\u001b[0;34m\u001b[0m\u001b[0m\n\u001b[0m",
      "\u001b[0;31mTypeError\u001b[0m: 'dict_keys' object does not support indexing"
     ]
    }
   ],
   "source": [
    "schlüssel[0]"
   ]
  },
  {
   "cell_type": "code",
   "execution_count": 162,
   "metadata": {},
   "outputs": [
    {
     "data": {
      "text/plain": [
       "dict_values([2101, 1999, 2016, 1989])"
      ]
     },
     "execution_count": 162,
     "metadata": {},
     "output_type": "execute_result"
    }
   ],
   "source": [
    "dic1.values()"
   ]
  },
  {
   "cell_type": "code",
   "execution_count": 163,
   "metadata": {},
   "outputs": [],
   "source": [
    "dic1_values = dic1.values()"
   ]
  },
  {
   "cell_type": "code",
   "execution_count": 164,
   "metadata": {},
   "outputs": [
    {
     "data": {
      "text/plain": [
       "dict_values([2101, 1999, 2016, 1989])"
      ]
     },
     "execution_count": 164,
     "metadata": {},
     "output_type": "execute_result"
    }
   ],
   "source": [
    "dic1_values"
   ]
  },
  {
   "cell_type": "code",
   "execution_count": 165,
   "metadata": {},
   "outputs": [
    {
     "data": {
      "text/plain": [
       "dict_values"
      ]
     },
     "execution_count": 165,
     "metadata": {},
     "output_type": "execute_result"
    }
   ],
   "source": [
    "type(dic1_values)"
   ]
  },
  {
   "cell_type": "code",
   "execution_count": 166,
   "metadata": {},
   "outputs": [],
   "source": [
    "dic1[\"Inception\"] = 2101"
   ]
  },
  {
   "cell_type": "code",
   "execution_count": 167,
   "metadata": {},
   "outputs": [
    {
     "data": {
      "text/plain": [
       "{'Inception': 2101,\n",
       " 'Star Wars': 1999,\n",
       " 'Interstellar': 2016,\n",
       " 'Falling Down': 1989}"
      ]
     },
     "execution_count": 167,
     "metadata": {},
     "output_type": "execute_result"
    }
   ],
   "source": [
    "dic1"
   ]
  },
  {
   "cell_type": "markdown",
   "metadata": {},
   "source": [
    "# Sets"
   ]
  },
  {
   "cell_type": "code",
   "execution_count": 181,
   "metadata": {},
   "outputs": [],
   "source": [
    "set1 = {\"Hans\", \"Franz\"}\n",
    "set2 = {\"Hans\", \"Franz\", \"Reiner\"}\n",
    "set3 = set1 & set2"
   ]
  },
  {
   "cell_type": "code",
   "execution_count": 182,
   "metadata": {},
   "outputs": [
    {
     "data": {
      "text/plain": [
       "{'Franz', 'Hans'}"
      ]
     },
     "execution_count": 182,
     "metadata": {},
     "output_type": "execute_result"
    }
   ],
   "source": [
    "set1"
   ]
  },
  {
   "cell_type": "code",
   "execution_count": 183,
   "metadata": {},
   "outputs": [
    {
     "data": {
      "text/plain": [
       "{'Franz', 'Hans', 'Reiner'}"
      ]
     },
     "execution_count": 183,
     "metadata": {},
     "output_type": "execute_result"
    }
   ],
   "source": [
    "set2"
   ]
  },
  {
   "cell_type": "code",
   "execution_count": 184,
   "metadata": {},
   "outputs": [
    {
     "data": {
      "text/plain": [
       "{'Franz', 'Hans'}"
      ]
     },
     "execution_count": 184,
     "metadata": {},
     "output_type": "execute_result"
    }
   ],
   "source": [
    "set3"
   ]
  },
  {
   "cell_type": "code",
   "execution_count": 186,
   "metadata": {},
   "outputs": [
    {
     "data": {
      "text/plain": [
       "True"
      ]
     },
     "execution_count": 186,
     "metadata": {},
     "output_type": "execute_result"
    }
   ],
   "source": [
    "set3.issubset(set2)"
   ]
  },
  {
   "cell_type": "code",
   "execution_count": null,
   "metadata": {},
   "outputs": [],
   "source": [
    "#Intersection"
   ]
  },
  {
   "cell_type": "code",
   "execution_count": 200,
   "metadata": {},
   "outputs": [
    {
     "data": {
      "text/plain": [
       "{1, 2}"
      ]
     },
     "execution_count": 200,
     "metadata": {},
     "output_type": "execute_result"
    }
   ],
   "source": [
    "test = {1,2}\n",
    "test1 = {1,2,3}\n",
    "intersection = test & test1\n",
    "intersection"
   ]
  },
  {
   "cell_type": "code",
   "execution_count": null,
   "metadata": {},
   "outputs": [],
   "source": [
    "#Union"
   ]
  },
  {
   "cell_type": "code",
   "execution_count": 197,
   "metadata": {},
   "outputs": [
    {
     "data": {
      "text/plain": [
       "{1, 2, 3}"
      ]
     },
     "execution_count": 197,
     "metadata": {},
     "output_type": "execute_result"
    }
   ],
   "source": [
    "union = test | test1\n",
    "union"
   ]
  },
  {
   "cell_type": "code",
   "execution_count": 201,
   "metadata": {},
   "outputs": [],
   "source": [
    "#Difference"
   ]
  },
  {
   "cell_type": "code",
   "execution_count": 204,
   "metadata": {},
   "outputs": [
    {
     "data": {
      "text/plain": [
       "{3}"
      ]
     },
     "execution_count": 204,
     "metadata": {},
     "output_type": "execute_result"
    }
   ],
   "source": [
    "difference = test1 - test\n",
    "difference"
   ]
  },
  {
   "cell_type": "markdown",
   "metadata": {},
   "source": [
    "# Conditions an Branching"
   ]
  },
  {
   "cell_type": "code",
   "execution_count": 205,
   "metadata": {},
   "outputs": [
    {
     "data": {
      "text/plain": [
       "True"
      ]
     },
     "execution_count": 205,
     "metadata": {},
     "output_type": "execute_result"
    }
   ],
   "source": [
    "6 == 6"
   ]
  },
  {
   "cell_type": "code",
   "execution_count": 209,
   "metadata": {},
   "outputs": [],
   "source": [
    "x = 2"
   ]
  },
  {
   "cell_type": "code",
   "execution_count": 215,
   "metadata": {},
   "outputs": [],
   "source": [
    "booool = x!=2"
   ]
  },
  {
   "cell_type": "code",
   "execution_count": 218,
   "metadata": {},
   "outputs": [
    {
     "data": {
      "text/plain": [
       "False"
      ]
     },
     "execution_count": 218,
     "metadata": {},
     "output_type": "execute_result"
    }
   ],
   "source": [
    "booool\n"
   ]
  },
  {
   "cell_type": "code",
   "execution_count": 220,
   "metadata": {},
   "outputs": [
    {
     "data": {
      "text/plain": [
       "False"
      ]
     },
     "execution_count": 220,
     "metadata": {},
     "output_type": "execute_result"
    }
   ],
   "source": [
    "\"hans\" != \"hans\""
   ]
  },
  {
   "cell_type": "code",
   "execution_count": 221,
   "metadata": {},
   "outputs": [
    {
     "data": {
      "text/plain": [
       "True"
      ]
     },
     "execution_count": 221,
     "metadata": {},
     "output_type": "execute_result"
    }
   ],
   "source": [
    "\"hans\" == \"hans\""
   ]
  },
  {
   "cell_type": "code",
   "execution_count": 222,
   "metadata": {},
   "outputs": [
    {
     "data": {
      "text/plain": [
       "False"
      ]
     },
     "execution_count": 222,
     "metadata": {},
     "output_type": "execute_result"
    }
   ],
   "source": [
    "\"a\" == \"A\""
   ]
  },
  {
   "cell_type": "code",
   "execution_count": 232,
   "metadata": {},
   "outputs": [
    {
     "name": "stdout",
     "output_type": "stream",
     "text": [
      "HA falsch\n"
     ]
    }
   ],
   "source": [
    "if x != 2:\n",
    "    print(\"Trueeee\")\n",
    "else:\n",
    "    print(\"HA falsch\")"
   ]
  },
  {
   "cell_type": "code",
   "execution_count": 236,
   "metadata": {},
   "outputs": [],
   "source": [
    "age = 17"
   ]
  },
  {
   "cell_type": "code",
   "execution_count": 237,
   "metadata": {},
   "outputs": [
    {
     "name": "stdout",
     "output_type": "stream",
     "text": [
      "Access denied\n"
     ]
    }
   ],
   "source": [
    "if age >= 18:\n",
    "    print(\"Access granted\")\n",
    "else:\n",
    "    print(\"Access denied\")"
   ]
  },
  {
   "cell_type": "code",
   "execution_count": 238,
   "metadata": {},
   "outputs": [
    {
     "data": {
      "text/plain": [
       "True"
      ]
     },
     "execution_count": 238,
     "metadata": {},
     "output_type": "execute_result"
    }
   ],
   "source": [
    "True or False"
   ]
  },
  {
   "cell_type": "markdown",
   "metadata": {},
   "source": [
    "# Loops"
   ]
  },
  {
   "cell_type": "code",
   "execution_count": 242,
   "metadata": {},
   "outputs": [
    {
     "data": {
      "text/plain": [
       "range(10, 16)"
      ]
     },
     "execution_count": 242,
     "metadata": {},
     "output_type": "execute_result"
    }
   ],
   "source": [
    "range(10,16)"
   ]
  },
  {
   "cell_type": "code",
   "execution_count": 243,
   "metadata": {},
   "outputs": [],
   "source": [
    "x = range(10,15)"
   ]
  },
  {
   "cell_type": "code",
   "execution_count": 244,
   "metadata": {},
   "outputs": [
    {
     "data": {
      "text/plain": [
       "range(10, 15)"
      ]
     },
     "execution_count": 244,
     "metadata": {},
     "output_type": "execute_result"
    }
   ],
   "source": [
    "x"
   ]
  },
  {
   "cell_type": "code",
   "execution_count": 245,
   "metadata": {},
   "outputs": [
    {
     "data": {
      "text/plain": [
       "range"
      ]
     },
     "execution_count": 245,
     "metadata": {},
     "output_type": "execute_result"
    }
   ],
   "source": [
    "type(x)"
   ]
  },
  {
   "cell_type": "code",
   "execution_count": 247,
   "metadata": {},
   "outputs": [
    {
     "name": "stdout",
     "output_type": "stream",
     "text": [
      "hans\n",
      "hans\n",
      "hans\n",
      "hans\n",
      "hans\n"
     ]
    }
   ],
   "source": [
    "for i in x:\n",
    "    print(\"hans\")"
   ]
  },
  {
   "cell_type": "code",
   "execution_count": 255,
   "metadata": {},
   "outputs": [
    {
     "name": "stdout",
     "output_type": "stream",
     "text": [
      "['white', 'white', 'white', 'white', 'white']\n"
     ]
    }
   ],
   "source": [
    "squares = [\"blue\", \"yellow\", \"green\", \"brown\", \"red\"]\n",
    "for i in range(0,5):\n",
    "    squares[i] = \"white\"\n",
    "print(squares)"
   ]
  },
  {
   "cell_type": "code",
   "execution_count": 256,
   "metadata": {},
   "outputs": [
    {
     "name": "stdout",
     "output_type": "stream",
     "text": [
      "white\n",
      "white\n",
      "white\n",
      "white\n",
      "white\n"
     ]
    }
   ],
   "source": [
    "for square in squares:\n",
    "    print(square)"
   ]
  },
  {
   "cell_type": "code",
   "execution_count": 257,
   "metadata": {},
   "outputs": [
    {
     "name": "stdout",
     "output_type": "stream",
     "text": [
      "aa\n",
      "ba\n",
      "ca\n"
     ]
    }
   ],
   "source": [
    "for x in [\"a\", \"b\", \"c\"]:\n",
    "    print(x + \"a\")"
   ]
  },
  {
   "cell_type": "code",
   "execution_count": 273,
   "metadata": {},
   "outputs": [
    {
     "name": "stdout",
     "output_type": "stream",
     "text": [
      "0 white\n",
      "1 white\n",
      "2 white\n",
      "3 white\n",
      "4 white\n"
     ]
    }
   ],
   "source": [
    "for i, square in enumerate(squares):\n",
    "    print(i, square)"
   ]
  },
  {
   "cell_type": "code",
   "execution_count": 260,
   "metadata": {},
   "outputs": [],
   "source": [
    "#Enumerate"
   ]
  },
  {
   "cell_type": "code",
   "execution_count": 263,
   "metadata": {},
   "outputs": [],
   "source": [
    "seasons = [\"Spring\", \"Summer\", \"Fall\", \"Winter\"]\n",
    "x = enumerate(seasons)"
   ]
  },
  {
   "cell_type": "code",
   "execution_count": 265,
   "metadata": {},
   "outputs": [
    {
     "data": {
      "text/plain": [
       "enumerate"
      ]
     },
     "execution_count": 265,
     "metadata": {},
     "output_type": "execute_result"
    }
   ],
   "source": [
    "type(x)"
   ]
  },
  {
   "cell_type": "code",
   "execution_count": 268,
   "metadata": {},
   "outputs": [],
   "source": [
    "enumerate_list = list(enumerate(seasons))"
   ]
  },
  {
   "cell_type": "code",
   "execution_count": 269,
   "metadata": {},
   "outputs": [
    {
     "data": {
      "text/plain": [
       "list"
      ]
     },
     "execution_count": 269,
     "metadata": {},
     "output_type": "execute_result"
    }
   ],
   "source": [
    "type(enumerate_list)"
   ]
  },
  {
   "cell_type": "code",
   "execution_count": 271,
   "metadata": {},
   "outputs": [
    {
     "data": {
      "text/plain": [
       "[(0, 'Spring'), (1, 'Summer'), (2, 'Fall'), (3, 'Winter')]"
      ]
     },
     "execution_count": 271,
     "metadata": {},
     "output_type": "execute_result"
    }
   ],
   "source": [
    "enumerate_list"
   ]
  },
  {
   "cell_type": "code",
   "execution_count": 274,
   "metadata": {},
   "outputs": [
    {
     "data": {
      "text/plain": [
       "(1, 'Summer')"
      ]
     },
     "execution_count": 274,
     "metadata": {},
     "output_type": "execute_result"
    }
   ],
   "source": [
    "enumerate_list[1]"
   ]
  },
  {
   "cell_type": "code",
   "execution_count": 276,
   "metadata": {},
   "outputs": [],
   "source": [
    "cars = [\"BMW\",\"BENZ\",\"AUDI\"]\n",
    "x = enumerate(cars)"
   ]
  },
  {
   "cell_type": "code",
   "execution_count": 277,
   "metadata": {},
   "outputs": [
    {
     "data": {
      "text/plain": [
       "<enumerate at 0x10a676a68>"
      ]
     },
     "execution_count": 277,
     "metadata": {},
     "output_type": "execute_result"
    }
   ],
   "source": [
    "x"
   ]
  },
  {
   "cell_type": "code",
   "execution_count": 286,
   "metadata": {},
   "outputs": [
    {
     "name": "stdout",
     "output_type": "stream",
     "text": [
      "[]\n"
     ]
    }
   ],
   "source": [
    "letters = []\n",
    "for i, in enumerate([\"A\",\"B\",\"C\"]):\n",
    "    \n",
    "\n",
    "    "
   ]
  },
  {
   "cell_type": "code",
   "execution_count": 67,
   "metadata": {},
   "outputs": [
    {
     "name": "stdout",
     "output_type": "stream",
     "text": [
      "0\n",
      "1\n",
      "2\n"
     ]
    }
   ],
   "source": [
    "letters = [\"x\", \"y\", \"z\"]\n",
    "for letter in range(len(letters)):\n",
    "    print(letter)"
   ]
  },
  {
   "cell_type": "code",
   "execution_count": 69,
   "metadata": {},
   "outputs": [
    {
     "ename": "ValueError",
     "evalue": "not enough values to unpack (expected 2, got 1)",
     "output_type": "error",
     "traceback": [
      "\u001b[0;31m---------------------------------------------------------------------------\u001b[0m",
      "\u001b[0;31mValueError\u001b[0m                                Traceback (most recent call last)",
      "\u001b[0;32m<ipython-input-69-5d40d16100a4>\u001b[0m in \u001b[0;36m<module>\u001b[0;34m\u001b[0m\n\u001b[1;32m      1\u001b[0m \u001b[0mz\u001b[0m \u001b[0;34m=\u001b[0m \u001b[0mletters\u001b[0m\u001b[0;34m\u001b[0m\u001b[0;34m\u001b[0m\u001b[0m\n\u001b[0;32m----> 2\u001b[0;31m \u001b[0;32mfor\u001b[0m \u001b[0mi\u001b[0m\u001b[0;34m,\u001b[0m \u001b[0mletter\u001b[0m \u001b[0;32min\u001b[0m \u001b[0mz\u001b[0m\u001b[0;34m:\u001b[0m\u001b[0;34m\u001b[0m\u001b[0;34m\u001b[0m\u001b[0m\n\u001b[0m\u001b[1;32m      3\u001b[0m     \u001b[0mprint\u001b[0m\u001b[0;34m(\u001b[0m\u001b[0mletter\u001b[0m\u001b[0;34m)\u001b[0m\u001b[0;34m\u001b[0m\u001b[0;34m\u001b[0m\u001b[0m\n",
      "\u001b[0;31mValueError\u001b[0m: not enough values to unpack (expected 2, got 1)"
     ]
    }
   ],
   "source": [
    "z = enumerate(letters)\n",
    "for i, letter in z:\n",
    "    print(letter)"
   ]
  },
  {
   "cell_type": "code",
   "execution_count": null,
   "metadata": {},
   "outputs": [],
   "source": [
    "squares = [\"orange\", \"orange\", \"purple\", \"blue\"]\n",
    "newsquares = []\n",
    "i = 0\n",
    "while(squares[i] == \"orange\"):\n",
    "    newsquares.append(squares[i])\n",
    "    i = i + 1\n",
    "print(newsquares)"
   ]
  },
  {
   "cell_type": "code",
   "execution_count": null,
   "metadata": {},
   "outputs": [],
   "source": [
    "squares = ['orange', 'orange', 'purple', 'blue ', 'orange']\n",
    "new_squares = [\"x\"]\n",
    "i = 0\n",
    "while(squares[i] == 'orange'):\n",
    "    new_squares.append(squares[i])\n",
    "    i = i + 1\n",
    "print (new_squares)"
   ]
  },
  {
   "cell_type": "code",
   "execution_count": 3,
   "metadata": {},
   "outputs": [
    {
     "name": "stdout",
     "output_type": "stream",
     "text": [
      "1999\n",
      "1998\n",
      "1991\n",
      "2000\n"
     ]
    }
   ],
   "source": [
    "dates = [1999, 1998,1991,2000]\n",
    "for date in dates:\n",
    "    print(date)"
   ]
  },
  {
   "cell_type": "markdown",
   "metadata": {},
   "source": [
    "# Functions"
   ]
  },
  {
   "cell_type": "code",
   "execution_count": 8,
   "metadata": {},
   "outputs": [],
   "source": [
    "def add1(a):\n",
    "    \"\"\"add 1 to a\"\"\"\n",
    "    b = a + 1\n",
    "    return b\n",
    "    "
   ]
  },
  {
   "cell_type": "code",
   "execution_count": 5,
   "metadata": {},
   "outputs": [
    {
     "data": {
      "text/plain": [
       "2"
      ]
     },
     "execution_count": 5,
     "metadata": {},
     "output_type": "execute_result"
    }
   ],
   "source": [
    "add1(1)"
   ]
  },
  {
   "cell_type": "code",
   "execution_count": 6,
   "metadata": {},
   "outputs": [],
   "source": [
    "b = add1(4)"
   ]
  },
  {
   "cell_type": "code",
   "execution_count": 7,
   "metadata": {},
   "outputs": [
    {
     "data": {
      "text/plain": [
       "5"
      ]
     },
     "execution_count": 7,
     "metadata": {},
     "output_type": "execute_result"
    }
   ],
   "source": [
    "b"
   ]
  },
  {
   "cell_type": "code",
   "execution_count": 9,
   "metadata": {},
   "outputs": [
    {
     "name": "stdout",
     "output_type": "stream",
     "text": [
      "Help on function add1 in module __main__:\n",
      "\n",
      "add1(a)\n",
      "    add 1 to a\n",
      "\n"
     ]
    }
   ],
   "source": [
    "help(add1)"
   ]
  },
  {
   "cell_type": "code",
   "execution_count": 12,
   "metadata": {},
   "outputs": [],
   "source": [
    "def Mult(a, b):\n",
    "    c = a + b\n",
    "    return c\n"
   ]
  },
  {
   "cell_type": "code",
   "execution_count": 13,
   "metadata": {},
   "outputs": [
    {
     "data": {
      "text/plain": [
       "'Hans Gerter'"
      ]
     },
     "execution_count": 13,
     "metadata": {},
     "output_type": "execute_result"
    }
   ],
   "source": [
    "Mult(\"Hans\",\" Gerter\")"
   ]
  },
  {
   "cell_type": "code",
   "execution_count": 18,
   "metadata": {},
   "outputs": [],
   "source": [
    "def output():\n",
    "    print(\"output\")\n",
    "    #return None"
   ]
  },
  {
   "cell_type": "code",
   "execution_count": 16,
   "metadata": {},
   "outputs": [
    {
     "name": "stdout",
     "output_type": "stream",
     "text": [
      "output\n"
     ]
    }
   ],
   "source": [
    "output()\n"
   ]
  },
  {
   "cell_type": "code",
   "execution_count": 72,
   "metadata": {},
   "outputs": [],
   "source": [
    "def print_stuff(stuff):\n",
    "    for i, s in enumerate(stuff):\n",
    "        print(\"Album\", i, \"Rating is\",s)"
   ]
  },
  {
   "cell_type": "code",
   "execution_count": 73,
   "metadata": {},
   "outputs": [],
   "source": [
    "album_ratings = [10,9,8]"
   ]
  },
  {
   "cell_type": "code",
   "execution_count": 74,
   "metadata": {},
   "outputs": [
    {
     "name": "stdout",
     "output_type": "stream",
     "text": [
      "Album 0 Rating is 10\n",
      "Album 1 Rating is 9\n",
      "Album 2 Rating is 8\n"
     ]
    }
   ],
   "source": [
    "print_stuff(album_ratings)"
   ]
  },
  {
   "cell_type": "code",
   "execution_count": 79,
   "metadata": {},
   "outputs": [
    {
     "name": "stdout",
     "output_type": "stream",
     "text": [
      "0\n",
      "1\n",
      "2\n"
     ]
    }
   ],
   "source": [
    "for i in range(len(album_ratings)):\n",
    "    print(i)"
   ]
  },
  {
   "cell_type": "code",
   "execution_count": 80,
   "metadata": {},
   "outputs": [],
   "source": [
    "#Collecting Arguments"
   ]
  },
  {
   "cell_type": "code",
   "execution_count": 81,
   "metadata": {},
   "outputs": [],
   "source": [
    "def artist_names(*names):\n",
    "    for name in names:\n",
    "        print(name)"
   ]
  },
  {
   "cell_type": "code",
   "execution_count": 83,
   "metadata": {},
   "outputs": [
    {
     "name": "stdout",
     "output_type": "stream",
     "text": [
      "Bushido\n",
      "Fler\n",
      "Capital Bra\n",
      "Sido\n"
     ]
    }
   ],
   "source": [
    "artist_names(\"Bushido\", \"Fler\", \"Capital Bra\",\"Sido\")"
   ]
  },
  {
   "cell_type": "code",
   "execution_count": 85,
   "metadata": {},
   "outputs": [],
   "source": [
    "#Global local scope"
   ]
  },
  {
   "cell_type": "code",
   "execution_count": 91,
   "metadata": {},
   "outputs": [],
   "source": [
    "def thriller():\n",
    "    Date = 1991 #local\n",
    "    return(Date)\n",
    "\n",
    "Date = 2017 #global"
   ]
  },
  {
   "cell_type": "code",
   "execution_count": 92,
   "metadata": {},
   "outputs": [
    {
     "name": "stdout",
     "output_type": "stream",
     "text": [
      "1991\n"
     ]
    }
   ],
   "source": [
    "print(thriller())"
   ]
  },
  {
   "cell_type": "code",
   "execution_count": 90,
   "metadata": {},
   "outputs": [
    {
     "data": {
      "text/plain": [
       "2017"
      ]
     },
     "execution_count": 90,
     "metadata": {},
     "output_type": "execute_result"
    }
   ],
   "source": [
    "Date"
   ]
  },
  {
   "cell_type": "code",
   "execution_count": 96,
   "metadata": {},
   "outputs": [],
   "source": [
    "def pink_floyd():\n",
    "    global claimed_sales \n",
    "    claimed_sales = 450000000\n",
    "    return claimed_sales"
   ]
  },
  {
   "cell_type": "code",
   "execution_count": 98,
   "metadata": {},
   "outputs": [
    {
     "name": "stdout",
     "output_type": "stream",
     "text": [
      "450000000\n"
     ]
    }
   ],
   "source": [
    "print(pink_floyd())"
   ]
  },
  {
   "cell_type": "code",
   "execution_count": 99,
   "metadata": {},
   "outputs": [
    {
     "data": {
      "text/plain": [
       "450000000"
      ]
     },
     "execution_count": 99,
     "metadata": {},
     "output_type": "execute_result"
    }
   ],
   "source": [
    "claimed_sales"
   ]
  },
  {
   "cell_type": "markdown",
   "metadata": {},
   "source": [
    "# Objects and Classes"
   ]
  },
  {
   "cell_type": "code",
   "execution_count": 121,
   "metadata": {},
   "outputs": [],
   "source": [
    "ratings = [10,3,5,7,9,0,2] \n",
    "ratings.sort()\n"
   ]
  },
  {
   "cell_type": "code",
   "execution_count": 122,
   "metadata": {},
   "outputs": [
    {
     "name": "stdout",
     "output_type": "stream",
     "text": [
      "[0, 2, 3, 5, 7, 9, 10]\n"
     ]
    }
   ],
   "source": [
    "print(ratings)"
   ]
  },
  {
   "cell_type": "code",
   "execution_count": 123,
   "metadata": {},
   "outputs": [
    {
     "data": {
      "text/plain": [
       "[10, 9, 7, 5, 3, 2, 0]"
      ]
     },
     "execution_count": 123,
     "metadata": {},
     "output_type": "execute_result"
    }
   ],
   "source": [
    "ratings.reverse()\n",
    "ratings"
   ]
  },
  {
   "cell_type": "code",
   "execution_count": 137,
   "metadata": {},
   "outputs": [],
   "source": [
    "import matplotlib.pyplot as plt\n",
    "%matplotlib inline\n",
    "\n",
    "class Circle(object):\n",
    "    def __init__(self, radius, color=\"red\"):\n",
    "        self.radius = radius\n",
    "        self.color = color\n",
    "    def add_radius(self, r):\n",
    "        self.radius = self.radius + r\n",
    "        return(self.radius)\n",
    "    def drawCircle(self):\n",
    "        plt.gca().add_patch(plt.Circle((0, 0), radius=self.radius, fc=self.color))\n",
    "        plt.axis(\"scaled\")\n",
    "        plt.show()\n",
    "\n",
    "circle1 = Circle(10)"
   ]
  },
  {
   "cell_type": "code",
   "execution_count": 138,
   "metadata": {},
   "outputs": [],
   "source": [
    "circle1.radius = 27"
   ]
  },
  {
   "cell_type": "code",
   "execution_count": 139,
   "metadata": {},
   "outputs": [
    {
     "data": {
      "text/plain": [
       "<__main__.Circle at 0x10fa46240>"
      ]
     },
     "execution_count": 139,
     "metadata": {},
     "output_type": "execute_result"
    }
   ],
   "source": [
    "circle1.radius\n",
    "circle1"
   ]
  },
  {
   "cell_type": "code",
   "execution_count": 141,
   "metadata": {},
   "outputs": [
    {
     "data": {
      "text/plain": [
       "18"
      ]
     },
     "execution_count": 141,
     "metadata": {},
     "output_type": "execute_result"
    }
   ],
   "source": [
    "circle1.add_radius(8)"
   ]
  },
  {
   "cell_type": "code",
   "execution_count": 152,
   "metadata": {},
   "outputs": [
    {
     "data": {
      "text/plain": [
       "'green'"
      ]
     },
     "execution_count": 152,
     "metadata": {},
     "output_type": "execute_result"
    }
   ],
   "source": [
    "circle1.color = \"green\"\n",
    "circle1.color"
   ]
  },
  {
   "cell_type": "code",
   "execution_count": 163,
   "metadata": {},
   "outputs": [
    {
     "data": {
      "image/png": "[encoded data removed]",
      "text/plain": [
       "<Figure size 432x288 with 1 Axes>"
      ]
     },
     "metadata": {
      "needs_background": "light"
     },
     "output_type": "display_data"
    }
   ],
   "source": [
    "circle1.drawCircle()"
   ]
  },
  {
   "cell_type": "code",
   "execution_count": 195,
   "metadata": {},
   "outputs": [],
   "source": [
    "example1 = \"/Users/Dennis/Desktop/HOME/DataScience/JuypterNotebooks/Nikola_Tesla.txt\"\n",
    "file1 = open(example1, \"r\")\n"
   ]
  },
  {
   "cell_type": "code",
   "execution_count": 196,
   "metadata": {},
   "outputs": [
    {
     "data": {
      "text/plain": [
       "'/Users/Dennis/Desktop/HOME/DataScience/JuypterNotebooks/Nikola_Tesla.txt'"
      ]
     },
     "execution_count": 196,
     "metadata": {},
     "output_type": "execute_result"
    }
   ],
   "source": [
    "file1.name"
   ]
  },
  {
   "cell_type": "code",
   "execution_count": 197,
   "metadata": {},
   "outputs": [
    {
     "data": {
      "text/plain": [
       "'r'"
      ]
     },
     "execution_count": 197,
     "metadata": {},
     "output_type": "execute_result"
    }
   ],
   "source": [
    "file1.mode"
   ]
  },
  {
   "cell_type": "code",
   "execution_count": 198,
   "metadata": {},
   "outputs": [
    {
     "name": "stdout",
     "output_type": "stream",
     "text": [
      "Nikola Tesla: Das betrogene Genie\n",
      "Der Serbe Nikola Tesla war einer der genialsten Erfinder aller Zeiten, doch immer wieder ließ er sich um die Früchte seiner Arbeit bringen.\n",
      "Mit einem Fingerschnippen eröffnet der in die USA emigrierte Serbe Nikola Tesla an einem Abend im Jahr 1891 die Vorstellung: Augenblicklich lodert ein roter Feuerball in seiner Hand auf. Behutsam lässt der hoch-gewachsene Mann die Flammen auf seinen weißen Frack, dann über sein schwarzes, in der - Mitte gescheiteltes Haar gleiten. Schließlich verstaut der Magier – zum Erstaunen des Publikums gänzlich unversehrt – das geheimnisvolle Feuer in einer Holzschachtel.\n",
      "„Jetzt werde ich Ihnen Tageslicht machen“, ruft Tesla. Mit einem Mal erstrahlt der Vorführungsraum, sein Labor in der New Yorker South Fifth Avenue, in wundersam hellem Licht.\n",
      "\n",
      "Dann springt der Erfinder auf eine Plattform, die mit einem elektrischen Spannungsgeber verbunden ist. Langsam dreht er den Regler hoch, bis sein Körper schließlich einer Spannung von zwei Millionen Volt ausgesetzt ist.\n",
      "\n",
      "Elektrische Entladungen knistern um seinen Leib. Blitze und Flammen zucken aus seinen Händen. Als Tesla die Spannung ausschaltet, umflirrt ihn, so erinnern sich später manche, noch immer ein bläuliches Glimmen. Der „Magier der Elektrizität“ liebt es, New Yorks High Society mit seinen Inszenierungen zu verzaubern und\n",
      "\n",
      "Reportern die Kraft und Gefahrlosigkeit des von ihm entwickelten Stromsystems zu präsentieren. Nicht zuletzt sind seine spektakulären Vorführungen Propaganda im Krieg um die weltweite Elektrifizierung.\n",
      "\n",
      "Nikola Teslas Gegenspieler ist ein gerissener Geschäftsmann\n",
      "Es ist ein Krieg, den Tesla (wenn auch unfreiwillig) gegen einen zweiten, nicht weniger gefeierten Erfinder führt. Einen Mann von so anderem Naturell, dass er wie der Gegenentwurf zu Tesla anmutet: Thomas Alva Edison – hemdsärmelig, gerissen, geschäftstüchtig.\n",
      "\n",
      "Für den Amerikaner ist Tesla nicht mehr als ein „Wissenschaftspoet“, ein Theoretiker und glückloser Tüftler, dessen Ideen zwar „großartig, aber ausgesprochen unbrauchbar“ sind. Edison bemisst den Wert einer Erfindung daran, wie viele Dollar sie seinem Unternehmen einbringt.\n",
      "\n",
      "Tesla dagegen geht es nicht nur ums Geld: Der Zweck einer Erfindung, sagt er, bestehe vor allem in der Nutzbarmachung der Naturkräfte für die menschlichen Bedürfnisse.\n",
      "\n",
      "Der Kampf um den Strom: Tesla wird ihn gewinnen. Und doch – wie so oft in seinem Leben – als Verlierer daraus hervorgehen.\n",
      "\n",
      "Die geheimnisvolle Wirkkraft der Elektrizität scheint Nikola Tesla schon als Kind erfasst zu haben. Immer wieder sieht der am 10. Juli 1856 im kroatischen Dorf Smiljan geborene Sohn serbischer Eltern grelle Lichtblitze. „In einigen Fällen war die gesamte Luft um mich herum mit lebendigen, flammenden Zungen erfüllt“, erinnert sich Tesla später in seiner Autobiografie.\n",
      "\n",
      "Oft gehen diese Erscheinungen mit inneren Bildern einher. Dann sieht Tesla Räume oder Gegenstände vor seinem geistigen Auge, so klar, dass er Traum und Wirklichkeit kaum auseinanderzuhalten weiß. Mit der Zeit lernt er, diese visuellen Eingebungen zu kontrollieren. Er reist gedanklich in fremde Städte und Länder, unterhält sich im Geiste mit Menschen, schließt Freundschaften.\n"
     ]
    }
   ],
   "source": [
    "file_content = file1.read()\n",
    "file_content\n",
    "print(file_content)"
   ]
  },
  {
   "cell_type": "code",
   "execution_count": 201,
   "metadata": {},
   "outputs": [
    {
     "name": "stdout",
     "output_type": "stream",
     "text": [
      "[]\n"
     ]
    },
    {
     "ename": "AttributeError",
     "evalue": "'_io.TextIOWrapper' object has no attribute 'open'",
     "output_type": "error",
     "traceback": [
      "\u001b[0;31m---------------------------------------------------------------------------\u001b[0m",
      "\u001b[0;31mAttributeError\u001b[0m                            Traceback (most recent call last)",
      "\u001b[0;32m<ipython-input-201-d145baa909aa>\u001b[0m in \u001b[0;36m<module>\u001b[0;34m\u001b[0m\n\u001b[1;32m      2\u001b[0m \u001b[0mfirst27lines\u001b[0m \u001b[0;34m=\u001b[0m \u001b[0mfile1\u001b[0m\u001b[0;34m.\u001b[0m\u001b[0mreadlines\u001b[0m\u001b[0;34m(\u001b[0m\u001b[0;36m27\u001b[0m\u001b[0;34m)\u001b[0m\u001b[0;34m\u001b[0m\u001b[0;34m\u001b[0m\u001b[0m\n\u001b[1;32m      3\u001b[0m \u001b[0mprint\u001b[0m\u001b[0;34m(\u001b[0m\u001b[0mfirst27lines\u001b[0m\u001b[0;34m)\u001b[0m\u001b[0;34m\u001b[0m\u001b[0;34m\u001b[0m\u001b[0m\n\u001b[0;32m----> 4\u001b[0;31m \u001b[0mprint\u001b[0m\u001b[0;34m(\u001b[0m\u001b[0mfile1\u001b[0m\u001b[0;34m.\u001b[0m\u001b[0mopen\u001b[0m\u001b[0;34m)\u001b[0m\u001b[0;34m\u001b[0m\u001b[0;34m\u001b[0m\u001b[0m\n\u001b[0m",
      "\u001b[0;31mAttributeError\u001b[0m: '_io.TextIOWrapper' object has no attribute 'open'"
     ]
    }
   ],
   "source": [
    "\n",
    "first27lines = file1.readlines(27)\n",
    "print(first27lines)"
   ]
  },
  {
   "cell_type": "code",
   "execution_count": 202,
   "metadata": {},
   "outputs": [],
   "source": [
    "file1.close()"
   ]
  },
  {
   "cell_type": "code",
   "execution_count": 203,
   "metadata": {},
   "outputs": [
    {
     "name": "stdout",
     "output_type": "stream",
     "text": [
      "True\n"
     ]
    }
   ],
   "source": [
    "print(file1.closed)"
   ]
  },
  {
   "cell_type": "code",
   "execution_count": 223,
   "metadata": {},
   "outputs": [
    {
     "name": "stdout",
     "output_type": "stream",
     "text": [
      "Nikola Tesla: Das betrogene Genie\n",
      "Der Serbe Nikola Tesla war einer der genialsten Erfinder aller Zeiten, doch immer wieder ließ er sich um die Früchte seiner Arbeit bringen.\n",
      "Mit einem Fingerschnippen eröffnet der in die USA emigrierte Serbe Nikola Tesla an einem Abend im Jahr 1891 die Vorstellung: Augenblicklich lodert ein roter Feuerball in seiner Hand auf. Behutsam lässt der hoch-gewachsene Mann die Flammen auf seinen weißen Frack, dann über sein schwarzes, in der - Mitte gescheiteltes Haar gleiten. Schließlich verstaut der Magier – zum Erstaunen des Publikums gänzlich unversehrt – das geheimnisvolle Feuer in einer Holzschachtel.\n",
      "„Jetzt werde ich Ihnen Tageslicht machen“, ruft Tesla. Mit einem Mal erstrahlt der Vorführungsraum, sein Labor in der New Yorker South Fifth Avenue, in wundersam hellem Licht.\n",
      "\n",
      "Dann springt der Erfinder auf eine Plattform, die mit einem elektrischen Spannungsgeber verbunden ist. Langsam dreht er den Regler hoch, bis sein Körper schließlich einer Spannung von zwei Millionen Volt ausgesetzt ist.\n",
      "\n",
      "Elektrische Entladungen knistern um seinen Leib. Blitze und Flammen zucken aus seinen Händen. Als Tesla die Spannung ausschaltet, umflirrt ihn, so erinnern sich später manche, noch immer ein bläuliches Glimmen. Der „Magier der Elektrizität“ liebt es, New Yorks High Society mit seinen Inszenierungen zu verzaubern und\n",
      "\n",
      "Reportern die Kraft und Gefahrlosigkeit des von ihm entwickelten Stromsystems zu präsentieren. Nicht zuletzt sind seine spektakulären Vorführungen Propaganda im Krieg um die weltweite Elektrifizierung.\n",
      "\n",
      "Nikola Teslas Gegenspieler ist ein gerissener Geschäftsmann\n",
      "Es ist ein Krieg, den Tesla (wenn auch unfreiwillig) gegen einen zweiten, nicht weniger gefeierten Erfinder führt. Einen Mann von so anderem Naturell, dass er wie der Gegenentwurf zu Tesla anmutet: Thomas Alva Edison – hemdsärmelig, gerissen, geschäftstüchtig.\n",
      "\n",
      "Für den Amerikaner ist Tesla nicht mehr als ein „Wissenschaftspoet“, ein Theoretiker und glückloser Tüftler, dessen Ideen zwar „großartig, aber ausgesprochen unbrauchbar“ sind. Edison bemisst den Wert einer Erfindung daran, wie viele Dollar sie seinem Unternehmen einbringt.\n",
      "\n",
      "Tesla dagegen geht es nicht nur ums Geld: Der Zweck einer Erfindung, sagt er, bestehe vor allem in der Nutzbarmachung der Naturkräfte für die menschlichen Bedürfnisse.\n",
      "\n",
      "Der Kampf um den Strom: Tesla wird ihn gewinnen. Und doch – wie so oft in seinem Leben – als Verlierer daraus hervorgehen.\n",
      "\n",
      "Die geheimnisvolle Wirkkraft der Elektrizität scheint Nikola Tesla schon als Kind erfasst zu haben. Immer wieder sieht der am 10. Juli 1856 im kroatischen Dorf Smiljan geborene Sohn serbischer Eltern grelle Lichtblitze. „In einigen Fällen war die gesamte Luft um mich herum mit lebendigen, flammenden Zungen erfüllt“, erinnert sich Tesla später in seiner Autobiografie.\n",
      "\n",
      "Oft gehen diese Erscheinungen mit inneren Bildern einher. Dann sieht Tesla Räume oder Gegenstände vor seinem geistigen Auge, so klar, dass er Traum und Wirklichkeit kaum auseinanderzuhalten weiß. Mit der Zeit lernt er, diese visuellen Eingebungen zu kontrollieren. Er reist gedanklich in fremde Städte und Länder, unterhält sich im Geiste mit Menschen, schließt Freundschaften.\n",
      "Der junge Tüftler arbeitet ohne Zeichnungen und Modelle\n",
      "Als Tesla mit 17 Jahren beginnt, sich „ernsthaft mit Erfindungen“ zu befassen, offenbart sich seine Vorstellungskraft: Er braucht keine Modelle, Zeichnungen oder Experimente, um Geräte zu entwickeln – er verfolgt den gesamten Schaffensprozess einer Erfindung im Kopf. Dort baut er die Apparaturen auf, bessert Fehler aus, lässt sie laufen. „Es ist völlig ohne Bedeutung für mich, ob ich eine Turbine in meinem Geist oder in der Werkstatt betreibe“, schreibt er. „Ich kann sogar bemerken, wenn sie aus dem Gleichgewicht gerät.“\n",
      "\n",
      "1875 erhält der 19-Jährige ein Stipendium an der Technischen Hochschule in Graz. Er lernt wie besessen – manchmal von drei Uhr morgens bis abends um elf – und besteht im ersten Jahr gleich neun Examina mit Bestnote. „Ich\n",
      "\n",
      "besaß eine wahre Manie, alles, was ich einmal begonnen hatte, auch zu Ende zu führen“, erinnert sich Tesla später. Als er Voltaire zu lesen beginnt, stellt er zu seinem Leidwesen fest, dass „dieses Monster“ an die 100 Bücher geschrieben hat – quält sich aber dennoch durch das Mammutwerk.\n",
      "Ohnehin hängt dem jungen Mann etwas Zwanghaftes an. Er hegt eine starke Abneigung gegen Perlen und Ohrringe, ekelt sich vor den Haaren anderer Leute. Ihm wird heiß, wenn er einen Pfirsich sieht. Er wiederholt bestimmte\n",
      "\n",
      "Tätigkeiten genau so oft, dass die Anzahl der Wiederholungen durch drei teilbar ist. Stets zählt er die Schritte beim\n",
      "\n",
      "Gehen, berechnet den Rauminhalt von Suppentellern, Kaffeetassen, Lebensmitteln. „Wenn ich das nicht tat, schmeckte mir mein Essen nicht“, notiert er.\n",
      "\n",
      "In Graz stößt Tesla schließlich auf jenes mysteriöse Forschungsgebiet, das ihn Zeit seines Lebens nicht mehr loslassen wird: die Elektrizität. Für die meisten Menschen jener Zeit ist Strom noch ein okkulter Saft, der wie von Geisterhand durch Drähte fließt. Tesla möchte die Gesetze dieses Fluidums begreifen – und ist instinktiv davon überzeugt, dass die Zukunft einem damals noch nicht praxistauglichen System gehört, dem Wechselstrom.\n",
      "\n",
      "Nikola Tesla glaubt an die Zukunft des Wechselstroms\n",
      "Anders als bei einem Gleichstrom-Generator, der mit einem fest montierten Magneten und einer im Inneren des Geräts rotierenden Spule Strom erzeugt, dreht sich beim Wechselstrom-Generator der Magnet im Zentrum und produziert so in den außen angebrachten Spulen Strom.\n",
      "\n",
      "Der Vorteil: Der Strom muss nicht mehr umständlich mithilfe von Funken sprühenden Schleifkontakten an einer rotierenden Spule abgenommen werden. Er entsteht stattdessen im äußeren, statischen Teil des Generators.\n",
      "\n",
      "Doch sämtliche elektrisch betriebenen Geräte jener Zeit beziehen ihre Kraft über den permanent in eine Richtung fließenden Gleichstrom. Vor allem Elektromotoren, die per Wechselstrom betrieben werden, halten Wissenschaftler für undenkbar. Tesla aber vertraut seiner Intuition. Im Geiste testet er einen Wechselstrom-Motor nach dem anderen, verfolgt gedanklich, wie der schnell wechselnde Strom durch die Schaltkreise rauscht. Zunächst ohne Erfolg.\n",
      "\n",
      "Es dauert sieben Jahre, bis der nunmehr bei einer Budapester Telefongesellschaft angestellte Ingenieur den Durchbruch schafft. Während eines abendlichen Spaziergangs 1882 durch den Stadtpark schießt ihm die Lösung „wie ein Blitz“ durch den Kopf.\n",
      "\n",
      "Tesla greift nach ei-nem Stock und zeichnet das Diagramm eines gänzlich neuartigen Motors in den Staub, bei dem außen angebrachte Spulen, die von Wechselströmen durchflossen werden, ein rotierendes Magnetfeld erzeugen. Dadurch wirken auf den Rotor im Inneren Kräfte, die ihn antreiben.\n",
      "Wie im Rausch entwickelt er in den folgenden Wochen weite-re Motoren, Dynamos und Transformatoren, die allesamt Wechselstrom benötigen – oder erzeugen. „Es war ein geistiger Zustand von Glück, so vollständig, wie ich es nie zuvor im Leben gekannt habe“, schreibt er. „Die Ideen kamen in einem ununterbrochenen Strom, und die einzige Schwierigkeit, die ich hatte, war die, sie festzuhalten.“\n",
      "\n",
      "Tesla erkennt auch, dass Wechselstrom einen entscheidenden Vorteil gegenüber Gleichstrom hat: Er kann aufgrund seiner physikalischen Natur nahezu verlustfrei über Hunderte von Kilometern durch die Kabel geschickt werden. Gleichstrom dagegen lässt sich lediglich über kurze Strecken transportieren.\n",
      "\n",
      "Zwei Jahre später, 1884, kündigt er in seiner Firma und macht sich mit einem Empfehlungsschreiben in der Hand auf den Weg nach New York. Er will sich dort bei dem großen Thomas Alva Edison um eine Anstellung bemühen und ihn für seine bahnbrechende Erfindung begeistern.\n",
      "\n",
      "Edison sagt dem Genie eine Prämie von 50.000 Dollar zu\n",
      "Mitten in Manhattan hat der Glühbirnen-Magnat das weltweit erste öffentliche Kraftwerk errichtet. Allerdings vermag der dort produzierte Gleichstrom nur die elektrischen Straßenlaternen im Umkreis weniger Hundert Meter zum Leuchten zu bringen. Deshalb plant Edison, die Stadt mit einem Netz von Generatoren zu überziehen.\n",
      "\n",
      "Das Empfehlungsschreiben verschafft Tesla ein Vorstellungsgespräch. Doch schon die erste Begegnung mit Edison verläuft ernüchternd: Als Tesla die Vorzüge seines Stromsystems darlegt, erwidert der Amerikaner verärgert, er solle mit dem Unsinn aufhören. „Die Leute mögen den Gleichstrom, und er ist alles, womit ich mich je abgeben werde.“ Allerdings erkennt Edison das technische Talent des jungen Serben, stellt ihn ein – und verspricht Tesla sogar eine Prämie von 50 000 US-Dollar, falls es ihm gelingen sollte, die Leistung der Gleichstrom-Dynamos zu verbessern.\n",
      "\n",
      "Tesla nimmt das Angebot an und kann seinem Chef nach fast einem Jahr harter Arbeit den Erfolg melden: Die Umbauten an Edisons Dynamos sind abgeschlossen, die Effizienz ist wesentlich gesteigert.\n",
      "\n",
      "Doch die zugesagte Belohnung bleibt aus – Edison weigert sich, die Prämie zu zahlen: „Tesla, Sie verstehen den amerikanischen Humor nicht“, erklärt er. Empört kündigt Tesla. Später wird er über das angebliche Jahrhundertgenie schreiben: „Wenn Edison eine Nadel in einem Heuhaufen finden müsste, würde er sofort mit dem Eifer einer Biene darangehen, Strohhalm für Strohhalm zu untersuchen, bis er das gesuchte Objekt gefunden hätte. Ich war bedauernder Zeuge solcher Handlungen und wusste, dass ein wenig Theorie und Berechnung ihm 90 Prozent der Arbeit erspart hätten.“\n",
      "\n",
      "Nikola gründet seine eigene Firma\n",
      "Seine herausragende Arbeit bei der „Edison Electric Light Company“ hat Tesla in Fachkreisen bekannt gemacht. Und so nimmt der inzwischen 29-Jährige kurz nach seiner Kündigung das Angebot einer Gruppe von Investoren an und gründet eine eigene Firma, die „Tesla Electric Light and Manufacturing Company“.\n",
      "\n",
      "Doch wieder erfüllen sich seine Hoffnungen nicht. Statt Wechselstromsysteme zur Marktreife zu bringen, lassen sich die Geldgeber von ihm innovative Straßen- und Fabrikleuchten konstruieren. So tüftelt Tesla unter anderem an der Entwicklung einer Bogenlampe, erwirbt mehrere Patente – und wird nach Erfüllung seiner Aufgabe von den Investoren aus der Firma gedrängt und um seine Entlohnung betrogen.\n",
      "\n",
      "„Danach folgte eine Periode des Kampfes“, erinnert sich der Erfinder. Ein Jahr lang muss er sich gar als Tagelöhner im Straßenbau durchschlagen.\n",
      "\n",
      "Bis sein Schicksal im Frühjahr 1887 eine unerwartete Wende nimmt: Der Vorarbeiter seiner Baukolonne erfährt von Teslas angeblichem Wundermotor und vermittelt ihm den Kontakt zu Alfred K. Brown, dem Direktor der Western Union Telegraph Company (Telegraphenfirmen brauchen Strom – also interessiert Brown der Wechselstrom, der sich über weite Strecken ohne Verlust übertragen lässt).\n",
      "\n",
      "Unweit der Edison Company in Manhattan mieten sie ein geräumiges Labor, in dem Tesla endlich die praktische Umsetzung seines Wechselstromsystems vorantreiben kann. Der Krieg um den Strom beginnt: Tesla bringt ein Patent nach dem anderen für Komponenten seiner neuartigen Motoren heraus, hält Vorträge, setzt sich vor begeistertem Publikum in Szene und gewinnt alsbald die Aufmerksamkeit des Industriellen George Westinghouse.\n",
      "\n",
      "Ein finanzstarker Industrieller erwirbt Nikola Teslas Patente\n",
      "Westinghouse, selbst Ingenieur und Erfinder, ist einige Jahre zuvor in den Strommarkt eingestiegen und hat mehrere Patente gekauft. Anders als Edison glaubt er an die Wirtschaftlichkeit der neuen Technik. Er erwirbt Teslas Patente, vereinbart die Entrichtung einer Lizenz-gebühr von zweieinhalb Dollar für jede Pferdestärke verkaufter „Tesla-Elektrizität“ – und zieht in den Kampf für den Wechselstrom.\n",
      "\n",
      "Aufgrund der geringen Energieverluste kann Westinghouse seine Kraftwerke außerhalb der Städte errichten. Zudem genügen dünnere Kupferkabel als bei Gleichstrom, sodass die Kosten für die Leitungen geringer sind als die des Konkurrenten. Deshalb kann Westinghouse den Strom günstiger verkaufen und hat schon bald mehr Kunden\n",
      "\n",
      "als Edison.\n",
      "\n",
      "Doch der holt zum Gegenschlag aus: Edison lässt Informationen über Unfälle mit Wechselstrom zusammentragen, schreibt Pamphlete und bedrängt Politiker. Er bezahlt Schuljungen dafür, dass sie ihm Katzen und Hunde fangen, lässt die Tiere in öffentlichen Vorführungen auf Metallplatten schnallen und jagt ihnen Wechselstrom durch den zuckenden Leib. Anschließend fragt er die Zuschauer: „Ist das die Erfindung, mit der Ihre lieben Frauen kochen sollen?“\n",
      "\n",
      "Im Januar 1889 tritt in New York ein Gesetz in Kraft, nach dem Mörder zum Tode durch Stromschlag verurteilt werden – und prompt plädiert Edison dafür, dafür Wechselstrom zu verwenden. Im August 1890 stirbt erstmals ein Mensch auf dem elektrischen Stuhl: durch Wechselstrom. Zweimal muss der Schalter umgelegt werden, bis der Verurteilte aufhört zu zucken.\n",
      "\n",
      "Doch Edisons Schmähkampagnen erzielen nicht die gewünschte Wirkung. Binnen zwei Jahren baut Westinghouse mehr als 30 Kraftwerke und versorgt 130 amerikanische Städte mit Teslas Wechselstrom.\n",
      "\n",
      "Nikola Tesla verzichtet auf Tantieme in Milliardenhöhe\n",
      "1893 wird der Auftrag für die Beleuchtung der Weltausstellung in Chicago ausgeschrieben: Westinghouse unterbietet Edison um fast eine Million Dollar. Ab November 1896 installieren weltweit Städte fast nur noch Wechselstromanlagen. Nikola Tesla steht kurz davor, einer der reichsten Männer der Welt zu werden: Denn laut Lizenzvertrag soll er für jeden verkauften Elektromotor, ja für alle Anwendungen der Wechselstrompatente Gebühren kassieren.\n",
      "\n",
      "Doch Geldgeber drängen Westinghouse dazu, den Vertrag zu ändern. Der Unternehmer macht Tesla deutlich, dass dessen Entschluss über das Schicksal der Firma entscheide. Tesla, der in Westinghouse einen Freund sieht, zerreißt seinen Vertrag und tauscht die Tantiemen für seine Patente gegen eine einmalige Pauschale von 216 000 Dollar ein.\n",
      "\n",
      "Damit verliert er nicht nur den Anspruch auf vermutlich zwölf Millionen Dollar bereits verdienter Honorare, sondern auch auf Milliarden, die in Zukunft angefallen wären.\n",
      "\n",
      "Doch nicht das Geld ist Tesla wichtig, sondern die Verbreitung seiner neuen Technik. Außerdem hat sich der Erfinder bereits in neue Aufgaben vertieft: Er hegt Visionen von einer Welt, in der alle Menschen unbegrenzt und kostenlos mit Energie versorgt werden. Stromnetze begreift Tesla nur als Zwischenstufe auf dem Weg zu einem kabellosen System, das Informationen und Energie über den ganzen Erdball senden soll.\n",
      "\n",
      "1898 entwickelt er die erste Fernbedienung. Im Jahr darauf gelingt es ihm, aus einem Labor in der Nähe von Colorado Springs Radiowellen über eine Entfernung von 1000 Kilometern zu übertragen. 1900 findet Tesla einen Financier für den Bau eines futuristischen Funkturms auf Long Island: Von dort möchte er unter anderem hochenergetische Wellen in die oberen Atmosphärenschichten schicken und deren Energie rund um den Globus verteilen.\n",
      "\n",
      "Als ein Investor abspringt, bricht Tesla zusammen\n",
      "Doch kurz vor der Fertigstellung des ambitionierten Projekts springt der Investor ab: Wenn jedermann weltweit unkontrolliert die Energie aus Long Island anzapfen kann, womit würde sich dann noch Geld verdienen lassen?\n",
      "\n",
      "Tesla erleidet daraufhin einen Nervenzusammenbruch, von dem er sich nur langsam erholt. 1917 wird das Stahlgerüst des Turms gesprengt und für 1000 Dollar Schrottwert verkauft. Im selben Jahr soll dem Erfinder die angesehene Edison-Medaille verliehen werden. Tesla lehnt zunächst ab: Nicht ihn würde die Auszeichnung ehren, sondern Edison.\n",
      "\n",
      "Bernard Arthur Behrend, der Jury-Präsident, überredet ihn schließlich, die Medaille doch entgegenzunehmen.\n",
      "\n",
      "„Wollten wir all das, was aus Teslas Werk bisher entstanden ist, wieder aus der Industrie entfernen“, sagt Behrend in\n",
      "\n",
      "einer Laudatio, „würden ihre Räder nicht weiterlaufen, unsere elektrischen Wagen und Züge stillstehen, unsere Städte wären dunkel und unsere Mühlen tot und nutzlos. Ja, so weittragend ist sein Werk, dass es zum Fundament unserer Industrie geworden ist.“\n",
      "\n",
      "Trotz des Ruhmes und seiner rund 700 Patente bleibt der Magier der Elektrizität finanziell erfolglos. Verarmt stirbt Nikola Tesla, der wohl selbstloseste Erfinder der Geschichte, am 7. Januar 1943 mit 86 Jahren in einem New Yorker Hotelzimmer.\n",
      "\n",
      "\n"
     ]
    }
   ],
   "source": [
    "with open(example1, \"r\") as file1:\n",
    "    file_content = file1.read()\n",
    "    print(file_content)"
   ]
  },
  {
   "cell_type": "code",
   "execution_count": 206,
   "metadata": {},
   "outputs": [
    {
     "data": {
      "text/plain": [
       "True"
      ]
     },
     "execution_count": 206,
     "metadata": {},
     "output_type": "execute_result"
    }
   ],
   "source": [
    "file1.closed"
   ]
  },
  {
   "cell_type": "code",
   "execution_count": 212,
   "metadata": {},
   "outputs": [
    {
     "name": "stdout",
     "output_type": "stream",
     "text": [
      "First line: Nikola Tesla: Das betrogene Genie\n",
      "\n"
     ]
    }
   ],
   "source": [
    "with open(example1, \"r\") as file1:\n",
    "    print(\"First line: \" + file1.readline())"
   ]
  },
  {
   "cell_type": "code",
   "execution_count": 217,
   "metadata": {},
   "outputs": [
    {
     "name": "stdout",
     "output_type": "stream",
     "text": [
      "Line 0 :  Nikola Tesla: Das betrogene Genie\n",
      "\n",
      "Line 1 :  Der Serbe Nikola Tesla war einer der genialsten Erfinder aller Zeiten, doch immer wieder ließ er sich um die Früchte seiner Arbeit bringen.\n",
      "\n",
      "Line 2 :  Mit einem Fingerschnippen eröffnet der in die USA emigrierte Serbe Nikola Tesla an einem Abend im Jahr 1891 die Vorstellung: Augenblicklich lodert ein roter Feuerball in seiner Hand auf. Behutsam lässt der hoch-gewachsene Mann die Flammen auf seinen weißen Frack, dann über sein schwarzes, in der - Mitte gescheiteltes Haar gleiten. Schließlich verstaut der Magier – zum Erstaunen des Publikums gänzlich unversehrt – das geheimnisvolle Feuer in einer Holzschachtel.\n",
      "\n",
      "Line 3 :  „Jetzt werde ich Ihnen Tageslicht machen“, ruft Tesla. Mit einem Mal erstrahlt der Vorführungsraum, sein Labor in der New Yorker South Fifth Avenue, in wundersam hellem Licht.\n",
      "\n",
      "Line 4 :  \n",
      "\n",
      "Line 5 :  Dann springt der Erfinder auf eine Plattform, die mit einem elektrischen Spannungsgeber verbunden ist. Langsam dreht er den Regler hoch, bis sein Körper schließlich einer Spannung von zwei Millionen Volt ausgesetzt ist.\n",
      "\n",
      "Line 6 :  \n",
      "\n",
      "Line 7 :  Elektrische Entladungen knistern um seinen Leib. Blitze und Flammen zucken aus seinen Händen. Als Tesla die Spannung ausschaltet, umflirrt ihn, so erinnern sich später manche, noch immer ein bläuliches Glimmen. Der „Magier der Elektrizität“ liebt es, New Yorks High Society mit seinen Inszenierungen zu verzaubern und\n",
      "\n",
      "Line 8 :  \n",
      "\n",
      "Line 9 :  Reportern die Kraft und Gefahrlosigkeit des von ihm entwickelten Stromsystems zu präsentieren. Nicht zuletzt sind seine spektakulären Vorführungen Propaganda im Krieg um die weltweite Elektrifizierung.\n",
      "\n",
      "Line 10 :  \n",
      "\n",
      "Line 11 :  Nikola Teslas Gegenspieler ist ein gerissener Geschäftsmann\n",
      "\n",
      "Line 12 :  Es ist ein Krieg, den Tesla (wenn auch unfreiwillig) gegen einen zweiten, nicht weniger gefeierten Erfinder führt. Einen Mann von so anderem Naturell, dass er wie der Gegenentwurf zu Tesla anmutet: Thomas Alva Edison – hemdsärmelig, gerissen, geschäftstüchtig.\n",
      "\n",
      "Line 13 :  \n",
      "\n",
      "Line 14 :  Für den Amerikaner ist Tesla nicht mehr als ein „Wissenschaftspoet“, ein Theoretiker und glückloser Tüftler, dessen Ideen zwar „großartig, aber ausgesprochen unbrauchbar“ sind. Edison bemisst den Wert einer Erfindung daran, wie viele Dollar sie seinem Unternehmen einbringt.\n",
      "\n",
      "Line 15 :  \n",
      "\n",
      "Line 16 :  Tesla dagegen geht es nicht nur ums Geld: Der Zweck einer Erfindung, sagt er, bestehe vor allem in der Nutzbarmachung der Naturkräfte für die menschlichen Bedürfnisse.\n",
      "\n",
      "Line 17 :  \n",
      "\n",
      "Line 18 :  Der Kampf um den Strom: Tesla wird ihn gewinnen. Und doch – wie so oft in seinem Leben – als Verlierer daraus hervorgehen.\n",
      "\n",
      "Line 19 :  \n",
      "\n",
      "Line 20 :  Die geheimnisvolle Wirkkraft der Elektrizität scheint Nikola Tesla schon als Kind erfasst zu haben. Immer wieder sieht der am 10. Juli 1856 im kroatischen Dorf Smiljan geborene Sohn serbischer Eltern grelle Lichtblitze. „In einigen Fällen war die gesamte Luft um mich herum mit lebendigen, flammenden Zungen erfüllt“, erinnert sich Tesla später in seiner Autobiografie.\n",
      "\n",
      "Line 21 :  \n",
      "\n",
      "Line 22 :  Oft gehen diese Erscheinungen mit inneren Bildern einher. Dann sieht Tesla Räume oder Gegenstände vor seinem geistigen Auge, so klar, dass er Traum und Wirklichkeit kaum auseinanderzuhalten weiß. Mit der Zeit lernt er, diese visuellen Eingebungen zu kontrollieren. Er reist gedanklich in fremde Städte und Länder, unterhält sich im Geiste mit Menschen, schließt Freundschaften.\n",
      "\n",
      "Line 23 :  Der junge Tüftler arbeitet ohne Zeichnungen und Modelle\n",
      "\n",
      "Line 24 :  Als Tesla mit 17 Jahren beginnt, sich „ernsthaft mit Erfindungen“ zu befassen, offenbart sich seine Vorstellungskraft: Er braucht keine Modelle, Zeichnungen oder Experimente, um Geräte zu entwickeln – er verfolgt den gesamten Schaffensprozess einer Erfindung im Kopf. Dort baut er die Apparaturen auf, bessert Fehler aus, lässt sie laufen. „Es ist völlig ohne Bedeutung für mich, ob ich eine Turbine in meinem Geist oder in der Werkstatt betreibe“, schreibt er. „Ich kann sogar bemerken, wenn sie aus dem Gleichgewicht gerät.“\n",
      "\n",
      "Line 25 :  \n",
      "\n",
      "Line 26 :  1875 erhält der 19-Jährige ein Stipendium an der Technischen Hochschule in Graz. Er lernt wie besessen – manchmal von drei Uhr morgens bis abends um elf – und besteht im ersten Jahr gleich neun Examina mit Bestnote. „Ich\n",
      "\n",
      "Line 27 :  \n",
      "\n",
      "Line 28 :  besaß eine wahre Manie, alles, was ich einmal begonnen hatte, auch zu Ende zu führen“, erinnert sich Tesla später. Als er Voltaire zu lesen beginnt, stellt er zu seinem Leidwesen fest, dass „dieses Monster“ an die 100 Bücher geschrieben hat – quält sich aber dennoch durch das Mammutwerk.\n",
      "\n",
      "Line 29 :  Ohnehin hängt dem jungen Mann etwas Zwanghaftes an. Er hegt eine starke Abneigung gegen Perlen und Ohrringe, ekelt sich vor den Haaren anderer Leute. Ihm wird heiß, wenn er einen Pfirsich sieht. Er wiederholt bestimmte\n",
      "\n",
      "Line 30 :  \n",
      "\n",
      "Line 31 :  Tätigkeiten genau so oft, dass die Anzahl der Wiederholungen durch drei teilbar ist. Stets zählt er die Schritte beim\n",
      "\n",
      "Line 32 :  \n",
      "\n",
      "Line 33 :  Gehen, berechnet den Rauminhalt von Suppentellern, Kaffeetassen, Lebensmitteln. „Wenn ich das nicht tat, schmeckte mir mein Essen nicht“, notiert er.\n",
      "\n",
      "Line 34 :  \n",
      "\n",
      "Line 35 :  In Graz stößt Tesla schließlich auf jenes mysteriöse Forschungsgebiet, das ihn Zeit seines Lebens nicht mehr loslassen wird: die Elektrizität. Für die meisten Menschen jener Zeit ist Strom noch ein okkulter Saft, der wie von Geisterhand durch Drähte fließt. Tesla möchte die Gesetze dieses Fluidums begreifen – und ist instinktiv davon überzeugt, dass die Zukunft einem damals noch nicht praxistauglichen System gehört, dem Wechselstrom.\n",
      "\n",
      "Line 36 :  \n",
      "\n",
      "Line 37 :  Nikola Tesla glaubt an die Zukunft des Wechselstroms\n",
      "\n",
      "Line 38 :  Anders als bei einem Gleichstrom-Generator, der mit einem fest montierten Magneten und einer im Inneren des Geräts rotierenden Spule Strom erzeugt, dreht sich beim Wechselstrom-Generator der Magnet im Zentrum und produziert so in den außen angebrachten Spulen Strom.\n",
      "\n",
      "Line 39 :  \n",
      "\n",
      "Line 40 :  Der Vorteil: Der Strom muss nicht mehr umständlich mithilfe von Funken sprühenden Schleifkontakten an einer rotierenden Spule abgenommen werden. Er entsteht stattdessen im äußeren, statischen Teil des Generators.\n",
      "\n",
      "Line 41 :  \n",
      "\n",
      "Line 42 :  Doch sämtliche elektrisch betriebenen Geräte jener Zeit beziehen ihre Kraft über den permanent in eine Richtung fließenden Gleichstrom. Vor allem Elektromotoren, die per Wechselstrom betrieben werden, halten Wissenschaftler für undenkbar. Tesla aber vertraut seiner Intuition. Im Geiste testet er einen Wechselstrom-Motor nach dem anderen, verfolgt gedanklich, wie der schnell wechselnde Strom durch die Schaltkreise rauscht. Zunächst ohne Erfolg.\n",
      "\n",
      "Line 43 :  \n",
      "\n",
      "Line 44 :  Es dauert sieben Jahre, bis der nunmehr bei einer Budapester Telefongesellschaft angestellte Ingenieur den Durchbruch schafft. Während eines abendlichen Spaziergangs 1882 durch den Stadtpark schießt ihm die Lösung „wie ein Blitz“ durch den Kopf.\n",
      "\n",
      "Line 45 :  \n",
      "\n",
      "Line 46 :  Tesla greift nach ei-nem Stock und zeichnet das Diagramm eines gänzlich neuartigen Motors in den Staub, bei dem außen angebrachte Spulen, die von Wechselströmen durchflossen werden, ein rotierendes Magnetfeld erzeugen. Dadurch wirken auf den Rotor im Inneren Kräfte, die ihn antreiben.\n",
      "\n",
      "Line 47 :  Wie im Rausch entwickelt er in den folgenden Wochen weite-re Motoren, Dynamos und Transformatoren, die allesamt Wechselstrom benötigen – oder erzeugen. „Es war ein geistiger Zustand von Glück, so vollständig, wie ich es nie zuvor im Leben gekannt habe“, schreibt er. „Die Ideen kamen in einem ununterbrochenen Strom, und die einzige Schwierigkeit, die ich hatte, war die, sie festzuhalten.“\n",
      "\n",
      "Line 48 :  \n",
      "\n",
      "Line 49 :  Tesla erkennt auch, dass Wechselstrom einen entscheidenden Vorteil gegenüber Gleichstrom hat: Er kann aufgrund seiner physikalischen Natur nahezu verlustfrei über Hunderte von Kilometern durch die Kabel geschickt werden. Gleichstrom dagegen lässt sich lediglich über kurze Strecken transportieren.\n",
      "\n",
      "Line 50 :  \n",
      "\n",
      "Line 51 :  Zwei Jahre später, 1884, kündigt er in seiner Firma und macht sich mit einem Empfehlungsschreiben in der Hand auf den Weg nach New York. Er will sich dort bei dem großen Thomas Alva Edison um eine Anstellung bemühen und ihn für seine bahnbrechende Erfindung begeistern.\n",
      "\n",
      "Line 52 :  \n",
      "\n",
      "Line 53 :  Edison sagt dem Genie eine Prämie von 50.000 Dollar zu\n",
      "\n",
      "Line 54 :  Mitten in Manhattan hat der Glühbirnen-Magnat das weltweit erste öffentliche Kraftwerk errichtet. Allerdings vermag der dort produzierte Gleichstrom nur die elektrischen Straßenlaternen im Umkreis weniger Hundert Meter zum Leuchten zu bringen. Deshalb plant Edison, die Stadt mit einem Netz von Generatoren zu überziehen.\n",
      "\n",
      "Line 55 :  \n",
      "\n",
      "Line 56 :  Das Empfehlungsschreiben verschafft Tesla ein Vorstellungsgespräch. Doch schon die erste Begegnung mit Edison verläuft ernüchternd: Als Tesla die Vorzüge seines Stromsystems darlegt, erwidert der Amerikaner verärgert, er solle mit dem Unsinn aufhören. „Die Leute mögen den Gleichstrom, und er ist alles, womit ich mich je abgeben werde.“ Allerdings erkennt Edison das technische Talent des jungen Serben, stellt ihn ein – und verspricht Tesla sogar eine Prämie von 50 000 US-Dollar, falls es ihm gelingen sollte, die Leistung der Gleichstrom-Dynamos zu verbessern.\n",
      "\n",
      "Line 57 :  \n",
      "\n",
      "Line 58 :  Tesla nimmt das Angebot an und kann seinem Chef nach fast einem Jahr harter Arbeit den Erfolg melden: Die Umbauten an Edisons Dynamos sind abgeschlossen, die Effizienz ist wesentlich gesteigert.\n",
      "\n",
      "Line 59 :  \n",
      "\n",
      "Line 60 :  Doch die zugesagte Belohnung bleibt aus – Edison weigert sich, die Prämie zu zahlen: „Tesla, Sie verstehen den amerikanischen Humor nicht“, erklärt er. Empört kündigt Tesla. Später wird er über das angebliche Jahrhundertgenie schreiben: „Wenn Edison eine Nadel in einem Heuhaufen finden müsste, würde er sofort mit dem Eifer einer Biene darangehen, Strohhalm für Strohhalm zu untersuchen, bis er das gesuchte Objekt gefunden hätte. Ich war bedauernder Zeuge solcher Handlungen und wusste, dass ein wenig Theorie und Berechnung ihm 90 Prozent der Arbeit erspart hätten.“\n",
      "\n",
      "Line 61 :  \n",
      "\n",
      "Line 62 :  Nikola gründet seine eigene Firma\n",
      "\n",
      "Line 63 :  Seine herausragende Arbeit bei der „Edison Electric Light Company“ hat Tesla in Fachkreisen bekannt gemacht. Und so nimmt der inzwischen 29-Jährige kurz nach seiner Kündigung das Angebot einer Gruppe von Investoren an und gründet eine eigene Firma, die „Tesla Electric Light and Manufacturing Company“.\n",
      "\n",
      "Line 64 :  \n",
      "\n",
      "Line 65 :  Doch wieder erfüllen sich seine Hoffnungen nicht. Statt Wechselstromsysteme zur Marktreife zu bringen, lassen sich die Geldgeber von ihm innovative Straßen- und Fabrikleuchten konstruieren. So tüftelt Tesla unter anderem an der Entwicklung einer Bogenlampe, erwirbt mehrere Patente – und wird nach Erfüllung seiner Aufgabe von den Investoren aus der Firma gedrängt und um seine Entlohnung betrogen.\n",
      "\n",
      "Line 66 :  \n",
      "\n",
      "Line 67 :  „Danach folgte eine Periode des Kampfes“, erinnert sich der Erfinder. Ein Jahr lang muss er sich gar als Tagelöhner im Straßenbau durchschlagen.\n",
      "\n",
      "Line 68 :  \n",
      "\n",
      "Line 69 :  Bis sein Schicksal im Frühjahr 1887 eine unerwartete Wende nimmt: Der Vorarbeiter seiner Baukolonne erfährt von Teslas angeblichem Wundermotor und vermittelt ihm den Kontakt zu Alfred K. Brown, dem Direktor der Western Union Telegraph Company (Telegraphenfirmen brauchen Strom – also interessiert Brown der Wechselstrom, der sich über weite Strecken ohne Verlust übertragen lässt).\n",
      "\n",
      "Line 70 :  \n",
      "\n",
      "Line 71 :  Unweit der Edison Company in Manhattan mieten sie ein geräumiges Labor, in dem Tesla endlich die praktische Umsetzung seines Wechselstromsystems vorantreiben kann. Der Krieg um den Strom beginnt: Tesla bringt ein Patent nach dem anderen für Komponenten seiner neuartigen Motoren heraus, hält Vorträge, setzt sich vor begeistertem Publikum in Szene und gewinnt alsbald die Aufmerksamkeit des Industriellen George Westinghouse.\n",
      "\n",
      "Line 72 :  \n",
      "\n",
      "Line 73 :  Ein finanzstarker Industrieller erwirbt Nikola Teslas Patente\n",
      "\n",
      "Line 74 :  Westinghouse, selbst Ingenieur und Erfinder, ist einige Jahre zuvor in den Strommarkt eingestiegen und hat mehrere Patente gekauft. Anders als Edison glaubt er an die Wirtschaftlichkeit der neuen Technik. Er erwirbt Teslas Patente, vereinbart die Entrichtung einer Lizenz-gebühr von zweieinhalb Dollar für jede Pferdestärke verkaufter „Tesla-Elektrizität“ – und zieht in den Kampf für den Wechselstrom.\n",
      "\n",
      "Line 75 :  \n",
      "\n",
      "Line 76 :  Aufgrund der geringen Energieverluste kann Westinghouse seine Kraftwerke außerhalb der Städte errichten. Zudem genügen dünnere Kupferkabel als bei Gleichstrom, sodass die Kosten für die Leitungen geringer sind als die des Konkurrenten. Deshalb kann Westinghouse den Strom günstiger verkaufen und hat schon bald mehr Kunden\n",
      "\n",
      "Line 77 :  \n",
      "\n",
      "Line 78 :  als Edison.\n",
      "\n",
      "Line 79 :  \n",
      "\n",
      "Line 80 :  Doch der holt zum Gegenschlag aus: Edison lässt Informationen über Unfälle mit Wechselstrom zusammentragen, schreibt Pamphlete und bedrängt Politiker. Er bezahlt Schuljungen dafür, dass sie ihm Katzen und Hunde fangen, lässt die Tiere in öffentlichen Vorführungen auf Metallplatten schnallen und jagt ihnen Wechselstrom durch den zuckenden Leib. Anschließend fragt er die Zuschauer: „Ist das die Erfindung, mit der Ihre lieben Frauen kochen sollen?“\n",
      "\n",
      "Line 81 :  \n",
      "\n",
      "Line 82 :  Im Januar 1889 tritt in New York ein Gesetz in Kraft, nach dem Mörder zum Tode durch Stromschlag verurteilt werden – und prompt plädiert Edison dafür, dafür Wechselstrom zu verwenden. Im August 1890 stirbt erstmals ein Mensch auf dem elektrischen Stuhl: durch Wechselstrom. Zweimal muss der Schalter umgelegt werden, bis der Verurteilte aufhört zu zucken.\n",
      "\n",
      "Line 83 :  \n",
      "\n",
      "Line 84 :  Doch Edisons Schmähkampagnen erzielen nicht die gewünschte Wirkung. Binnen zwei Jahren baut Westinghouse mehr als 30 Kraftwerke und versorgt 130 amerikanische Städte mit Teslas Wechselstrom.\n",
      "\n",
      "Line 85 :  \n",
      "\n",
      "Line 86 :  Nikola Tesla verzichtet auf Tantieme in Milliardenhöhe\n",
      "\n",
      "Line 87 :  1893 wird der Auftrag für die Beleuchtung der Weltausstellung in Chicago ausgeschrieben: Westinghouse unterbietet Edison um fast eine Million Dollar. Ab November 1896 installieren weltweit Städte fast nur noch Wechselstromanlagen. Nikola Tesla steht kurz davor, einer der reichsten Männer der Welt zu werden: Denn laut Lizenzvertrag soll er für jeden verkauften Elektromotor, ja für alle Anwendungen der Wechselstrompatente Gebühren kassieren.\n",
      "\n",
      "Line 88 :  \n",
      "\n",
      "Line 89 :  Doch Geldgeber drängen Westinghouse dazu, den Vertrag zu ändern. Der Unternehmer macht Tesla deutlich, dass dessen Entschluss über das Schicksal der Firma entscheide. Tesla, der in Westinghouse einen Freund sieht, zerreißt seinen Vertrag und tauscht die Tantiemen für seine Patente gegen eine einmalige Pauschale von 216 000 Dollar ein.\n",
      "\n",
      "Line 90 :  \n",
      "\n",
      "Line 91 :  Damit verliert er nicht nur den Anspruch auf vermutlich zwölf Millionen Dollar bereits verdienter Honorare, sondern auch auf Milliarden, die in Zukunft angefallen wären.\n",
      "\n",
      "Line 92 :  \n",
      "\n",
      "Line 93 :  Doch nicht das Geld ist Tesla wichtig, sondern die Verbreitung seiner neuen Technik. Außerdem hat sich der Erfinder bereits in neue Aufgaben vertieft: Er hegt Visionen von einer Welt, in der alle Menschen unbegrenzt und kostenlos mit Energie versorgt werden. Stromnetze begreift Tesla nur als Zwischenstufe auf dem Weg zu einem kabellosen System, das Informationen und Energie über den ganzen Erdball senden soll.\n",
      "\n",
      "Line 94 :  \n",
      "\n",
      "Line 95 :  1898 entwickelt er die erste Fernbedienung. Im Jahr darauf gelingt es ihm, aus einem Labor in der Nähe von Colorado Springs Radiowellen über eine Entfernung von 1000 Kilometern zu übertragen. 1900 findet Tesla einen Financier für den Bau eines futuristischen Funkturms auf Long Island: Von dort möchte er unter anderem hochenergetische Wellen in die oberen Atmosphärenschichten schicken und deren Energie rund um den Globus verteilen.\n",
      "\n",
      "Line 96 :  \n",
      "\n",
      "Line 97 :  Als ein Investor abspringt, bricht Tesla zusammen\n",
      "\n",
      "Line 98 :  Doch kurz vor der Fertigstellung des ambitionierten Projekts springt der Investor ab: Wenn jedermann weltweit unkontrolliert die Energie aus Long Island anzapfen kann, womit würde sich dann noch Geld verdienen lassen?\n",
      "\n",
      "Line 99 :  \n",
      "\n",
      "Line 100 :  Tesla erleidet daraufhin einen Nervenzusammenbruch, von dem er sich nur langsam erholt. 1917 wird das Stahlgerüst des Turms gesprengt und für 1000 Dollar Schrottwert verkauft. Im selben Jahr soll dem Erfinder die angesehene Edison-Medaille verliehen werden. Tesla lehnt zunächst ab: Nicht ihn würde die Auszeichnung ehren, sondern Edison.\n",
      "\n",
      "Line 101 :  \n",
      "\n",
      "Line 102 :  Bernard Arthur Behrend, der Jury-Präsident, überredet ihn schließlich, die Medaille doch entgegenzunehmen.\n",
      "\n",
      "Line 103 :  \n",
      "\n",
      "Line 104 :  „Wollten wir all das, was aus Teslas Werk bisher entstanden ist, wieder aus der Industrie entfernen“, sagt Behrend in\n",
      "\n",
      "Line 105 :  \n",
      "\n",
      "Line 106 :  einer Laudatio, „würden ihre Räder nicht weiterlaufen, unsere elektrischen Wagen und Züge stillstehen, unsere Städte wären dunkel und unsere Mühlen tot und nutzlos. Ja, so weittragend ist sein Werk, dass es zum Fundament unserer Industrie geworden ist.“\n",
      "\n",
      "Line 107 :  \n",
      "\n",
      "Line 108 :  Trotz des Ruhmes und seiner rund 700 Patente bleibt der Magier der Elektrizität finanziell erfolglos. Verarmt stirbt Nikola Tesla, der wohl selbstloseste Erfinder der Geschichte, am 7. Januar 1943 mit 86 Jahren in einem New Yorker Hotelzimmer.\n",
      "\n",
      "Line 109 :  \n",
      "\n"
     ]
    }
   ],
   "source": [
    "with open(example1,\"r\") as file1:\n",
    "    i = 0\n",
    "    for line in file1:\n",
    "        print(\"Line\", i, \": \", line)\n",
    "        i = i + 1"
   ]
  },
  {
   "cell_type": "code",
   "execution_count": 218,
   "metadata": {},
   "outputs": [],
   "source": [
    "with open(example1, \"r\") as file1:\n",
    "    file_as_list = file1.readlines()"
   ]
  },
  {
   "cell_type": "code",
   "execution_count": 220,
   "metadata": {},
   "outputs": [
    {
     "name": "stdout",
     "output_type": "stream",
     "text": [
      "Der Serbe Nikola Tesla war einer der genialsten Erfinder aller Zeiten, doch immer wieder ließ er sich um die Früchte seiner Arbeit bringen.\n",
      "\n"
     ]
    }
   ],
   "source": [
    "print(file_as_list[1])"
   ]
  },
  {
   "cell_type": "code",
   "execution_count": 228,
   "metadata": {},
   "outputs": [],
   "source": [
    "example2 = \"/Users/Dennis/Desktop/HOME/DataScience/JuypterNotebooks/test.txt\"\n",
    "with open(example2, \"w\") as file2:\n",
    "    file2.write(\"Dieser Text wurde durch die Programmiersprache Python kreiert\")    \n",
    "\n",
    "    "
   ]
  },
  {
   "cell_type": "code",
   "execution_count": 247,
   "metadata": {},
   "outputs": [
    {
     "name": "stdout",
     "output_type": "stream",
     "text": [
      "Dieser Text wurde durch die Programmiersprache Python kreiert\n"
     ]
    }
   ],
   "source": [
    "with open(example2, \"r\") as file2:\n",
    "    file2_content = file2.read()\n",
    "    print(file2_content)\n"
   ]
  },
  {
   "cell_type": "code",
   "execution_count": 248,
   "metadata": {},
   "outputs": [],
   "source": [
    "#writing elements from a list to a file"
   ]
  },
  {
   "cell_type": "code",
   "execution_count": 282,
   "metadata": {},
   "outputs": [],
   "source": [
    "lines = [\"This is line A\\n\", \"This is line B\\n\", \"This is line c\\n\"]\n",
    "with open(\"/Users/Dennis/Desktop/HOME/DataScience/JuypterNotebooks/test2.txt\" ,\"w\") as file3:\n",
    "    for line in lines:\n",
    "        file3.write(line)"
   ]
  },
  {
   "cell_type": "code",
   "execution_count": 267,
   "metadata": {},
   "outputs": [
    {
     "name": "stdout",
     "output_type": "stream",
     "text": [
      "0 This is line A\n",
      "\n",
      "1 This is line B\n",
      "\n",
      "2 This is line c\n",
      "\n"
     ]
    }
   ],
   "source": [
    "i = 0\n",
    "for line in lines:\n",
    "    print(i, line)\n",
    "    i = i + 1"
   ]
  },
  {
   "cell_type": "code",
   "execution_count": null,
   "metadata": {},
   "outputs": [],
   "source": [
    "#append string to file"
   ]
  },
  {
   "cell_type": "code",
   "execution_count": 283,
   "metadata": {},
   "outputs": [],
   "source": [
    "with open(\"/Users/Dennis/Desktop/HOME/DataScience/JuypterNotebooks/test2.txt\" ,\"a\") as file3:\n",
    "    file3.write(\"This text is appended with the flag \\\"a\\\" \")"
   ]
  },
  {
   "cell_type": "code",
   "execution_count": 273,
   "metadata": {},
   "outputs": [],
   "source": [
    "#copy file to a new file"
   ]
  },
  {
   "cell_type": "code",
   "execution_count": 288,
   "metadata": {},
   "outputs": [],
   "source": [
    "example3 = \"/Users/Dennis/Desktop/HOME/DataScience/JuypterNotebooks/Nikola_Tesla_copy.txt\"\n",
    "with open(example1,\"r\") as file1:\n",
    "    with open(example3, \"w\") as file4 :\n",
    "        for line in file1:\n",
    "            file4.write(line)"
   ]
  },
  {
   "cell_type": "code",
   "execution_count": 289,
   "metadata": {},
   "outputs": [],
   "source": [
    "with open(\"/Users/Dennis/Desktop/HOME/DataScience/JuypterNotebooks/test2.txt\", \"r\") as readfile:\n",
    "    with open(\"/Users/Dennis/Desktop/HOME/DataScience/JuypterNotebooks/test3.txt\",\"w\") as writefile:\n",
    "        for i in readfile:\n",
    "            writefile.write(i)"
   ]
  },
  {
   "cell_type": "markdown",
   "metadata": {},
   "source": [
    "# PANDAS"
   ]
  },
  {
   "cell_type": "code",
   "execution_count": 141,
   "metadata": {},
   "outputs": [
    {
     "data": {
      "text/html": [
       "<div>\n",
       "<style scoped>\n",
       "    .dataframe tbody tr th:only-of-type {\n",
       "        vertical-align: middle;\n",
       "    }\n",
       "\n",
       "    .dataframe tbody tr th {\n",
       "        vertical-align: top;\n",
       "    }\n",
       "\n",
       "    .dataframe thead th {\n",
       "        text-align: right;\n",
       "    }\n",
       "</style>\n",
       "<table border=\"1\" class=\"dataframe\">\n",
       "  <thead>\n",
       "    <tr style=\"text-align: right;\">\n",
       "      <th></th>\n",
       "      <th>country</th>\n",
       "      <th>almond</th>\n",
       "      <th>angelica</th>\n",
       "      <th>anise</th>\n",
       "      <th>anise_seed</th>\n",
       "      <th>apple</th>\n",
       "      <th>apple_brandy</th>\n",
       "      <th>apricot</th>\n",
       "      <th>armagnac</th>\n",
       "      <th>artemisia</th>\n",
       "      <th>...</th>\n",
       "      <th>whiskey</th>\n",
       "      <th>white_bread</th>\n",
       "      <th>white_wine</th>\n",
       "      <th>whole_grain_wheat_flour</th>\n",
       "      <th>wine</th>\n",
       "      <th>wood</th>\n",
       "      <th>yam</th>\n",
       "      <th>yeast</th>\n",
       "      <th>yogurt</th>\n",
       "      <th>zucchini</th>\n",
       "    </tr>\n",
       "  </thead>\n",
       "  <tbody>\n",
       "    <tr>\n",
       "      <th>0</th>\n",
       "      <td>Vietnamese</td>\n",
       "      <td>No</td>\n",
       "      <td>No</td>\n",
       "      <td>No</td>\n",
       "      <td>No</td>\n",
       "      <td>No</td>\n",
       "      <td>No</td>\n",
       "      <td>No</td>\n",
       "      <td>No</td>\n",
       "      <td>No</td>\n",
       "      <td>...</td>\n",
       "      <td>No</td>\n",
       "      <td>No</td>\n",
       "      <td>No</td>\n",
       "      <td>No</td>\n",
       "      <td>No</td>\n",
       "      <td>No</td>\n",
       "      <td>No</td>\n",
       "      <td>No</td>\n",
       "      <td>No</td>\n",
       "      <td>No</td>\n",
       "    </tr>\n",
       "    <tr>\n",
       "      <th>1</th>\n",
       "      <td>Vietnamese</td>\n",
       "      <td>No</td>\n",
       "      <td>No</td>\n",
       "      <td>No</td>\n",
       "      <td>No</td>\n",
       "      <td>No</td>\n",
       "      <td>No</td>\n",
       "      <td>No</td>\n",
       "      <td>No</td>\n",
       "      <td>No</td>\n",
       "      <td>...</td>\n",
       "      <td>No</td>\n",
       "      <td>No</td>\n",
       "      <td>No</td>\n",
       "      <td>No</td>\n",
       "      <td>No</td>\n",
       "      <td>No</td>\n",
       "      <td>No</td>\n",
       "      <td>No</td>\n",
       "      <td>No</td>\n",
       "      <td>No</td>\n",
       "    </tr>\n",
       "    <tr>\n",
       "      <th>2</th>\n",
       "      <td>Vietnamese</td>\n",
       "      <td>No</td>\n",
       "      <td>No</td>\n",
       "      <td>No</td>\n",
       "      <td>No</td>\n",
       "      <td>No</td>\n",
       "      <td>No</td>\n",
       "      <td>No</td>\n",
       "      <td>No</td>\n",
       "      <td>No</td>\n",
       "      <td>...</td>\n",
       "      <td>No</td>\n",
       "      <td>No</td>\n",
       "      <td>No</td>\n",
       "      <td>No</td>\n",
       "      <td>No</td>\n",
       "      <td>No</td>\n",
       "      <td>No</td>\n",
       "      <td>No</td>\n",
       "      <td>No</td>\n",
       "      <td>No</td>\n",
       "    </tr>\n",
       "    <tr>\n",
       "      <th>3</th>\n",
       "      <td>Vietnamese</td>\n",
       "      <td>No</td>\n",
       "      <td>No</td>\n",
       "      <td>No</td>\n",
       "      <td>No</td>\n",
       "      <td>No</td>\n",
       "      <td>No</td>\n",
       "      <td>No</td>\n",
       "      <td>No</td>\n",
       "      <td>No</td>\n",
       "      <td>...</td>\n",
       "      <td>No</td>\n",
       "      <td>No</td>\n",
       "      <td>No</td>\n",
       "      <td>No</td>\n",
       "      <td>No</td>\n",
       "      <td>No</td>\n",
       "      <td>No</td>\n",
       "      <td>No</td>\n",
       "      <td>No</td>\n",
       "      <td>No</td>\n",
       "    </tr>\n",
       "    <tr>\n",
       "      <th>4</th>\n",
       "      <td>Vietnamese</td>\n",
       "      <td>No</td>\n",
       "      <td>No</td>\n",
       "      <td>No</td>\n",
       "      <td>No</td>\n",
       "      <td>No</td>\n",
       "      <td>No</td>\n",
       "      <td>No</td>\n",
       "      <td>No</td>\n",
       "      <td>No</td>\n",
       "      <td>...</td>\n",
       "      <td>No</td>\n",
       "      <td>No</td>\n",
       "      <td>No</td>\n",
       "      <td>No</td>\n",
       "      <td>No</td>\n",
       "      <td>No</td>\n",
       "      <td>No</td>\n",
       "      <td>No</td>\n",
       "      <td>No</td>\n",
       "      <td>No</td>\n",
       "    </tr>\n",
       "  </tbody>\n",
       "</table>\n",
       "<p>5 rows × 384 columns</p>\n",
       "</div>"
      ],
      "text/plain": [
       "      country almond angelica anise anise_seed apple apple_brandy apricot  \\\n",
       "0  Vietnamese     No       No    No         No    No           No      No   \n",
       "1  Vietnamese     No       No    No         No    No           No      No   \n",
       "2  Vietnamese     No       No    No         No    No           No      No   \n",
       "3  Vietnamese     No       No    No         No    No           No      No   \n",
       "4  Vietnamese     No       No    No         No    No           No      No   \n",
       "\n",
       "  armagnac artemisia   ...    whiskey white_bread white_wine  \\\n",
       "0       No        No   ...         No          No         No   \n",
       "1       No        No   ...         No          No         No   \n",
       "2       No        No   ...         No          No         No   \n",
       "3       No        No   ...         No          No         No   \n",
       "4       No        No   ...         No          No         No   \n",
       "\n",
       "  whole_grain_wheat_flour wine wood yam yeast yogurt zucchini  \n",
       "0                      No   No   No  No    No     No       No  \n",
       "1                      No   No   No  No    No     No       No  \n",
       "2                      No   No   No  No    No     No       No  \n",
       "3                      No   No   No  No    No     No       No  \n",
       "4                      No   No   No  No    No     No       No  \n",
       "\n",
       "[5 rows x 384 columns]"
      ]
     },
     "execution_count": 141,
     "metadata": {},
     "output_type": "execute_result"
    }
   ],
   "source": [
    "import pandas as pd\n",
    "csv_path = \"/Users/Dennis/Desktop/HOME/DataScience/JuypterNotebooks/recipes.csv\"\n",
    "df = pd.read_csv(csv_path)\n",
    "df.head()\n"
   ]
  },
  {
   "cell_type": "code",
   "execution_count": 13,
   "metadata": {},
   "outputs": [],
   "source": [
    "#from dictionary to Pandas DataFrame"
   ]
  },
  {
   "cell_type": "code",
   "execution_count": 142,
   "metadata": {},
   "outputs": [
    {
     "data": {
      "text/html": [
       "<div>\n",
       "<style scoped>\n",
       "    .dataframe tbody tr th:only-of-type {\n",
       "        vertical-align: middle;\n",
       "    }\n",
       "\n",
       "    .dataframe tbody tr th {\n",
       "        vertical-align: top;\n",
       "    }\n",
       "\n",
       "    .dataframe thead th {\n",
       "        text-align: right;\n",
       "    }\n",
       "</style>\n",
       "<table border=\"1\" class=\"dataframe\">\n",
       "  <thead>\n",
       "    <tr style=\"text-align: right;\">\n",
       "      <th></th>\n",
       "      <th>Album</th>\n",
       "      <th>Released</th>\n",
       "      <th>Length</th>\n",
       "    </tr>\n",
       "  </thead>\n",
       "  <tbody>\n",
       "    <tr>\n",
       "      <th>0</th>\n",
       "      <td>Thriller</td>\n",
       "      <td>1982</td>\n",
       "      <td>00:42:19</td>\n",
       "    </tr>\n",
       "    <tr>\n",
       "      <th>1</th>\n",
       "      <td>Black in Black</td>\n",
       "      <td>1980</td>\n",
       "      <td>00:42:11</td>\n",
       "    </tr>\n",
       "    <tr>\n",
       "      <th>2</th>\n",
       "      <td>The Dark Side of the Moon</td>\n",
       "      <td>1973</td>\n",
       "      <td>00:42:49</td>\n",
       "    </tr>\n",
       "    <tr>\n",
       "      <th>3</th>\n",
       "      <td>The Bodyguard</td>\n",
       "      <td>1992</td>\n",
       "      <td>00:57:44</td>\n",
       "    </tr>\n",
       "    <tr>\n",
       "      <th>4</th>\n",
       "      <td>Bat out of hell</td>\n",
       "      <td>1977</td>\n",
       "      <td>00:46:33</td>\n",
       "    </tr>\n",
       "  </tbody>\n",
       "</table>\n",
       "</div>"
      ],
      "text/plain": [
       "                       Album  Released    Length\n",
       "0                   Thriller      1982  00:42:19\n",
       "1             Black in Black      1980  00:42:11\n",
       "2  The Dark Side of the Moon      1973  00:42:49\n",
       "3              The Bodyguard      1992  00:57:44\n",
       "4            Bat out of hell      1977  00:46:33"
      ]
     },
     "execution_count": 142,
     "metadata": {},
     "output_type": "execute_result"
    }
   ],
   "source": [
    "songs = {\"Album\":[\"Thriller\", \"Black in Black\", \"The Dark Side of the Moon\",\"The Bodyguard\",\"Bat out of hell\"], \"Released\":[1982,1980,1973,1992,1977],\"Length\":[\"00:42:19\", \"00:42:11\",\"00:42:49\",\"00:57:44\",\"00:46:33\"]}\n",
    "songs_frame = pd.DataFrame(songs)\n",
    "songs_frame.head()"
   ]
  },
  {
   "cell_type": "code",
   "execution_count": 36,
   "metadata": {},
   "outputs": [],
   "source": [
    "#make new dataframe out of one column from the previous dataframe"
   ]
  },
  {
   "cell_type": "code",
   "execution_count": 143,
   "metadata": {},
   "outputs": [
    {
     "data": {
      "text/html": [
       "<div>\n",
       "<style scoped>\n",
       "    .dataframe tbody tr th:only-of-type {\n",
       "        vertical-align: middle;\n",
       "    }\n",
       "\n",
       "    .dataframe tbody tr th {\n",
       "        vertical-align: top;\n",
       "    }\n",
       "\n",
       "    .dataframe thead th {\n",
       "        text-align: right;\n",
       "    }\n",
       "</style>\n",
       "<table border=\"1\" class=\"dataframe\">\n",
       "  <thead>\n",
       "    <tr style=\"text-align: right;\">\n",
       "      <th></th>\n",
       "      <th>Length</th>\n",
       "    </tr>\n",
       "  </thead>\n",
       "  <tbody>\n",
       "    <tr>\n",
       "      <th>0</th>\n",
       "      <td>00:42:19</td>\n",
       "    </tr>\n",
       "    <tr>\n",
       "      <th>1</th>\n",
       "      <td>00:42:11</td>\n",
       "    </tr>\n",
       "    <tr>\n",
       "      <th>2</th>\n",
       "      <td>00:42:49</td>\n",
       "    </tr>\n",
       "    <tr>\n",
       "      <th>3</th>\n",
       "      <td>00:57:44</td>\n",
       "    </tr>\n",
       "    <tr>\n",
       "      <th>4</th>\n",
       "      <td>00:46:33</td>\n",
       "    </tr>\n",
       "  </tbody>\n",
       "</table>\n",
       "</div>"
      ],
      "text/plain": [
       "     Length\n",
       "0  00:42:19\n",
       "1  00:42:11\n",
       "2  00:42:49\n",
       "3  00:57:44\n",
       "4  00:46:33"
      ]
     },
     "execution_count": 143,
     "metadata": {},
     "output_type": "execute_result"
    }
   ],
   "source": [
    "length_df = songs_frame[[\"Length\"]]\n",
    "length_df.head()"
   ]
  },
  {
   "cell_type": "code",
   "execution_count": 29,
   "metadata": {},
   "outputs": [
    {
     "name": "stdout",
     "output_type": "stream",
     "text": [
      "1977\n"
     ]
    }
   ],
   "source": [
    "release_year_batoutofhell = songs_frame.iloc[4,1]\n",
    "print(release_year_batoutofhell)"
   ]
  },
  {
   "cell_type": "code",
   "execution_count": 31,
   "metadata": {},
   "outputs": [
    {
     "data": {
      "text/plain": [
       "'00:42:49'"
      ]
     },
     "execution_count": 31,
     "metadata": {},
     "output_type": "execute_result"
    }
   ],
   "source": [
    "songs_frame.iloc[2,2]"
   ]
  },
  {
   "cell_type": "code",
   "execution_count": 37,
   "metadata": {},
   "outputs": [
    {
     "data": {
      "text/plain": [
       "'00:42:19'"
      ]
     },
     "execution_count": 37,
     "metadata": {},
     "output_type": "execute_result"
    }
   ],
   "source": [
    "songs_frame.loc[0,\"Length\"]"
   ]
  },
  {
   "cell_type": "code",
   "execution_count": 38,
   "metadata": {},
   "outputs": [],
   "source": [
    "#slice out values and make new dataframe"
   ]
  },
  {
   "cell_type": "code",
   "execution_count": 41,
   "metadata": {},
   "outputs": [
    {
     "name": "stdout",
     "output_type": "stream",
     "text": [
      "            Album  Released    Length\n",
      "0        Thriller      1982  00:42:19\n",
      "1  Black in Black      1980  00:42:11\n"
     ]
    },
    {
     "data": {
      "text/html": [
       "<div>\n",
       "<style scoped>\n",
       "    .dataframe tbody tr th:only-of-type {\n",
       "        vertical-align: middle;\n",
       "    }\n",
       "\n",
       "    .dataframe tbody tr th {\n",
       "        vertical-align: top;\n",
       "    }\n",
       "\n",
       "    .dataframe thead th {\n",
       "        text-align: right;\n",
       "    }\n",
       "</style>\n",
       "<table border=\"1\" class=\"dataframe\">\n",
       "  <thead>\n",
       "    <tr style=\"text-align: right;\">\n",
       "      <th></th>\n",
       "      <th>Album</th>\n",
       "      <th>Released</th>\n",
       "      <th>Length</th>\n",
       "    </tr>\n",
       "  </thead>\n",
       "  <tbody>\n",
       "    <tr>\n",
       "      <th>0</th>\n",
       "      <td>Thriller</td>\n",
       "      <td>1982</td>\n",
       "      <td>00:42:19</td>\n",
       "    </tr>\n",
       "    <tr>\n",
       "      <th>1</th>\n",
       "      <td>Black in Black</td>\n",
       "      <td>1980</td>\n",
       "      <td>00:42:11</td>\n",
       "    </tr>\n",
       "  </tbody>\n",
       "</table>\n",
       "</div>"
      ],
      "text/plain": [
       "            Album  Released    Length\n",
       "0        Thriller      1982  00:42:19\n",
       "1  Black in Black      1980  00:42:11"
      ]
     },
     "execution_count": 41,
     "metadata": {},
     "output_type": "execute_result"
    }
   ],
   "source": [
    "new_dataframe = songs_frame.iloc[0:2, 0:3]\n",
    "print(new_dataframe)\n",
    "new_dataframe.head()"
   ]
  },
  {
   "cell_type": "code",
   "execution_count": 43,
   "metadata": {},
   "outputs": [
    {
     "data": {
      "text/html": [
       "<div>\n",
       "<style scoped>\n",
       "    .dataframe tbody tr th:only-of-type {\n",
       "        vertical-align: middle;\n",
       "    }\n",
       "\n",
       "    .dataframe tbody tr th {\n",
       "        vertical-align: top;\n",
       "    }\n",
       "\n",
       "    .dataframe thead th {\n",
       "        text-align: right;\n",
       "    }\n",
       "</style>\n",
       "<table border=\"1\" class=\"dataframe\">\n",
       "  <thead>\n",
       "    <tr style=\"text-align: right;\">\n",
       "      <th></th>\n",
       "      <th>Album</th>\n",
       "      <th>Released</th>\n",
       "      <th>Length</th>\n",
       "    </tr>\n",
       "  </thead>\n",
       "  <tbody>\n",
       "    <tr>\n",
       "      <th>0</th>\n",
       "      <td>Thriller</td>\n",
       "      <td>1982</td>\n",
       "      <td>00:42:19</td>\n",
       "    </tr>\n",
       "    <tr>\n",
       "      <th>1</th>\n",
       "      <td>Black in Black</td>\n",
       "      <td>1980</td>\n",
       "      <td>00:42:11</td>\n",
       "    </tr>\n",
       "    <tr>\n",
       "      <th>2</th>\n",
       "      <td>The Dark Side of the Moon</td>\n",
       "      <td>1973</td>\n",
       "      <td>00:42:49</td>\n",
       "    </tr>\n",
       "  </tbody>\n",
       "</table>\n",
       "</div>"
      ],
      "text/plain": [
       "                       Album  Released    Length\n",
       "0                   Thriller      1982  00:42:19\n",
       "1             Black in Black      1980  00:42:11\n",
       "2  The Dark Side of the Moon      1973  00:42:49"
      ]
     },
     "execution_count": 43,
     "metadata": {},
     "output_type": "execute_result"
    }
   ],
   "source": [
    "new_dataframe2 = songs_frame.loc[0:2,\"Album\":\"Length\"]\n",
    "new_dataframe2.head()"
   ]
  },
  {
   "cell_type": "code",
   "execution_count": 44,
   "metadata": {},
   "outputs": [],
   "source": [
    "#working and saving data"
   ]
  },
  {
   "cell_type": "code",
   "execution_count": 52,
   "metadata": {},
   "outputs": [
    {
     "name": "stdout",
     "output_type": "stream",
     "text": [
      "[1982 1980 1973 1992 1977]\n"
     ]
    }
   ],
   "source": [
    "x = songs_frame[\"Released\"].unique()\n",
    "print(x)"
   ]
  },
  {
   "cell_type": "code",
   "execution_count": 47,
   "metadata": {},
   "outputs": [
    {
     "data": {
      "text/plain": [
       "numpy.ndarray"
      ]
     },
     "execution_count": 47,
     "metadata": {},
     "output_type": "execute_result"
    }
   ],
   "source": [
    "type(x)"
   ]
  },
  {
   "cell_type": "code",
   "execution_count": 77,
   "metadata": {},
   "outputs": [],
   "source": [
    "if songs_frame[songs_frame[\"Released\"]>=1980] is True:\n",
    "    older_albums = songs_frame[songs_frame[\"Released\"]>=1980]\n"
   ]
  },
  {
   "cell_type": "code",
   "execution_count": 153,
   "metadata": {},
   "outputs": [
    {
     "name": "stdout",
     "output_type": "stream",
     "text": [
      "<class 'pandas.core.series.Series'>\n",
      "Index(['Album', 'Released', 'Length'], dtype='object')\n",
      "<class 'pandas.core.indexes.base.Index'>\n",
      "['Album' 'Released' 'Length']\n",
      "<class 'numpy.ndarray'>\n"
     ]
    }
   ],
   "source": [
    "print(type(songs_frame[\"Length\"]))\n",
    "print(songs_frame.columns)\n",
    "print(type(songs_frame.columns))\n",
    "print(songs_frame.columns.values)\n",
    "print(type(songs_frame.columns.values))\n"
   ]
  },
  {
   "cell_type": "code",
   "execution_count": 78,
   "metadata": {},
   "outputs": [
    {
     "data": {
      "text/html": [
       "<div>\n",
       "<style scoped>\n",
       "    .dataframe tbody tr th:only-of-type {\n",
       "        vertical-align: middle;\n",
       "    }\n",
       "\n",
       "    .dataframe tbody tr th {\n",
       "        vertical-align: top;\n",
       "    }\n",
       "\n",
       "    .dataframe thead th {\n",
       "        text-align: right;\n",
       "    }\n",
       "</style>\n",
       "<table border=\"1\" class=\"dataframe\">\n",
       "  <thead>\n",
       "    <tr style=\"text-align: right;\">\n",
       "      <th></th>\n",
       "      <th>Album</th>\n",
       "      <th>Released</th>\n",
       "      <th>Length</th>\n",
       "    </tr>\n",
       "  </thead>\n",
       "  <tbody>\n",
       "    <tr>\n",
       "      <th>0</th>\n",
       "      <td>Thriller</td>\n",
       "      <td>1982</td>\n",
       "      <td>00:42:19</td>\n",
       "    </tr>\n",
       "    <tr>\n",
       "      <th>3</th>\n",
       "      <td>The Bodyguard</td>\n",
       "      <td>1992</td>\n",
       "      <td>00:57:44</td>\n",
       "    </tr>\n",
       "  </tbody>\n",
       "</table>\n",
       "</div>"
      ],
      "text/plain": [
       "           Album  Released    Length\n",
       "0       Thriller      1982  00:42:19\n",
       "3  The Bodyguard      1992  00:57:44"
      ]
     },
     "execution_count": 78,
     "metadata": {},
     "output_type": "execute_result"
    }
   ],
   "source": [
    "older_albums = songs_frame[songs_frame[\"Released\"]>1980]\n",
    "older_albums.head()"
   ]
  },
  {
   "cell_type": "code",
   "execution_count": 79,
   "metadata": {},
   "outputs": [],
   "source": [
    "#save new dataframe as csv file"
   ]
  },
  {
   "cell_type": "code",
   "execution_count": 82,
   "metadata": {},
   "outputs": [],
   "source": [
    "#older_albums.to_csv(\"/Users/Dennis/Desktop/HOME/DataScience/older_albums.csv\")\n",
    "older_albums.to_csv(\"older_albums.csv\") #current directory\n"
   ]
  },
  {
   "cell_type": "code",
   "execution_count": 85,
   "metadata": {},
   "outputs": [
    {
     "name": "stdout",
     "output_type": "stream",
     "text": [
      "     Length\n",
      "0  00:42:19\n",
      "3  00:57:44\n"
     ]
    }
   ],
   "source": [
    "print(older_albums[[\"Length\"]])"
   ]
  },
  {
   "cell_type": "code",
   "execution_count": 86,
   "metadata": {},
   "outputs": [
    {
     "name": "stdout",
     "output_type": "stream",
     "text": [
      "0    00:42:19\n",
      "3    00:57:44\n",
      "Name: Length, dtype: object\n"
     ]
    }
   ],
   "source": [
    "print(older_albums[\"Length\"])"
   ]
  },
  {
   "cell_type": "markdown",
   "metadata": {},
   "source": [
    "# NumPy"
   ]
  },
  {
   "cell_type": "code",
   "execution_count": 89,
   "metadata": {},
   "outputs": [],
   "source": [
    "a = [\"0\",1,\"two\",\"3\",4]"
   ]
  },
  {
   "cell_type": "code",
   "execution_count": 90,
   "metadata": {},
   "outputs": [],
   "source": [
    "import numpy as np"
   ]
  },
  {
   "cell_type": "code",
   "execution_count": 95,
   "metadata": {},
   "outputs": [
    {
     "data": {
      "text/plain": [
       "numpy.ndarray"
      ]
     },
     "execution_count": 95,
     "metadata": {},
     "output_type": "execute_result"
    }
   ],
   "source": [
    "np_array = np.array([0,1,2,3,4])\n",
    "type(np_array)\n"
   ]
  },
  {
   "cell_type": "code",
   "execution_count": 96,
   "metadata": {},
   "outputs": [
    {
     "data": {
      "text/plain": [
       "dtype('int64')"
      ]
     },
     "execution_count": 96,
     "metadata": {},
     "output_type": "execute_result"
    }
   ],
   "source": [
    "np_array.dtype"
   ]
  },
  {
   "cell_type": "code",
   "execution_count": 98,
   "metadata": {},
   "outputs": [
    {
     "data": {
      "text/plain": [
       "5"
      ]
     },
     "execution_count": 98,
     "metadata": {},
     "output_type": "execute_result"
    }
   ],
   "source": [
    "np_array.size"
   ]
  },
  {
   "cell_type": "code",
   "execution_count": 99,
   "metadata": {},
   "outputs": [
    {
     "data": {
      "text/plain": [
       "1"
      ]
     },
     "execution_count": 99,
     "metadata": {},
     "output_type": "execute_result"
    }
   ],
   "source": [
    "np_array.ndim"
   ]
  },
  {
   "cell_type": "code",
   "execution_count": 100,
   "metadata": {},
   "outputs": [
    {
     "data": {
      "text/plain": [
       "(5,)"
      ]
     },
     "execution_count": 100,
     "metadata": {},
     "output_type": "execute_result"
    }
   ],
   "source": [
    "np_array.shape"
   ]
  },
  {
   "cell_type": "code",
   "execution_count": 107,
   "metadata": {},
   "outputs": [
    {
     "data": {
      "text/plain": [
       "array([27,  1,  2,  3,  4])"
      ]
     },
     "execution_count": 107,
     "metadata": {},
     "output_type": "execute_result"
    }
   ],
   "source": [
    "np_array2 = np.array([20,1,2,3,4])\n",
    "np_array2[0] = 27\n",
    "np_array2"
   ]
  },
  {
   "cell_type": "code",
   "execution_count": 108,
   "metadata": {},
   "outputs": [],
   "source": [
    "#slice"
   ]
  },
  {
   "cell_type": "code",
   "execution_count": 110,
   "metadata": {},
   "outputs": [
    {
     "data": {
      "text/plain": [
       "array([1, 2, 3])"
      ]
     },
     "execution_count": 110,
     "metadata": {},
     "output_type": "execute_result"
    }
   ],
   "source": [
    "np_array3 = np_array2[1:4]\n",
    "np_array3"
   ]
  },
  {
   "cell_type": "code",
   "execution_count": 111,
   "metadata": {},
   "outputs": [],
   "source": [
    "# vector addition with normal lists through loop"
   ]
  },
  {
   "cell_type": "code",
   "execution_count": 113,
   "metadata": {},
   "outputs": [],
   "source": [
    "u = [1,0]\n",
    "v = [0,1]\n",
    "z = []\n",
    "for n,m in zip(u,v):  #zip returns tuple\n",
    "    z.append(n+m)"
   ]
  },
  {
   "cell_type": "code",
   "execution_count": 114,
   "metadata": {},
   "outputs": [
    {
     "data": {
      "text/plain": [
       "[1, 1]"
      ]
     },
     "execution_count": 114,
     "metadata": {},
     "output_type": "execute_result"
    }
   ],
   "source": [
    "z"
   ]
  },
  {
   "cell_type": "code",
   "execution_count": 115,
   "metadata": {},
   "outputs": [
    {
     "data": {
      "text/plain": [
       "list"
      ]
     },
     "execution_count": 115,
     "metadata": {},
     "output_type": "execute_result"
    }
   ],
   "source": [
    "type(z)"
   ]
  },
  {
   "cell_type": "code",
   "execution_count": 119,
   "metadata": {},
   "outputs": [
    {
     "data": {
      "text/plain": [
       "zip"
      ]
     },
     "execution_count": 119,
     "metadata": {},
     "output_type": "execute_result"
    }
   ],
   "source": [
    "zip_tuple = zip(u,v)\n"
   ]
  },
  {
   "cell_type": "code",
   "execution_count": 123,
   "metadata": {},
   "outputs": [],
   "source": [
    "#vector addition with numpy arrays (much faster)"
   ]
  },
  {
   "cell_type": "code",
   "execution_count": 127,
   "metadata": {},
   "outputs": [
    {
     "data": {
      "text/plain": [
       "array([1, 1])"
      ]
     },
     "execution_count": 127,
     "metadata": {},
     "output_type": "execute_result"
    }
   ],
   "source": [
    "a = np.array([1,0])\n",
    "b = np.array([0,1])\n",
    "c = a + b\n",
    "c"
   ]
  },
  {
   "cell_type": "code",
   "execution_count": 126,
   "metadata": {},
   "outputs": [
    {
     "data": {
      "text/plain": [
       "array([ 1, -1])"
      ]
     },
     "execution_count": 126,
     "metadata": {},
     "output_type": "execute_result"
    }
   ],
   "source": [
    "d = a - b\n",
    "d"
   ]
  },
  {
   "cell_type": "code",
   "execution_count": 128,
   "metadata": {},
   "outputs": [],
   "source": [
    "#vector multiplication ndarray"
   ]
  },
  {
   "cell_type": "code",
   "execution_count": 129,
   "metadata": {},
   "outputs": [
    {
     "data": {
      "text/plain": [
       "array([2, 4])"
      ]
     },
     "execution_count": 129,
     "metadata": {},
     "output_type": "execute_result"
    }
   ],
   "source": [
    "e = np.array([1,2])\n",
    "f = 2*e\n",
    "f"
   ]
  },
  {
   "cell_type": "code",
   "execution_count": 130,
   "metadata": {},
   "outputs": [],
   "source": [
    "#vector multiplication list"
   ]
  },
  {
   "cell_type": "code",
   "execution_count": 131,
   "metadata": {},
   "outputs": [
    {
     "data": {
      "text/plain": [
       "[2, 4]"
      ]
     },
     "execution_count": 131,
     "metadata": {},
     "output_type": "execute_result"
    }
   ],
   "source": [
    "h = [1,2]\n",
    "z = []\n",
    "for n in h:\n",
    "    z.append(2*n)\n",
    "z"
   ]
  },
  {
   "cell_type": "code",
   "execution_count": 132,
   "metadata": {},
   "outputs": [],
   "source": [
    "#dot product"
   ]
  },
  {
   "cell_type": "code",
   "execution_count": 137,
   "metadata": {},
   "outputs": [
    {
     "data": {
      "text/plain": [
       "12"
      ]
     },
     "execution_count": 137,
     "metadata": {},
     "output_type": "execute_result"
    }
   ],
   "source": [
    "vector1 = np.array([3,3])\n",
    "vector2= np.array([2,2])\n",
    "dot_product = np.dot(vector1,vector2)\n",
    "dot_product"
   ]
  },
  {
   "cell_type": "code",
   "execution_count": 138,
   "metadata": {},
   "outputs": [
    {
     "data": {
      "text/plain": [
       "numpy.int64"
      ]
     },
     "execution_count": 138,
     "metadata": {},
     "output_type": "execute_result"
    }
   ],
   "source": [
    "type(dot_product)"
   ]
  },
  {
   "cell_type": "code",
   "execution_count": 139,
   "metadata": {},
   "outputs": [],
   "source": [
    "#broadcasting"
   ]
  },
  {
   "cell_type": "code",
   "execution_count": 142,
   "metadata": {},
   "outputs": [
    {
     "data": {
      "text/plain": [
       "array([2, 3, 4, 0])"
      ]
     },
     "execution_count": 142,
     "metadata": {},
     "output_type": "execute_result"
    }
   ],
   "source": [
    "q = np.array([1,2,3,-1])\n",
    "r = q + 1  #adds 1 to every element in ndarray\n",
    "r"
   ]
  },
  {
   "cell_type": "code",
   "execution_count": 143,
   "metadata": {},
   "outputs": [],
   "source": [
    "#universal function"
   ]
  },
  {
   "cell_type": "code",
   "execution_count": 145,
   "metadata": {},
   "outputs": [
    {
     "data": {
      "text/plain": [
       "1.25"
      ]
     },
     "execution_count": 145,
     "metadata": {},
     "output_type": "execute_result"
    }
   ],
   "source": [
    "mean_q = q.mean()\n",
    "mean_q"
   ]
  },
  {
   "cell_type": "code",
   "execution_count": 166,
   "metadata": {},
   "outputs": [
    {
     "data": {
      "text/plain": [
       "1.479019945774904"
      ]
     },
     "execution_count": 166,
     "metadata": {},
     "output_type": "execute_result"
    }
   ],
   "source": [
    "q.std()"
   ]
  },
  {
   "cell_type": "code",
   "execution_count": 147,
   "metadata": {},
   "outputs": [
    {
     "data": {
      "text/plain": [
       "3"
      ]
     },
     "execution_count": 147,
     "metadata": {},
     "output_type": "execute_result"
    }
   ],
   "source": [
    "max_q = q.max()\n",
    "max_q"
   ]
  },
  {
   "cell_type": "code",
   "execution_count": 149,
   "metadata": {},
   "outputs": [
    {
     "data": {
      "text/plain": [
       "-1"
      ]
     },
     "execution_count": 149,
     "metadata": {},
     "output_type": "execute_result"
    }
   ],
   "source": [
    "q.min()"
   ]
  },
  {
   "cell_type": "code",
   "execution_count": 150,
   "metadata": {},
   "outputs": [
    {
     "data": {
      "text/plain": [
       "3.141592653589793"
      ]
     },
     "execution_count": 150,
     "metadata": {},
     "output_type": "execute_result"
    }
   ],
   "source": [
    "np.pi"
   ]
  },
  {
   "cell_type": "code",
   "execution_count": 153,
   "metadata": {},
   "outputs": [
    {
     "data": {
      "text/plain": [
       "array([0.        , 1.57079633, 3.14159265])"
      ]
     },
     "execution_count": 153,
     "metadata": {},
     "output_type": "execute_result"
    }
   ],
   "source": [
    "x = np.array([0, np.pi/2, np.pi])\n",
    "x"
   ]
  },
  {
   "cell_type": "code",
   "execution_count": 156,
   "metadata": {},
   "outputs": [
    {
     "data": {
      "text/plain": [
       "array([0.0000000e+00, 1.0000000e+00, 1.2246468e-16])"
      ]
     },
     "execution_count": 156,
     "metadata": {},
     "output_type": "execute_result"
    }
   ],
   "source": [
    "y = np.sin(x)\n",
    "y"
   ]
  },
  {
   "cell_type": "code",
   "execution_count": 163,
   "metadata": {},
   "outputs": [
    {
     "data": {
      "text/plain": [
       "array([-2. , -1.5, -1. , -0.5,  0. ,  0.5,  1. ,  1.5,  2. ])"
      ]
     },
     "execution_count": 163,
     "metadata": {},
     "output_type": "execute_result"
    }
   ],
   "source": [
    "np.linspace(-2,2,num=9)"
   ]
  },
  {
   "cell_type": "code",
   "execution_count": 167,
   "metadata": {},
   "outputs": [
    {
     "data": {
      "text/plain": [
       "[<matplotlib.lines.Line2D at 0x119d47ef0>]"
      ]
     },
     "execution_count": 167,
     "metadata": {},
     "output_type": "execute_result"
    },
    {
     "data": {
      "image/png": "[encoded data removed]",
      "text/plain": [
       "<Figure size 432x288 with 1 Axes>"
      ]
     },
     "metadata": {
      "needs_background": "light"
     },
     "output_type": "display_data"
    }
   ],
   "source": [
    "x = np.linspace(0,2*np.pi,100)\n",
    "y = np.sin(x)\n",
    "import matplotlib.pyplot as plt\n",
    "%matplotlib inline\n",
    "plt.plot(x,y)"
   ]
  },
  {
   "cell_type": "code",
   "execution_count": 168,
   "metadata": {},
   "outputs": [],
   "source": [
    "import time \n",
    "import sys\n",
    "import numpy as np \n",
    "\n",
    "import matplotlib.pyplot as plt\n",
    "%matplotlib inline  "
   ]
  },
  {
   "cell_type": "code",
   "execution_count": 169,
   "metadata": {},
   "outputs": [],
   "source": [
    "def Plotvec1(u, z, v):\n",
    "    \n",
    "    ax = plt.axes()\n",
    "    ax.arrow(0, 0, *u, head_width=0.05, color='r', head_length=0.1)\n",
    "    plt.text(*(u + 0.1), 'u')\n",
    "    \n",
    "    ax.arrow(0, 0, *v, head_width=0.05, color='b', head_length=0.1)\n",
    "    plt.text(*(v + 0.1), 'v')\n",
    "    ax.arrow(0, 0, *z, head_width=0.05, head_length=0.1)\n",
    "    plt.text(*(z + 0.1), 'z')\n",
    "    plt.ylim(-2, 2)\n",
    "    plt.xlim(-2, 2)\n",
    "\n",
    "def Plotvec2(a,b):\n",
    "    ax = plt.axes()\n",
    "    ax.arrow(0, 0, *a, head_width=0.05, color ='r', head_length=0.1)\n",
    "    plt.text(*(a + 0.1), 'a')\n",
    "    ax.arrow(0, 0, *b, head_width=0.05, color ='b', head_length=0.1)\n",
    "    plt.text(*(b + 0.1), 'b')\n",
    "    plt.ylim(-2, 2)\n",
    "    plt.xlim(-2, 2)"
   ]
  },
  {
   "cell_type": "code",
   "execution_count": 174,
   "metadata": {},
   "outputs": [
    {
     "ename": "TypeError",
     "evalue": "arrow() argument after * must be an iterable, not int",
     "output_type": "error",
     "traceback": [
      "\u001b[0;31m---------------------------------------------------------------------------\u001b[0m",
      "\u001b[0;31mTypeError\u001b[0m                                 Traceback (most recent call last)",
      "\u001b[0;32m<ipython-input-174-7818ae993a3f>\u001b[0m in \u001b[0;36m<module>\u001b[0;34m\u001b[0m\n\u001b[0;32m----> 1\u001b[0;31m \u001b[0mPlotvec2\u001b[0m\u001b[0;34m(\u001b[0m\u001b[0;36m3\u001b[0m\u001b[0;34m,\u001b[0m\u001b[0;36m3\u001b[0m\u001b[0;34m)\u001b[0m\u001b[0;34m\u001b[0m\u001b[0;34m\u001b[0m\u001b[0m\n\u001b[0m",
      "\u001b[0;32m<ipython-input-169-1b841ca97b8c>\u001b[0m in \u001b[0;36mPlotvec2\u001b[0;34m(a, b)\u001b[0m\n\u001b[1;32m     14\u001b[0m \u001b[0;32mdef\u001b[0m \u001b[0mPlotvec2\u001b[0m\u001b[0;34m(\u001b[0m\u001b[0ma\u001b[0m\u001b[0;34m,\u001b[0m\u001b[0mb\u001b[0m\u001b[0;34m)\u001b[0m\u001b[0;34m:\u001b[0m\u001b[0;34m\u001b[0m\u001b[0;34m\u001b[0m\u001b[0m\n\u001b[1;32m     15\u001b[0m     \u001b[0max\u001b[0m \u001b[0;34m=\u001b[0m \u001b[0mplt\u001b[0m\u001b[0;34m.\u001b[0m\u001b[0maxes\u001b[0m\u001b[0;34m(\u001b[0m\u001b[0;34m)\u001b[0m\u001b[0;34m\u001b[0m\u001b[0;34m\u001b[0m\u001b[0m\n\u001b[0;32m---> 16\u001b[0;31m     \u001b[0max\u001b[0m\u001b[0;34m.\u001b[0m\u001b[0marrow\u001b[0m\u001b[0;34m(\u001b[0m\u001b[0;36m0\u001b[0m\u001b[0;34m,\u001b[0m \u001b[0;36m0\u001b[0m\u001b[0;34m,\u001b[0m \u001b[0;34m*\u001b[0m\u001b[0ma\u001b[0m\u001b[0;34m,\u001b[0m \u001b[0mhead_width\u001b[0m\u001b[0;34m=\u001b[0m\u001b[0;36m0.05\u001b[0m\u001b[0;34m,\u001b[0m \u001b[0mcolor\u001b[0m \u001b[0;34m=\u001b[0m\u001b[0;34m'r'\u001b[0m\u001b[0;34m,\u001b[0m \u001b[0mhead_length\u001b[0m\u001b[0;34m=\u001b[0m\u001b[0;36m0.1\u001b[0m\u001b[0;34m)\u001b[0m\u001b[0;34m\u001b[0m\u001b[0;34m\u001b[0m\u001b[0m\n\u001b[0m\u001b[1;32m     17\u001b[0m     \u001b[0mplt\u001b[0m\u001b[0;34m.\u001b[0m\u001b[0mtext\u001b[0m\u001b[0;34m(\u001b[0m\u001b[0;34m*\u001b[0m\u001b[0;34m(\u001b[0m\u001b[0ma\u001b[0m \u001b[0;34m+\u001b[0m \u001b[0;36m0.1\u001b[0m\u001b[0;34m)\u001b[0m\u001b[0;34m,\u001b[0m \u001b[0;34m'a'\u001b[0m\u001b[0;34m)\u001b[0m\u001b[0;34m\u001b[0m\u001b[0;34m\u001b[0m\u001b[0m\n\u001b[1;32m     18\u001b[0m     \u001b[0max\u001b[0m\u001b[0;34m.\u001b[0m\u001b[0marrow\u001b[0m\u001b[0;34m(\u001b[0m\u001b[0;36m0\u001b[0m\u001b[0;34m,\u001b[0m \u001b[0;36m0\u001b[0m\u001b[0;34m,\u001b[0m \u001b[0;34m*\u001b[0m\u001b[0mb\u001b[0m\u001b[0;34m,\u001b[0m \u001b[0mhead_width\u001b[0m\u001b[0;34m=\u001b[0m\u001b[0;36m0.05\u001b[0m\u001b[0;34m,\u001b[0m \u001b[0mcolor\u001b[0m \u001b[0;34m=\u001b[0m\u001b[0;34m'b'\u001b[0m\u001b[0;34m,\u001b[0m \u001b[0mhead_length\u001b[0m\u001b[0;34m=\u001b[0m\u001b[0;36m0.1\u001b[0m\u001b[0;34m)\u001b[0m\u001b[0;34m\u001b[0m\u001b[0;34m\u001b[0m\u001b[0m\n",
      "\u001b[0;31mTypeError\u001b[0m: arrow() argument after * must be an iterable, not int"
     ]
    },
    {
     "data": {
      "image/png": "[encoded data removed]",
      "text/plain": [
       "<Figure size 432x288 with 1 Axes>"
      ]
     },
     "metadata": {
      "needs_background": "light"
     },
     "output_type": "display_data"
    }
   ],
   "source": [
    "Plotvec2(3,3)"
   ]
  },
  {
   "cell_type": "markdown",
   "metadata": {},
   "source": [
    "# 2 dimensional arrays"
   ]
  },
  {
   "cell_type": "code",
   "execution_count": 193,
   "metadata": {},
   "outputs": [],
   "source": [
    "a = [[11,12,13],[21,22,23],[31,32,33]]"
   ]
  },
  {
   "cell_type": "code",
   "execution_count": 194,
   "metadata": {},
   "outputs": [],
   "source": [
    "A = np.array(a)"
   ]
  },
  {
   "cell_type": "code",
   "execution_count": 195,
   "metadata": {},
   "outputs": [
    {
     "data": {
      "text/plain": [
       "2"
      ]
     },
     "execution_count": 195,
     "metadata": {},
     "output_type": "execute_result"
    }
   ],
   "source": [
    "A.ndim #number of nested lists"
   ]
  },
  {
   "cell_type": "code",
   "execution_count": 181,
   "metadata": {},
   "outputs": [
    {
     "data": {
      "text/plain": [
       "(3, 3)"
      ]
     },
     "execution_count": 181,
     "metadata": {},
     "output_type": "execute_result"
    }
   ],
   "source": [
    "A.shape # 3x3 Matrix"
   ]
  },
  {
   "cell_type": "code",
   "execution_count": 182,
   "metadata": {},
   "outputs": [
    {
     "data": {
      "text/plain": [
       "9"
      ]
     },
     "execution_count": 182,
     "metadata": {},
     "output_type": "execute_result"
    }
   ],
   "source": [
    "A.size # 3 * 3 = 9 Elements"
   ]
  },
  {
   "cell_type": "code",
   "execution_count": 183,
   "metadata": {},
   "outputs": [
    {
     "data": {
      "text/plain": [
       "22"
      ]
     },
     "execution_count": 183,
     "metadata": {},
     "output_type": "execute_result"
    }
   ],
   "source": [
    "A[1][1]"
   ]
  },
  {
   "cell_type": "code",
   "execution_count": 196,
   "metadata": {},
   "outputs": [
    {
     "data": {
      "text/plain": [
       "32"
      ]
     },
     "execution_count": 196,
     "metadata": {},
     "output_type": "execute_result"
    }
   ],
   "source": [
    "A[2,1]"
   ]
  },
  {
   "cell_type": "code",
   "execution_count": 210,
   "metadata": {},
   "outputs": [
    {
     "data": {
      "text/plain": [
       "array([11, 21])"
      ]
     },
     "execution_count": 210,
     "metadata": {},
     "output_type": "execute_result"
    }
   ],
   "source": [
    "A[0,0:2]  #slicing first row, frist two elements 0th and 1st element"
   ]
  },
  {
   "cell_type": "code",
   "execution_count": null,
   "metadata": {},
   "outputs": [],
   "source": [
    "A[0:2,0] # slicing first elements first row and first elements second row"
   ]
  },
  {
   "cell_type": "code",
   "execution_count": 197,
   "metadata": {},
   "outputs": [],
   "source": [
    "S = np.array([[1,0],[0,1]])\n",
    "T = np.array([[2,1],[1,2]])"
   ]
  },
  {
   "cell_type": "code",
   "execution_count": 199,
   "metadata": {},
   "outputs": [
    {
     "data": {
      "text/plain": [
       "array([[3, 1],\n",
       "       [1, 3]])"
      ]
     },
     "execution_count": 199,
     "metadata": {},
     "output_type": "execute_result"
    }
   ],
   "source": [
    "S + T"
   ]
  },
  {
   "cell_type": "code",
   "execution_count": 201,
   "metadata": {},
   "outputs": [
    {
     "data": {
      "text/plain": [
       "array([[4, 2],\n",
       "       [2, 4]])"
      ]
     },
     "execution_count": 201,
     "metadata": {},
     "output_type": "execute_result"
    }
   ],
   "source": [
    "2*T #every elements gets multiplied by 2"
   ]
  },
  {
   "cell_type": "code",
   "execution_count": 202,
   "metadata": {},
   "outputs": [
    {
     "data": {
      "text/plain": [
       "array([[2, 0],\n",
       "       [0, 2]])"
      ]
     },
     "execution_count": 202,
     "metadata": {},
     "output_type": "execute_result"
    }
   ],
   "source": [
    "S * T"
   ]
  },
  {
   "cell_type": "code",
   "execution_count": 203,
   "metadata": {},
   "outputs": [],
   "source": [
    "# Matrice multiplication"
   ]
  },
  {
   "cell_type": "code",
   "execution_count": 204,
   "metadata": {},
   "outputs": [],
   "source": [
    "two_x_three = np.array([[0,1,1],[1,0,1]])\n",
    "three_x_two = np.array([[1,1],[1,1],[-1,1]])"
   ]
  },
  {
   "cell_type": "code",
   "execution_count": 205,
   "metadata": {},
   "outputs": [],
   "source": [
    "# rows of first matrice hast to be equal to columns of second matrice, dot product with row * column"
   ]
  },
  {
   "cell_type": "code",
   "execution_count": 1,
   "metadata": {},
   "outputs": [
    {
     "ename": "NameError",
     "evalue": "name 'np' is not defined",
     "output_type": "error",
     "traceback": [
      "\u001b[0;31m---------------------------------------------------------------------------\u001b[0m",
      "\u001b[0;31mNameError\u001b[0m                                 Traceback (most recent call last)",
      "\u001b[0;32m<ipython-input-1-02d6e35adc66>\u001b[0m in \u001b[0;36m<module>\u001b[0;34m\u001b[0m\n\u001b[0;32m----> 1\u001b[0;31m \u001b[0mtwo_x_two\u001b[0m \u001b[0;34m=\u001b[0m \u001b[0mnp\u001b[0m\u001b[0;34m.\u001b[0m\u001b[0mdot\u001b[0m\u001b[0;34m(\u001b[0m\u001b[0mtwo_x_three\u001b[0m\u001b[0;34m,\u001b[0m \u001b[0mthree_x_two\u001b[0m\u001b[0;34m)\u001b[0m\u001b[0;34m\u001b[0m\u001b[0;34m\u001b[0m\u001b[0m\n\u001b[0m\u001b[1;32m      2\u001b[0m \u001b[0mtwo_x_two\u001b[0m\u001b[0;34m\u001b[0m\u001b[0;34m\u001b[0m\u001b[0m\n",
      "\u001b[0;31mNameError\u001b[0m: name 'np' is not defined"
     ]
    }
   ],
   "source": [
    "two_x_two = np.dot(two_x_three, three_x_two)\n",
    "two_x_two"
   ]
  },
  {
   "cell_type": "markdown",
   "metadata": {},
   "source": [
    "# Web Crawling/Scraping"
   ]
  },
  {
   "cell_type": "markdown",
   "metadata": {},
   "source": [
    "import requests\n",
    "from lxml import html"
   ]
  },
  {
   "cell_type": "code",
   "execution_count": 103,
   "metadata": {},
   "outputs": [],
   "source": [
    "wikipedia_link='https://en.wikipedia.org/wiki/Special:Random'\n",
    "raw_random_wikipedia_page = requests.get(wikipedia_link)\n",
    "with open(\"random_wiki.txt\", \"w\") as wiki:\n",
    "    xml_content = raw_random_wikipedia_page.text\n",
    "    result = wiki.write(xml_content)"
   ]
  },
  {
   "cell_type": "code",
   "execution_count": 102,
   "metadata": {},
   "outputs": [
    {
     "data": {
      "text/plain": [
       "bytes"
      ]
     },
     "execution_count": 102,
     "metadata": {},
     "output_type": "execute_result"
    }
   ],
   "source": [
    "type(xml_content)"
   ]
  },
  {
   "cell_type": "markdown",
   "metadata": {},
   "source": [
    "# 1.Variante"
   ]
  },
  {
   "cell_type": "code",
   "execution_count": 134,
   "metadata": {},
   "outputs": [
    {
     "data": {
      "text/plain": [
       "'Missing Witnesses'"
      ]
     },
     "execution_count": 134,
     "metadata": {},
     "output_type": "execute_result"
    }
   ],
   "source": [
    "tree = html.fromstring(raw_random_wikipedia_page.content)\n",
    "title = tree.xpath(\"//title/text()\")\n",
    "parsed = title[0]\n",
    "#band_title =  parsed.replace(\" - Wikipedia\", \"\")\n",
    "band_title =  parsed.strip(\" - Wikipedia\")\n",
    "\n",
    "band_title"
   ]
  },
  {
   "cell_type": "code",
   "execution_count": 135,
   "metadata": {},
   "outputs": [
    {
     "data": {
      "text/plain": [
       "lxml.etree._ElementUnicodeResult"
      ]
     },
     "execution_count": 135,
     "metadata": {},
     "output_type": "execute_result"
    }
   ],
   "source": [
    "type(parsed)"
   ]
  },
  {
   "cell_type": "code",
   "execution_count": 126,
   "metadata": {},
   "outputs": [
    {
     "data": {
      "text/plain": [
       "list"
      ]
     },
     "execution_count": 126,
     "metadata": {},
     "output_type": "execute_result"
    }
   ],
   "source": [
    "type(title)"
   ]
  },
  {
   "cell_type": "markdown",
   "metadata": {},
   "source": [
    "# 2.Variante"
   ]
  },
  {
   "cell_type": "code",
   "execution_count": 124,
   "metadata": {},
   "outputs": [
    {
     "data": {
      "text/plain": [
       "'Missing Witnesses'"
      ]
     },
     "execution_count": 124,
     "metadata": {},
     "output_type": "execute_result"
    }
   ],
   "source": [
    "start = stringcontent.find(\"<title>\")+7\n",
    "end = stringcontent.find(\" - Wikipedia</title>\")\n",
    "band_title = stringcontent[start:end]\n",
    "band_title"
   ]
  },
  {
   "cell_type": "code",
   "execution_count": 154,
   "metadata": {},
   "outputs": [
    {
     "data": {
      "text/plain": [
       "'<!DOCTYPE html>\\n<html class=\"client-nojs\" lang=\"en\" dir=\"ltr\">\\n<head>\\n<meta charset=\"UTF-8\"/>\\n<title>Missing Witnesses - Wikipedia</title>\\n<script>document.documentElement.className = document.documentElement.className.replace( /(^|\\\\s)client-nojs(\\\\s|$)/, \"$1client-js$2\" );</script>\\n<script>(window.RLQ=window.RLQ||[]).push(function(){mw.config.set({\"wgCanonicalNamespace\":\"\",\"wgCanonicalSpecialPageName\":false,\"wgNamespaceNumber\":0,\"wgPageName\":\"Missing_Witnesses\",\"wgTitle\":\"Missing Witnesses\",\"wgCurRevisionId\":855669761,\"wgRevisionId\":855669761,\"wgArticleId\":47655418,\"wgIsArticle\":true,\"wgIsRedirect\":false,\"wgAction\":\"view\",\"wgUserName\":null,\"wgUserGroups\":[\"*\"],\"wgCategories\":[\"Articles to be expanded from August 2015\",\"All articles to be expanded\",\"Articles using small message boxes\",\"All stub articles\",\"1937 films\",\"English-language films\",\"American films\",\"Warner Bros. films\",\"American crime films\",\"1930s crime films\",\"Films directed by William Clemens\",\"American black-and-white films\",\"1930s crime film stubs\"],\"wgBreakFrames\":false,\"wgPageContentLanguage\":\"en\",\"wgPageContentModel\":\"wikitext\",\"wgSeparatorTransformTable\":[\"\",\"\"],\"wgDigitTransformTable\":[\"\",\"\"],\"wgDefaultDateFormat\":\"dmy\",\"wgMonthNames\":[\"\",\"January\",\"February\",\"March\",\"April\",\"May\",\"June\",\"July\",\"August\",\"September\",\"October\",\"November\",\"December\"],\"wgMonthNamesShort\":[\"\",\"Jan\",\"Feb\",\"Mar\",\"Apr\",\"May\",\"Jun\",\"Jul\",\"Aug\",\"Sep\",\"Oct\",\"Nov\",\"Dec\"],\"wgRelevantPageName\":\"Missing_Witnesses\",\"wgRelevantArticleId\":47655418,\"wgRequestId\":\"XKxoNwpAMEkAAGhPyfcAAADV\",\"wgCSPNonce\":false,\"wgIsProbablyEditable\":true,\"wgRelevantPageIsProbablyEditable\":true,\"wgRestrictionEdit\":[],\"wgRestrictionMove\":[],\"wgFlaggedRevsParams\":{\"tags\":{}},\"wgStableRevisionId\":null,\"wgCategoryTreePageCategoryOptions\":\"{\\\\\"mode\\\\\":0,\\\\\"hideprefix\\\\\":20,\\\\\"showcount\\\\\":true,\\\\\"namespaces\\\\\":false}\",\"wgBetaFeaturesFeatures\":[],\"wgMediaViewerOnClick\":true,\"wgMediaViewerEnabledByDefault\":true,\"wgPopupsReferencePreviews\":false,\"wgPopupsShouldSendModuleToUser\":true,\"wgPopupsConflictsWithNavPopupGadget\":false,\"wgVisualEditor\":{\"pageLanguageCode\":\"en\",\"pageLanguageDir\":\"ltr\",\"pageVariantFallbacks\":\"en\",\"usePageImages\":true,\"usePageDescriptions\":true},\"wgMFDisplayWikibaseDescriptions\":{\"search\":true,\"nearby\":true,\"watchlist\":true,\"tagline\":false},\"wgRelatedArticles\":null,\"wgRelatedArticlesUseCirrusSearch\":true,\"wgRelatedArticlesOnlyUseCirrusSearch\":false,\"wgWMESchemaEditAttemptStepOversample\":false,\"wgPoweredByHHVM\":true,\"wgULSCurrentAutonym\":\"English\",\"wgNoticeProject\":\"wikipedia\",\"wgCentralNoticeCookiesToDelete\":[],\"wgCentralNoticeCategoriesUsingLegacy\":[\"Fundraising\",\"fundraising\"],\"wgWikibaseItemId\":\"Q20949912\",\"wgScoreNoteLanguages\":{\"arabic\":\"العربية\",\"catalan\":\"català\",\"deutsch\":\"Deutsch\",\"english\":\"English\",\"espanol\":\"español\",\"italiano\":\"italiano\",\"nederlands\":\"Nederlands\",\"norsk\":\"norsk\",\"portugues\":\"português\",\"suomi\":\"suomi\",\"svenska\":\"svenska\",\"vlaams\":\"West-Vlams\"},\"wgScoreDefaultNoteLanguage\":\"nederlands\",\"wgCentralAuthMobileDomain\":false,\"wgCodeMirrorEnabled\":true,\"wgVisualEditorToolbarScrollOffset\":0,\"wgVisualEditorUnsupportedEditParams\":[\"undo\",\"undoafter\",\"veswitched\"],\"wgEditSubmitButtonLabelPublish\":true});mw.loader.state({\"ext.gadget.charinsert-styles\":\"ready\",\"ext.globalCssJs.user.styles\":\"ready\",\"ext.globalCssJs.site.styles\":\"ready\",\"site.styles\":\"ready\",\"noscript\":\"ready\",\"user.styles\":\"ready\",\"ext.globalCssJs.user\":\"ready\",\"ext.globalCssJs.site\":\"ready\",\"user\":\"ready\",\"user.options\":\"ready\",\"user.tokens\":\"loading\",\"ext.cite.styles\":\"ready\",\"mediawiki.legacy.shared\":\"ready\",\"mediawiki.legacy.commonPrint\":\"ready\",\"mediawiki.toc.styles\":\"ready\",\"wikibase.client.init\":\"ready\",\"ext.visualEditor.desktopArticleTarget.noscript\":\"ready\",\"ext.uls.interlanguage\":\"ready\",\"ext.wikimediaBadges\":\"ready\",\"ext.3d.styles\":\"ready\",\"mediawiki.skinning.interface\":\"ready\",\"skins.vector.styles\":\"ready\"});mw.loader.implement(\"user.tokens@0tffind\",function($,jQuery,require,module){/*@nomin*/mw.user.tokens.set({\"editToken\":\"+\\\\\\\\\",\"patrolToken\":\"+\\\\\\\\\",\"watchToken\":\"+\\\\\\\\\",\"csrfToken\":\"+\\\\\\\\\"});\\n});RLPAGEMODULES=[\"ext.cite.ux-enhancements\",\"site\",\"mediawiki.page.startup\",\"mediawiki.page.ready\",\"mediawiki.toc\",\"mediawiki.searchSuggest\",\"ext.gadget.teahouse\",\"ext.gadget.ReferenceTooltips\",\"ext.gadget.watchlist-notice\",\"ext.gadget.DRN-wizard\",\"ext.gadget.charinsert\",\"ext.gadget.refToolbar\",\"ext.gadget.extra-toolbar-buttons\",\"ext.gadget.switcher\",\"ext.centralauth.centralautologin\",\"mmv.head\",\"mmv.bootstrap.autostart\",\"ext.popups\",\"ext.visualEditor.desktopArticleTarget.init\",\"ext.visualEditor.targetLoader\",\"ext.eventLogging\",\"ext.wikimediaEvents\",\"ext.navigationTiming\",\"ext.uls.eventlogger\",\"ext.uls.init\",\"ext.uls.compactlinks\",\"ext.uls.interface\",\"ext.quicksurveys.init\",\"ext.centralNotice.geoIP\",\"ext.centralNotice.startUp\",\"skins.vector.js\"];mw.loader.load(RLPAGEMODULES);});</script>\\n<link rel=\"stylesheet\" href=\"/w/load.php?lang=en&amp;modules=ext.3d.styles%7Cext.cite.styles%7Cext.uls.interlanguage%7Cext.visualEditor.desktopArticleTarget.noscript%7Cext.wikimediaBadges%7Cmediawiki.legacy.commonPrint%2Cshared%7Cmediawiki.skinning.interface%7Cmediawiki.toc.styles%7Cskins.vector.styles%7Cwikibase.client.init&amp;only=styles&amp;skin=vector\"/>\\n<script async=\"\" src=\"/w/load.php?lang=en&amp;modules=startup&amp;only=scripts&amp;skin=vector\"></script>\\n<meta name=\"ResourceLoaderDynamicStyles\" content=\"\"/>\\n<link rel=\"stylesheet\" href=\"/w/load.php?lang=en&amp;modules=ext.gadget.charinsert-styles&amp;only=styles&amp;skin=vector\"/>\\n<link rel=\"stylesheet\" href=\"/w/load.php?lang=en&amp;modules=site.styles&amp;only=styles&amp;skin=vector\"/>\\n<meta name=\"generator\" content=\"MediaWiki 1.33.0-wmf.24\"/>\\n<meta name=\"referrer\" content=\"origin\"/>\\n<meta name=\"referrer\" content=\"origin-when-crossorigin\"/>\\n<meta name=\"referrer\" content=\"origin-when-cross-origin\"/>\\n<meta property=\"og:image\" content=\"https://upload.wikimedia.org/wikipedia/en/f/f1/Missing_Witnesses_poster.jpg\"/>\\n<link rel=\"alternate\" href=\"android-app://org.wikipedia/http/en.m.wikipedia.org/wiki/Missing_Witnesses\"/>\\n<link rel=\"alternate\" type=\"application/x-wiki\" title=\"Edit this page\" href=\"/w/index.php?title=Missing_Witnesses&amp;action=edit\"/>\\n<link rel=\"edit\" title=\"Edit this page\" href=\"/w/index.php?title=Missing_Witnesses&amp;action=edit\"/>\\n<link rel=\"apple-touch-icon\" href=\"/static/apple-touch/wikipedia.png\"/>\\n<link rel=\"shortcut icon\" href=\"/static/favicon/wikipedia.ico\"/>\\n<link rel=\"search\" type=\"application/opensearchdescription+xml\" href=\"/w/opensearch_desc.php\" title=\"Wikipedia (en)\"/>\\n<link rel=\"EditURI\" type=\"application/rsd+xml\" href=\"//en.wikipedia.org/w/api.php?action=rsd\"/>\\n<link rel=\"license\" href=\"//creativecommons.org/licenses/by-sa/3.0/\"/>\\n<link rel=\"canonical\" href=\"https://en.wikipedia.org/wiki/Missing_Witnesses\"/>\\n<link rel=\"dns-prefetch\" href=\"//login.wikimedia.org\"/>\\n<link rel=\"dns-prefetch\" href=\"//meta.wikimedia.org\" />\\n<!--[if lt IE 9]><script src=\"/w/load.php?lang=en&amp;modules=html5shiv&amp;only=scripts&amp;skin=vector&amp;sync=1\"></script><![endif]-->\\n</head>\\n<body class=\"mediawiki ltr sitedir-ltr mw-hide-empty-elt ns-0 ns-subject mw-editable page-Missing_Witnesses rootpage-Missing_Witnesses skin-vector action-view\">\\n<div id=\"mw-page-base\" class=\"noprint\"></div>\\n<div id=\"mw-head-base\" class=\"noprint\"></div>\\n<div id=\"content\" class=\"mw-body\" role=\"main\">\\n\\t<a id=\"top\"></a>\\n\\t<div id=\"siteNotice\" class=\"mw-body-content\"><!-- CentralNotice --></div>\\n\\t<div class=\"mw-indicators mw-body-content\">\\n</div>\\n\\n\\t<h1 id=\"firstHeading\" class=\"firstHeading\" lang=\"en\"><i>Missing Witnesses</i></h1>\\n\\t\\n\\t<div id=\"bodyContent\" class=\"mw-body-content\">\\n\\t\\t<div id=\"siteSub\" class=\"noprint\">From Wikipedia, the free encyclopedia</div>\\n\\t\\t<div id=\"contentSub\"></div>\\n\\t\\t\\n\\t\\t\\n\\t\\t\\n\\t\\t<div id=\"jump-to-nav\"></div>\\n\\t\\t<a class=\"mw-jump-link\" href=\"#mw-head\">Jump to navigation</a>\\n\\t\\t<a class=\"mw-jump-link\" href=\"#p-search\">Jump to search</a>\\n\\t\\t<div id=\"mw-content-text\" lang=\"en\" dir=\"ltr\" class=\"mw-content-ltr\"><div class=\"mw-parser-output\"><table class=\"infobox vevent\" style=\"width:22em;font-size:90%;\"><tbody><tr><th colspan=\"2\" class=\"summary\" style=\"text-align:center;font-size:125%;font-weight:bold;font-size:110%;font-style:italic;\">Missing Witnesses</th></tr><tr><td colspan=\"2\" style=\"text-align:center\"><a href=\"/wiki/File:Missing_Witnesses_poster.jpg\" class=\"image\"><img alt=\"Missing Witnesses poster.jpg\" src=\"//upload.wikimedia.org/wikipedia/en/thumb/f/f1/Missing_Witnesses_poster.jpg/220px-Missing_Witnesses_poster.jpg\" decoding=\"async\" width=\"220\" height=\"330\" class=\"thumbborder\" srcset=\"//upload.wikimedia.org/wikipedia/en/f/f1/Missing_Witnesses_poster.jpg 1.5x\" data-file-width=\"257\" data-file-height=\"386\" /></a><div style=\"font-size:95%;padding:0.35em 0.35em 0.25em;line-height:1.25em;\">Theatrical release poster</div></td></tr><tr><th scope=\"row\" style=\"white-space:nowrap;padding-right:0.65em;\">Directed by</th><td><a href=\"/wiki/William_Clemens_(film_director)\" title=\"William Clemens (film director)\">William Clemens</a></td></tr><tr><th scope=\"row\" style=\"white-space:nowrap;padding-right:0.65em;\">Produced by</th><td><a href=\"/wiki/Bryan_Foy\" title=\"Bryan Foy\">Bryan Foy</a></td></tr><tr><th scope=\"row\" style=\"white-space:nowrap;padding-right:0.65em;\">Screenplay by</th><td>Kenneth Gamet<br />Don Ryan</td></tr><tr><th scope=\"row\" style=\"white-space:nowrap;padding-right:0.65em;\">Starring</th><td><a href=\"/wiki/John_Litel\" title=\"John Litel\">John Litel</a><br /><a href=\"/wiki/Dick_Purcell\" title=\"Dick Purcell\">Dick Purcell</a><br />Jean Dale<br /><a href=\"/wiki/Sheila_Bromley\" title=\"Sheila Bromley\">Sheila Bromley</a><br /><a href=\"/wiki/Ben_Welden\" title=\"Ben Welden\">Ben Welden</a><br /><a href=\"/wiki/William_Haade\" title=\"William Haade\">William Haade</a></td></tr><tr><th scope=\"row\" style=\"white-space:nowrap;padding-right:0.65em;\">Music by</th><td><a href=\"/wiki/Bernhard_Kaun\" title=\"Bernhard Kaun\">Bernhard Kaun</a></td></tr><tr><th scope=\"row\" style=\"white-space:nowrap;padding-right:0.65em;\">Cinematography</th><td><a href=\"/wiki/Sidney_Hickox\" title=\"Sidney Hickox\">Sidney Hickox</a></td></tr><tr><th scope=\"row\" style=\"white-space:nowrap;padding-right:0.65em;\">Edited by</th><td><a href=\"/wiki/Frederick_Richards_(editor)\" title=\"Frederick Richards (editor)\">Frederick Richards</a></td></tr><tr><th scope=\"row\" style=\"white-space:nowrap;padding-right:0.65em;\"><div style=\"padding:0.1em 0;line-height:1.2em;\">Production<br />company </div></th><td><div style=\"vertical-align:middle;\"><a href=\"/wiki/Warner_Bros.\" title=\"Warner Bros.\">Warner Bros.</a>  </div></td></tr><tr><th scope=\"row\" style=\"white-space:nowrap;padding-right:0.65em;\">Distributed by</th><td>Warner Bros.</td></tr><tr><th scope=\"row\" style=\"white-space:nowrap;padding-right:0.65em;\"><div style=\"padding:0.1em 0;line-height:1.2em;white-space:normal;\">Release date</div></th><td><div class=\"plainlist\">\\n<ul><li>December&#160;11,&#160;1937<span style=\"display:none\">&#160;(<span class=\"bday dtstart published updated\">1937-12-11</span>)</span></li></ul>\\n</div></td></tr><tr><th scope=\"row\" style=\"white-space:nowrap;padding-right:0.65em;\"><div style=\"padding:0.1em 0;line-height:1.2em;white-space:normal;\">Running time</div></th><td>61 minutes</td></tr><tr><th scope=\"row\" style=\"white-space:nowrap;padding-right:0.65em;\">Country</th><td>United States</td></tr><tr><th scope=\"row\" style=\"white-space:nowrap;padding-right:0.65em;\">Language</th><td>English</td></tr></tbody></table>\\n<p><i><b>Missing Witnesses</b></i> is a 1937 American <a href=\"/wiki/Crime_film\" title=\"Crime film\">crime film</a> directed by <a href=\"/wiki/William_Clemens_(film_director)\" title=\"William Clemens (film director)\">William Clemens</a> and written by Kenneth Gamet and Don Ryan. The film stars <a href=\"/wiki/John_Litel\" title=\"John Litel\">John Litel</a>, <a href=\"/wiki/Dick_Purcell\" title=\"Dick Purcell\">Dick Purcell</a>, Jean Dale, <a href=\"/wiki/Sheila_Bromley\" title=\"Sheila Bromley\">Sheila Bromley</a>, <a href=\"/wiki/Ben_Welden\" title=\"Ben Welden\">Ben Welden</a> and <a href=\"/wiki/William_Haade\" title=\"William Haade\">William Haade</a>. The film was released by <a href=\"/wiki/Warner_Bros.\" title=\"Warner Bros.\">Warner Bros.</a> on December 11, 1937.<sup id=\"cite_ref-1\" class=\"reference\"><a href=\"#cite_note-1\">&#91;1&#93;</a></sup><sup id=\"cite_ref-2\" class=\"reference\"><a href=\"#cite_note-2\">&#91;2&#93;</a></sup><sup id=\"cite_ref-3\" class=\"reference\"><a href=\"#cite_note-3\">&#91;3&#93;</a></sup>\\n</p>\\n<div id=\"toc\" class=\"toc\"><input type=\"checkbox\" role=\"button\" id=\"toctogglecheckbox\" class=\"toctogglecheckbox\" style=\"display:none\" /><div class=\"toctitle\" lang=\"en\" dir=\"ltr\"><h2>Contents</h2><span class=\"toctogglespan\"><label class=\"toctogglelabel\" for=\"toctogglecheckbox\"></label></span></div>\\n<ul>\\n<li class=\"toclevel-1 tocsection-1\"><a href=\"#Plot\"><span class=\"tocnumber\">1</span> <span class=\"toctext\">Plot</span></a></li>\\n<li class=\"toclevel-1 tocsection-2\"><a href=\"#Cast\"><span class=\"tocnumber\">2</span> <span class=\"toctext\">Cast</span></a></li>\\n<li class=\"toclevel-1 tocsection-3\"><a href=\"#References\"><span class=\"tocnumber\">3</span> <span class=\"toctext\">References</span></a></li>\\n<li class=\"toclevel-1 tocsection-4\"><a href=\"#External_links\"><span class=\"tocnumber\">4</span> <span class=\"toctext\">External links</span></a></li>\\n</ul>\\n</div>\\n\\n<h2><span class=\"mw-headline\" id=\"Plot\">Plot</span><span class=\"mw-editsection\"><span class=\"mw-editsection-bracket\">[</span><a href=\"/w/index.php?title=Missing_Witnesses&amp;action=edit&amp;section=1\" title=\"Edit section: Plot\">edit</a><span class=\"mw-editsection-bracket\">]</span></span></h2>\\n<table class=\"box-Expand_section plainlinks metadata ambox mbox-small-left ambox-content\" role=\"presentation\"><tbody><tr><td class=\"mbox-image\"><a href=\"/wiki/File:Wiki_letter_w_cropped.svg\" class=\"image\"><img alt=\"[icon]\" src=\"//upload.wikimedia.org/wikipedia/commons/thumb/1/1c/Wiki_letter_w_cropped.svg/20px-Wiki_letter_w_cropped.svg.png\" decoding=\"async\" width=\"20\" height=\"14\" srcset=\"//upload.wikimedia.org/wikipedia/commons/thumb/1/1c/Wiki_letter_w_cropped.svg/30px-Wiki_letter_w_cropped.svg.png 1.5x, //upload.wikimedia.org/wikipedia/commons/thumb/1/1c/Wiki_letter_w_cropped.svg/40px-Wiki_letter_w_cropped.svg.png 2x\" data-file-width=\"44\" data-file-height=\"31\" /></a></td><td class=\"mbox-text\"><div class=\"mbox-text-span\">This section <b>needs expansion</b>. <small>You can help by <a class=\"external text\" href=\"//en.wikipedia.org/w/index.php?title=Missing_Witnesses&amp;action=edit&amp;section=\">adding to it</a>.</small>  <small class=\"date-container\"><i>(<span class=\"date\">August 2015</span>)</i></small></div></td></tr></tbody></table>\\n<h2><span class=\"mw-headline\" id=\"Cast\">Cast</span><span class=\"mw-editsection\"><span class=\"mw-editsection-bracket\">[</span><a href=\"/w/index.php?title=Missing_Witnesses&amp;action=edit&amp;section=2\" title=\"Edit section: Cast\">edit</a><span class=\"mw-editsection-bracket\">]</span></span></h2>\\n<ul><li><a href=\"/wiki/John_Litel\" title=\"John Litel\">John Litel</a> as Inspector Lane</li>\\n<li><a href=\"/wiki/Dick_Purcell\" title=\"Dick Purcell\">Dick Purcell</a> as \\'Bull\\' Regan</li>\\n<li>Jean Dale as Mary Norton</li>\\n<li><a href=\"/wiki/Sheila_Bromley\" title=\"Sheila Bromley\">Sheila Bromley</a> as Gladys Wagner</li>\\n<li><a href=\"/wiki/Ben_Welden\" title=\"Ben Welden\">Ben Welden</a> as Wagner</li>\\n<li><a href=\"/wiki/William_Haade\" title=\"William Haade\">William Haade</a> as Emmet White</li>\\n<li><a href=\"/wiki/Raymond_Hatton\" title=\"Raymond Hatton\">Raymond Hatton</a> as \\'Little Joe\\' Macey</li>\\n<li>Harland Tucker as Ward Sturgis</li>\\n<li><a href=\"/wiki/Jack_Mower\" title=\"Jack Mower\">Jack Mower</a> as Detective Butler</li>\\n<li>Jack Harron as Harris</li>\\n<li><a href=\"/wiki/Michael_Mark_(actor)\" title=\"Michael Mark (actor)\">Michael Mark</a> as Hartman</li>\\n<li>Earl Gunn as Chivvy Predo</li>\\n<li><a href=\"/wiki/Louis_Natheaux\" title=\"Louis Natheaux\">Louis Natheaux</a> as Heinie Dodds</li></ul>\\n<h2><span class=\"mw-headline\" id=\"References\">References</span><span class=\"mw-editsection\"><span class=\"mw-editsection-bracket\">[</span><a href=\"/w/index.php?title=Missing_Witnesses&amp;action=edit&amp;section=3\" title=\"Edit section: References\">edit</a><span class=\"mw-editsection-bracket\">]</span></span></h2>\\n<div class=\"reflist\" style=\"list-style-type: decimal;\">\\n<div class=\"mw-references-wrap\"><ol class=\"references\">\\n<li id=\"cite_note-1\"><span class=\"mw-cite-backlink\"><b><a href=\"#cite_ref-1\">^</a></b></span> <span class=\"reference-text\"><cite class=\"citation web\"><a rel=\"nofollow\" class=\"external text\" href=\"http://www.tcm.com/tcmdb/title/1145/Missing-Witnesses/\">\"Missing Witnesses (1937) - Overview\"</a>. TCM.com<span class=\"reference-accessdate\">. Retrieved <span class=\"nowrap\">2015-08-28</span></span>.</cite><span title=\"ctx_ver=Z39.88-2004&amp;rft_val_fmt=info%3Aofi%2Ffmt%3Akev%3Amtx%3Abook&amp;rft.genre=unknown&amp;rft.btitle=Missing+Witnesses+%281937%29+-+Overview&amp;rft.pub=TCM.com&amp;rft_id=http%3A%2F%2Fwww.tcm.com%2Ftcmdb%2Ftitle%2F1145%2FMissing-Witnesses%2F&amp;rfr_id=info%3Asid%2Fen.wikipedia.org%3AMissing+Witnesses\" class=\"Z3988\"></span><style data-mw-deduplicate=\"TemplateStyles:r886058088\">.mw-parser-output cite.citation{font-style:inherit}.mw-parser-output .citation q{quotes:\"\\\\\"\"\"\\\\\"\"\"\\'\"\"\\'\"}.mw-parser-output .citation .cs1-lock-free a{background:url(\"//upload.wikimedia.org/wikipedia/commons/thumb/6/65/Lock-green.svg/9px-Lock-green.svg.png\")no-repeat;background-position:right .1em center}.mw-parser-output .citation .cs1-lock-limited a,.mw-parser-output .citation .cs1-lock-registration a{background:url(\"//upload.wikimedia.org/wikipedia/commons/thumb/d/d6/Lock-gray-alt-2.svg/9px-Lock-gray-alt-2.svg.png\")no-repeat;background-position:right .1em center}.mw-parser-output .citation .cs1-lock-subscription a{background:url(\"//upload.wikimedia.org/wikipedia/commons/thumb/a/aa/Lock-red-alt-2.svg/9px-Lock-red-alt-2.svg.png\")no-repeat;background-position:right .1em center}.mw-parser-output .cs1-subscription,.mw-parser-output .cs1-registration{color:#555}.mw-parser-output .cs1-subscription span,.mw-parser-output .cs1-registration span{border-bottom:1px dotted;cursor:help}.mw-parser-output .cs1-ws-icon a{background:url(\"//upload.wikimedia.org/wikipedia/commons/thumb/4/4c/Wikisource-logo.svg/12px-Wikisource-logo.svg.png\")no-repeat;background-position:right .1em center}.mw-parser-output code.cs1-code{color:inherit;background:inherit;border:inherit;padding:inherit}.mw-parser-output .cs1-hidden-error{display:none;font-size:100%}.mw-parser-output .cs1-visible-error{font-size:100%}.mw-parser-output .cs1-maint{display:none;color:#33aa33;margin-left:0.3em}.mw-parser-output .cs1-subscription,.mw-parser-output .cs1-registration,.mw-parser-output .cs1-format{font-size:95%}.mw-parser-output .cs1-kern-left,.mw-parser-output .cs1-kern-wl-left{padding-left:0.2em}.mw-parser-output .cs1-kern-right,.mw-parser-output .cs1-kern-wl-right{padding-right:0.2em}</style></span>\\n</li>\\n<li id=\"cite_note-2\"><span class=\"mw-cite-backlink\"><b><a href=\"#cite_ref-2\">^</a></b></span> <span class=\"reference-text\"><cite class=\"citation web\"><a rel=\"nofollow\" class=\"external text\" href=\"https://www.nytimes.com/movies/movie/102563/Missing-Witnesses/overview\">\"Missing-Witnesses - Trailer - Cast - Showtimes\"</a>. NYTimes.com<span class=\"reference-accessdate\">. Retrieved <span class=\"nowrap\">2015-08-28</span></span>.</cite><span title=\"ctx_ver=Z39.88-2004&amp;rft_val_fmt=info%3Aofi%2Ffmt%3Akev%3Amtx%3Abook&amp;rft.genre=unknown&amp;rft.btitle=Missing-Witnesses+-+Trailer+-+Cast+-+Showtimes&amp;rft.pub=NYTimes.com&amp;rft_id=https%3A%2F%2Fwww.nytimes.com%2Fmovies%2Fmovie%2F102563%2FMissing-Witnesses%2Foverview&amp;rfr_id=info%3Asid%2Fen.wikipedia.org%3AMissing+Witnesses\" class=\"Z3988\"></span><link rel=\"mw-deduplicated-inline-style\" href=\"mw-data:TemplateStyles:r886058088\"/></span>\\n</li>\\n<li id=\"cite_note-3\"><span class=\"mw-cite-backlink\"><b><a href=\"#cite_ref-3\">^</a></b></span> <span class=\"reference-text\"><cite class=\"citation web\"><a rel=\"nofollow\" class=\"external text\" href=\"http://www.afi.com/members/catalog/DetailView.aspx?s=&amp;Movie=6832\">\"Missing Witnesses\"</a>. Afi.com. 1937-12-11<span class=\"reference-accessdate\">. Retrieved <span class=\"nowrap\">2015-08-28</span></span>.</cite><span title=\"ctx_ver=Z39.88-2004&amp;rft_val_fmt=info%3Aofi%2Ffmt%3Akev%3Amtx%3Abook&amp;rft.genre=unknown&amp;rft.btitle=Missing+Witnesses&amp;rft.pub=Afi.com&amp;rft.date=1937-12-11&amp;rft_id=http%3A%2F%2Fwww.afi.com%2Fmembers%2Fcatalog%2FDetailView.aspx%3Fs%3D%26Movie%3D6832&amp;rfr_id=info%3Asid%2Fen.wikipedia.org%3AMissing+Witnesses\" class=\"Z3988\"></span><link rel=\"mw-deduplicated-inline-style\" href=\"mw-data:TemplateStyles:r886058088\"/></span>\\n</li>\\n</ol></div></div>\\n<h2><span class=\"mw-headline\" id=\"External_links\">External links</span><span class=\"mw-editsection\"><span class=\"mw-editsection-bracket\">[</span><a href=\"/w/index.php?title=Missing_Witnesses&amp;action=edit&amp;section=4\" title=\"Edit section: External links\">edit</a><span class=\"mw-editsection-bracket\">]</span></span></h2>\\n<ul><li><a rel=\"nofollow\" class=\"external text\" href=\"https://www.imdb.com/title/tt0029253/\"><i>Missing Witnesses</i></a> on <a href=\"/wiki/IMDb\" title=\"IMDb\">IMDb</a>&#32;</li></ul>\\n<p><br />\\n</p>\\n<table class=\"metadata plainlinks stub\" role=\"presentation\" style=\"background:transparent\"><tbody><tr><td><a href=\"/wiki/File:Crime_film_clapperboard.svg\" class=\"image\"><img alt=\"Stub icon\" src=\"//upload.wikimedia.org/wikipedia/commons/thumb/0/03/Crime_film_clapperboard.svg/30px-Crime_film_clapperboard.svg.png\" decoding=\"async\" width=\"30\" height=\"30\" srcset=\"//upload.wikimedia.org/wikipedia/commons/thumb/0/03/Crime_film_clapperboard.svg/45px-Crime_film_clapperboard.svg.png 1.5x, //upload.wikimedia.org/wikipedia/commons/thumb/0/03/Crime_film_clapperboard.svg/60px-Crime_film_clapperboard.svg.png 2x\" data-file-width=\"45\" data-file-height=\"45\" /></a></td><td><i>This 1930s crime film-related article is a <a href=\"/wiki/Wikipedia:Stub\" title=\"Wikipedia:Stub\">stub</a>. You can help Wikipedia by <a class=\"external text\" href=\"//en.wikipedia.org/w/index.php?title=Missing_Witnesses&amp;action=edit\">expanding it</a>.</i><div class=\"plainlinks hlist navbar mini\" style=\"position: absolute; right: 15px; display: none;\"><ul><li class=\"nv-view\"><a href=\"/wiki/Template:1930s-crime-film-stub\" title=\"Template:1930s-crime-film-stub\"><abbr title=\"View this template\">v</abbr></a></li><li class=\"nv-talk\"><a href=\"/wiki/Template_talk:1930s-crime-film-stub\" title=\"Template talk:1930s-crime-film-stub\"><abbr title=\"Discuss this template\">t</abbr></a></li><li class=\"nv-edit\"><a class=\"external text\" href=\"//en.wikipedia.org/w/index.php?title=Template:1930s-crime-film-stub&amp;action=edit\"><abbr title=\"Edit this template\">e</abbr></a></li></ul></div></td></tr></tbody></table>\\n<!-- \\nNewPP limit report\\nParsed by mw1238\\nCached time: 20190409093903\\nCache expiry: 3600\\nDynamic content: true\\nCPU time usage: 0.280 seconds\\nReal time usage: 0.391 seconds\\nPreprocessor visited node count: 946/1000000\\nPreprocessor generated node count: 0/1500000\\nPost‐expand include size: 19013/2097152 bytes\\nTemplate argument size: 1426/2097152 bytes\\nHighest expansion depth: 21/40\\nExpensive parser function count: 2/500\\nUnstrip recursion depth: 1/20\\nUnstrip post‐expand size: 8429/5000000 bytes\\nNumber of Wikibase entities loaded: 1/400\\nLua time usage: 0.137/10.000 seconds\\nLua memory usage: 2.68 MB/50 MB\\n-->\\n<!--\\nTransclusion expansion time report (%,ms,calls,template)\\n100.00%  342.254      1 -total\\n 33.38%  114.242      1 Template:Reflist\\n 31.40%  107.471      1 Template:Infobox_film\\n 30.13%  103.108      3 Template:Cite_web\\n 27.36%   93.635      1 Template:Infobox\\n 14.22%   48.681      1 Template:Expand_section\\n 13.63%   46.651      1 Template:IMDb_title\\n 11.82%   40.450      1 Template:Ambox\\n  7.24%   24.787      1 Template:Film_date\\n  5.99%   20.502      1 Template:1930s-crime-film-stub\\n-->\\n\\n<!-- Saved in parser cache with key enwiki:pcache:idhash:47655418-0!canonical and timestamp 20190409093903 and revision id 855669761\\n -->\\n</div><noscript><img src=\"//en.wikipedia.org/wiki/Special:CentralAutoLogin/start?type=1x1\" alt=\"\" title=\"\" width=\"1\" height=\"1\" style=\"border: none; position: absolute;\" /></noscript></div>\\n\\t\\t\\n\\t\\t<div class=\"printfooter\">Retrieved from \"<a dir=\"ltr\" href=\"https://en.wikipedia.org/w/index.php?title=Missing_Witnesses&amp;oldid=855669761\">https://en.wikipedia.org/w/index.php?title=Missing_Witnesses&amp;oldid=855669761</a>\"</div>\\n\\t\\t\\n\\t\\t<div id=\"catlinks\" class=\"catlinks\" data-mw=\"interface\"><div id=\"mw-normal-catlinks\" class=\"mw-normal-catlinks\"><a href=\"/wiki/Help:Category\" title=\"Help:Category\">Categories</a>: <ul><li><a href=\"/wiki/Category:1937_films\" title=\"Category:1937 films\">1937 films</a></li><li><a href=\"/wiki/Category:English-language_films\" title=\"Category:English-language films\">English-language films</a></li><li><a href=\"/wiki/Category:American_films\" title=\"Category:American films\">American films</a></li><li><a href=\"/wiki/Category:Warner_Bros._films\" title=\"Category:Warner Bros. films\">Warner Bros. films</a></li><li><a href=\"/wiki/Category:American_crime_films\" title=\"Category:American crime films\">American crime films</a></li><li><a href=\"/wiki/Category:1930s_crime_films\" title=\"Category:1930s crime films\">1930s crime films</a></li><li><a href=\"/wiki/Category:Films_directed_by_William_Clemens\" title=\"Category:Films directed by William Clemens\">Films directed by William Clemens</a></li><li><a href=\"/wiki/Category:American_black-and-white_films\" title=\"Category:American black-and-white films\">American black-and-white films</a></li><li><a href=\"/wiki/Category:1930s_crime_film_stubs\" title=\"Category:1930s crime film stubs\">1930s crime film stubs</a></li></ul></div><div id=\"mw-hidden-catlinks\" class=\"mw-hidden-catlinks mw-hidden-cats-hidden\">Hidden categories: <ul><li><a href=\"/wiki/Category:Articles_to_be_expanded_from_August_2015\" title=\"Category:Articles to be expanded from August 2015\">Articles to be expanded from August 2015</a></li><li><a href=\"/wiki/Category:All_articles_to_be_expanded\" title=\"Category:All articles to be expanded\">All articles to be expanded</a></li><li><a href=\"/wiki/Category:Articles_using_small_message_boxes\" title=\"Category:Articles using small message boxes\">Articles using small message boxes</a></li><li><a href=\"/wiki/Category:All_stub_articles\" title=\"Category:All stub articles\">All stub articles</a></li></ul></div></div>\\n\\t\\t\\n\\t\\t<div class=\"visualClear\"></div>\\n\\t\\t\\n\\t</div>\\n</div>\\n\\n\\t\\t<div id=\"mw-navigation\">\\n\\t\\t\\t<h2>Navigation menu</h2>\\n\\t\\t\\t<div id=\"mw-head\">\\n\\t\\t\\t\\t\\t\\t\\t\\t\\t<div id=\"p-personal\" role=\"navigation\" aria-labelledby=\"p-personal-label\">\\n\\t\\t\\t\\t\\t\\t<h3 id=\"p-personal-label\">Personal tools</h3>\\n\\t\\t\\t\\t\\t\\t<ul>\\n\\t\\t\\t\\t\\t\\t\\t<li id=\"pt-anonuserpage\">Not logged in</li><li id=\"pt-anontalk\"><a href=\"/wiki/Special:MyTalk\" title=\"Discussion about edits from this IP address [n]\" accesskey=\"n\">Talk</a></li><li id=\"pt-anoncontribs\"><a href=\"/wiki/Special:MyContributions\" title=\"A list of edits made from this IP address [y]\" accesskey=\"y\">Contributions</a></li><li id=\"pt-createaccount\"><a href=\"/w/index.php?title=Special:CreateAccount&amp;returnto=Missing+Witnesses\" title=\"You are encouraged to create an account and log in; however, it is not mandatory\">Create account</a></li><li id=\"pt-login\"><a href=\"/w/index.php?title=Special:UserLogin&amp;returnto=Missing+Witnesses\" title=\"You&#039;re encouraged to log in; however, it&#039;s not mandatory. [o]\" accesskey=\"o\">Log in</a></li>\\t\\t\\t\\t\\t\\t</ul>\\n\\t\\t\\t\\t\\t</div>\\n\\t\\t\\t\\t\\t\\t\\t\\t\\t<div id=\"left-navigation\">\\n\\t\\t\\t\\t\\t\\t\\t\\t\\t\\t<div id=\"p-namespaces\" role=\"navigation\" class=\"vectorTabs\" aria-labelledby=\"p-namespaces-label\">\\n\\t\\t\\t\\t\\t\\t<h3 id=\"p-namespaces-label\">Namespaces</h3>\\n\\t\\t\\t\\t\\t\\t<ul>\\n\\t\\t\\t\\t\\t\\t\\t<li id=\"ca-nstab-main\" class=\"selected\"><span><a href=\"/wiki/Missing_Witnesses\" title=\"View the content page [c]\" accesskey=\"c\">Article</a></span></li><li id=\"ca-talk\"><span><a href=\"/wiki/Talk:Missing_Witnesses\" rel=\"discussion\" title=\"Discussion about the content page [t]\" accesskey=\"t\">Talk</a></span></li>\\t\\t\\t\\t\\t\\t</ul>\\n\\t\\t\\t\\t\\t</div>\\n\\t\\t\\t\\t\\t\\t\\t\\t\\t\\t<div id=\"p-variants\" role=\"navigation\" class=\"vectorMenu emptyPortlet\" aria-labelledby=\"p-variants-label\">\\n\\t\\t\\t\\t\\t\\t\\t\\t\\t\\t\\t\\t<input type=\"checkbox\" class=\"vectorMenuCheckbox\" aria-labelledby=\"p-variants-label\" />\\n\\t\\t\\t\\t\\t\\t<h3 id=\"p-variants-label\">\\n\\t\\t\\t\\t\\t\\t\\t<span>Variants</span>\\n\\t\\t\\t\\t\\t\\t</h3>\\n\\t\\t\\t\\t\\t\\t<ul class=\"menu\">\\n\\t\\t\\t\\t\\t\\t\\t\\t\\t\\t\\t\\t\\t</ul>\\n\\t\\t\\t\\t\\t</div>\\n\\t\\t\\t\\t\\t\\t\\t\\t\\t</div>\\n\\t\\t\\t\\t<div id=\"right-navigation\">\\n\\t\\t\\t\\t\\t\\t\\t\\t\\t\\t<div id=\"p-views\" role=\"navigation\" class=\"vectorTabs\" aria-labelledby=\"p-views-label\">\\n\\t\\t\\t\\t\\t\\t<h3 id=\"p-views-label\">Views</h3>\\n\\t\\t\\t\\t\\t\\t<ul>\\n\\t\\t\\t\\t\\t\\t\\t<li id=\"ca-view\" class=\"collapsible selected\"><span><a href=\"/wiki/Missing_Witnesses\">Read</a></span></li><li id=\"ca-edit\" class=\"collapsible\"><span><a href=\"/w/index.php?title=Missing_Witnesses&amp;action=edit\" title=\"Edit this page [e]\" accesskey=\"e\">Edit</a></span></li><li id=\"ca-history\" class=\"collapsible\"><span><a href=\"/w/index.php?title=Missing_Witnesses&amp;action=history\" title=\"Past revisions of this page [h]\" accesskey=\"h\">View history</a></span></li>\\t\\t\\t\\t\\t\\t</ul>\\n\\t\\t\\t\\t\\t</div>\\n\\t\\t\\t\\t\\t\\t\\t\\t\\t\\t<div id=\"p-cactions\" role=\"navigation\" class=\"vectorMenu emptyPortlet\" aria-labelledby=\"p-cactions-label\">\\n\\t\\t\\t\\t\\t\\t<input type=\"checkbox\" class=\"vectorMenuCheckbox\" aria-labelledby=\"p-cactions-label\" />\\n\\t\\t\\t\\t\\t\\t<h3 id=\"p-cactions-label\"><span>More</span></h3>\\n\\t\\t\\t\\t\\t\\t<ul class=\"menu\">\\n\\t\\t\\t\\t\\t\\t\\t\\t\\t\\t\\t\\t\\t</ul>\\n\\t\\t\\t\\t\\t</div>\\n\\t\\t\\t\\t\\t\\t\\t\\t\\t\\t<div id=\"p-search\" role=\"search\">\\n\\t\\t\\t\\t\\t\\t<h3>\\n\\t\\t\\t\\t\\t\\t\\t<label for=\"searchInput\">Search</label>\\n\\t\\t\\t\\t\\t\\t</h3>\\n\\t\\t\\t\\t\\t\\t<form action=\"/w/index.php\" id=\"searchform\">\\n\\t\\t\\t\\t\\t\\t\\t<div id=\"simpleSearch\">\\n\\t\\t\\t\\t\\t\\t\\t\\t<input type=\"search\" name=\"search\" placeholder=\"Search Wikipedia\" title=\"Search Wikipedia [f]\" accesskey=\"f\" id=\"searchInput\"/><input type=\"hidden\" value=\"Special:Search\" name=\"title\"/><input type=\"submit\" name=\"fulltext\" value=\"Search\" title=\"Search Wikipedia for this text\" id=\"mw-searchButton\" class=\"searchButton mw-fallbackSearchButton\"/><input type=\"submit\" name=\"go\" value=\"Go\" title=\"Go to a page with this exact name if it exists\" id=\"searchButton\" class=\"searchButton\"/>\\t\\t\\t\\t\\t\\t\\t</div>\\n\\t\\t\\t\\t\\t\\t</form>\\n\\t\\t\\t\\t\\t</div>\\n\\t\\t\\t\\t\\t\\t\\t\\t\\t</div>\\n\\t\\t\\t</div>\\n\\t\\t\\t<div id=\"mw-panel\">\\n\\t\\t\\t\\t<div id=\"p-logo\" role=\"banner\"><a class=\"mw-wiki-logo\" href=\"/wiki/Main_Page\" title=\"Visit the main page\"></a></div>\\n\\t\\t\\t\\t\\t\\t<div class=\"portal\" role=\"navigation\" id=\"p-navigation\" aria-labelledby=\"p-navigation-label\">\\n\\t\\t\\t<h3 id=\"p-navigation-label\">Navigation</h3>\\n\\t\\t\\t<div class=\"body\">\\n\\t\\t\\t\\t\\t\\t\\t\\t<ul>\\n\\t\\t\\t\\t\\t<li id=\"n-mainpage-description\"><a href=\"/wiki/Main_Page\" title=\"Visit the main page [z]\" accesskey=\"z\">Main page</a></li><li id=\"n-contents\"><a href=\"/wiki/Portal:Contents\" title=\"Guides to browsing Wikipedia\">Contents</a></li><li id=\"n-featuredcontent\"><a href=\"/wiki/Portal:Featured_content\" title=\"Featured content – the best of Wikipedia\">Featured content</a></li><li id=\"n-currentevents\"><a href=\"/wiki/Portal:Current_events\" title=\"Find background information on current events\">Current events</a></li><li id=\"n-randompage\"><a href=\"/wiki/Special:Random\" title=\"Load a random article [x]\" accesskey=\"x\">Random article</a></li><li id=\"n-sitesupport\"><a href=\"https://donate.wikimedia.org/wiki/Special:FundraiserRedirector?utm_source=donate&amp;utm_medium=sidebar&amp;utm_campaign=C13_en.wikipedia.org&amp;uselang=en\" title=\"Support us\">Donate to Wikipedia</a></li><li id=\"n-shoplink\"><a href=\"//shop.wikimedia.org\" title=\"Visit the Wikipedia store\">Wikipedia store</a></li>\\t\\t\\t\\t</ul>\\n\\t\\t\\t\\t\\t\\t\\t</div>\\n\\t\\t</div>\\n\\t\\t\\t<div class=\"portal\" role=\"navigation\" id=\"p-interaction\" aria-labelledby=\"p-interaction-label\">\\n\\t\\t\\t<h3 id=\"p-interaction-label\">Interaction</h3>\\n\\t\\t\\t<div class=\"body\">\\n\\t\\t\\t\\t\\t\\t\\t\\t<ul>\\n\\t\\t\\t\\t\\t<li id=\"n-help\"><a href=\"/wiki/Help:Contents\" title=\"Guidance on how to use and edit Wikipedia\">Help</a></li><li id=\"n-aboutsite\"><a href=\"/wiki/Wikipedia:About\" title=\"Find out about Wikipedia\">About Wikipedia</a></li><li id=\"n-portal\"><a href=\"/wiki/Wikipedia:Community_portal\" title=\"About the project, what you can do, where to find things\">Community portal</a></li><li id=\"n-recentchanges\"><a href=\"/wiki/Special:RecentChanges\" title=\"A list of recent changes in the wiki [r]\" accesskey=\"r\">Recent changes</a></li><li id=\"n-contactpage\"><a href=\"//en.wikipedia.org/wiki/Wikipedia:Contact_us\" title=\"How to contact Wikipedia\">Contact page</a></li>\\t\\t\\t\\t</ul>\\n\\t\\t\\t\\t\\t\\t\\t</div>\\n\\t\\t</div>\\n\\t\\t\\t<div class=\"portal\" role=\"navigation\" id=\"p-tb\" aria-labelledby=\"p-tb-label\">\\n\\t\\t\\t<h3 id=\"p-tb-label\">Tools</h3>\\n\\t\\t\\t<div class=\"body\">\\n\\t\\t\\t\\t\\t\\t\\t\\t<ul>\\n\\t\\t\\t\\t\\t<li id=\"t-whatlinkshere\"><a href=\"/wiki/Special:WhatLinksHere/Missing_Witnesses\" title=\"List of all English Wikipedia pages containing links to this page [j]\" accesskey=\"j\">What links here</a></li><li id=\"t-recentchangeslinked\"><a href=\"/wiki/Special:RecentChangesLinked/Missing_Witnesses\" rel=\"nofollow\" title=\"Recent changes in pages linked from this page [k]\" accesskey=\"k\">Related changes</a></li><li id=\"t-upload\"><a href=\"/wiki/Wikipedia:File_Upload_Wizard\" title=\"Upload files [u]\" accesskey=\"u\">Upload file</a></li><li id=\"t-specialpages\"><a href=\"/wiki/Special:SpecialPages\" title=\"A list of all special pages [q]\" accesskey=\"q\">Special pages</a></li><li id=\"t-permalink\"><a href=\"/w/index.php?title=Missing_Witnesses&amp;oldid=855669761\" title=\"Permanent link to this revision of the page\">Permanent link</a></li><li id=\"t-info\"><a href=\"/w/index.php?title=Missing_Witnesses&amp;action=info\" title=\"More information about this page\">Page information</a></li><li id=\"t-wikibase\"><a href=\"https://www.wikidata.org/wiki/Special:EntityPage/Q20949912\" title=\"Link to connected data repository item [g]\" accesskey=\"g\">Wikidata item</a></li><li id=\"t-cite\"><a href=\"/w/index.php?title=Special:CiteThisPage&amp;page=Missing_Witnesses&amp;id=855669761\" title=\"Information on how to cite this page\">Cite this page</a></li>\\t\\t\\t\\t</ul>\\n\\t\\t\\t\\t\\t\\t\\t</div>\\n\\t\\t</div>\\n\\t\\t\\t<div class=\"portal\" role=\"navigation\" id=\"p-coll-print_export\" aria-labelledby=\"p-coll-print_export-label\">\\n\\t\\t\\t<h3 id=\"p-coll-print_export-label\">Print/export</h3>\\n\\t\\t\\t<div class=\"body\">\\n\\t\\t\\t\\t\\t\\t\\t\\t<ul>\\n\\t\\t\\t\\t\\t<li id=\"coll-create_a_book\"><a href=\"/w/index.php?title=Special:Book&amp;bookcmd=book_creator&amp;referer=Missing+Witnesses\">Create a book</a></li><li id=\"coll-download-as-rdf2latex\"><a href=\"/w/index.php?title=Special:ElectronPdf&amp;page=Missing+Witnesses&amp;action=show-download-screen\">Download as PDF</a></li><li id=\"t-print\"><a href=\"/w/index.php?title=Missing_Witnesses&amp;printable=yes\" title=\"Printable version of this page [p]\" accesskey=\"p\">Printable version</a></li>\\t\\t\\t\\t</ul>\\n\\t\\t\\t\\t\\t\\t\\t</div>\\n\\t\\t</div>\\n\\t\\t\\t<div class=\"portal\" role=\"navigation\" id=\"p-lang\" aria-labelledby=\"p-lang-label\">\\n\\t\\t\\t<h3 id=\"p-lang-label\">Languages</h3>\\n\\t\\t\\t<div class=\"body\">\\n\\t\\t\\t\\t\\t\\t\\t\\t<ul>\\n\\t\\t\\t\\t\\t\\t\\t\\t\\t</ul>\\n\\t\\t\\t\\t<div class=\"after-portlet after-portlet-lang\"><span class=\"wb-langlinks-add wb-langlinks-link\"><a href=\"https://www.wikidata.org/wiki/Special:EntityPage/Q20949912#sitelinks-wikipedia\" title=\"Add interlanguage links\" class=\"wbc-editpage\">Add links</a></span></div>\\t\\t\\t</div>\\n\\t\\t</div>\\n\\t\\t\\t\\t</div>\\n\\t\\t</div>\\n\\t\\t\\t\\t<div id=\"footer\" role=\"contentinfo\">\\n\\t\\t\\t\\t\\t\\t<ul id=\"footer-info\">\\n\\t\\t\\t\\t\\t\\t\\t\\t<li id=\"footer-info-lastmod\"> This page was last edited on 20 August 2018, at 00:47<span class=\"anonymous-show\">&#160;(UTC)</span>.</li>\\n\\t\\t\\t\\t\\t\\t\\t\\t<li id=\"footer-info-copyright\">Text is available under the <a rel=\"license\" href=\"//en.wikipedia.org/wiki/Wikipedia:Text_of_Creative_Commons_Attribution-ShareAlike_3.0_Unported_License\">Creative Commons Attribution-ShareAlike License</a><a rel=\"license\" href=\"//creativecommons.org/licenses/by-sa/3.0/\" style=\"display:none;\"></a>;\\nadditional terms may apply.  By using this site, you agree to the <a href=\"//foundation.wikimedia.org/wiki/Terms_of_Use\">Terms of Use</a> and <a href=\"//foundation.wikimedia.org/wiki/Privacy_policy\">Privacy Policy</a>. Wikipedia® is a registered trademark of the <a href=\"//www.wikimediafoundation.org/\">Wikimedia Foundation, Inc.</a>, a non-profit organization.</li>\\n\\t\\t\\t\\t\\t\\t\\t</ul>\\n\\t\\t\\t\\t\\t\\t<ul id=\"footer-places\">\\n\\t\\t\\t\\t\\t\\t\\t\\t<li id=\"footer-places-privacy\"><a href=\"https://foundation.wikimedia.org/wiki/Privacy_policy\" class=\"extiw\" title=\"wmf:Privacy policy\">Privacy policy</a></li>\\n\\t\\t\\t\\t\\t\\t\\t\\t<li id=\"footer-places-about\"><a href=\"/wiki/Wikipedia:About\" title=\"Wikipedia:About\">About Wikipedia</a></li>\\n\\t\\t\\t\\t\\t\\t\\t\\t<li id=\"footer-places-disclaimer\"><a href=\"/wiki/Wikipedia:General_disclaimer\" title=\"Wikipedia:General disclaimer\">Disclaimers</a></li>\\n\\t\\t\\t\\t\\t\\t\\t\\t<li id=\"footer-places-contact\"><a href=\"//en.wikipedia.org/wiki/Wikipedia:Contact_us\">Contact Wikipedia</a></li>\\n\\t\\t\\t\\t\\t\\t\\t\\t<li id=\"footer-places-developers\"><a href=\"https://www.mediawiki.org/wiki/Special:MyLanguage/How_to_contribute\">Developers</a></li>\\n\\t\\t\\t\\t\\t\\t\\t\\t<li id=\"footer-places-cookiestatement\"><a href=\"https://foundation.wikimedia.org/wiki/Cookie_statement\">Cookie statement</a></li>\\n\\t\\t\\t\\t\\t\\t\\t\\t<li id=\"footer-places-mobileview\"><a href=\"//en.m.wikipedia.org/w/index.php?title=Missing_Witnesses&amp;mobileaction=toggle_view_mobile\" class=\"noprint stopMobileRedirectToggle\">Mobile view</a></li>\\n\\t\\t\\t\\t\\t\\t\\t</ul>\\n\\t\\t\\t\\t\\t\\t\\t\\t\\t\\t<ul id=\"footer-icons\" class=\"noprint\">\\n\\t\\t\\t\\t\\t\\t\\t\\t\\t\\t<li id=\"footer-copyrightico\">\\n\\t\\t\\t\\t\\t\\t<a href=\"https://wikimediafoundation.org/\"><img src=\"/static/images/wikimedia-button.png\" srcset=\"/static/images/wikimedia-button-1.5x.png 1.5x, /static/images/wikimedia-button-2x.png 2x\" width=\"88\" height=\"31\" alt=\"Wikimedia Foundation\"/></a>\\t\\t\\t\\t\\t</li>\\n\\t\\t\\t\\t\\t\\t\\t\\t\\t\\t<li id=\"footer-poweredbyico\">\\n\\t\\t\\t\\t\\t\\t<a href=\"//www.mediawiki.org/\"><img src=\"/static/images/poweredby_mediawiki_88x31.png\" alt=\"Powered by MediaWiki\" srcset=\"/static/images/poweredby_mediawiki_132x47.png 1.5x, /static/images/poweredby_mediawiki_176x62.png 2x\" width=\"88\" height=\"31\"/></a>\\t\\t\\t\\t\\t</li>\\n\\t\\t\\t\\t\\t\\t\\t\\t\\t</ul>\\n\\t\\t\\t\\t\\t\\t<div style=\"clear: both;\"></div>\\n\\t\\t</div>\\n\\t\\t\\n\\n<script>(window.RLQ=window.RLQ||[]).push(function(){mw.config.set({\"wgPageParseReport\":{\"limitreport\":{\"cputime\":\"0.280\",\"walltime\":\"0.391\",\"ppvisitednodes\":{\"value\":946,\"limit\":1000000},\"ppgeneratednodes\":{\"value\":0,\"limit\":1500000},\"postexpandincludesize\":{\"value\":19013,\"limit\":2097152},\"templateargumentsize\":{\"value\":1426,\"limit\":2097152},\"expansiondepth\":{\"value\":21,\"limit\":40},\"expensivefunctioncount\":{\"value\":2,\"limit\":500},\"unstrip-depth\":{\"value\":1,\"limit\":20},\"unstrip-size\":{\"value\":8429,\"limit\":5000000},\"entityaccesscount\":{\"value\":1,\"limit\":400},\"timingprofile\":[\"100.00%  342.254      1 -total\",\" 33.38%  114.242      1 Template:Reflist\",\" 31.40%  107.471      1 Template:Infobox_film\",\" 30.13%  103.108      3 Template:Cite_web\",\" 27.36%   93.635      1 Template:Infobox\",\" 14.22%   48.681      1 Template:Expand_section\",\" 13.63%   46.651      1 Template:IMDb_title\",\" 11.82%   40.450      1 Template:Ambox\",\"  7.24%   24.787      1 Template:Film_date\",\"  5.99%   20.502      1 Template:1930s-crime-film-stub\"]},\"scribunto\":{\"limitreport-timeusage\":{\"value\":\"0.137\",\"limit\":\"10.000\"},\"limitreport-memusage\":{\"value\":2809170,\"limit\":52428800}},\"cachereport\":{\"origin\":\"mw1238\",\"timestamp\":\"20190409093903\",\"ttl\":3600,\"transientcontent\":true}}});mw.config.set({\"wgBackendResponseTime\":539,\"wgHostname\":\"mw1238\"});});</script>\\n</body>\\n</html>\\n'"
      ]
     },
     "execution_count": 154,
     "metadata": {},
     "output_type": "execute_result"
    }
   ],
   "source": [
    "raw_random_wikipedia_page.text\n",
    "\n"
   ]
  },
  {
   "cell_type": "markdown",
   "metadata": {},
   "source": [
    "# Binning"
   ]
  },
  {
   "cell_type": "code",
   "execution_count": 179,
   "metadata": {},
   "outputs": [
    {
     "name": "stdout",
     "output_type": "stream",
     "text": [
      "   values\n",
      "0       1\n",
      "1      10\n",
      "2     500\n",
      "3    5000\n",
      "4   10000\n",
      "[1.000e+00 3.334e+03 6.667e+03 1.000e+04]\n",
      "   values values_binned\n",
      "0       1           low\n",
      "1      10           low\n",
      "2     500           low\n",
      "3    5000        medium\n",
      "4   10000          high\n"
     ]
    }
   ],
   "source": [
    "import pandas as pd\n",
    "import numpy as np\n",
    "values = {\"values\":[1,10,500,5000,10000]}\n",
    "df = pd.DataFrame(values)\n",
    "print(df)\n",
    "bins = np.linspace(min(df[\"values\"]), max(df[\"values\"]),4)\n",
    "print(bins)\n",
    "categories = [\"low\",\"medium\",\"high\"]\n",
    "df[\"values_binned\"] = pd.cut(df[\"values\"], bins, labels=categories, include_lowest=True)\n",
    "print(df[['values','values_binned']])\n"
   ]
  },
  {
   "cell_type": "code",
   "execution_count": 164,
   "metadata": {},
   "outputs": [
    {
     "data": {
      "text/plain": [
       "<BarContainer object of 3 artists>"
      ]
     },
     "execution_count": 164,
     "metadata": {},
     "output_type": "execute_result"
    },
    {
     "data": {
      "image/png": "[encoded data removed]",
      "text/plain": [
       "<Figure size 432x288 with 1 Axes>"
      ]
     },
     "metadata": {
      "needs_background": "light"
     },
     "output_type": "display_data"
    }
   ],
   "source": [
    "%matplotlib inline\n",
    "import matplotlib as plt\n",
    "from matplotlib import pyplot\n",
    "pyplot.bar(categories, df[\"values_binned\"].value_counts())\n",
    "\n"
   ]
  },
  {
   "cell_type": "code",
   "execution_count": null,
   "metadata": {},
   "outputs": [],
   "source": []
  }
 ],
 "metadata": {
  "kernelspec": {
   "display_name": "Python 3",
   "language": "python",
   "name": "python3"
  },
  "language_info": {
   "codemirror_mode": {
    "name": "ipython",
    "version": 3
   },
   "file_extension": ".py",
   "mimetype": "text/x-python",
   "name": "python",
   "nbconvert_exporter": "python",
   "pygments_lexer": "ipython3",
   "version": "3.7.1"
  }
 },
 "nbformat": 4,
 "nbformat_minor": 2
}
