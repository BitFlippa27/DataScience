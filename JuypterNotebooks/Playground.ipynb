{
 "cells": [
  {
   "cell_type": "code",
   "execution_count": 1,
   "metadata": {},
   "outputs": [
    {
     "data": {
      "text/plain": [
       "1"
      ]
     },
     "execution_count": 1,
     "metadata": {},
     "output_type": "execute_result"
    }
   ],
   "source": [
    "int(\"1\")\n"
   ]
  },
  {
   "cell_type": "code",
   "execution_count": 2,
   "metadata": {},
   "outputs": [
    {
     "data": {
      "text/plain": [
       "'1'"
      ]
     },
     "execution_count": 2,
     "metadata": {},
     "output_type": "execute_result"
    }
   ],
   "source": [
    "str(1)"
   ]
  },
  {
   "cell_type": "code",
   "execution_count": 3,
   "metadata": {},
   "outputs": [
    {
     "data": {
      "text/plain": [
       "1"
      ]
     },
     "execution_count": 3,
     "metadata": {},
     "output_type": "execute_result"
    }
   ],
   "source": [
    "int(True)"
   ]
  },
  {
   "cell_type": "code",
   "execution_count": 4,
   "metadata": {},
   "outputs": [
    {
     "data": {
      "text/plain": [
       "0"
      ]
     },
     "execution_count": 4,
     "metadata": {},
     "output_type": "execute_result"
    }
   ],
   "source": [
    "int(False)"
   ]
  },
  {
   "cell_type": "code",
   "execution_count": 5,
   "metadata": {},
   "outputs": [
    {
     "ename": "SyntaxError",
     "evalue": "invalid syntax (<ipython-input-5-2ce419db848d>, line 1)",
     "output_type": "error",
     "traceback": [
      "\u001b[0;36m  File \u001b[0;32m\"<ipython-input-5-2ce419db848d>\"\u001b[0;36m, line \u001b[0;32m1\u001b[0m\n\u001b[0;31m    bool hansi = True\u001b[0m\n\u001b[0m             ^\u001b[0m\n\u001b[0;31mSyntaxError\u001b[0m\u001b[0;31m:\u001b[0m invalid syntax\n"
     ]
    }
   ],
   "source": [
    "bool hansi = True"
   ]
  },
  {
   "cell_type": "code",
   "execution_count": 6,
   "metadata": {},
   "outputs": [
    {
     "data": {
      "text/plain": [
       "True"
      ]
     },
     "execution_count": 6,
     "metadata": {},
     "output_type": "execute_result"
    }
   ],
   "source": [
    "bool(1)"
   ]
  },
  {
   "cell_type": "code",
   "execution_count": 7,
   "metadata": {},
   "outputs": [
    {
     "data": {
      "text/plain": [
       "5.0"
      ]
     },
     "execution_count": 7,
     "metadata": {},
     "output_type": "execute_result"
    }
   ],
   "source": [
    "25/5"
   ]
  },
  {
   "cell_type": "code",
   "execution_count": 8,
   "metadata": {},
   "outputs": [
    {
     "data": {
      "text/plain": [
       "5"
      ]
     },
     "execution_count": 8,
     "metadata": {},
     "output_type": "execute_result"
    }
   ],
   "source": [
    "25//5"
   ]
  },
  {
   "cell_type": "code",
   "execution_count": 9,
   "metadata": {},
   "outputs": [
    {
     "name": "stdout",
     "output_type": "stream",
     "text": [
      "3.7.1 (default, Dec 14 2018, 13:28:58) \n",
      "[Clang 4.0.1 (tags/RELEASE_401/final)]\n"
     ]
    }
   ],
   "source": [
    "import sys\n",
    "print(sys.version)"
   ]
  },
  {
   "cell_type": "code",
   "execution_count": 10,
   "metadata": {},
   "outputs": [],
   "source": [
    "#comment"
   ]
  },
  {
   "cell_type": "code",
   "execution_count": 11,
   "metadata": {},
   "outputs": [
    {
     "ename": "NameError",
     "evalue": "name 'frint' is not defined",
     "output_type": "error",
     "traceback": [
      "\u001b[0;31m---------------------------------------------------------------------------\u001b[0m",
      "\u001b[0;31mNameError\u001b[0m                                 Traceback (most recent call last)",
      "\u001b[0;32m<ipython-input-11-d5a5fdd20622>\u001b[0m in \u001b[0;36m<module>\u001b[0;34m\u001b[0m\n\u001b[0;32m----> 1\u001b[0;31m \u001b[0mfrint\u001b[0m\u001b[0;34m(\u001b[0m\u001b[0;34m\"ERROR\"\u001b[0m\u001b[0;34m)\u001b[0m\u001b[0;34m\u001b[0m\u001b[0;34m\u001b[0m\u001b[0m\n\u001b[0m",
      "\u001b[0;31mNameError\u001b[0m: name 'frint' is not defined"
     ]
    }
   ],
   "source": [
    "frint(\"ERROR\")"
   ]
  },
  {
   "cell_type": "code",
   "execution_count": 12,
   "metadata": {},
   "outputs": [],
   "source": [
    "name = \"HANSI\""
   ]
  },
  {
   "cell_type": "code",
   "execution_count": 13,
   "metadata": {},
   "outputs": [
    {
     "data": {
      "text/plain": [
       "'H'"
      ]
     },
     "execution_count": 13,
     "metadata": {},
     "output_type": "execute_result"
    }
   ],
   "source": [
    "name[0]"
   ]
  },
  {
   "cell_type": "code",
   "execution_count": 14,
   "metadata": {},
   "outputs": [
    {
     "data": {
      "text/plain": [
       "'I'"
      ]
     },
     "execution_count": 14,
     "metadata": {},
     "output_type": "execute_result"
    }
   ],
   "source": [
    "name[-1]"
   ]
  },
  {
   "cell_type": "code",
   "execution_count": 15,
   "metadata": {},
   "outputs": [
    {
     "ename": "IndexError",
     "evalue": "string index out of range",
     "output_type": "error",
     "traceback": [
      "\u001b[0;31m---------------------------------------------------------------------------\u001b[0m",
      "\u001b[0;31mIndexError\u001b[0m                                Traceback (most recent call last)",
      "\u001b[0;32m<ipython-input-15-9fe429c50b80>\u001b[0m in \u001b[0;36m<module>\u001b[0;34m\u001b[0m\n\u001b[0;32m----> 1\u001b[0;31m \u001b[0mname\u001b[0m\u001b[0;34m[\u001b[0m\u001b[0;34m-\u001b[0m\u001b[0;36m15\u001b[0m\u001b[0;34m]\u001b[0m\u001b[0;34m\u001b[0m\u001b[0;34m\u001b[0m\u001b[0m\n\u001b[0m",
      "\u001b[0;31mIndexError\u001b[0m: string index out of range"
     ]
    }
   ],
   "source": [
    "name[-15]"
   ]
  },
  {
   "cell_type": "code",
   "execution_count": 16,
   "metadata": {},
   "outputs": [
    {
     "data": {
      "text/plain": [
       "'H'"
      ]
     },
     "execution_count": 16,
     "metadata": {},
     "output_type": "execute_result"
    }
   ],
   "source": [
    "name[-5]"
   ]
  },
  {
   "cell_type": "code",
   "execution_count": 17,
   "metadata": {},
   "outputs": [
    {
     "data": {
      "text/plain": [
       "'HNI'"
      ]
     },
     "execution_count": 17,
     "metadata": {},
     "output_type": "execute_result"
    }
   ],
   "source": [
    "name[::2]"
   ]
  },
  {
   "cell_type": "code",
   "execution_count": 18,
   "metadata": {},
   "outputs": [
    {
     "data": {
      "text/plain": [
       "'HA'"
      ]
     },
     "execution_count": 18,
     "metadata": {},
     "output_type": "execute_result"
    }
   ],
   "source": [
    "name[0:2]"
   ]
  },
  {
   "cell_type": "code",
   "execution_count": 19,
   "metadata": {},
   "outputs": [],
   "source": [
    "name2 = name[0:2]"
   ]
  },
  {
   "cell_type": "code",
   "execution_count": 20,
   "metadata": {},
   "outputs": [
    {
     "data": {
      "text/plain": [
       "'HA'"
      ]
     },
     "execution_count": 20,
     "metadata": {},
     "output_type": "execute_result"
    }
   ],
   "source": [
    "name2"
   ]
  },
  {
   "cell_type": "code",
   "execution_count": 21,
   "metadata": {},
   "outputs": [],
   "source": [
    "name3 = \"Hundertwasser\""
   ]
  },
  {
   "cell_type": "markdown",
   "metadata": {},
   "source": [
    "# slice from 0 every 2nd letter up to 7"
   ]
  },
  {
   "cell_type": "code",
   "execution_count": 22,
   "metadata": {},
   "outputs": [
    {
     "data": {
      "text/plain": [
       "'Hnet'"
      ]
     },
     "execution_count": 22,
     "metadata": {},
     "output_type": "execute_result"
    }
   ],
   "source": [
    "\n",
    "name3[0:7:2]"
   ]
  },
  {
   "cell_type": "code",
   "execution_count": 23,
   "metadata": {},
   "outputs": [
    {
     "data": {
      "text/plain": [
       "13"
      ]
     },
     "execution_count": 23,
     "metadata": {},
     "output_type": "execute_result"
    }
   ],
   "source": [
    "len(name3)"
   ]
  },
  {
   "cell_type": "code",
   "execution_count": 25,
   "metadata": {},
   "outputs": [],
   "source": [
    "concatenate = name + name2"
   ]
  },
  {
   "cell_type": "code",
   "execution_count": 26,
   "metadata": {},
   "outputs": [
    {
     "data": {
      "text/plain": [
       "'HANSIHA'"
      ]
     },
     "execution_count": 26,
     "metadata": {},
     "output_type": "execute_result"
    }
   ],
   "source": [
    "concatenate"
   ]
  },
  {
   "cell_type": "code",
   "execution_count": 27,
   "metadata": {},
   "outputs": [
    {
     "data": {
      "text/plain": [
       "'HANSIHANSIHANSI'"
      ]
     },
     "execution_count": 27,
     "metadata": {},
     "output_type": "execute_result"
    }
   ],
   "source": [
    "3*name"
   ]
  },
  {
   "cell_type": "code",
   "execution_count": 28,
   "metadata": {},
   "outputs": [
    {
     "data": {
      "text/plain": [
       "'hundhundhund'"
      ]
     },
     "execution_count": 28,
     "metadata": {},
     "output_type": "execute_result"
    }
   ],
   "source": [
    "3*\"hund\""
   ]
  },
  {
   "cell_type": "code",
   "execution_count": 29,
   "metadata": {},
   "outputs": [],
   "source": [
    "#Strings are immutable"
   ]
  },
  {
   "cell_type": "code",
   "execution_count": 30,
   "metadata": {},
   "outputs": [
    {
     "ename": "TypeError",
     "evalue": "'str' object does not support item assignment",
     "output_type": "error",
     "traceback": [
      "\u001b[0;31m---------------------------------------------------------------------------\u001b[0m",
      "\u001b[0;31mTypeError\u001b[0m                                 Traceback (most recent call last)",
      "\u001b[0;32m<ipython-input-30-d9f072aa58e0>\u001b[0m in \u001b[0;36m<module>\u001b[0;34m\u001b[0m\n\u001b[0;32m----> 1\u001b[0;31m \u001b[0mname\u001b[0m\u001b[0;34m[\u001b[0m\u001b[0;36m0\u001b[0m\u001b[0;34m]\u001b[0m \u001b[0;34m=\u001b[0m \u001b[0;34m\"b\"\u001b[0m\u001b[0;34m\u001b[0m\u001b[0;34m\u001b[0m\u001b[0m\n\u001b[0m",
      "\u001b[0;31mTypeError\u001b[0m: 'str' object does not support item assignment"
     ]
    }
   ],
   "source": [
    "name[0] = \"b\""
   ]
  },
  {
   "cell_type": "code",
   "execution_count": 31,
   "metadata": {},
   "outputs": [
    {
     "name": "stdout",
     "output_type": "stream",
     "text": [
      "Michael Jackson \n",
      " is the best\n"
     ]
    }
   ],
   "source": [
    "print(\"Michael Jackson \\n is the best\")"
   ]
  },
  {
   "cell_type": "code",
   "execution_count": 32,
   "metadata": {},
   "outputs": [
    {
     "name": "stdout",
     "output_type": "stream",
     "text": [
      "hansi \t online\n"
     ]
    }
   ],
   "source": [
    "print(\"hansi \\t online\")"
   ]
  },
  {
   "cell_type": "code",
   "execution_count": 34,
   "metadata": {},
   "outputs": [
    {
     "name": "stdout",
     "output_type": "stream",
     "text": [
      "was geht \\ ab\n"
     ]
    }
   ],
   "source": [
    "print(r\"was geht \\ ab\")"
   ]
  },
  {
   "cell_type": "code",
   "execution_count": 36,
   "metadata": {},
   "outputs": [
    {
     "name": "stdout",
     "output_type": "stream",
     "text": [
      "was geht ab \\\n"
     ]
    }
   ],
   "source": [
    "print(\"was geht ab \\\\\")"
   ]
  },
  {
   "cell_type": "code",
   "execution_count": 37,
   "metadata": {},
   "outputs": [],
   "source": [
    "A = \"all lower case\""
   ]
  },
  {
   "cell_type": "code",
   "execution_count": 38,
   "metadata": {},
   "outputs": [],
   "source": [
    "B = A.upper()"
   ]
  },
  {
   "cell_type": "code",
   "execution_count": 39,
   "metadata": {},
   "outputs": [
    {
     "data": {
      "text/plain": [
       "'ALL LOWER CASE'"
      ]
     },
     "execution_count": 39,
     "metadata": {},
     "output_type": "execute_result"
    }
   ],
   "source": [
    "B"
   ]
  },
  {
   "cell_type": "code",
   "execution_count": 44,
   "metadata": {},
   "outputs": [
    {
     "data": {
      "text/plain": [
       "'ALL UPPER CASE'"
      ]
     },
     "execution_count": 44,
     "metadata": {},
     "output_type": "execute_result"
    }
   ],
   "source": [
    "B.replace(\"LOWER\", \"UPPER\")"
   ]
  },
  {
   "cell_type": "code",
   "execution_count": 41,
   "metadata": {},
   "outputs": [],
   "source": []
  },
  {
   "cell_type": "code",
   "execution_count": 42,
   "metadata": {},
   "outputs": [
    {
     "data": {
      "text/plain": [
       "'ALL LOWER CASE'"
      ]
     },
     "execution_count": 42,
     "metadata": {},
     "output_type": "execute_result"
    }
   ],
   "source": []
  },
  {
   "cell_type": "code",
   "execution_count": 47,
   "metadata": {},
   "outputs": [
    {
     "data": {
      "text/plain": [
       "4"
      ]
     },
     "execution_count": 47,
     "metadata": {},
     "output_type": "execute_result"
    }
   ],
   "source": [
    "B.find(\"LOWER\")"
   ]
  },
  {
   "cell_type": "code",
   "execution_count": 48,
   "metadata": {},
   "outputs": [
    {
     "data": {
      "text/plain": [
       "'2'"
      ]
     },
     "execution_count": 48,
     "metadata": {},
     "output_type": "execute_result"
    }
   ],
   "source": [
    "str(1+1)"
   ]
  },
  {
   "cell_type": "code",
   "execution_count": 49,
   "metadata": {},
   "outputs": [
    {
     "data": {
      "text/plain": [
       "'frans'"
      ]
     },
     "execution_count": 49,
     "metadata": {},
     "output_type": "execute_result"
    }
   ],
   "source": [
    "\"hans\".replace(\"h\",\"fr\")"
   ]
  },
  {
   "cell_type": "code",
   "execution_count": 51,
   "metadata": {},
   "outputs": [],
   "source": [
    "name = \"Lizz\""
   ]
  },
  {
   "cell_type": "code",
   "execution_count": 52,
   "metadata": {},
   "outputs": [
    {
     "data": {
      "text/plain": [
       "'Li'"
      ]
     },
     "execution_count": 52,
     "metadata": {},
     "output_type": "execute_result"
    }
   ],
   "source": [
    "name[0:2]"
   ]
  },
  {
   "cell_type": "code",
   "execution_count": 2,
   "metadata": {},
   "outputs": [
    {
     "name": "stdout",
     "output_type": "stream",
     "text": [
      "0 This is line A\n",
      "\n",
      "1 This is line B\n",
      "\n",
      "2 This is line c\n",
      "\n"
     ]
    }
   ],
   "source": [
    "lines = [\"This is line A\\n\", \"This is line B\\n\", \"This is line c\\n\"]\n",
    "with open(\"/Users/Dennis/Desktop/HOME/DataScience/JuypterNotebooks/test2.txt\" ,\"w\") as file3:\n",
    "    i = 0\n",
    "    for line in lines:\n",
    "        file3.write(line)\n",
    "        print(i, line)\n",
    "        i = i + 1"
   ]
  },
  {
   "cell_type": "code",
   "execution_count": 5,
   "metadata": {},
   "outputs": [
    {
     "name": "stdout",
     "output_type": "stream",
     "text": [
      "nan\n"
     ]
    }
   ],
   "source": [
    "import numpy as np\n",
    "x = np.nan\n",
    "print(x)"
   ]
  },
  {
   "cell_type": "code",
   "execution_count": 10,
   "metadata": {},
   "outputs": [
    {
     "name": "stdout",
     "output_type": "stream",
     "text": [
      "1 Audi\n",
      "2 BMW\n",
      "3 Benz\n",
      "4 Porsche\n",
      "5 Dacia\n"
     ]
    }
   ],
   "source": [
    "liste = [\"Audi\",\"BMW\",\"Benz\",\"Porsche\",\"Dacia\"]\n",
    "i = 0\n",
    "for number in liste:\n",
    "    i = i + 1\n",
    "    print(i,number)\n"
   ]
  },
  {
   "cell_type": "code",
   "execution_count": 11,
   "metadata": {},
   "outputs": [
    {
     "name": "stdout",
     "output_type": "stream",
     "text": [
      "0\n",
      "1\n",
      "2\n",
      "3\n",
      "4\n",
      "5\n",
      "6\n",
      "7\n",
      "8\n",
      "9\n"
     ]
    }
   ],
   "source": [
    "for i in range(0,10):\n",
    "    print(i)"
   ]
  },
  {
   "cell_type": "code",
   "execution_count": 48,
   "metadata": {},
   "outputs": [
    {
     "name": "stdout",
     "output_type": "stream",
     "text": [
      "   values\n",
      "0       1\n",
      "1      10\n",
      "2     500\n",
      "3    5000\n",
      "4   10000\n",
      "[1.000e+00 3.334e+03 6.667e+03 1.000e+04]\n",
      "0       low\n",
      "1       low\n",
      "2       low\n",
      "3    medium\n",
      "4      high\n",
      "Name: category, dtype: category\n",
      "Categories (3, object): [low < medium < high]\n",
      "low       3\n",
      "high      1\n",
      "medium    1\n",
      "Name: category, dtype: int64\n"
     ]
    }
   ],
   "source": [
    "import pandas as pd\n",
    "values = {\"values\":[1,10,500,5000,10000]}\n",
    "df = pd.DataFrame(values)\n",
    "print(df)\n",
    "bins = np.linspace(min(df[\"values\"]), max(df[\"values\"]),4)\n",
    "print(bins)\n",
    "categories = [\"low\",\"medium\",\"high\"]\n",
    "df[\"category\"] = pd.cut(df[\"values\"], bins, labels=categories, include_lowest=True)\n",
    "print(df[\"category\"])\n",
    "print(df[\"category\"].value_counts())"
   ]
  },
  {
   "cell_type": "code",
   "execution_count": 52,
   "metadata": {},
   "outputs": [
    {
     "data": {
      "text/plain": [
       "Text(0.5, 1.0, 'Value bins')"
      ]
     },
     "execution_count": 52,
     "metadata": {},
     "output_type": "execute_result"
    },
    {
     "data": {
      "image/png": "[encoded data removed]",
      "text/plain": [
       "<Figure size 432x288 with 1 Axes>"
      ]
     },
     "metadata": {
      "needs_background": "light"
     },
     "output_type": "display_data"
    }
   ],
   "source": [
    "df[\"values\"].value_counts()\n",
    "%matplotlib inline\n",
    "import matplotlib as plt\n",
    "from matplotlib import pyplot\n",
    "\n",
    "pyplot.bar(categories, df[\"category\"].value_counts())\n",
    "plt.pyplot.xlabel(\"VALUES\")\n",
    "plt.pyplot.ylabel(\"frequency\")\n",
    "plt.pyplot.title(\"Value bins\")"
   ]
  },
  {
   "cell_type": "code",
   "execution_count": 53,
   "metadata": {},
   "outputs": [
    {
     "data": {
      "text/html": [
       "<div>\n",
       "<style scoped>\n",
       "    .dataframe tbody tr th:only-of-type {\n",
       "        vertical-align: middle;\n",
       "    }\n",
       "\n",
       "    .dataframe tbody tr th {\n",
       "        vertical-align: top;\n",
       "    }\n",
       "\n",
       "    .dataframe thead th {\n",
       "        text-align: right;\n",
       "    }\n",
       "</style>\n",
       "<table border=\"1\" class=\"dataframe\">\n",
       "  <thead>\n",
       "    <tr style=\"text-align: right;\">\n",
       "      <th></th>\n",
       "      <th>values</th>\n",
       "    </tr>\n",
       "  </thead>\n",
       "  <tbody>\n",
       "    <tr>\n",
       "      <th>0</th>\n",
       "      <td>1</td>\n",
       "    </tr>\n",
       "    <tr>\n",
       "      <th>1</th>\n",
       "      <td>10</td>\n",
       "    </tr>\n",
       "    <tr>\n",
       "      <th>2</th>\n",
       "      <td>500</td>\n",
       "    </tr>\n",
       "    <tr>\n",
       "      <th>3</th>\n",
       "      <td>5000</td>\n",
       "    </tr>\n",
       "    <tr>\n",
       "      <th>4</th>\n",
       "      <td>10000</td>\n",
       "    </tr>\n",
       "  </tbody>\n",
       "</table>\n",
       "</div>"
      ],
      "text/plain": [
       "   values\n",
       "0       1\n",
       "1      10\n",
       "2     500\n",
       "3    5000\n",
       "4   10000"
      ]
     },
     "execution_count": 53,
     "metadata": {},
     "output_type": "execute_result"
    }
   ],
   "source": [
    "df[[\"values\"]]"
   ]
  },
  {
   "cell_type": "code",
   "execution_count": 61,
   "metadata": {},
   "outputs": [
    {
     "data": {
      "text/plain": [
       "0        1\n",
       "1       10\n",
       "2      500\n",
       "3     5000\n",
       "4    10000\n",
       "Name: values, dtype: int64"
      ]
     },
     "execution_count": 61,
     "metadata": {},
     "output_type": "execute_result"
    }
   ],
   "source": [
    "df[\"values\"]"
   ]
  },
  {
   "cell_type": "code",
   "execution_count": 55,
   "metadata": {},
   "outputs": [
    {
     "name": "stdout",
     "output_type": "stream",
     "text": [
      "<class 'pandas.core.series.Series'>\n"
     ]
    }
   ],
   "source": [
    "print(type(df[\"values\"]))"
   ]
  },
  {
   "cell_type": "code",
   "execution_count": 56,
   "metadata": {},
   "outputs": [
    {
     "name": "stdout",
     "output_type": "stream",
     "text": [
      "<class 'pandas.core.frame.DataFrame'>\n"
     ]
    }
   ],
   "source": [
    "print(type(df[[\"values\"]]))"
   ]
  },
  {
   "cell_type": "code",
   "execution_count": 63,
   "metadata": {},
   "outputs": [
    {
     "data": {
      "text/plain": [
       "a    3\n",
       "b    2\n",
       "c    2\n",
       "Name: A, dtype: int64"
      ]
     },
     "execution_count": 63,
     "metadata": {},
     "output_type": "execute_result"
    }
   ],
   "source": [
    "df1=pd.DataFrame({'A':[\"a\",\"b\",\"a\",\"c\",\"a\",\"c\",\"b\"]})\n",
    "df1['A'].value_counts()"
   ]
  },
  {
   "cell_type": "code",
   "execution_count": 1,
   "metadata": {},
   "outputs": [],
   "source": []
  },
  {
   "cell_type": "code",
   "execution_count": 9,
   "metadata": {},
   "outputs": [
    {
     "name": "stdout",
     "output_type": "stream",
     "text": [
      "True\n"
     ]
    }
   ],
   "source": [
    "if not liste:\n",
    "    print(\"True\")\n",
    "else:\n",
    "    print(\"False\")"
   ]
  },
  {
   "cell_type": "code",
   "execution_count": 10,
   "metadata": {},
   "outputs": [
    {
     "name": "stdout",
     "output_type": "stream",
     "text": [
      "ksjdh\n"
     ]
    }
   ],
   "source": [
    "def funcx():\n",
    "    print(\"ksjdh\")\n",
    "funcx()"
   ]
  },
  {
   "cell_type": "code",
   "execution_count": 22,
   "metadata": {},
   "outputs": [
    {
     "data": {
      "text/plain": [
       "dict_items([('yellow', [1, 3]), ('blue', [2, 4]), ('red', [1])])"
      ]
     },
     "execution_count": 22,
     "metadata": {},
     "output_type": "execute_result"
    }
   ],
   "source": [
    "from collections import defaultdict\n",
    "s = [('yellow', 1), ('blue', 2), ('yellow', 3), ('blue', 4), ('red', 1)]\n",
    "d = defaultdict(list)\n",
    "\n",
    "for k, v in s:\n",
    "     d[k].append(v)\n",
    "d.items()\n"
   ]
  },
  {
   "cell_type": "code",
   "execution_count": 40,
   "metadata": {},
   "outputs": [
    {
     "data": {
      "text/plain": [
       "dict_items([(2, [2])])"
      ]
     },
     "execution_count": 40,
     "metadata": {},
     "output_type": "execute_result"
    }
   ],
   "source": [
    "def addPath(a, b):\n",
    "    paths = defaultdict(list)\n",
    "    paths[a].append(b)\n",
    "    return paths.items()\n",
    "\n",
    "addPath(0,1)\n",
    "addPath(0,2)\n",
    "addPath(1,2)\n",
    "addPath(2,2)\n"
   ]
  },
  {
   "cell_type": "code",
   "execution_count": 45,
   "metadata": {},
   "outputs": [
    {
     "data": {
      "text/plain": [
       "[False, False]"
      ]
     },
     "execution_count": 45,
     "metadata": {},
     "output_type": "execute_result"
    }
   ],
   "source": [
    "dic = {1:[1,2],2:[3,3]}\n",
    "visited = [False] * len(dic)\n",
    "visited"
   ]
  },
  {
   "cell_type": "code",
   "execution_count": 61,
   "metadata": {},
   "outputs": [
    {
     "data": {
      "text/plain": [
       "(4,)"
      ]
     },
     "execution_count": 61,
     "metadata": {},
     "output_type": "execute_result"
    }
   ],
   "source": [
    "import numpy as np\n",
    "x = np.array([0,1,2,3])\n",
    "y = x.shape # get the current shape of an array as a tuple\n",
    "y"
   ]
  },
  {
   "cell_type": "code",
   "execution_count": 63,
   "metadata": {},
   "outputs": [
    {
     "ename": "IndexError",
     "evalue": "tuple index out of range",
     "output_type": "error",
     "traceback": [
      "\u001b[0;31m---------------------------------------------------------------------------\u001b[0m",
      "\u001b[0;31mIndexError\u001b[0m                                Traceback (most recent call last)",
      "\u001b[0;32m<ipython-input-63-449ff7bc6075>\u001b[0m in \u001b[0;36m<module>\u001b[0;34m\u001b[0m\n\u001b[0;32m----> 1\u001b[0;31m \u001b[0mx\u001b[0m\u001b[0;34m.\u001b[0m\u001b[0mshape\u001b[0m\u001b[0;34m[\u001b[0m\u001b[0;36m1\u001b[0m\u001b[0;34m]\u001b[0m\u001b[0;34m\u001b[0m\u001b[0;34m\u001b[0m\u001b[0m\n\u001b[0m",
      "\u001b[0;31mIndexError\u001b[0m: tuple index out of range"
     ]
    }
   ],
   "source": []
  },
  {
   "cell_type": "code",
   "execution_count": 66,
   "metadata": {},
   "outputs": [
    {
     "data": {
      "text/plain": [
       "0.5"
      ]
     },
     "execution_count": 66,
     "metadata": {},
     "output_type": "execute_result"
    }
   ],
   "source": []
  },
  {
   "cell_type": "code",
   "execution_count": 67,
   "metadata": {},
   "outputs": [
    {
     "data": {
      "text/plain": [
       "0.11666666666666667"
      ]
     },
     "execution_count": 67,
     "metadata": {},
     "output_type": "execute_result"
    }
   ],
   "source": [
    "21/180"
   ]
  },
  {
   "cell_type": "code",
   "execution_count": 120,
   "metadata": {},
   "outputs": [],
   "source": [
    "d = defaultdict(list)\n",
    "nodes = [(\"Arad\",1),  (\"Sibiu\",2),(\"Rimincu\",3)]\n",
    "for k, v in nodes:\n",
    "    d[k].append(v)\n"
   ]
  },
  {
   "cell_type": "code",
   "execution_count": 128,
   "metadata": {},
   "outputs": [],
   "source": [
    "d[\"Arad\"] = [1,2,3]\n"
   ]
  },
  {
   "cell_type": "code",
   "execution_count": 129,
   "metadata": {},
   "outputs": [
    {
     "name": "stdout",
     "output_type": "stream",
     "text": [
      "2\n"
     ]
    },
    {
     "ename": "TypeError",
     "evalue": "cannot unpack non-iterable NoneType object",
     "output_type": "error",
     "traceback": [
      "\u001b[0;31m---------------------------------------------------------------------------\u001b[0m",
      "\u001b[0;31mTypeError\u001b[0m                                 Traceback (most recent call last)",
      "\u001b[0;32m<ipython-input-129-f215e0590288>\u001b[0m in \u001b[0;36m<module>\u001b[0;34m\u001b[0m\n\u001b[1;32m      1\u001b[0m \u001b[0;32mdef\u001b[0m \u001b[0mfunc\u001b[0m\u001b[0;34m(\u001b[0m\u001b[0;34m)\u001b[0m\u001b[0;34m:\u001b[0m\u001b[0;34m\u001b[0m\u001b[0;34m\u001b[0m\u001b[0m\n\u001b[1;32m      2\u001b[0m     \u001b[0mprint\u001b[0m\u001b[0;34m(\u001b[0m\u001b[0;36m2\u001b[0m\u001b[0;34m)\u001b[0m\u001b[0;34m\u001b[0m\u001b[0;34m\u001b[0m\u001b[0m\n\u001b[0;32m----> 3\u001b[0;31m \u001b[0mx\u001b[0m\u001b[0;34m,\u001b[0m\u001b[0my\u001b[0m\u001b[0;34m,\u001b[0m\u001b[0mz\u001b[0m \u001b[0;34m=\u001b[0m \u001b[0mfunc\u001b[0m\u001b[0;34m(\u001b[0m\u001b[0;34m)\u001b[0m\u001b[0;34m\u001b[0m\u001b[0;34m\u001b[0m\u001b[0m\n\u001b[0m",
      "\u001b[0;31mTypeError\u001b[0m: cannot unpack non-iterable NoneType object"
     ]
    }
   ],
   "source": [
    "def func():\n",
    "    print(2)\n",
    "x,y,z = func()"
   ]
  },
  {
   "cell_type": "code",
   "execution_count": 132,
   "metadata": {},
   "outputs": [
    {
     "data": {
      "text/plain": [
       "{'a': 0, 'b': 1}"
      ]
     },
     "execution_count": 132,
     "metadata": {},
     "output_type": "execute_result"
    }
   ],
   "source": [
    "dic = {\"a\":0}\n",
    "dic[\"b\"] = 1\n",
    "dic"
   ]
  },
  {
   "cell_type": "code",
   "execution_count": 248,
   "metadata": {},
   "outputs": [
    {
     "data": {
      "text/plain": [
       "array([   0,   10,   20,   30,   40,   50,   60,   70,   80,   90,  100,\n",
       "        110,  120,  130,  140,  150,  160,  170,  180,  190,  200,  210,\n",
       "        220,  230,  240,  250,  260,  270,  280,  290,  300,  310,  320,\n",
       "        330,  340,  350,  360,  370,  380,  390,  400,  410,  420,  430,\n",
       "        440,  450,  460,  470,  480,  490,  500,  510,  520,  530,  540,\n",
       "        550,  560,  570,  580,  590,  600,  610,  620,  630,  640,  650,\n",
       "        660,  670,  680,  690,  700,  710,  720,  730,  740,  750,  760,\n",
       "        770,  780,  790,  800,  810,  820,  830,  840,  850,  860,  870,\n",
       "        880,  890,  900,  910,  920,  930,  940,  950,  960,  970,  980,\n",
       "        990, 1000, 1010, 1020, 1030, 1040, 1050, 1060, 1070, 1080, 1090,\n",
       "       1100, 1110, 1120, 1130, 1140, 1150, 1160, 1170, 1180, 1190, 1200,\n",
       "       1210, 1220, 1230, 1240, 1250, 1260, 1270, 1280, 1290, 1300, 1310,\n",
       "       1320, 1330, 1340, 1350, 1360, 1370, 1380, 1390, 1400, 1410, 1420,\n",
       "       1430, 1440, 1450, 1460, 1470, 1480, 1490, 1500, 1510, 1520, 1530,\n",
       "       1540, 1550, 1560, 1570, 1580, 1590, 1600, 1610, 1620, 1630, 1640,\n",
       "       1650, 1660, 1670, 1680, 1690, 1700, 1710, 1720, 1730, 1740, 1750,\n",
       "       1760, 1770, 1780, 1790, 1800, 1810, 1820, 1830, 1840, 1850, 1860,\n",
       "       1870, 1880, 1890, 1900, 1910, 1920, 1930, 1940, 1950, 1960, 1970,\n",
       "       1980, 1990, 2000, 2010, 2020, 2030, 2040, 2050, 2060, 2070, 2080,\n",
       "       2090, 2100, 2110, 2120, 2130, 2140, 2150, 2160, 2170, 2180, 2190,\n",
       "       2200, 2210, 2220, 2230, 2240, 2250, 2260, 2270, 2280, 2290, 2300,\n",
       "       2310, 2320, 2330, 2340, 2350, 2360, 2370, 2380, 2390, 2400, 2410,\n",
       "       2420, 2430, 2440, 2450, 2460, 2470, 2480, 2490, 2500, 2510, 2520,\n",
       "       2530, 2540, 2550, 2560, 2570, 2580, 2590, 2600, 2610, 2620, 2630,\n",
       "       2640, 2650, 2660, 2670, 2680, 2690, 2700, 2710, 2720, 2730, 2740,\n",
       "       2750, 2760, 2770, 2780, 2790, 2800, 2810, 2820, 2830, 2840, 2850,\n",
       "       2860, 2870, 2880, 2890, 2900, 2910, 2920, 2930, 2940, 2950, 2960,\n",
       "       2970, 2980, 2990, 3000, 3010, 3020, 3030, 3040, 3050, 3060, 3070,\n",
       "       3080, 3090, 3100, 3110, 3120, 3130, 3140, 3150, 3160, 3170, 3180,\n",
       "       3190, 3200, 3210, 3220, 3230, 3240, 3250, 3260, 3270, 3280, 3290,\n",
       "       3300, 3310, 3320, 3330, 3340, 3350, 3360, 3370, 3380, 3390, 3400,\n",
       "       3410, 3420, 3430, 3440, 3450, 3460, 3470, 3480, 3490, 3500, 3510,\n",
       "       3520, 3530, 3540, 3550, 3560, 3570, 3580, 3590, 3600, 3610, 3620,\n",
       "       3630, 3640, 3650, 3660, 3670, 3680, 3690, 3700, 3710, 3720, 3730,\n",
       "       3740, 3750, 3760, 3770, 3780, 3790, 3800, 3810, 3820, 3830, 3840,\n",
       "       3850, 3860, 3870, 3880, 3890, 3900, 3910, 3920, 3930, 3940, 3950,\n",
       "       3960, 3970, 3980, 3990, 4000, 4010, 4020, 4030, 4040, 4050, 4060,\n",
       "       4070, 4080, 4090, 4100, 4110, 4120, 4130, 4140, 4150, 4160, 4170,\n",
       "       4180, 4190, 4200, 4210, 4220, 4230, 4240, 4250, 4260, 4270, 4280,\n",
       "       4290, 4300, 4310, 4320, 4330, 4340, 4350, 4360, 4370, 4380, 4390,\n",
       "       4400, 4410, 4420, 4430, 4440, 4450, 4460, 4470, 4480, 4490, 4500,\n",
       "       4510, 4520, 4530, 4540, 4550, 4560, 4570, 4580, 4590, 4600, 4610,\n",
       "       4620, 4630, 4640, 4650, 4660, 4670, 4680, 4690, 4700, 4710, 4720,\n",
       "       4730, 4740, 4750, 4760, 4770, 4780, 4790, 4800, 4810, 4820, 4830,\n",
       "       4840, 4850, 4860, 4870, 4880, 4890, 4900, 4910, 4920, 4930, 4940,\n",
       "       4950, 4960, 4970, 4980, 4990, 5000, 5010, 5020, 5030, 5040, 5050,\n",
       "       5060, 5070, 5080, 5090, 5100, 5110, 5120, 5130, 5140, 5150, 5160,\n",
       "       5170, 5180, 5190, 5200, 5210, 5220, 5230, 5240, 5250, 5260, 5270,\n",
       "       5280, 5290, 5300, 5310, 5320, 5330, 5340, 5350, 5360, 5370, 5380,\n",
       "       5390, 5400, 5410, 5420, 5430, 5440, 5450, 5460, 5470, 5480, 5490,\n",
       "       5500, 5510, 5520, 5530, 5540, 5550, 5560, 5570, 5580, 5590, 5600,\n",
       "       5610, 5620, 5630, 5640, 5650, 5660, 5670, 5680, 5690, 5700, 5710,\n",
       "       5720, 5730, 5740, 5750, 5760, 5770, 5780, 5790, 5800, 5810, 5820,\n",
       "       5830, 5840, 5850, 5860, 5870, 5880, 5890, 5900, 5910, 5920, 5930,\n",
       "       5940, 5950, 5960, 5970, 5980, 5990, 6000, 6010, 6020, 6030, 6040,\n",
       "       6050, 6060, 6070, 6080, 6090, 6100, 6110, 6120, 6130, 6140, 6150,\n",
       "       6160, 6170, 6180, 6190, 6200, 6210, 6220, 6230, 6240, 6250, 6260,\n",
       "       6270, 6280, 6290, 6300, 6310, 6320, 6330, 6340, 6350, 6360, 6370,\n",
       "       6380, 6390, 6400, 6410, 6420, 6430, 6440, 6450, 6460, 6470, 6480,\n",
       "       6490, 6500, 6510, 6520, 6530, 6540, 6550, 6560, 6570, 6580, 6590,\n",
       "       6600, 6610, 6620, 6630, 6640, 6650, 6660, 6670, 6680, 6690, 6700,\n",
       "       6710, 6720, 6730, 6740, 6750, 6760, 6770, 6780, 6790, 6800, 6810,\n",
       "       6820, 6830, 6840, 6850, 6860, 6870, 6880, 6890, 6900, 6910, 6920,\n",
       "       6930, 6940, 6950, 6960, 6970, 6980, 6990, 7000, 7010, 7020, 7030,\n",
       "       7040, 7050, 7060, 7070, 7080, 7090, 7100, 7110, 7120, 7130, 7140,\n",
       "       7150, 7160, 7170, 7180, 7190, 7200, 7210, 7220, 7230, 7240, 7250,\n",
       "       7260, 7270, 7280, 7290, 7300, 7310, 7320, 7330, 7340, 7350, 7360,\n",
       "       7370, 7380, 7390, 7400, 7410, 7420, 7430, 7440, 7450, 7460, 7470,\n",
       "       7480, 7490, 7500, 7510, 7520, 7530, 7540, 7550, 7560, 7570, 7580,\n",
       "       7590, 7600, 7610, 7620, 7630, 7640, 7650, 7660, 7670, 7680, 7690,\n",
       "       7700, 7710, 7720, 7730, 7740, 7750, 7760, 7770, 7780, 7790, 7800,\n",
       "       7810, 7820, 7830, 7840, 7850, 7860, 7870, 7880, 7890, 7900, 7910,\n",
       "       7920, 7930, 7940, 7950, 7960, 7970, 7980, 7990, 8000, 8010, 8020,\n",
       "       8030, 8040, 8050, 8060, 8070, 8080, 8090, 8100, 8110, 8120, 8130,\n",
       "       8140, 8150, 8160, 8170, 8180, 8190, 8200, 8210, 8220, 8230, 8240,\n",
       "       8250, 8260, 8270, 8280, 8290, 8300, 8310, 8320, 8330, 8340, 8350,\n",
       "       8360, 8370, 8380, 8390, 8400, 8410, 8420, 8430, 8440, 8450, 8460,\n",
       "       8470, 8480, 8490, 8500, 8510, 8520, 8530, 8540, 8550, 8560, 8570,\n",
       "       8580, 8590, 8600, 8610, 8620, 8630, 8640, 8650, 8660, 8670, 8680,\n",
       "       8690, 8700, 8710, 8720, 8730, 8740, 8750, 8760, 8770, 8780, 8790,\n",
       "       8800, 8810, 8820, 8830, 8840, 8850, 8860, 8870, 8880, 8890, 8900,\n",
       "       8910, 8920, 8930, 8940, 8950, 8960, 8970, 8980, 8990, 9000, 9010,\n",
       "       9020, 9030, 9040, 9050, 9060, 9070, 9080, 9090, 9100, 9110, 9120,\n",
       "       9130, 9140, 9150, 9160, 9170, 9180, 9190, 9200, 9210, 9220, 9230,\n",
       "       9240, 9250, 9260, 9270, 9280, 9290, 9300, 9310, 9320, 9330, 9340,\n",
       "       9350, 9360, 9370, 9380, 9390, 9400, 9410, 9420, 9430, 9440, 9450,\n",
       "       9460, 9470, 9480, 9490, 9500, 9510, 9520, 9530, 9540, 9550, 9560,\n",
       "       9570, 9580, 9590, 9600, 9610, 9620, 9630, 9640, 9650, 9660, 9670,\n",
       "       9680, 9690, 9700, 9710, 9720, 9730, 9740, 9750, 9760, 9770, 9780,\n",
       "       9790, 9800, 9810, 9820, 9830, 9840, 9850, 9860, 9870, 9880, 9890,\n",
       "       9900, 9910, 9920, 9930, 9940, 9950, 9960, 9970, 9980, 9990])"
      ]
     },
     "execution_count": 248,
     "metadata": {},
     "output_type": "execute_result"
    }
   ],
   "source": [
    "ALFA = 10 * np.array(range(0,1000))\n",
    "ALFA"
   ]
  },
  {
   "cell_type": "code",
   "execution_count": 161,
   "metadata": {},
   "outputs": [],
   "source": [
    "import collections\n",
    "queue =  collections.deque([1])\n",
    "queue.append(2)"
   ]
  },
  {
   "cell_type": "code",
   "execution_count": 162,
   "metadata": {},
   "outputs": [
    {
     "data": {
      "text/plain": [
       "deque([1, 2])"
      ]
     },
     "execution_count": 162,
     "metadata": {},
     "output_type": "execute_result"
    }
   ],
   "source": [
    "queue"
   ]
  },
  {
   "cell_type": "code",
   "execution_count": 163,
   "metadata": {},
   "outputs": [],
   "source": [
    "x = queue.pop()"
   ]
  },
  {
   "cell_type": "code",
   "execution_count": 164,
   "metadata": {},
   "outputs": [
    {
     "data": {
      "text/plain": [
       "2"
      ]
     },
     "execution_count": 164,
     "metadata": {},
     "output_type": "execute_result"
    }
   ],
   "source": [
    "x"
   ]
  },
  {
   "cell_type": "code",
   "execution_count": 191,
   "metadata": {},
   "outputs": [
    {
     "name": "stdout",
     "output_type": "stream",
     "text": [
      "27\n"
     ]
    }
   ],
   "source": [
    "class A():\n",
    "    def f(self):\n",
    "        print(27)\n",
    "A.f(x)\n",
    "a = A()\n",
    "x = a.f"
   ]
  },
  {
   "cell_type": "code",
   "execution_count": 255,
   "metadata": {},
   "outputs": [
    {
     "data": {
      "text/plain": [
       "dict"
      ]
     },
     "execution_count": 255,
     "metadata": {},
     "output_type": "execute_result"
    }
   ],
   "source": [
    "alpha = [{\"alpha\": [1,2,3]}]\n",
    "type(alpha[0])"
   ]
  },
  {
   "cell_type": "code",
   "execution_count": 182,
   "metadata": {},
   "outputs": [
    {
     "data": {
      "text/plain": [
       "'a.f()\\n# ist das gleiche wie\\nA.f(x)\\n'"
      ]
     },
     "execution_count": 182,
     "metadata": {},
     "output_type": "execute_result"
    }
   ],
   "source": [
    "'''a.f()\n",
    "# ist das gleiche wie\n",
    "A.f(x)\n",
    "'''"
   ]
  },
  {
   "cell_type": "code",
   "execution_count": 192,
   "metadata": {},
   "outputs": [
    {
     "ename": "SyntaxError",
     "evalue": "invalid syntax (<ipython-input-192-98b758a5d168>, line 1)",
     "output_type": "error",
     "traceback": [
      "\u001b[0;36m  File \u001b[0;32m\"<ipython-input-192-98b758a5d168>\"\u001b[0;36m, line \u001b[0;32m1\u001b[0m\n\u001b[0;31m    actions = for i in actions:\u001b[0m\n\u001b[0m                ^\u001b[0m\n\u001b[0;31mSyntaxError\u001b[0m\u001b[0;31m:\u001b[0m invalid syntax\n"
     ]
    }
   ],
   "source": []
  },
  {
   "cell_type": "code",
   "execution_count": 260,
   "metadata": {},
   "outputs": [
    {
     "data": {
      "text/plain": [
       "0"
      ]
     },
     "execution_count": 260,
     "metadata": {},
     "output_type": "execute_result"
    }
   ],
   "source": [
    "class Node:\n",
    "    def __init__(self,state, parent=None):\n",
    "        self.state = state\n",
    "        self.parent = parent\n",
    "        self.depth = 0\n",
    "        if parent:\n",
    "            self.depth = depth + 1\n",
    "node0 = Node(\"Arad\")\n",
    "node1 = Node(\"TM\", \"Arad\")\n",
    "node2 = Node(\"Lugoj\", \"TM\")\n",
    "node0.depth\n"
   ]
  },
  {
   "cell_type": "code",
   "execution_count": 280,
   "metadata": {},
   "outputs": [
    {
     "ename": "SyntaxError",
     "evalue": "invalid syntax (<ipython-input-280-ebed7cc49b3f>, line 3)",
     "output_type": "error",
     "traceback": [
      "\u001b[0;36m  File \u001b[0;32m\"<ipython-input-280-ebed7cc49b3f>\"\u001b[0;36m, line \u001b[0;32m3\u001b[0m\n\u001b[0;31m    \"Oradea\": set([\"Zerind\",\"Sibiu\"]),\u001b[0m\n\u001b[0m            ^\u001b[0m\n\u001b[0;31mSyntaxError\u001b[0m\u001b[0;31m:\u001b[0m invalid syntax\n"
     ]
    }
   ],
   "source": [
    "map_romania = {\"Arad\": set([\"Zerind\",\"Timisoara\"]),\n",
    "       \"Timisoara\": set([\"Lugoj\",\"Arad\"],\n",
    "       \"Oradea\": set([\"Zerind\",\"Sibiu\"]),\n",
    "       \"Sibiu\": set([\"Rimnicu\",\"Fagaras\",\"Arad\"]),\n",
    "       \"Lugoj\": set([\"Timisoara\",\"Mehadia\"]),\n",
    "       \"Mehadia\": set([\"Dobreta\",\"Lugoj\"]),\n",
    "       \"Dobreta\": set([\"Craiova\",\"Mehadia\"]),\n",
    "       \"Craiova\": set([\"Dobreta\",\"Pitesti\",\"Rimnicu\"]),\n",
    "       \"Rimnicu\": set([\"Craiova\",\"Pitesti\",\"Sibiu\"]),\n",
    "       \"Pitesti\": set([\"Bucuresti\",\"Rimnicu\",\"Craiova\"]),\n",
    "       \"Sibiu\": set([\"Arad\",\"Fagaras\",\"Rimnicu\"]),\n",
    "       \"Fagaras\": set([\"Sibiu\",\"Bucuresti\"])}"
   ]
  },
  {
   "cell_type": "code",
   "execution_count": 268,
   "metadata": {},
   "outputs": [],
   "source": [
    "graph = {'A': set(['B', 'C']),\n",
    "         'B': set(['A', 'D', 'E']),\n",
    "         'C': set(['A', 'F']),\n",
    "         'D': set(['B']),\n",
    "         'E': set(['B', 'F']),\n",
    "         'F': set(['C', 'E'])}"
   ]
  },
  {
   "cell_type": "code",
   "execution_count": 292,
   "metadata": {},
   "outputs": [],
   "source": [
    "def bfs(graph, start):\n",
    "    visited, queue = set(), [start]\n",
    "    while queue:\n",
    "        node = queue.pop(0)\n",
    "        print(queue)\n",
    "        if node not in visited:\n",
    "            visited.add(node)\n",
    "            queue.extend(graph[node] - visited)\n",
    "    return visited"
   ]
  },
  {
   "cell_type": "code",
   "execution_count": 293,
   "metadata": {},
   "outputs": [
    {
     "name": "stdout",
     "output_type": "stream",
     "text": [
      "[]\n",
      "['B']\n",
      "['F']\n",
      "['E', 'D']\n",
      "['D', 'E']\n",
      "['E']\n",
      "[]\n"
     ]
    },
    {
     "data": {
      "text/plain": [
       "{'A', 'B', 'C', 'D', 'E', 'F'}"
      ]
     },
     "execution_count": 293,
     "metadata": {},
     "output_type": "execute_result"
    }
   ],
   "source": [
    "bfs(graph, \"A\")"
   ]
  },
  {
   "cell_type": "code",
   "execution_count": 307,
   "metadata": {},
   "outputs": [
    {
     "data": {
      "text/plain": [
       "{'B', 'C'}"
      ]
     },
     "execution_count": 307,
     "metadata": {},
     "output_type": "execute_result"
    }
   ],
   "source": [
    "graph[\"A\"] - {\"X\"}"
   ]
  },
  {
   "cell_type": "code",
   "execution_count": 311,
   "metadata": {},
   "outputs": [
    {
     "data": {
      "text/plain": [
       "1"
      ]
     },
     "execution_count": 311,
     "metadata": {},
     "output_type": "execute_result"
    }
   ],
   "source": [
    "schlange = [1,2,3]\n",
    "schlange.pop(0)"
   ]
  },
  {
   "cell_type": "code",
   "execution_count": 312,
   "metadata": {},
   "outputs": [
    {
     "data": {
      "text/plain": [
       "[2, 3]"
      ]
     },
     "execution_count": 312,
     "metadata": {},
     "output_type": "execute_result"
    }
   ],
   "source": [
    "schlange"
   ]
  },
  {
   "cell_type": "code",
   "execution_count": null,
   "metadata": {},
   "outputs": [],
   "source": []
  }
 ],
 "metadata": {
  "kernelspec": {
   "display_name": "Python 3",
   "language": "python",
   "name": "python3"
  },
  "language_info": {
   "codemirror_mode": {
    "name": "ipython",
    "version": 3
   },
   "file_extension": ".py",
   "mimetype": "text/x-python",
   "name": "python",
   "nbconvert_exporter": "python",
   "pygments_lexer": "ipython3",
   "version": "3.7.1"
  }
 },
 "nbformat": 4,
 "nbformat_minor": 2
}
