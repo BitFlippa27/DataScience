{
 "cells": [
  {
   "cell_type": "markdown",
   "metadata": {
    "collapsed": true
   },
   "source": [
    "# My Jupyter Notebook on IBM Data Science Experience"
   ]
  },
  {
   "cell_type": "markdown",
   "metadata": {},
   "source": [
    "**Dennis Erdelean**  \n",
    "Student of Computer Science, Robotics and Automation"
   ]
  },
  {
   "cell_type": "markdown",
   "metadata": {},
   "source": [
    "_Data Science for me, is the most exciting thing i have ever heard from. The combination of statistics, problemsolving, programming and applying algorithms from the science of artificial intelligence on data, is kind of magical to me. I love to programm in Python and further, having always the bigger picture in mind to find solutions to problems by analyzing data. The thought that we can help businesses, governments and institutions to boost productivity, is amazing._"
   ]
  },
  {
   "cell_type": "markdown",
   "metadata": {},
   "source": [
    "### The following code in Cell 5 assigns a tuple to a variable named x and then prints the first item in the tuple"
   ]
  },
  {
   "cell_type": "code",
   "execution_count": 7,
   "metadata": {},
   "outputs": [
    {
     "name": "stdout",
     "output_type": "stream",
     "text": [
      "machine learning\n"
     ]
    }
   ],
   "source": [
    "x = (\"machine learning\", \"deep learning\", \"natural language processing\")\n",
    "print(x[0])"
   ]
  },
  {
   "cell_type": "markdown",
   "metadata": {},
   "source": [
    "___ \n",
    "***\n",
    "___\n",
    "<img src=https://www.ibm.com/watson/assets/duo/img/common/avatar_purple.png>\n",
    "<a href=\"https://www.ibm.com/watson/assets/duo/img/common/avatar_purple.png\">Here is the link to the picture\n",
    "\n"
   ]
  },
  {
   "cell_type": "code",
   "execution_count": null,
   "metadata": {},
   "outputs": [],
   "source": []
  }
 ],
 "metadata": {
  "kernelspec": {
   "display_name": "Python 3.5 with Spark",
   "language": "python3",
   "name": "python3"
  },
  "language_info": {
   "codemirror_mode": {
    "name": "ipython",
    "version": 3
   },
   "file_extension": ".py",
   "mimetype": "text/x-python",
   "name": "python",
   "nbconvert_exporter": "python",
   "pygments_lexer": "ipython3",
   "version": "3.5.4"
  }
 },
 "nbformat": 4,
 "nbformat_minor": 1
}
